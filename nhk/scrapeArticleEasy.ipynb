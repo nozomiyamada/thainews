{
 "nbformat": 4,
 "nbformat_minor": 2,
 "metadata": {
  "language_info": {
   "name": "python",
   "codemirror_mode": {
    "name": "ipython",
    "version": 3
   },
   "version": "3.7.5-final"
  },
  "orig_nbformat": 2,
  "file_extension": ".py",
  "mimetype": "text/x-python",
  "name": "python",
  "npconvert_exporter": "python",
  "pygments_lexer": "ipython3",
  "version": 3,
  "kernelspec": {
   "name": "python37564bit72de44cd76184052b9457c2863c13ac2",
   "display_name": "Python 3.7.5 64-bit"
  }
 },
 "cells": [
  {
   "cell_type": "code",
   "execution_count": 1,
   "metadata": {},
   "outputs": [],
   "source": [
    "import numpy as np\n",
    "import pandas as pd\n",
    "import re, json, csv, requests, time, glob, tqdm\n",
    "from bs4 import BeautifulSoup\n",
    "from selenium import webdriver\n",
    "from collections import Counter"
   ]
  },
  {
   "cell_type": "code",
   "execution_count": 2,
   "metadata": {},
   "outputs": [],
   "source": [
    "def remove_rt(text):\n",
    "    return re.sub('<rt>.+?</rt>', '', text)\n",
    "\n",
    "def tag(text):\n",
    "    text = re.sub(r'<span class=\"colorC\">(.+?)</span>', r\"{org}\\1{/org}\", text)\n",
    "    text = re.sub(r'<span class=\"colorL\">(.+?)</span>', r\"{plc}\\1{/plc}\", text)\n",
    "    text = re.sub(r'<span class=\"colorN\">(.+?)</span>', r\"{per}\\1{/per}\", text)\n",
    "    return text\n",
    "\n",
    "def retag(text):\n",
    "    text = re.sub(r'{org}(.+?){/org}', r\"<org>\\1</org>\", text)\n",
    "    text = re.sub(r'{plc}(.+?){/plc}', r\"<plc>\\1</plc>\", text)\n",
    "    text = re.sub(r'{per}(.+?){/per}', r\"<per>\\1</per>\", text)\n",
    "    return text\n",
    "\n",
    "def remove_a(text):\n",
    "    text = re.sub(r'</?a.*?>', '', text)\n",
    "    text = re.sub(r'<span class=\"under\">(\\w+)</span>', r'\\1', text)\n",
    "    text = re.sub(r'<img.+?>(<br ?/?>)?', '', text)\n",
    "    text = re.sub(r'^<br ?/?>', '', text)\n",
    "    return text.strip()\n",
    "\n",
    "# for old web easy\n",
    "def scrape_easy_one(html):\n",
    "    soup = BeautifulSoup(html, \"html.parser\")\n",
    "    url_normal = soup.find('div', id=\"regularnews\").a.get('href')\n",
    "    if '/http://' in url_normal:\n",
    "        url_normal = 'http://' + url_normal.split('/http://')[-1]\n",
    "    else:\n",
    "        url_normal = 'https://' + url_normal.split('/https://')[-1]\n",
    "    date = soup.find('p', id=\"newsDate\").text[1:-1]\n",
    "    #title_easy = soup.find('h1', class_=\"article-main__title\")\n",
    "    #title_easy_ruby = ''.join([str(t) for t in title_easy.contents]).strip()\n",
    "    url_easy = soup.find('meta', attrs={'name':'shorturl'}).get('content')\n",
    "    title_easy = soup.find('div', id='newstitle').h2\n",
    "    title_easy_ruby = ''.join([str(t) for t in title_easy.contents]).strip()\n",
    "    title_easy = BeautifulSoup(remove_rt(str(title_easy)), \"html.parser\").text.strip()\n",
    "    article_easy = soup.find('div', id=\"newsarticle\")\n",
    "    article_easy = BeautifulSoup(tag(remove_rt(str(article_easy))), \"html.parser\").text.strip()\n",
    "    article_easy_ruby = soup.find('div', id=\"newsarticle\").find_all('p')\n",
    "    article_easy_ruby = '\\n'.join([''.join([remove_a(str(l)) for l in p.contents]) for p in article_easy_ruby if p != []]).strip()\n",
    "    \n",
    "    return {\n",
    "        'id':url_easy.split('/')[-1].split('.html')[0],\n",
    "        'title_easy':title_easy,\n",
    "        'title_easy_ruby':title_easy_ruby,\n",
    "        'article_easy':retag(article_easy),\n",
    "        'article_easy_ruby':article_easy_ruby,\n",
    "        'url_easy':url_easy,\n",
    "        'url_normal':url_normal,\n",
    "        'date_easy':date\n",
    "    }\n",
    "\n",
    "# for new web easy\n",
    "def scrape_easy_one_new(html):\n",
    "    soup = BeautifulSoup(html, \"html.parser\")\n",
    "    url_easy = 'https://' + soup.find('meta', property=\"og:url\").get('content').split('/https://')[-1]\n",
    "    url_normal = soup.find('div', class_=\"link-to-normal\").a.get('href')\n",
    "    date = soup.find('p', class_=\"article-main__date\").text[1:-1]\n",
    "    title_easy = soup.find('h1', class_=\"article-main__title\")\n",
    "    title_easy_ruby = ''.join([str(t) for t in title_easy.contents]).strip()\n",
    "    title_easy = BeautifulSoup(remove_rt(str(title_easy)), \"html.parser\").text.strip()\n",
    "    article_easy = soup.find('div', class_=\"article-main__body article-body\")\n",
    "    article_easy = BeautifulSoup(tag(remove_rt(str(article_easy))), \"html.parser\").text.strip()\n",
    "    article_easy_ruby = soup.find('div', class_=\"article-main__body article-body\").find_all('p')\n",
    "    article_easy_ruby = '\\n'.join([''.join([remove_a(str(l)) for l in p.contents]) for p in article_easy_ruby if p != []]).strip()\n",
    "    \n",
    "    return {\n",
    "        'id':url_easy.split('/')[-1].split('.html')[0],\n",
    "        'title_easy':title_easy,\n",
    "        'title_easy_ruby':title_easy_ruby,\n",
    "        'article_easy':retag(article_easy),\n",
    "        'article_easy_ruby':article_easy_ruby,\n",
    "        'url_easy':url_easy,\n",
    "        'url_normal':url_normal,\n",
    "        'date_easy':date\n",
    "    }\n",
    "\n",
    "\n",
    "\n",
    "def get_link(start=0):\n",
    "    notyet = []\n",
    "    n_list = pd.read_json('nhkweb.json', encoding='utf-8')['url'].tolist()\n",
    "    df_e = pd.read_json('nhkwebeasy.json', encoding='utf-8') \n",
    "    for i in df_e['url_normal'][start:]:\n",
    "        if i not in n_list:\n",
    "            notyet.append(i)\n",
    "    with open('nolinknormal.txt') as f:\n",
    "        nolink = f.read().split()\n",
    "    return sorted(set(notyet) - set(nolink))\n",
    "        \n",
    "def js_e(dic):\n",
    "    with open('nhkwebeasy.json', 'r', encoding='utf-8') as f:\n",
    "        data = json.load(f)\n",
    "    with open('nhkwebeasy.json', 'w', encoding='utf-8') as f:\n",
    "        if dic['id'] not in [x['id'] for x in data]:\n",
    "            data.append(dic)\n",
    "        else:\n",
    "            for i, d in enumerate(data):\n",
    "                if dic['id'] == d['id']:\n",
    "                    data[i] = dic\n",
    "        data = sorted(data, key=lambda x:x['id'])\n",
    "        json.dump(data, f, indent=4, ensure_ascii=False)"
   ]
  },
  {
   "cell_type": "markdown",
   "execution_count": null,
   "metadata": {},
   "outputs": [],
   "source": [
    "# scrape"
   ]
  },
  {
   "cell_type": "code",
   "execution_count": 4,
   "metadata": {},
   "outputs": [],
   "source": [
    "driver = webdriver.Chrome()"
   ]
  },
  {
   "cell_type": "markdown",
   "execution_count": 63,
   "metadata": {},
   "outputs": [],
   "source": [
    "# clean category & keyword"
   ]
  },
  {
   "cell_type": "code",
   "execution_count": 29,
   "metadata": {},
   "outputs": [
    {
     "name": "stdout",
     "output_type": "stream",
     "text": "7979\n4744\n"
    }
   ],
   "source": [
    "with open('nhkweb.json','r', encoding='utf-8') as f:\n",
    "    data = json.load(f)\n",
    "    print(len(data))\n",
    "with open('nhkwebeasy.json','r', encoding='utf-8') as f:\n",
    "    data = json.load(f)\n",
    "    print(len(data))"
   ]
  },
  {
   "cell_type": "code",
   "execution_count": 15,
   "metadata": {},
   "outputs": [
    {
     "name": "stdout",
     "output_type": "stream",
     "text": "articles:  7821\n"
    },
    {
     "data": {
      "text/plain": "[('社会', 2375),\n ('国際', 2079),\n ('科学・文化', 1268),\n ('ビジネス', 1195),\n ('スポーツ', 980),\n ('政治', 739),\n ('暮らし', 606),\n ('地域', 512),\n ('気象・災害', 354)]"
     },
     "execution_count": 15,
     "metadata": {},
     "output_type": "execute_result"
    }
   ],
   "source": [
    "# check category\n",
    "\n",
    "with open('nhkweb.json','r', encoding='utf-8') as f:\n",
    "    data = json.load(f)\n",
    "print('articles: ', len(data))\n",
    "genre = Counter()\n",
    "for dic in data:\n",
    "    for g in dic['genre']:\n",
    "        genre[g] += 1\n",
    "genre.most_common()"
   ]
  },
  {
   "cell_type": "code",
   "execution_count": 14,
   "metadata": {},
   "outputs": [],
   "source": [
    "# genre <> keywords\n",
    "\n",
    "with open('nhkweb.json','r', encoding='utf-8') as f:\n",
    "    data = json.load(f)\n",
    "\n",
    "category = ['社会', '国際', 'ビジネス', 'スポーツ', '政治', '科学・文化', '暮らし', '地域', '気象・災害']\n",
    "for i, dic in enumerate(data):\n",
    "    newgenre = []\n",
    "    newkey = []\n",
    "    for j in dic['genre']:\n",
    "        if j in category:\n",
    "            newgenre.append(j)\n",
    "        elif j == \"災害\" or j == \"気象\":\n",
    "            newgenre.append('気象・災害')\n",
    "        elif j == \"科学・医療\" or j == \"文化・エンタメ\":\n",
    "            newgenre.append('科学・文化')\n",
    "        elif j == \"経済\":\n",
    "            newgenre.append('ビジネス')\n",
    "        else:\n",
    "            newkey.append(j)\n",
    "    for j in dic['keywords']:\n",
    "        if j in category:\n",
    "            newgenre.append(j)\n",
    "        elif j == \"災害\" or j == \"気象\":\n",
    "            newgenre.append('気象・災害')\n",
    "        else:\n",
    "            newkey.append(j)\n",
    "    data[i]['genre'] = list(set(newgenre))\n",
    "    data[i]['keywords'] = list(set(newkey))\n",
    "\n",
    "with open('nhkweb.json','w', encoding='utf-8') as f:\n",
    "    json.dump(data, f, indent=4, ensure_ascii=False)\n",
    "    "
   ]
  },
  {
   "cell_type": "code",
   "execution_count": 3,
   "metadata": {},
   "outputs": [
    {
     "data": {
      "text/plain": "k10010353911000    1\nk10010441541000    1\nk10012115201000    1\nk10010055061000    1\nk10010471031000    1\n                  ..\nk10010771931000    1\nk10010399941000    1\nk10010904951000    1\nk10011871991000    1\nk10011099221000    1\nName: id, Length: 4530, dtype: int64"
     },
     "execution_count": 3,
     "metadata": {},
     "output_type": "execute_result"
    }
   ],
   "source": [
    "normal = pd.read_json('nhkwebeasy.json')\n",
    "normal.id.value_counts()"
   ]
  },
  {
   "cell_type": "markdown",
   "execution_count": null,
   "metadata": {},
   "outputs": [],
   "source": [
    "# NHK web easy (new) ID k1001140020 ~"
   ]
  },
  {
   "cell_type": "code",
   "execution_count": 21,
   "metadata": {},
   "outputs": [
    {
     "name": "stdout",
     "output_type": "stream",
     "text": "1841\n3\n"
    }
   ],
   "source": [
    "with open('tobescraped.txt') as f:\n",
    "    urls = f.read().split()\n",
    "print(len(urls))\n",
    "\n",
    "ids = pd.read_json('nhkwebeasy.json')['id'].tolist()\n",
    "urls = [url for url in urls if url.split('/')[-1].strip('.html') not in ids]\n",
    "print(len(urls))\n",
    "del ids"
   ]
  },
  {
   "cell_type": "code",
   "execution_count": 4,
   "metadata": {},
   "outputs": [],
   "source": [
    "driver = webdriver.Chrome()"
   ]
  },
  {
   "cell_type": "code",
   "execution_count": 22,
   "metadata": {},
   "outputs": [
    {
     "data": {
      "text/plain": "['https://web.archive.org/web/*/http://www3.nhk.or.jp:80/news/easy/k10010731741000/k10010731741000.html',\n 'https://web.archive.org/web/*/http://www3.nhk.or.jp:80/news/easy/k10010729201000/k10010729201000.html',\n 'https://web.archive.org/web/*/http://www3.nhk.or.jp:80/news/easy/k10010705131000/k10010705131000.html']"
     },
     "execution_count": 22,
     "metadata": {},
     "output_type": "execute_result"
    }
   ],
   "source": [
    "urls"
   ]
  },
  {
   "cell_type": "code",
   "execution_count": 15,
   "metadata": {},
   "outputs": [],
   "source": [
    "for url in urls:\n",
    "    driver.get(url)\n",
    "    time.sleep(6)\n",
    "    html = str(driver.page_source.encode('utf-8'))\n",
    "    snap = re.search(r'(between|1 time|Saved \\d+ times).*?<a href=\"(.+?)\">', html)\n",
    "    if snap == None:\n",
    "        continue\n",
    "    driver.get('https://web.archive.org' + snap.group(2))\n",
    "    time.sleep(10)\n",
    "    html = driver.page_source.encode('utf-8')\n",
    "    try:\n",
    "        dic = scrape_easy_one(html)\n",
    "    except:\n",
    "        dic = scrape_easy_one_new(html)\n",
    "    js_e(dic)"
   ]
  },
  {
   "cell_type": "code",
   "execution_count": 27,
   "metadata": {},
   "outputs": [
    {
     "data": {
      "text/plain": "{'id': 'k10010705131000',\n 'title_easy': 'シリア\\u3000戦争をやめる約束を守らない',\n 'title_easy_ruby': 'シリア\\u3000<ruby>戦争<rt>せんそう</rt></ruby>をやめる<ruby>約束<rt>やくそく</rt></ruby>を<ruby>守<rt>まも</rt></ruby>らない',\n 'article_easy': '<plc>シリア</plc>は国の中で、<per>アサド</per>大統領の政府と、政府に反対する人たちが戦争をしています。<plc>アメリカ</plc>と<plc>ロシア</plc>が間に入って、それぞれの人たちは１２日夜から戦争をやめる約束をしました。\\nしかし、１９日に<plc>シリア</plc>の政府が攻撃を始めました。政府は、政府に反対している人たちを助けている<plc>アメリカ</plc>などが攻撃したからやったと言いました。\\nそのあと、<plc>シリア</plc>で薬などを運んでいた車が攻撃されて、国連の人などが大勢亡くなりました。<plc>アメリカ</plc>は、<plc>シリア</plc>の政府か政府を助けている<plc>ロシア</plc>が攻撃したと言いました。\\n今<plc>シリア</plc>では空からの攻撃などが続いていて、大勢の人が亡くなっています。\\n２５日の国連の会議では、<plc>シリア</plc>での戦争について<plc>アメリカ</plc>と<plc>ロシア</plc>が自分たちの意見を言って争いました。戦争をやめるという約束は守らないまま、なくなってしまうかもしれません。',\n 'article_easy_ruby': '<span class=\"colorL\">シリア</span>は<ruby>国<rt>くに</rt></ruby>の<ruby>中<rt>なか</rt></ruby>で、<span class=\"colorN\">アサド</span><ruby>大統領<rt>だいとうりょう</rt></ruby>の<ruby>政府<rt>せいふ</rt></ruby>と、<ruby>政府<rt>せいふ</rt></ruby>に<ruby>反対<rt>はんたい</rt></ruby>する<ruby>人<rt>ひと</rt></ruby>たちが<ruby>戦争<rt>せんそう</rt></ruby>をしています。<span class=\"colorL\">アメリカ</span>と<span class=\"colorL\">ロシア</span>が<ruby>間<rt>あいだ</rt></ruby>に<ruby>入<rt>はい</rt></ruby>って、それぞれの<ruby>人<rt>ひと</rt></ruby>たちは１２<ruby>日<rt>にち</rt></ruby><ruby>夜<rt>よる</rt></ruby>から<ruby>戦争<rt>せんそう</rt></ruby>をやめる<ruby>約束<rt>やくそく</rt></ruby>をしました。\\nしかし、１９<ruby>日<rt>にち</rt></ruby>に<span class=\"colorL\">シリア</span>の<ruby>政府<rt>せいふ</rt></ruby>が<ruby>攻撃<rt>こうげき</rt></ruby>を<ruby>始<rt>はじ</rt></ruby>めました。<ruby>政府<rt>せいふ</rt></ruby>は、<ruby>政府<rt>せいふ</rt></ruby>に<ruby>反対<rt>はんたい</rt></ruby>している<ruby>人<rt>ひと</rt></ruby>たちを<ruby>助<rt>たす</rt></ruby>けている<span class=\"colorL\">アメリカ</span>などが<ruby>攻撃<rt>こうげき</rt></ruby>したからやったと<ruby>言<rt>い</rt></ruby>いました。\\nそのあと、<span class=\"colorL\">シリア</span>で<ruby>薬<rt>くすり</rt></ruby>などを<ruby>運<rt>はこ</rt></ruby>んでいた<ruby>車<rt>くるま</rt></ruby>が<ruby>攻撃<rt>こうげき</rt></ruby>されて、<ruby>国連<rt>こくれん</rt></ruby>の<ruby>人<rt>ひと</rt></ruby>などが<ruby>大勢<rt>おおぜい</rt></ruby><ruby>亡<rt>な</rt></ruby>くなりました。<span class=\"colorL\">アメリカ</span>は、<span class=\"colorL\">シリア</span>の<ruby>政府<rt>せいふ</rt></ruby>か<ruby>政府<rt>せいふ</rt></ruby>を<ruby>助<rt>たす</rt></ruby>けている<span class=\"colorL\">ロシア</span>が<ruby>攻撃<rt>こうげき</rt></ruby>したと<ruby>言<rt>い</rt></ruby>いました。\\n<ruby>今<rt>いま</rt></ruby><span class=\"colorL\">シリア</span>では<ruby>空<rt>そら</rt></ruby>からの<ruby>攻撃<rt>こうげき</rt></ruby>などが<ruby>続<rt>つづ</rt></ruby>いていて、<ruby>大勢<rt>おおぜい</rt></ruby>の<ruby>人<rt>ひと</rt></ruby>が<ruby>亡<rt>な</rt></ruby>くなっています。\\n２５<ruby>日<rt>にち</rt></ruby>の<ruby>国連<rt>こくれん</rt></ruby>の<ruby>会議<rt>かいぎ</rt></ruby>では、<span class=\"colorL\">シリア</span>での<ruby>戦争<rt>せんそう</rt></ruby>について<span class=\"colorL\">アメリカ</span>と<span class=\"colorL\">ロシア</span>が<ruby>自分<rt>じぶん</rt></ruby>たちの<ruby>意見<rt>いけん</rt></ruby>を<ruby>言<rt>い</rt></ruby>って<ruby>争<rt>あらそ</rt></ruby>いました。<ruby>戦争<rt>せんそう</rt></ruby>をやめるという<ruby>約束<rt>やくそく</rt></ruby>は<ruby>守<rt>まも</rt></ruby>らないまま、なくなってしまうかもしれません。',\n 'url_easy': 'http://www3.nhk.or.jp/news/easy/k10010705131000/k10010705131000.html',\n 'url_normal': 'http://www3.nhk.or.jp/news/html/20160924/k10010705131000.html',\n 'date_easy': '09月26日 16時40分'}"
     },
     "execution_count": 27,
     "metadata": {},
     "output_type": "execute_result"
    }
   ],
   "source": [
    "html = driver.page_source.encode('utf-8')\n",
    "dic = scrape_easy_one(html)\n",
    "dic"
   ]
  },
  {
   "cell_type": "code",
   "execution_count": 28,
   "metadata": {},
   "outputs": [],
   "source": [
    "js_e(dic)"
   ]
  },
  {
   "cell_type": "code",
   "execution_count": 36,
   "metadata": {},
   "outputs": [
    {
     "data": {
      "text/plain": "<div class=\"link-to-normal\" id=\"js-regular-news-wrapper\">\n<a class=\"btn\" href=\"https://www3.nhk.or.jp/news/html/20200206/k10012274671000.html\" id=\"js-regular-news\" target=\"_blank\"><ruby>普通<rt>ふつう</rt></ruby>のニュースを<ruby>読<rt>よ</rt></ruby>む</a>\n</div>"
     },
     "execution_count": 36,
     "metadata": {},
     "output_type": "execute_result"
    }
   ],
   "source": [
    "soup = BeautifulSoup(html)\n",
    "soup.find('div', class_='link-to-normal')"
   ]
  },
  {
   "cell_type": "code",
   "execution_count": null,
   "metadata": {},
   "outputs": [],
   "source": []
  },
  {
   "cell_type": "code",
   "execution_count": null,
   "metadata": {},
   "outputs": [],
   "source": []
  }
 ]
}