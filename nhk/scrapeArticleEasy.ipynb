{
 "nbformat": 4,
 "nbformat_minor": 2,
 "metadata": {
  "language_info": {
   "name": "python",
   "codemirror_mode": {
    "name": "ipython",
    "version": 3
   },
   "version": "3.7.5-final"
  },
  "orig_nbformat": 2,
  "file_extension": ".py",
  "mimetype": "text/x-python",
  "name": "python",
  "npconvert_exporter": "python",
  "pygments_lexer": "ipython3",
  "version": 3,
  "kernelspec": {
   "name": "python37564bit72de44cd76184052b9457c2863c13ac2",
   "display_name": "Python 3.7.5 64-bit"
  }
 },
 "cells": [
  {
   "cell_type": "code",
   "execution_count": 1,
   "metadata": {},
   "outputs": [],
   "source": [
    "import numpy as np\n",
    "import pandas as pd\n",
    "import re, json, csv, requests, time, glob, tqdm\n",
    "from bs4 import BeautifulSoup\n",
    "from selenium import webdriver\n",
    "from collections import Counter"
   ]
  },
  {
   "cell_type": "code",
   "execution_count": 2,
   "metadata": {},
   "outputs": [],
   "source": [
    "def remove_rt(text):\n",
    "    return re.sub('<rt>.+?</rt>', '', text)\n",
    "\n",
    "def tag(text):\n",
    "    text = re.sub(r'<span class=\"colorC\">(.+?)</span>', r\"{org}\\1{/org}\", text)\n",
    "    text = re.sub(r'<span class=\"colorL\">(.+?)</span>', r\"{plc}\\1{/plc}\", text)\n",
    "    text = re.sub(r'<span class=\"colorN\">(.+?)</span>', r\"{per}\\1{/per}\", text)\n",
    "    return text\n",
    "\n",
    "def retag(text):\n",
    "    text = re.sub(r'{org}(.+?){/org}', r\"<org>\\1</org>\", text)\n",
    "    text = re.sub(r'{plc}(.+?){/plc}', r\"<plc>\\1</plc>\", text)\n",
    "    text = re.sub(r'{per}(.+?){/per}', r\"<per>\\1</per>\", text)\n",
    "    return text\n",
    "\n",
    "def remove_a(text):\n",
    "    text = re.sub(r'</?a.*?>', '', text)\n",
    "    text = re.sub(r'<span class=\"under\">(\\w+)</span>', r'\\1', text)\n",
    "    text = re.sub(r'<img.+?>(<br ?/?>)?', '', text)\n",
    "    text = re.sub(r'^<br ?/?>', '', text)\n",
    "    return text.strip()\n",
    "\n",
    "# for old web easy\n",
    "def scrape_easy_one(html):\n",
    "    soup = BeautifulSoup(html, \"html.parser\")\n",
    "    url_normal = soup.find('div', id=\"regularnews\")\n",
    "    if url_normal == None:\n",
    "        url_normal = soup.find('p', id=\"regularnews\")\n",
    "    url_normal = url_normal.a.get('href')\n",
    "    if '/http://' in url_normal:\n",
    "        url_normal = 'http://' + url_normal.split('/http://')[-1]\n",
    "    else:\n",
    "        url_normal = 'https://' + url_normal.split('/https://')[-1]\n",
    "    date = soup.find('p', id=\"newsDate\").text[1:-1]\n",
    "    #title_easy = soup.find('h1', class_=\"article-main__title\")\n",
    "    #title_easy_ruby = ''.join([str(t) for t in title_easy.contents]).strip()\n",
    "    url_easy = soup.find('meta', attrs={'name':'shorturl'}).get('content')\n",
    "    title_easy = soup.find('div', id='newstitle').h2\n",
    "    title_easy_ruby = ''.join([str(t) for t in title_easy.contents]).strip()\n",
    "    title_easy = BeautifulSoup(remove_rt(str(title_easy)), \"html.parser\").text.strip()\n",
    "    article_easy = soup.find('div', id=\"newsarticle\")\n",
    "    article_easy = BeautifulSoup(tag(remove_rt(str(article_easy))), \"html.parser\").text.strip()\n",
    "    article_easy_ruby = soup.find('div', id=\"newsarticle\").find_all('p')\n",
    "    article_easy_ruby = '\\n'.join([''.join([remove_a(str(l)) for l in p.contents]) for p in article_easy_ruby if p != []]).strip()\n",
    "    \n",
    "    return {\n",
    "        'id':url_easy.split('/')[-1].split('.html')[0],\n",
    "        'title_easy':title_easy,\n",
    "        'title_easy_ruby':title_easy_ruby,\n",
    "        'article_easy':retag(article_easy),\n",
    "        'article_easy_ruby':article_easy_ruby,\n",
    "        'url_easy':url_easy,\n",
    "        'url_normal':url_normal,\n",
    "        'date_easy':date\n",
    "    }\n",
    "\n",
    "# for new web easy\n",
    "def scrape_easy_one_new(html):\n",
    "    soup = BeautifulSoup(html, \"html.parser\")\n",
    "    url_easy = 'https://' + soup.find('meta', property=\"og:url\").get('content').split('/https://')[-1]\n",
    "    url_normal = soup.find('div', class_=\"link-to-normal\").a.get('href')\n",
    "    date = soup.find('p', class_=\"article-main__date\").text[1:-1]\n",
    "    title_easy = soup.find('h1', class_=\"article-main__title\")\n",
    "    title_easy_ruby = ''.join([str(t) for t in title_easy.contents]).strip()\n",
    "    title_easy = BeautifulSoup(remove_rt(str(title_easy)), \"html.parser\").text.strip()\n",
    "    article_easy = soup.find('div', class_=\"article-main__body article-body\")\n",
    "    article_easy = BeautifulSoup(tag(remove_rt(str(article_easy))), \"html.parser\").text.strip()\n",
    "    article_easy_ruby = soup.find('div', class_=\"article-main__body article-body\").find_all('p')\n",
    "    article_easy_ruby = '\\n'.join([''.join([remove_a(str(l)) for l in p.contents]) for p in article_easy_ruby if p != []]).strip()\n",
    "    \n",
    "    return {\n",
    "        'id':url_easy.split('/')[-1].split('.html')[0],\n",
    "        'title_easy':title_easy,\n",
    "        'title_easy_ruby':title_easy_ruby,\n",
    "        'article_easy':retag(article_easy),\n",
    "        'article_easy_ruby':article_easy_ruby,\n",
    "        'url_easy':url_easy,\n",
    "        'url_normal':url_normal,\n",
    "        'date_easy':date\n",
    "    }\n",
    "\n",
    "\n",
    "\n",
    "def get_link(start=0):\n",
    "    notyet = []\n",
    "    n_list = pd.read_json('nhkweb.json', encoding='utf-8')['url'].tolist()\n",
    "    df_e = pd.read_json('nhkwebeasy.json', encoding='utf-8') \n",
    "    for i in df_e['url_normal'][start:]:\n",
    "        if i not in n_list:\n",
    "            notyet.append(i)\n",
    "    with open('nolinknormal.txt') as f:\n",
    "        nolink = f.read().split()\n",
    "    return sorted(set(notyet) - set(nolink))\n",
    "        \n",
    "def js_e(dic):\n",
    "    with open('nhkwebeasy.json', 'r', encoding='utf-8') as f:\n",
    "        data = json.load(f)\n",
    "    with open('nhkwebeasy.json', 'w', encoding='utf-8') as f:\n",
    "        if dic['id'] not in [x['id'] for x in data]:\n",
    "            data.append(dic)\n",
    "        else:\n",
    "            for i, d in enumerate(data):\n",
    "                if dic['id'] == d['id']:\n",
    "                    data[i] = dic\n",
    "        data = sorted(data, key=lambda x:x['id'])\n",
    "        json.dump(data, f, indent=4, ensure_ascii=False)"
   ]
  },
  {
   "cell_type": "markdown",
   "execution_count": null,
   "metadata": {},
   "outputs": [],
   "source": [
    "# scrape"
   ]
  },
  {
   "cell_type": "code",
   "execution_count": 4,
   "metadata": {},
   "outputs": [],
   "source": [
    "driver = webdriver.Chrome()"
   ]
  },
  {
   "cell_type": "markdown",
   "execution_count": 63,
   "metadata": {},
   "outputs": [],
   "source": [
    "# clean category & keyword"
   ]
  },
  {
   "cell_type": "code",
   "execution_count": 4,
   "metadata": {},
   "outputs": [
    {
     "name": "stdout",
     "output_type": "stream",
     "text": "8398\n4744\n"
    }
   ],
   "source": [
    "with open('nhkweb.json','r', encoding='utf-8') as f:\n",
    "    data = json.load(f)\n",
    "    print(len(data))\n",
    "with open('nhkwebeasy.json','r', encoding='utf-8') as f:\n",
    "    data = json.load(f)\n",
    "    print(len(data))"
   ]
  },
  {
   "cell_type": "code",
   "execution_count": 47,
   "metadata": {},
   "outputs": [
    {
     "name": "stdout",
     "output_type": "stream",
     "text": "articles:  8730\n"
    },
    {
     "data": {
      "text/plain": "[('社会', 2617),\n ('国際', 2336),\n ('科学・文化', 1443),\n ('ビジネス', 1345),\n ('スポーツ', 1071),\n ('政治', 772),\n ('暮らし', 732),\n ('地域', 615),\n ('気象・災害', 414)]"
     },
     "execution_count": 47,
     "metadata": {},
     "output_type": "execute_result"
    }
   ],
   "source": [
    "# check category\n",
    "\n",
    "with open('nhkweb.json','r', encoding='utf-8') as f:\n",
    "    data = json.load(f)\n",
    "print('articles: ', len(data))\n",
    "genre = Counter()\n",
    "for dic in data:\n",
    "    for g in dic['genre']:\n",
    "        genre[g] += 1\n",
    "genre.most_common()"
   ]
  },
  {
   "cell_type": "code",
   "execution_count": 46,
   "metadata": {},
   "outputs": [],
   "source": [
    "# genre <> keywords\n",
    "\n",
    "with open('nhkweb.json','r', encoding='utf-8') as f:\n",
    "    data = json.load(f)\n",
    "\n",
    "category = ['社会', '国際', 'ビジネス', 'スポーツ', '政治', '科学・文化', '暮らし', '地域', '気象・災害']\n",
    "for i, dic in enumerate(data):\n",
    "    newgenre = []\n",
    "    newkey = []\n",
    "    for j in dic['genre']:\n",
    "        if j in category:\n",
    "            newgenre.append(j)\n",
    "        elif j == \"災害\" or j == \"気象\":\n",
    "            newgenre.append('気象・災害')\n",
    "        elif j == \"科学・医療\" or j == \"文化・エンタメ\":\n",
    "            newgenre.append('科学・文化')\n",
    "        elif j == \"経済\":\n",
    "            newgenre.append('ビジネス')\n",
    "        else:\n",
    "            newkey.append(j)\n",
    "    for j in dic['keywords']:\n",
    "        if j in category:\n",
    "            newgenre.append(j)\n",
    "        elif j == \"災害\" or j == \"気象\":\n",
    "            newgenre.append('気象・災害')\n",
    "        else:\n",
    "            newkey.append(j)\n",
    "    data[i]['genre'] = list(set(newgenre))\n",
    "    data[i]['keywords'] = list(set(newkey))\n",
    "\n",
    "with open('nhkweb.json','w', encoding='utf-8') as f:\n",
    "    json.dump(data, f, indent=4, ensure_ascii=False)\n",
    "    "
   ]
  },
  {
   "cell_type": "code",
   "execution_count": 3,
   "metadata": {},
   "outputs": [
    {
     "data": {
      "text/plain": "k10010353911000    1\nk10010441541000    1\nk10012115201000    1\nk10010055061000    1\nk10010471031000    1\n                  ..\nk10010771931000    1\nk10010399941000    1\nk10010904951000    1\nk10011871991000    1\nk10011099221000    1\nName: id, Length: 4530, dtype: int64"
     },
     "execution_count": 3,
     "metadata": {},
     "output_type": "execute_result"
    }
   ],
   "source": [
    "normal = pd.read_json('nhkwebeasy.json')\n",
    "normal.id.value_counts()"
   ]
  },
  {
   "cell_type": "markdown",
   "execution_count": null,
   "metadata": {},
   "outputs": [],
   "source": [
    "# NHK web easy"
   ]
  },
  {
   "cell_type": "code",
   "execution_count": 18,
   "metadata": {},
   "outputs": [
    {
     "name": "stdout",
     "output_type": "stream",
     "text": "918 4850\n"
    },
    {
     "data": {
      "text/plain": "892"
     },
     "execution_count": 18,
     "metadata": {},
     "output_type": "execute_result"
    }
   ],
   "source": [
    "with open('linkeasy.txt') as f:\n",
    "    urls = f.read().strip().split()\n",
    "    ids = set([x.split('.html')[0].split('/')[-1] for x in urls])\n",
    "\n",
    "id_exist = set(pd.read_json('nhkwebeasy.json')['id'].tolist())\n",
    "print(len(ids), len(id_exist))\n",
    "len(ids - id_exist)"
   ]
  },
  {
   "cell_type": "code",
   "execution_count": 4,
   "metadata": {},
   "outputs": [],
   "source": [
    "driver = webdriver.Chrome()"
   ]
  },
  {
   "cell_type": "code",
   "execution_count": 19,
   "metadata": {},
   "outputs": [
    {
     "ename": "AttributeError",
     "evalue": "'NoneType' object has no attribute 'get'",
     "output_type": "error",
     "traceback": [
      "\u001b[0;31m---------------------------------------------------------------------------\u001b[0m",
      "\u001b[0;31mAttributeError\u001b[0m                            Traceback (most recent call last)",
      "\u001b[0;32m<ipython-input-19-86193b4b1add>\u001b[0m in \u001b[0;36m<module>\u001b[0;34m\u001b[0m\n\u001b[1;32m     15\u001b[0m     \u001b[0;32mtry\u001b[0m\u001b[0;34m:\u001b[0m\u001b[0;34m\u001b[0m\u001b[0;34m\u001b[0m\u001b[0m\n\u001b[0;32m---> 16\u001b[0;31m         \u001b[0mdic\u001b[0m \u001b[0;34m=\u001b[0m \u001b[0mscrape_easy_one\u001b[0m\u001b[0;34m(\u001b[0m\u001b[0mhtml\u001b[0m\u001b[0;34m)\u001b[0m\u001b[0;34m\u001b[0m\u001b[0;34m\u001b[0m\u001b[0m\n\u001b[0m\u001b[1;32m     17\u001b[0m     \u001b[0;32mexcept\u001b[0m\u001b[0;34m:\u001b[0m\u001b[0;34m\u001b[0m\u001b[0;34m\u001b[0m\u001b[0m\n",
      "\u001b[0;32m<ipython-input-2-7133921177e7>\u001b[0m in \u001b[0;36mscrape_easy_one\u001b[0;34m(html)\u001b[0m\n\u001b[1;32m     28\u001b[0m         \u001b[0murl_normal\u001b[0m \u001b[0;34m=\u001b[0m \u001b[0msoup\u001b[0m\u001b[0;34m.\u001b[0m\u001b[0mfind\u001b[0m\u001b[0;34m(\u001b[0m\u001b[0;34m'p'\u001b[0m\u001b[0;34m,\u001b[0m \u001b[0mid\u001b[0m\u001b[0;34m=\u001b[0m\u001b[0;34m\"regularnews\"\u001b[0m\u001b[0;34m)\u001b[0m\u001b[0;34m\u001b[0m\u001b[0;34m\u001b[0m\u001b[0m\n\u001b[0;32m---> 29\u001b[0;31m     \u001b[0murl_normal\u001b[0m \u001b[0;34m=\u001b[0m \u001b[0murl_normal\u001b[0m\u001b[0;34m.\u001b[0m\u001b[0ma\u001b[0m\u001b[0;34m.\u001b[0m\u001b[0mget\u001b[0m\u001b[0;34m(\u001b[0m\u001b[0;34m'href'\u001b[0m\u001b[0;34m)\u001b[0m\u001b[0;34m\u001b[0m\u001b[0;34m\u001b[0m\u001b[0m\n\u001b[0m\u001b[1;32m     30\u001b[0m     \u001b[0;32mif\u001b[0m \u001b[0;34m'/http://'\u001b[0m \u001b[0;32min\u001b[0m \u001b[0murl_normal\u001b[0m\u001b[0;34m:\u001b[0m\u001b[0;34m\u001b[0m\u001b[0;34m\u001b[0m\u001b[0m\n",
      "\u001b[0;31mAttributeError\u001b[0m: 'NoneType' object has no attribute 'a'",
      "\nDuring handling of the above exception, another exception occurred:\n",
      "\u001b[0;31mAttributeError\u001b[0m                            Traceback (most recent call last)",
      "\u001b[0;32m<ipython-input-19-86193b4b1add>\u001b[0m in \u001b[0;36m<module>\u001b[0;34m\u001b[0m\n\u001b[1;32m     16\u001b[0m         \u001b[0mdic\u001b[0m \u001b[0;34m=\u001b[0m \u001b[0mscrape_easy_one\u001b[0m\u001b[0;34m(\u001b[0m\u001b[0mhtml\u001b[0m\u001b[0;34m)\u001b[0m\u001b[0;34m\u001b[0m\u001b[0;34m\u001b[0m\u001b[0m\n\u001b[1;32m     17\u001b[0m     \u001b[0;32mexcept\u001b[0m\u001b[0;34m:\u001b[0m\u001b[0;34m\u001b[0m\u001b[0;34m\u001b[0m\u001b[0m\n\u001b[0;32m---> 18\u001b[0;31m         \u001b[0mdic\u001b[0m \u001b[0;34m=\u001b[0m \u001b[0mscrape_easy_one_new\u001b[0m\u001b[0;34m(\u001b[0m\u001b[0mhtml\u001b[0m\u001b[0;34m)\u001b[0m\u001b[0;34m\u001b[0m\u001b[0;34m\u001b[0m\u001b[0m\n\u001b[0m\u001b[1;32m     19\u001b[0m     \u001b[0mjs_e\u001b[0m\u001b[0;34m(\u001b[0m\u001b[0mdic\u001b[0m\u001b[0;34m)\u001b[0m\u001b[0;34m\u001b[0m\u001b[0;34m\u001b[0m\u001b[0m\n\u001b[1;32m     20\u001b[0m     \u001b[0mid_exist\u001b[0m \u001b[0;34m=\u001b[0m \u001b[0mset\u001b[0m\u001b[0;34m(\u001b[0m\u001b[0mpd\u001b[0m\u001b[0;34m.\u001b[0m\u001b[0mread_json\u001b[0m\u001b[0;34m(\u001b[0m\u001b[0;34m'nhkwebeasy.json'\u001b[0m\u001b[0;34m)\u001b[0m\u001b[0;34m[\u001b[0m\u001b[0;34m'id'\u001b[0m\u001b[0;34m]\u001b[0m\u001b[0;34m.\u001b[0m\u001b[0mtolist\u001b[0m\u001b[0;34m(\u001b[0m\u001b[0;34m)\u001b[0m\u001b[0;34m)\u001b[0m\u001b[0;34m\u001b[0m\u001b[0;34m\u001b[0m\u001b[0m\n",
      "\u001b[0;32m<ipython-input-2-7133921177e7>\u001b[0m in \u001b[0;36mscrape_easy_one_new\u001b[0;34m(html)\u001b[0m\n\u001b[1;32m     58\u001b[0m \u001b[0;32mdef\u001b[0m \u001b[0mscrape_easy_one_new\u001b[0m\u001b[0;34m(\u001b[0m\u001b[0mhtml\u001b[0m\u001b[0;34m)\u001b[0m\u001b[0;34m:\u001b[0m\u001b[0;34m\u001b[0m\u001b[0;34m\u001b[0m\u001b[0m\n\u001b[1;32m     59\u001b[0m     \u001b[0msoup\u001b[0m \u001b[0;34m=\u001b[0m \u001b[0mBeautifulSoup\u001b[0m\u001b[0;34m(\u001b[0m\u001b[0mhtml\u001b[0m\u001b[0;34m,\u001b[0m \u001b[0;34m\"html.parser\"\u001b[0m\u001b[0;34m)\u001b[0m\u001b[0;34m\u001b[0m\u001b[0;34m\u001b[0m\u001b[0m\n\u001b[0;32m---> 60\u001b[0;31m     \u001b[0murl_easy\u001b[0m \u001b[0;34m=\u001b[0m \u001b[0;34m'https://'\u001b[0m \u001b[0;34m+\u001b[0m \u001b[0msoup\u001b[0m\u001b[0;34m.\u001b[0m\u001b[0mfind\u001b[0m\u001b[0;34m(\u001b[0m\u001b[0;34m'meta'\u001b[0m\u001b[0;34m,\u001b[0m \u001b[0mproperty\u001b[0m\u001b[0;34m=\u001b[0m\u001b[0;34m\"og:url\"\u001b[0m\u001b[0;34m)\u001b[0m\u001b[0;34m.\u001b[0m\u001b[0mget\u001b[0m\u001b[0;34m(\u001b[0m\u001b[0;34m'content'\u001b[0m\u001b[0;34m)\u001b[0m\u001b[0;34m.\u001b[0m\u001b[0msplit\u001b[0m\u001b[0;34m(\u001b[0m\u001b[0;34m'/https://'\u001b[0m\u001b[0;34m)\u001b[0m\u001b[0;34m[\u001b[0m\u001b[0;34m-\u001b[0m\u001b[0;36m1\u001b[0m\u001b[0;34m]\u001b[0m\u001b[0;34m\u001b[0m\u001b[0;34m\u001b[0m\u001b[0m\n\u001b[0m\u001b[1;32m     61\u001b[0m     \u001b[0murl_normal\u001b[0m \u001b[0;34m=\u001b[0m \u001b[0msoup\u001b[0m\u001b[0;34m.\u001b[0m\u001b[0mfind\u001b[0m\u001b[0;34m(\u001b[0m\u001b[0;34m'div'\u001b[0m\u001b[0;34m,\u001b[0m \u001b[0mclass_\u001b[0m\u001b[0;34m=\u001b[0m\u001b[0;34m\"link-to-normal\"\u001b[0m\u001b[0;34m)\u001b[0m\u001b[0;34m.\u001b[0m\u001b[0ma\u001b[0m\u001b[0;34m.\u001b[0m\u001b[0mget\u001b[0m\u001b[0;34m(\u001b[0m\u001b[0;34m'href'\u001b[0m\u001b[0;34m)\u001b[0m\u001b[0;34m\u001b[0m\u001b[0;34m\u001b[0m\u001b[0m\n\u001b[1;32m     62\u001b[0m     \u001b[0mdate\u001b[0m \u001b[0;34m=\u001b[0m \u001b[0msoup\u001b[0m\u001b[0;34m.\u001b[0m\u001b[0mfind\u001b[0m\u001b[0;34m(\u001b[0m\u001b[0;34m'p'\u001b[0m\u001b[0;34m,\u001b[0m \u001b[0mclass_\u001b[0m\u001b[0;34m=\u001b[0m\u001b[0;34m\"article-main__date\"\u001b[0m\u001b[0;34m)\u001b[0m\u001b[0;34m.\u001b[0m\u001b[0mtext\u001b[0m\u001b[0;34m[\u001b[0m\u001b[0;36m1\u001b[0m\u001b[0;34m:\u001b[0m\u001b[0;34m-\u001b[0m\u001b[0;36m1\u001b[0m\u001b[0;34m]\u001b[0m\u001b[0;34m\u001b[0m\u001b[0;34m\u001b[0m\u001b[0m\n",
      "\u001b[0;31mAttributeError\u001b[0m: 'NoneType' object has no attribute 'get'"
     ]
    }
   ],
   "source": [
    "id_exist = set(pd.read_json('nhkwebeasy.json')['id'].tolist())\n",
    "for url in urls:\n",
    "    ID = url.split('.html')[0].split('/')[-1]\n",
    "    if ID in id_exist:\n",
    "        continue\n",
    "    driver.get(url)\n",
    "    time.sleep(6)\n",
    "    html = str(driver.page_source.encode('utf-8'))\n",
    "    snap = re.search(r'(between|1 time|times).*?<a href=\"(.+?)\">', html)\n",
    "    if snap == None:\n",
    "        continue\n",
    "    driver.get('https://web.archive.org' + snap.group(2))\n",
    "    time.sleep(10)\n",
    "    html = driver.page_source.encode('utf-8')\n",
    "    try:\n",
    "        dic = scrape_easy_one(html)\n",
    "    except:\n",
    "        dic = scrape_easy_one_new(html)\n",
    "    js_e(dic)\n",
    "    id_exist = set(pd.read_json('nhkwebeasy.json')['id'].tolist())"
   ]
  },
  {
   "cell_type": "code",
   "execution_count": 41,
   "metadata": {},
   "outputs": [
    {
     "data": {
      "text/plain": "{'id': 'k10014846591000',\n 'title_easy': 'ウナギの餌７５％はアメリカザリガニ',\n 'title_easy_ruby': 'ウナギの<ruby>餌<rt>えさ</rt></ruby>７５％はアメリカザリガニ',\n 'article_easy': '天然のウナギは捕れる量がとても少なくなっています。<org>東京大学</org>の研究チームは、平成２０年（２００８年）と２１年（２００９年）、<plc>岡山県</plc>の<plc>旭川</plc>で季節や場所を変えて捕まえた５０匹のウナギの体の中に残っていた餌を調べました。そして、餌の７４．９％が外国から入って来たアメリカザリガニだったことが分かりました。ウナギが何をよく食べているか、一つの川で詳しく調べたのは初めてです。研究チームは、川にいる生き物や環境が変わったために、ウナギが少なくなっていると考えています。また、餌はカワエビなど<plc>日本</plc>のものでなく、外国から入って来た生き物が多くなっている可能性があると話しています。<org>東京大学</org>で研究している<per>海部</per><per>健三</per>さんは「ウナギが今より少なくならないように、全国の川でも同じように調べる必要があります」と話しています。',\n 'article_easy_ruby': '<ruby>天然<rt>てんねん</rt></ruby>のウナギは<ruby>捕<rt>と</rt></ruby>れる<ruby>量<rt>りょう</rt></ruby>がとても<ruby>少<rt>すく</rt></ruby>なくなっています。\\n\\n<span class=\"colorC\"><ruby>東京大学<rt>とうきょうだいがく</rt></ruby></span>の<ruby>研究<rt>けんきゅう</rt></ruby>チームは、<ruby>平成<rt>へいせい</rt></ruby>２０<ruby>年<rt>ねん</rt></ruby>（２００８<ruby>年<rt>ねん</rt></ruby>）と２１<ruby>年<rt>ねん</rt></ruby>（２００９<ruby>年<rt>ねん</rt></ruby>）、<span class=\"colorL\"><ruby>岡山県<rt>おかやまけん</rt></ruby></span>の<span class=\"colorL\"><ruby>旭川<rt>あさひがわ</rt></ruby></span>で<ruby>季節<rt>きせつ</rt></ruby>や<ruby>場所<rt>ばしょ</rt></ruby>を<ruby>変<rt>か</rt></ruby>えて<ruby>捕<rt>つか</rt></ruby>まえた５０<ruby>匹<rt>ぴき</rt></ruby>のウナギの<ruby>体<rt>からだ</rt></ruby>の<ruby>中<rt>なか</rt></ruby>に<ruby>残<rt>のこ</rt></ruby>っていた<ruby>餌<rt>えさ</rt></ruby>を<ruby>調<rt>しら</rt></ruby>べました。\\nそして、<ruby>餌<rt>えさ</rt></ruby>の７４．９％が<ruby>外国<rt>がいこく</rt></ruby>から<ruby>入<rt>はい</rt></ruby>って<ruby>来<rt>き</rt></ruby>たアメリカザリガニだったことが<ruby>分<rt>わ</rt></ruby>かりました。\\nウナギが<ruby>何<rt>なに</rt></ruby>をよく<ruby>食<rt>た</rt></ruby>べているか、<ruby>一<rt>ひと</rt></ruby>つの<ruby>川<rt>かわ</rt></ruby>で<ruby>詳<rt>くわ</rt></ruby>しく<ruby>調<rt>しら</rt></ruby>べたのは<ruby>初<rt>はじ</rt></ruby>めてです。\\n<ruby>研究<rt>けんきゅう</rt></ruby>チームは、<ruby>川<rt>かわ</rt></ruby>にいる<ruby>生<rt>い</rt></ruby>き<ruby>物<rt>もの</rt></ruby>や<ruby>環境<rt>かんきょう</rt></ruby>が<ruby>変<rt>か</rt></ruby>わったために、ウナギが<ruby>少<rt>すく</rt></ruby>なくなっていると<ruby>考<rt>かんが</rt></ruby>えています。また、<ruby>餌<rt>えさ</rt></ruby>はカワエビなど<span class=\"colorL\"><ruby>日本<rt>にっぽん</rt></ruby></span>のものでなく、<ruby>外国<rt>がいこく</rt></ruby>から<ruby>入<rt>はい</rt></ruby>って<ruby>来<rt>き</rt></ruby>た<ruby>生<rt>い</rt></ruby>き<ruby>物<rt>もの</rt></ruby>が<ruby>多<rt>おお</rt></ruby>くなっている<ruby>可能<rt>かのう</rt></ruby><ruby>性<rt>せい</rt></ruby>があると<ruby>話<rt>はな</rt></ruby>しています。\\n<span class=\"colorC\"><ruby>東京大学<rt>とうきょうだいがく</rt></ruby></span>で<ruby>研究<rt>けんきゅう</rt></ruby>している<span class=\"colorN\"><ruby>海部<rt>かいふ</rt></ruby></span><span class=\"colorN\"><ruby>健三<rt>けんぞう</rt></ruby></span>さんは「ウナギが<ruby>今<rt>いま</rt></ruby>より<ruby>少<rt>すく</rt></ruby>なくならないように、<ruby>全国<rt>ぜんこく</rt></ruby>の<ruby>川<rt>かわ</rt></ruby>でも<ruby>同<rt>おな</rt></ruby>じように<ruby>調<rt>しら</rt></ruby>べる<ruby>必要<rt>ひつよう</rt></ruby>があります」と<ruby>話<rt>はな</rt></ruby>しています。',\n 'url_easy': 'http://www3.nhk.or.jp/news/easy/k10014846591000.html',\n 'url_normal': 'http://www3.nhk.or.jp/news/html/20120502/k10014846591000.html',\n 'date_easy': '5月2日 14時30分'}"
     },
     "execution_count": 41,
     "metadata": {},
     "output_type": "execute_result"
    }
   ],
   "source": [
    "html = driver.page_source.encode('utf-8')\n",
    "dic = scrape_easy_one(html)\n",
    "dic"
   ]
  },
  {
   "cell_type": "code",
   "execution_count": 42,
   "metadata": {},
   "outputs": [],
   "source": [
    "js_e(dic)"
   ]
  },
  {
   "cell_type": "code",
   "execution_count": 30,
   "metadata": {},
   "outputs": [
    {
     "data": {
      "text/plain": " #social_b15 a { position: absolute; top: 20px; left: undefinedpx; } --></style><li id=\"social_sns_notice\" style=\"clear:both;\"><img src=\"https://web.archive.org/web/20120406124107/http://www9.nhk.or.jp/common/social/img/sns_notice.gif\" style=\"border-width: 0px;\"></li></ul></div></div></div>\\n    <div id=\"subMenu\"></div>\\n    </div>\\n  </div>\\n  <div id=\"content\">\\n       <div class=\"wrap png_bg\">\\n      <h1><a href=\"index.html\"><img src=\"/web/20120406065233im_/http://www3.nhk.or.jp/news/easy/img/hd_title.png\" alt=\"NEWS WEB EASY\"></a></h1>\\n      <div id=\"main\">\\n        <!--div id=\"today\">\\n          <p><img src=\"img/img_today.png\" alt=\"\\xe4\\xbb\\x8a\\xe6\\x97\\xa5\\xe3\\x81\\xaf\\xe2\\x80\\xa6\" />\\xe3\\x80\\x802012<ruby><rb>\\xe5\\xb9\\xb4</rb><rp>(</rp><rt>\\xe3\\x81\\xad\\xe3\\x82\\x93</rt><rp>)</rp></ruby>1<ruby><rb>\\xe6\\x9c\\x88</rb><rp>(</rp><rt>\\xe3\\x81\\x8c\\xe3\\x81\\xa4</rt><rp>)</rp></ruby>11<ruby><rb>\\xe6\\x97\\xa5</rb><rp>(</rp><rt>\\xe3\\x81\\xab\\xe3\\x81\\xa1</rt><rp>)</rp></ruby> <ruby><rb>\\xe6\\xb0\\xb4\\xe6\\x9b\\x9c\\xe6\\x97\\xa5</rb><rp>(</rp><rt>\\xe3\\x81\\x99\\xe3\\x81\\x84\\xe3\\x82\\x88\\xe3\\x81\\x86\\xe3\\x81\\xb3</rt><rp>)</rp></ruby>\\n          </p>\\n        </div>\\n        <p id=\"questionary\"><a href=\"#\"></a></p-->\\n        <div id=\"newstitle\">\\n          <h2><ruby>\\xe9\\xa3\\x9f<rt>\\xe3\\x81\\x9f</rt></ruby>\\xe3\\x81\\xb9<ruby>\\xe7\\x89\\xa9<rt>\\xe3\\x82\\x82\\xe3\\x81\\xae</rt></ruby>\\xe3\\x81\\xae<ruby>\\xe6\\x94\\xbe\\xe5\\xb0\\x84<rt>\\xe3\\x81\\xbb\\xe3\\x81\\x86\\xe3\\x81\\x97\\xe3\\x82\\x83</rt></ruby><ruby>\\xe6\\x80\\xa7<rt>\\xe3\\x81\\x9b\\xe3\\x81\\x84</rt></ruby>\\xe3\\x82\\xbb\\xe3\\x82\\xb7\\xe3\\x82\\xa6\\xe3\\x83\\xa0\\xe3\\x81\\xab<ruby>\\xe5\\x8e\\xb3<rt>\\xe3\\x81\\x8d\\xe3\\x81\\xb3</rt></ruby>\\xe3\\x81\\x97\\xe3\\x81\\x84<ruby>\\xe5\\x9f\\xba\\xe6\\xba\\x96<rt>\\xe3\\x81\\x8d\\xe3\\x81\\x98\\xe3\\x82\\x85\\xe3\\x82\\x93</rt></ruby></h2>\\n          <p id=\"newsDate\">[4\\xe6\\x9c\\x882\\xe6\\x97\\xa5 18\\xe6\\x99\\x8215\\xe5\\x88\\x86]</p>\\n        </div>\\n        <p id=\"regularnews\"><a href=\"https://web.archive.org/web/20120406065233/http://www3.nhk.or.jp/news/html/20120401/k10014129211000.html\" target=\"_blank\">\\xe9\\x80\\x9a\\xe5\\xb8\\xb8\\xe3\\x81\\xae\\xe3\\x83\\x8b\\xe3\\x83\\xa5\\xe3\\x83\\xbc\\xe3\\x82\\xb9\\xe5\\x8e\\x9f\\xe7\\xa8\\xbf\\xe3\\x81\\xaf\\xe3\\x81\\x93\\xe3\\x81\\xa1\\xe3\\x82\\x89</a></p>\\n        <p id=\"mainimg\"><img src=\"https://web.archive.org/web/20120406065233im_/http://www3.nhk.or.jp/news/html/20120401/K10041292111_1204011944_1204011946_01.jpg\"><a href=\"javascript:void(0)\" onclick=\"showVideo(this);\" id=\"K10041292111_1204011945_1204011946\" class=\"playBT\"></a></p>\\n        <div id=\"newswrap\" class=\"coloroff\"><!-- coloron\\xe3\\x81\\xa7\\xe7\\x89\\xb9\\xe5\\xae\\x9aspan\\xe3\\x81\\xab\\xe8\\x89\\xb2\\xe3\\x81\\xa5\\xe3\\x81\\x91\\xe3\\x80\\x80coloroff\\xe3\\x81\\xa7\\xe8\\x89\\xb2\\xe3\\x81\\xaa\\xe3\\x81\\x97 -->\\n        <div id=\"soundkana\">\\n          <p id=\"sound\"><object classid=\"clsid:d27cdb6e-ae6d-11cf-96b8-444553540000\" codebase=\"https://web.archive.org/web/20130204131556/http://download.macromedia.com/pub/shockwave/cabs/flash/swflash.cab#version=9,0,0,0\" width=\"446\" height=\"67\" id=\"nhk_audioplayer\" align=\"middle\"><param name=\"allowScriptAccess\" value=\"always\"><param name=\"wmode\" value=\"transparent\"><param name=\"movie\" value=\"swf/audioplayer.swf?1581729951631\"><param name=\"quality\" value=\"high\"><param name=\"allowFullScreen\" value=\"true\"><param name=\"bgcolor\" value=\"#ffffff\"><embed src=\"swf/audioplayer.swf?1581729951631\" quality=\"high\" allowfullscreen=\"true\" bgcolor=\"#ffffff\" width=\"446\" height=\"67\" name=\"nhk_audioplayer\" align=\"middle\" allowscriptaccess=\"always\" wmode=\"transparent\" type=\"application/x-shockwave-flash\" pluginspage=\"https://web.archive.org/web/20130204131556/http://www.macromedia.com/go/getflashplayer\"></object></p>\\n          <p id=\"kana\"><a href=\"javascript:void(0)\" id=\"chColor\">\\xe8\\xa8\\x80\\xe8\\x91\\x89\\xe3\\x81\\xae\\xe8\\x89\\xb2\\xe5\\x88\\x86\\xe3\\x81\\x91</a><a href=\"javascript:void(0);\" id=\"help\">\\xe8\\xa8\\x80\\xe8\\x91\\x89\\xe3\\x81\\xae\\xe8\\x89\\xb2\\xe5\\x88\\x86\\xe3\\x81\\x91\\xe3\\x81\\xae\\xe4\\xbd\\xbf\\xe3\\x81\\x84\\xe6\\x96\\xb9</a></p>\\n        </div>\\n        <div id=\"newsarticle\"><p><span class=\"colorC\"><ruby>\\xe5\\x8e\\x9a\\xe7\\x94\\x9f<rt>\\xe3\\x81\\x93\\xe3\\x81\\x86\\xe3\\x81\\x9b\\xe3\\x81\\x84</rt></ruby><ruby>\\xe5\\x8a\\xb4\\xe5\\x83\\x8d\\xe7\\x9c\\x81<rt>\\xe3\\x82\\x8d\\xe3\\x81\\x86\\xe3\\x81\\xa9\\xe3\\x81\\x86\\xe3\\x81\\x97\\xe3\\x82\\x87\\xe3\\x81\\x86</rt></ruby></span>\\xe3\\x81\\xaf\\xe3\\x80\\x81<ruby>\\xe9\\xa3\\x9f<rt>\\xe3\\x81\\x9f</rt></ruby>\\xe3\\x81\\xb9<ruby>\\xe7\\x89\\xa9<rt>\\xe3\\x82\\x82\\xe3\\x81\\xae</rt></ruby>\\xe3\\x81\\xae<ruby>\\xe4\\xb8\\xad<rt>\\xe3\\x81\\xaa\\xe3\\x81\\x8b</rt></ruby>\\xe3\\x81\\xae<a href=\"javascript:void(0)\" class=\"dicWin\" id=\"id-0000\"><ruby><span class=\"under\">\\xe6\\x94\\xbe\\xe5\\xb0\\x84</span><rt>\\xe3\\x81\\xbb\\xe3\\x81\\x86\\xe3\\x81\\x97\\xe3\\x82\\x83</rt></ruby></a><ruby>\\xe6\\x80\\xa7<rt>\\xe3\\x81\\x9b\\xe3\\x81\\x84</rt></ruby>\\xe3\\x82\\xbb\\xe3\\x82\\xb7\\xe3\\x82\\xa6\\xe3\\x83\\xa0\\xe3\\x81\\xab\\xe3\\x81\\xa4\\xe3\\x81\\x84\\xe3\\x81\\xa6\\xe3\\x80\\x81\\xe3\\x82\\x88\\xe3\\x82\\x8a<ruby>\\xe5\\xae\\x89\\xe5\\x85\\xa8<rt>\\xe3\\x81\\x82\\xe3\\x82\\x93\\xe3\\x81\\x9c\\xe3\\x82\\x93</rt></ruby>\\xe3\\x81\\xab<ruby>\\xe9\\xa3\\x9f<rt>\\xe3\\x81\\x9f</rt></ruby>\\xe3\\x81\\xb9\\xe3\\x82\\x8b\\xe3\\x81\\x9f\\xe3\\x82\\x81\\xe3\\x81\\xae<a href=\"javascript:void(0)\" class=\"dicWin\" id=\"id-0001\"><ruby><span class=\"under\">\\xe5\\x9f\\xba\\xe6\\xba\\x96</span><rt>\\xe3\\x81\\x8d\\xe3\\x81\\x98\\xe3\\x82\\x85\\xe3\\x82\\x93</rt></ruby></a>\\xe3\\x82\\x92<ruby>\\xef\\xbc\\x94\\xe6\\x9c\\x88<rt>\\xe3\\x81\\x97\\xe3\\x81\\x8c\\xe3\\x81\\xa4</rt></ruby>\\xe3\\x81\\x8b\\xe3\\x82\\x89<ruby>\\xe6\\x96\\xb0<rt>\\xe3\\x81\\x82\\xe3\\x81\\x9f\\xe3\\x82\\x89</rt></ruby>\\xe3\\x81\\x97\\xe3\\x81\\x8f\\xe3\\x81\\x97\\xe3\\x81\\xbe\\xe3\\x81\\x97\\xe3\\x81\\x9f\\xe3\\x80\\x82</p><p><a href=\"javascript:void(0)\" class=\"dicWin\" id=\"id-0001\"><ruby><span class=\"under\">\\xe5\\x9f\\xba\\xe6\\xba\\x96</span><rt>\\xe3\\x81\\x8d\\xe3\\x81\\x98\\xe3\\x82\\x85\\xe3\\x82\\x93</rt></ruby></a>\\xe3\\x81\\xaf\\xe3\\x80\\x81<span class=\"colorC\"><ruby>\\xe7\\xa6\\x8f\\xe5\\xb3\\xb6<rt>\\xe3\\x81\\xb5\\xe3\\x81\\x8f\\xe3\\x81\\x97\\xe3\\x81\\xbe</rt></ruby><ruby>\\xe7\\xac\\xac\\xe4\\xb8\\x80<rt>\\xe3\\x81\\xa0\\xe3\\x81\\x84\\xe3\\x81\\x84\\xe3\\x81\\xa1</rt></ruby><ruby>\\xe5\\x8e\\x9f\\xe7\\x99\\xba<rt>\\xe3\\x81\\x92\\xe3\\x82\\x93\\xe3\\x81\\xb1\\xe3\\x81\\xa4</rt></ruby></span>\\xe3\\x81\\xae<ruby>\\xe4\\xba\\x8b\\xe6\\x95\\x85<rt>\\xe3\\x81\\x98\\xe3\\x81\\x93</rt></ruby>\\xe3\\x81\\xae\\xe3\\x81\\x82\\xe3\\x81\\xa8\\xe3\\x81\\xab\\xe3\\x80\\x81<ruby>\\xe4\\xb8\\x80<rt>\\xe3\\x81\\x84\\xe3\\x81\\xa1</rt></ruby><ruby>\\xe5\\xba\\xa6<rt>\\xe3\\x81\\xa9</rt></ruby>\\xe3\\x81\\xaf<ruby>\\xe6\\xb1\\xba<rt>\\xe3\\x81\\x8d</rt></ruby>\\xe3\\x82\\x81\\xe3\\x81\\xbe\\xe3\\x81\\x97\\xe3\\x81\\x9f\\xe3\\x81\\x8c\\xe3\\x80\\x81<ruby>\\xe4\\xba\\x8b\\xe6\\x95\\x85<rt>\\xe3\\x81\\x98\\xe3\\x81\\x93</rt></ruby>\\xe3\\x81\\x8b\\xe3\\x82\\x89<ruby>\\xef\\xbc\\x91<rt>\\xe3\\x81\\x84\\xe3\\x81\\xa1</rt></ruby><ruby>\\xe5\\xb9\\xb4<rt>\\xe3\\x81\\xad\\xe3\\x82\\x93</rt></ruby><ruby>\\xe4\\xbb\\xa5\\xe4\\xb8\\x8a<rt>\\xe3\\x81\\x84\\xe3\\x81\\x98\\xe3\\x82\\x87\\xe3\\x81\\x86</rt></ruby>\\xe3\\x81\\x8c\\xe3\\x81\\x9f\\xe3\\x81\\xa3\\xe3\\x81\\xa6\\xe3\\x80\\x81<ruby>\\xe9\\xa3\\x9f\\xe3\\x81\\xb9\\xe7\\x89\\xa9<rt>\\xe3\\x81\\x9f\\xe3\\x81\\xb9\\xe3\\x82\\x82\\xe3\\x81\\xae</rt></ruby>\\xe3\\x81\\xae<ruby>\\xe4\\xb8\\xad<rt>\\xe3\\x81\\xaa\\xe3\\x81\\x8b</rt></ruby>\\xe3\\x81\\x8b\\xe3\\x82\\x89<ruby>\\xe5\\x87\\xba<rt>\\xe3\\x81\\xa7</rt></ruby>\\xe3\\x82\\x8b<ruby>\\xe9\\x87\\x8f<rt>\\xe3\\x82\\x8a\\xe3\\x82\\x87\\xe3\\x81\\x86</rt></ruby>\\xe3\\x81\\x8c<ruby>\\xe5\\xb0\\x91<rt>\\xe3\\x81\\x99\\xe3\\x81\\x8f</rt></ruby>\\xe3\\x81\\xaa\\xe3\\x81\\x8f\\xe3\\x81\\xaa\\xe3\\x81\\xa3\\xe3\\x81\\xa6\\xe3\\x81\\x84\\xe3\\x82\\x8b\\xe3\\x81\\x9f\\xe3\\x82\\x81\\xe3\\x80\\x81\\xe3\\x81\\x95\\xe3\\x82\\x89\\xe3\\x81\\xab<ruby>\\xe5\\x8e\\xb3<rt>\\xe3\\x81\\x8d\\xe3\\x81\\xb3</rt></ruby>\\xe3\\x81\\x97\\xe3\\x81\\x8f\\xe3\\x81\\x97\\xe3\\x81\\xbe\\xe3\\x81\\x97\\xe3\\x81\\x9f\\xe3\\x80\\x82</p><p><ruby>\\xe9\\x87\\x8e\\xe8\\x8f\\x9c<rt>\\xe3\\x82\\x84\\xe3\\x81\\x95\\xe3\\x81\\x84</rt></ruby>\\xe3\\x82\\x84<ruby>\\xe7\\xb1\\xb3<rt>\\xe3\\x81\\x93\\xe3\\x82\\x81</rt></ruby>\\xe3\\x81\\xaa\\xe3\\x81\\xa9\\xe3\\x81\\xae<a href=\"javascript:void(0)\" class=\"dicWin\" id=\"id-0003\"><ruby><span class=\"under\">\\xe4\\xb8\\x80\\xe8\\x88\\xac</span><rt>\\xe3\\x81\\x84\\xe3\\x81\\xa3\\xe3\\x81\\xb1\\xe3\\x82\\x93</rt></ruby></a>\\xe3\\x81\\xae<ruby>\\xe9\\xa3\\x9f<rt>\\xe3\\x81\\x9f</rt></ruby>\\xe3\\x81\\xb9<ruby>\\xe7\\x89\\xa9<rt>\\xe3\\x82\\x82\\xe3\\x81\\xae</rt></ruby>\\xe3\\x81\\xaf\\xe3\\x80\\x81<ruby>\\xe4\\xbb\\x8a<rt>\\xe3\\x81\\x84\\xe3\\x81\\xbe</rt></ruby>\\xe3\\x81\\xbe\\xe3\\x81\\xa7\\xe3\\x81\\xae\\xef\\xbc\\x95<ruby>\\xe5\\x88\\x86<rt>\\xe3\\x81\\xb6\\xe3\\x82\\x93</rt></ruby>\\xe3\\x81\\xae\\xef\\xbc\\x91\\xe3\\x81\\xae\\xe3\\x80\\x81\\xef\\xbc\\x91\\xef\\xbd\\x8b\\xef\\xbd\\x87\\xe3\\x81\\xae<ruby>\\xe4\\xb8\\xad<rt>\\xe3\\x81\\xaa\\xe3\\x81\\x8b</rt></ruby>\\xe3\\x81\\xab\\xef\\xbc\\x91\\xef\\xbc\\x90\\xef\\xbc\\x90\\xe3\\x83\\x99\\xe3\\x82\\xaf\\xe3\\x83\\xac\\xe3\\x83\\xab\\xe3\\x81\\xbe\\xe3\\x81\\xa7\\xe3\\x80\\x81<ruby>\\xe7\\xb2\\x89<rt>\\xe3\\x81\\x93\\xe3\\x81\\xaa</rt></ruby>\\xe3\\x83\\x9f\\xe3\\x83\\xab\\xe3\\x82\\xaf\\xe3\\x81\\xaa\\xe3\\x81\\xa9\\xe3\\x81\\xae<ruby>\\xe8\\xb5\\xa4<rt>\\xe3\\x81\\x82\\xe3\\x81\\x8b</rt></ruby>\\xe3\\x81\\xa1\\xe3\\x82\\x83\\xe3\\x82\\x93\\xe3\\x81\\xae\\xe3\\x81\\x9f\\xe3\\x82\\x81\\xe3\\x81\\xae<ruby>\\xe9\\xa3\\x9f<rt>\\xe3\\x81\\x9f</rt></ruby>\\xe3\\x81\\xb9<ruby>\\xe7\\x89\\xa9<rt>\\xe3\\x82\\x82\\xe3\\x81\\xae</rt></ruby>\\xe3\\x81\\xa8<ruby>\\xe7\\x89\\x9b\\xe4\\xb9\\xb3<rt>\\xe3\\x81\\x8e\\xe3\\x82\\x85\\xe3\\x81\\x86\\xe3\\x81\\xab\\xe3\\x82\\x85\\xe3\\x81\\x86</rt></ruby>\\xe3\\x81\\xaf\\xef\\xbc\\x95\\xef\\xbc\\x90\\xe3\\x83\\x99\\xe3\\x82\\xaf\\xe3\\x83\\xac\\xe3\\x83\\xab\\xe3\\x81\\xbe\\xe3\\x81\\xa7\\xe3\\x80\\x81<ruby>\\xe9\\xa3\\xb2<rt>\\xe3\\x81\\xae</rt></ruby>\\xe3\\x82\\x80\\xe3\\x81\\x9f\\xe3\\x82\\x81\\xe3\\x81\\xae<ruby>\\xe6\\xb0\\xb4<rt>\\xe3\\x81\\xbf\\xe3\\x81\\x9a</rt></ruby>\\xe3\\x81\\xaf\\xef\\xbc\\x91\\xef\\xbc\\x90\\xe3\\x83\\x99\\xe3\\x82\\xaf\\xe3\\x83\\xac\\xe3\\x83\\xab\\xe3\\x81\\xbe\\xe3\\x81\\xa7\\xe3\\x81\\xa7\\xe3\\x81\\x99\\xe3\\x80\\x82</p><p>\\xe3\\x81\\x93\\xe3\\x82\\x8c\\xe3\\x82\\x88\\xe3\\x82\\x8a<ruby>\\xe5\\xa4\\x9a<rt>\\xe3\\x81\\x8a\\xe3\\x81\\x8a</rt></ruby>\\xe3\\x81\\x8f\\xe3\\x81\\xae<a href=\"javascript:void(0)\" class=\"dicWin\" id=\"id-0000\"><ruby><span class=\"under\">\\xe6\\x94\\xbe\\xe5\\xb0\\x84</span><rt>\\xe3\\x81\\xbb\\xe3\\x81\\x86\\xe3\\x81\\x97\\xe3\\x82\\x83</rt></ruby></a><ruby>\\xe6\\x80\\xa7<rt>\\xe3\\x81\\x9b\\xe3\\x81\\x84</rt></ruby>\\xe3\\x82\\xbb\\xe3\\x82\\xb7\\xe3\\x82\\xa6\\xe3\\x83\\xa0\\xe3\\x81\\x8c\\xe3\\x81\\x82\\xe3\\x82\\x8b<ruby>\\xe9\\xa3\\x9f<rt>\\xe3\\x81\\x9f</rt></ruby>\\xe3\\x81\\xb9<ruby>\\xe7\\x89\\xa9<rt>\\xe3\\x82\\x82\\xe3\\x81\\xae</rt></ruby>\\xe3\\x81\\xaf\\xe3\\x80\\x81<a href=\"javascript:void(0)\" class=\"dicWin\" id=\"id-0005\"><ruby><span class=\"under\">\\xe6\\x94\\xbf\\xe5\\xba\\x9c</span><rt>\\xe3\\x81\\x9b\\xe3\\x81\\x84\\xe3\\x81\\xb5</rt></ruby></a>\\xe3\\x81\\x8c<ruby>\\xe5\\xba\\x97<rt>\\xe3\\x81\\xbf\\xe3\\x81\\x9b</rt></ruby>\\xe3\\x81\\xa7<ruby>\\xe5\\xa3\\xb2<rt>\\xe3\\x81\\x86</rt></ruby>\\xe3\\x82\\x89\\xe3\\x81\\xaa\\xe3\\x81\\x84\\xe3\\x82\\x88\\xe3\\x81\\x86\\xe3\\x81\\xab<ruby>\\xe8\\xa8\\x80<rt>\\xe3\\x81\\x84</rt></ruby>\\xe3\\x81\\xa3\\xe3\\x81\\x9f\\xe3\\x82\\x8a\\xe3\\x80\\x81<ruby>\\xe8\\x87\\xaa\\xe5\\x88\\x86<rt>\\xe3\\x81\\x98\\xe3\\x81\\xb6\\xe3\\x82\\x93</rt></ruby>\\xe3\\x81\\x9f\\xe3\\x81\\xa1\\xe3\\x81\\xa7<ruby>\\xe5\\xa3\\xb2<rt>\\xe3\\x81\\x86</rt></ruby>\\xe3\\x82\\x89\\xe3\\x81\\xaa\\xe3\\x81\\x84\\xe3\\x82\\x88\\xe3\\x81\\x86\\xe3\\x81\\xab\\xe3\\x81\\x97\\xe3\\x81\\x9f\\xe3\\x82\\x8a\\xe3\\x81\\x97\\xe3\\x81\\xbe\\xe3\\x81\\x99\\xe3\\x80\\x82</p><p><span class=\"colorC\"><ruby>\\xe5\\x8e\\x9a\\xe7\\x94\\x9f<rt>\\xe3\\x81\\x93\\xe3\\x81\\x86\\xe3\\x81\\x9b\\xe3\\x81\\x84</rt></ruby><ruby>\\xe5\\x8a\\xb4\\xe5\\x83\\x8d\\xe7\\x9c\\x81<rt>\\xe3\\x82\\x8d\\xe3\\x81\\x86\\xe3\\x81\\xa9\\xe3\\x81\\x86\\xe3\\x81\\x97\\xe3\\x82\\x87\\xe3\\x81\\x86</rt></ruby></span>\\xe3\\x81\\xab\\xe3\\x82\\x88\\xe3\\x82\\x8b\\xe3\\x81\\xa8\\xe3\\x80\\x81\\xe3\\x81\\x93\\xe3\\x81\\xa8\\xe3\\x81\\x97<ruby>\\xef\\xbc\\x91<rt>\\xe3\\x81\\x84\\xe3\\x81\\xa1</rt></ruby><ruby>\\xe6\\x9c\\x88<rt>\\xe3\\x81\\x8c\\xe3\\x81\\xa4</rt></ruby>\\xe3\\x81\\x8b\\xe3\\x82\\x89<ruby>\\xe5\\x85\\x88\\xe6\\x9c\\x88<rt>\\xe3\\x81\\x9b\\xe3\\x82\\x93\\xe3\\x81\\x92\\xe3\\x81\\xa4</rt></ruby><ruby>\\xe6\\x9c\\xab<rt>\\xe3\\x81\\x99\\xe3\\x81\\x88</rt></ruby>\\xe3\\x81\\xbe\\xe3\\x81\\xa7\\xe3\\x81\\xab\\xe3\\x80\\x81<a href=\"javascript:void(0)\" class=\"dicWin\" id=\"id-0000\"><ruby><span class=\"under\">\\xe6\\x94\\xbe\\xe5\\xb0\\x84</span><rt>\\xe3\\x81\\xbb\\xe3\\x81\\x86\\xe3\\x81\\x97\\xe3\\x82\\x83</rt></ruby></a><ruby>\\xe6\\x80\\xa7<rt>\\xe3\\x81\\x9b\\xe3\\x81\\x84</rt></ruby>\\xe3\\x82\\xbb\\xe3\\x82\\xb7\\xe3\\x82\\xa6\\xe3\\x83\\xa0\\xe3\\x81\\x8c\\xef\\xbc\\x91\\xef\\xbc\\x90\\xef\\xbc\\x90\\xe3\\x83\\x99\\xe3\\x82\\xaf\\xe3\\x83\\xac\\xe3\\x83\\xab\\xe3\\x82\\x88\\xe3\\x82\\x8a<ruby>\\xe5\\xa4\\x9a<rt>\\xe3\\x81\\x8a\\xe3\\x81\\x8a</rt></ruby>\\xe3\\x81\\x8b\\xe3\\x81\\xa3\\xe3\\x81\\x9f<ruby>\\xe9\\xa3\\x9f<rt>\\xe3\\x81\\x9f</rt></ruby>\\xe3\\x81\\xb9<ruby>\\xe7\\x89\\xa9<rt>\\xe3\\x82\\x82\\xe3\\x81\\xae</rt></ruby>\\xe3\\x81\\xaf\\xe3\\x80\\x81<span class=\"colorL\"><ruby>\\xe7\\xa6\\x8f\\xe5\\xb3\\xb6<rt>\\xe3\\x81\\xb5\\xe3\\x81\\x8f\\xe3\\x81\\x97\\xe3\\x81\\xbe</rt></ruby></span>\\xe3\\x82\\x84<span class=\"colorL\"><ruby>\\xe8\\x8c\\xa8\\xe5\\x9f\\x8e<rt>\\xe3\\x81\\x84\\xe3\\x81\\xb0\\xe3\\x82\\x89\\xe3\\x81\\x8d</rt></ruby></span>\\xe3\\x80\\x81<span class=\"colorL\"><ruby>\\xe6\\xa0\\x83\\xe6\\x9c\\xa8<rt>\\xe3\\x81\\xa8\\xe3\\x81\\xa1\\xe3\\x81\\x8e</rt></ruby></span>\\xe3\\x81\\xaa\\xe3\\x81\\xa9\\xef\\xbc\\x99\\xe3\\x81\\xa4\\xe3\\x81\\xae<ruby>\\xe7\\x9c\\x8c<rt>\\xe3\\x81\\x91\\xe3\\x82\\x93</rt></ruby>\\xe3\\x81\\xa7\\xe3\\x80\\x81<a href=\"javascript:void(0)\" class=\"dicWin\" id=\"id-0006\"><span class=\"under\">\\xe3\\x81\\xb2\\xe3\\x82\\x89\\xe3\\x82\\x81</span></a>\\xe3\\x81\\xaa\\xe3\\x81\\xa9\\xe3\\x81\\xae<ruby>\\xe9\\xad\\x9a<rt>\\xe3\\x81\\x95\\xe3\\x81\\x8b\\xe3\\x81\\xaa</rt></ruby>\\xe3\\x82\\x84\\xe3\\x80\\x81<ruby>\\xe9\\x87\\x8e\\xe8\\x8f\\x9c<rt>\\xe3\\x82\\x84\\xe3\\x81\\x95\\xe3\\x81\\x84</rt></ruby>\\xe3\\x81\\xaa\\xe3\\x81\\xa9\\xe3\\x80\\x81<a href=\"javascript:void(0)\" class=\"dicWin\" id=\"id-0007\"><ruby><span class=\"under\">\\xe5\\x90\\x88</span><rt>\\xe3\\x81\\x82</rt></ruby>\\xe3\\x82\\x8f\\xe3\\x81\\x9b</a>\\xe3\\x81\\xa6\\xef\\xbc\\x96\\xef\\xbc\\x90\\xef\\xbc\\x90<ruby>\\xe4\\xbb\\xb6<rt>\\xe3\\x81\\x91\\xe3\\x82\\x93</rt></ruby><ruby>\\xe4\\xbb\\xa5\\xe4\\xb8\\x8a<rt>\\xe3\\x81\\x84\\xe3\\x81\\x98\\xe3\\x82\\x87\\xe3\\x81\\x86</rt></ruby>\\xe3\\x81\\x82\\xe3\\x82\\x8a\\xe3\\x81\\xbe\\xe3\\x81\\x97\\xe3\\x81\\x9f\\xe3\\x80\\x82<ruby>\\xe5\\xa4\\x9a<rt>\\xe3\\x81\\x8a\\xe3\\x81\\x8a</rt></ruby>\\xe3\\x81\\x8f\\xe3\\x81\\xae<ruby>\\xe6\\x89\\x80<rt>\\xe3\\x81\\xa8\\xe3\\x81\\x93\\xe3\\x82\\x8d</rt></ruby>\\xe3\\x81\\xa7\\xe3\\x81\\xaf<ruby>\\xef\\xbc\\x92\\xe6\\x97\\xa5<rt>\\xe3\\x81\\xb5\\xe3\\x81\\xa4\\xe3\\x81\\x8b</rt></ruby>\\xe3\\x81\\x8b\\xe3\\x82\\x89\\xe3\\x80\\x81<ruby>\\xe6\\x96\\xb0<rt>\\xe3\\x81\\x82\\xe3\\x81\\x9f\\xe3\\x82\\x89</rt></ruby>\\xe3\\x81\\x97\\xe3\\x81\\x84<a href=\"javascript:void(0)\" class=\"dicWin\" id=\"id-0001\"><ruby><span class=\"under\">\\xe5\\x9f\\xba\\xe6\\xba\\x96</span><rt>\\xe3\\x81\\x8d\\xe3\\x81\\x98\\xe3\\x82\\x85\\xe3\\x82\\x93</rt></ruby></a>\\xe3\\x81\\xa7<ruby>\\xe9\\xa3\\x9f<rt>\\xe3\\x81\\x9f</rt></ruby>\\xe3\\x81\\xb9<ruby>\\xe7\\x89\\xa9<rt>\\xe3\\x82\\x82\\xe3\\x81\\xae</rt></ruby>\\xe3\\x82\\x92<ruby>\\xe8\\xaa\\xbf<rt>\\xe3\\x81\\x97\\xe3\\x82\\x89</rt></ruby>\\xe3\\x81\\xb9\\xe3\\x81\\xa6\\xe3\\x81\\x84\\xe3\\x81\\xbe\\xe3\\x81\\x99\\xe3\\x80\\x82</p></div>\\n</div>\\n<!--div id=\"impression\"><img src=\"img/img_dummy_kansou.png\" alt=\"\\xe3\\x81\\xbf\\xe3\\x82\\x93\\xe3\\x81\\xaa\\xe3\\x81\\xae\\xe6\\x84\\x9f\\xe6\\x83\\xb3dummy\" /></div-->\\n      </div>\\n      <div id=\"side\">\\n        <div class=\"newslist\" style=\"display: none;\"><!--\\xe3\\x83\\x8b\\xe3\\x83\\xa5\\xe3\\x83\\xbc\\xe3\\x82\\xb9\\xe3\\x81\\xae\\xe3\\x83\\xa1\\xe3\\x83\\x8b\\xe3\\x83\\xa5\\xe3\\x83\\xbc\\xe3\\x81\\xa7\\xe3\\x81\\x99--></div>\\n        <div id=\"aboutThisSite\"><a href=\"javascript:void(0)\">NEWS WEB EASY \\xe3\\x81\\xab\\xe3\\x81\\xa4\\xe3\\x81\\x84\\xe3\\x81\\xa6</a></div>\\n    </div>\\n  </div>\\n</div>\\n<div id=\"bottom\">\\n<p>\\xe3\\x81\\x93\\xe3\\x81\\xae\\xe3\\x82\\xb5\\xe3\\x82\\xa4\\xe3\\x83\\x88\\xe3\\x81\\xaf\\xe3\\x80\\x81<ruby>\\xe5\\xb0\\x8f\\xe4\\xb8\\xad\\xe5\\xad\\xa6\\xe7\\x94\\x9f<rt>\\xe3\\x81\\x97\\xe3\\x82\\x87\\xe3\\x81\\x86\\xe3\\x81\\xa1\\xe3\\x82\\x85\\xe3\\x81\\x86\\xe3\\x81\\x8c\\xe3\\x81\\x8f\\xe3\\x81\\x9b\\xe3\\x81\\x84</rt></ruby>\\xe3\\x81\\xae<ruby>\\xe7\\x9a\\x86<rt>\\xe3\\x81\\xbf\\xe3\\x81\\xaa</rt></ruby>\\xe3\\x81\\x95\\xe3\\x82\\x93\\xe3\\x82\\x84\\xe3\\x80\\x81<ruby>\\xe6\\x97\\xa5\\xe6\\x9c\\xac<rt>\\xe3\\x81\\xab\\xe3\\x81\\xbb\\xe3\\x82\\x93</rt></ruby>\\xe3\\x81\\xab<ruby>\\xe4\\xbd\\x8f<rt>\\xe3\\x81\\x99</rt></ruby>\\xe3\\x82\\x93\\xe3\\x81\\xa7\\xe3\\x81\\x84\\xe3\\x82\\x8b<ruby>\\xe5\\xa4\\x96\\xe5\\x9b\\xbd\\xe4\\xba\\xba<rt>\\xe3\\x81\\x8c\\xe3\\x81\\x84\\xe3\\x81\\x93\\xe3\\x81\\x8f\\xe3\\x81\\x98\\xe3\\x82\\x93</rt></ruby>\\xe3\\x81\\xae<ruby>\\xe6\\x96\\xb9<rt>\\xe3\\x81\\x8b\\xe3\\x81\\x9f</rt></ruby>\\xe3\\x81\\xb8\\xe3\\x80\\x81\\xe3\\x82\\x8f\\xe3\\x81\\x8b\\xe3\\x82\\x8a\\xe3\\x82\\x84\\xe3\\x81\\x99\\xe3\\x81\\x84\\xe3\\x81\\x93\\xe3\\x81\\xa8\\xe3\\x81\\xb0\\xe3\\x81\\xa7\\xe3\\x83\\x8b\\xe3\\x83\\xa5\\xe3\\x83\\xbc\\xe3\\x82\\xb9\\xe3\\x82\\x92<ruby>\\xe4\\xbc\\x9d<rt>\\xe3\\x81\\xa4\\xe3\\x81\\x9f</rt></ruby>\\xe3\\x81\\x88\\xe3\\x82\\x8b\\xe3\\x82\\x82\\xe3\\x81\\xae\\xe3\\x81\\xa7\\xe3\\x81\\x99\\xe3\\x80\\x82<br>\\xef\\xbc\\xae\\xef\\xbc\\xa8\\xef\\xbc\\xab\\xe3\\x81\\xae\\xe3\\x82\\x84\\xe3\\x81\\x95\\xe3\\x81\\x97\\xe3\\x81\\x84<ruby>\\xe6\\x97\\xa5\\xe6\\x9c\\xac\\xe8\\xaa\\x9e<rt>\\xe3\\x81\\xab\\xe3\\x81\\xbb\\xe3\\x82\\x93\\xe3\\x81\\x94</rt></ruby>\\xe3\\x81\\xae<ruby>\\xe7\\xa0\\x94\\xe7\\xa9\\xb6<rt>\\xe3\\x81\\x91\\xe3\\x82\\x93\\xe3\\x81\\x8d\\xe3\\x82\\x85\\xe3\\x81\\x86</rt></ruby>\\xe3\\x82\\x92<ruby>\\xe7\\x94\\x9f<rt>\\xe3\\x81\\x84</rt></ruby>\\xe3\\x81\\x8b\\xe3\\x81\\x97\\xe3\\x81\\xa6\\xe3\\x80\\x81<ruby>\\xe4\\xb8\\x80\\xe8\\x88\\xac<rt>\\xe3\\x81\\x84\\xe3\\x81\\xa3\\xe3\\x81\\xb1\\xe3\\x82\\x93</rt></ruby>\\xe3\\x81\\xae\\xe3\\x83\\x8b\\xe3\\x83\\xa5\\xe3\\x83\\xbc\\xe3\\x82\\xb9\\xe3\\x82\\x92<ruby>\\xe6\\x9b\\xb8<rt>\\xe3\\x81\\x8b</rt></ruby>\\xe3\\x81\\x8d<ruby>\\xe6\\x8f\\x9b<rt>\\xe3\\x81\\x8b</rt></ruby>\\xe3\\x81\\x88\\xe3\\x81\\xa6\\xe3\\x81\\x84\\xe3\\x81\\xbe\\xe3\\x81\\x99\\xe3\\x80\\x82</p>\\n<p>\\xe3\\x81\\x8a\\xe3\\x81\\x93\\xe3\\x81\\xa8\\xe3\\x82\\x8f\\xe3\\x82\\x8a\\xef\\xbc\\x9a\\xe3\\x83\\x91\\xe3\\x82\\xbd\\xe3\\x82\\xb3\\xe3\\x83\\xb3\\xe3\\x81\\xae\\xe3\\x83\\x96\\xe3\\x83\\xa9\\xe3\\x82\\xa6\\xe3\\x82\\xb6\\xe3\\x83\\xbc\\xe3\\x81\\xab\\xe3\\x82\\x88\\xe3\\x81\\xa3\\xe3\\x81\\xa6\\xe3\\x81\\xaf\\xe3\\x80\\x81\\xe3\\x83\\x9a\\xe3\\x83\\xbc\\xe3\\x82\\xb8\\xe3\\x81\\x8c<ruby>\\xe6\\xad\\xa3<rt>\\xe3\\x81\\x9f\\xe3\\x81\\xa0</rt></ruby>\\xe3\\x81\\x97\\xe3\\x81\\x8f<ruby>\\xe8\\xa1\\xa8\\xe7\\xa4\\xba<rt>\\xe3\\x81\\xb2\\xe3\\x82\\x87\\xe3\\x81\\x86\\xe3\\x81\\x98</rt></ruby>\\xe3\\x81\\x95\\xe3\\x82\\x8c\\xe3\\x81\\xaa\\xe3\\x81\\x84<ruby>\\xe5\\xa0\\xb4\\xe5\\x90\\x88<rt>\\xe3\\x81\\xb0\\xe3\\x81\\x82\\xe3\\x81\\x84</rt></ruby>\\xe3\\x81\\x8c\\xe3\\x81\\x82\\xe3\\x82\\x8a\\xe3\\x81\\xbe\\xe3\\x81\\x99\\xe3\\x80\\x82</p>\\n  </div>\\n<div id=\"footer\">\\n  <p class=\"copyright\"> <a href=\"https://web.archive.org/web/20120406065233/http://www.nhk.or.jp/css/\">\\xe3\\x81\\x94\\xe6\\x84\\x8f\\xe8\\xa6\\x8b\\xe3\\x83\\xbb\\xe3\\x81\\x8a\\xe5\\x95\\x8f\\xe3\\x81\\x84\\xe5\\x90\\x88\\xe3\\x82\\x8f\\xe3\\x81\\x9b</a> \\xef\\xbd\\x9c <a href=\"https://web.archive.org/web/20120406065233/http://www.nhk.or.jp/privacy/\">NHK \\xe3\\x81\\xab\\xe3\\x81\\x8a\\xe3\\x81\\x91\\xe3\\x82\\x8b\\xe5\\x80\\x8b\\xe4\\xba\\xba\\xe6\\x83\\x85\\xe5\\xa0\\xb1\\xe4\\xbf\\x9d\\xe8\\xad\\xb7\\xe3\\x81\\xab\\xe3\\x81\\xa4\\xe3\\x81\\x84\\xe3\\x81\\xa6</a> \\xef\\xbd\\x9c <a href=\"https://web.archive.org/web/20120406065233/http://www.nhk.or.jp/toppage/nhk_info/copyright.html\">\\xe6\\x94\\xbe\\xe9\\x80\\x81\\xe7\\x95\\xaa\\xe7\\xb5\\x84\\xe3\\x81\\xa8\\xe8\\x91\\x97\\xe4\\xbd\\x9c\\xe6\\xa8\\xa9</a> \\xef\\xbd\\x9c <a href=\"https://web.archive.org/web/20120406065233/http://www3.nhk.or.jp/toppage/notice.html\">NHK \\xe3\\x82\\xaa\\xe3\\x83\\xb3\\xe3\\x83\\xa9\\xe3\\x82\\xa4\\xe3\\x83\\xb3\\xe5\\x88\\xa9\\xe7\\x94\\xa8\\xe4\\xb8\\x8a\\xe3\\x81\\xae\\xe6\\xb3\\xa8\\xe6\\x84\\x8f</a> </p>\\n  <p class=\"copyright\"> <a href=\"https://web.archive.org/web/20120406065233/http://www.nhk.or.jp/\"><img src=\"/web/20120406065233im_/http://www3.nhk.or.jp/news/easy/img/logo_nhk.png\" alt=\"NHK\\xe3\\x82\\xaa\\xe3\\x83\\xb3\\xe3\\x83\\xa9\\xe3\\x82\\xa4\\xe3\\x83\\xb3\\xe3\\x83\\x88\\xe3\\x83\\x83\\xe3\\x83\\x97\"></a>Copyright NHK (Japan Broadcasting Corporation) All rights reserved.  \\xe8\\xa8\\xb1\\xe5\\x8f\\xaf\\xe3\\x81\\xaa\\xe3\\x81\\x8f\\xe8\\xbb\\xa2\\xe8\\xbc\\x89\\xe3\\x81\\x99\\xe3\\x82\\x8b\\xe3\\x81\\x93\\xe3\\x81\\xa8\\xe3\\x82\\x92\\xe7\\xa6\\x81\\xe3\\x81\\x98\\xe3\\x81\\xbe\\xe3\\x81\\x99\\xe3\\x80\\x82 </p>\\n</div>\\n</div>\\n<div id=\"dicBox\">\\n\\t<div id=\"dicWrap\">\\n\\t\\t<div id=\"dicContent\"><!----></div>\\n\\t</div>\\n</div>\\n\\n<div class=\"pagetop\"><a href=\"#pagetop\">\\xe3\\x81\\x93\\xe3\\x81\\xae\\xe3\\x83\\x9a\\xe3\\x83\\xbc\\xe3\\x82\\xb8\\xe3\\x81\\xae\\xe5\\x85\\x88\\xe9\\xa0\\xad\\xe3\\x81\\xb8</a></div>\\n\\n\\n\\n<!--\\n     FILE ARCHIVED ON 06:52:33 Apr 06, 2012 AND RETRIEVED FROM THE\\n     INTERNET ARCHIVE ON 01:25:36 Feb 15, 2020.\\n     JAVASCRIPT APPENDED BY WAYBACK MACHINE, COPYRIGHT INTERNET ARCHIVE.\\n\\n     ALL OTHER CONTENT MAY ALSO BE PROTECTED BY COPYRIGHT (17 U.S.C.\\n     SECTION 108(a)(3)).\\n-->\\n<!--\\nplayback timings (ms):\\n  CDXLines.iter: 15.037 (3)\\n  load_resource: 141.661\\n  exclusion.robots: 0.28\\n  PetaboxLoader3.resolve: 184.216 (3)\\n  RedisCDXSource: 0.649\\n  esindex: 0.012\\n  PetaboxLoader3.datanode: 108.136 (4)\\n  captures_list: 184.315\\n  LoadShardBlock: 165.657 (3)\\n  exclusion.robots.policy: 0.267\\n--></body></html>'"
     },
     "execution_count": 30,
     "metadata": {},
     "output_type": "execute_result"
    }
   ],
   "source": [
    "html"
   ]
  },
  {
   "cell_type": "code",
   "execution_count": null,
   "metadata": {},
   "outputs": [],
   "source": []
  },
  {
   "cell_type": "code",
   "execution_count": null,
   "metadata": {},
   "outputs": [],
   "source": []
  }
 ]
}