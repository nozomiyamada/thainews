{
 "nbformat": 4,
 "nbformat_minor": 2,
 "metadata": {
  "language_info": {
   "name": "python",
   "codemirror_mode": {
    "name": "ipython",
    "version": 3
   },
   "version": "3.7.5-final"
  },
  "orig_nbformat": 2,
  "file_extension": ".py",
  "mimetype": "text/x-python",
  "name": "python",
  "npconvert_exporter": "python",
  "pygments_lexer": "ipython3",
  "version": 3,
  "kernelspec": {
   "name": "python37564bitfc898d97eee84e119bf64c8374813c1c",
   "display_name": "Python 3.7.5 64-bit"
  }
 },
 "cells": [
  {
   "cell_type": "code",
   "execution_count": 2,
   "metadata": {},
   "outputs": [],
   "source": [
    "import numpy as np\n",
    "import pandas as pd\n",
    "import re, json, csv, requests, time, glob, tqdm\n",
    "from bs4 import BeautifulSoup\n",
    "from selenium import webdriver\n",
    "from collections import Counter"
   ]
  },
  {
   "cell_type": "code",
   "execution_count": 3,
   "metadata": {},
   "outputs": [],
   "source": [
    "def remove_rt(text):\n",
    "    return re.sub('<rt>.+?</rt>', '', text)\n",
    "\n",
    "def tag(text):\n",
    "    text = re.sub(r'<span class=\"colorC\">(.+?)</span>', r\"{org}\\1{/org}\", text)\n",
    "    text = re.sub(r'<span class=\"colorL\">(.+?)</span>', r\"{plc}\\1{/plc}\", text)\n",
    "    text = re.sub(r'<span class=\"colorN\">(.+?)</span>', r\"{per}\\1{/per}\", text)\n",
    "    return text\n",
    "\n",
    "def retag(text):\n",
    "    text = re.sub(r'{org}(.+?){/org}', r\"<org>\\1</org>\", text)\n",
    "    text = re.sub(r'{plc}(.+?){/plc}', r\"<plc>\\1</plc>\", text)\n",
    "    text = re.sub(r'{per}(.+?){/per}', r\"<per>\\1</per>\", text)\n",
    "    return text\n",
    "\n",
    "def remove_a(text):\n",
    "    text = re.sub(r'</?a.*?>', '', text)\n",
    "    text = re.sub(r'<span class=\"under\">(\\w+)</span>', r'\\1', text)\n",
    "    text = re.sub(r'<img.+?>(<br ?/?>)?', '', text)\n",
    "    text = re.sub(r'^<br ?/?>', '', text)\n",
    "    return text.strip()\n",
    "\n",
    "# for old web easy\n",
    "def scrape_easy_one(html):\n",
    "    soup = BeautifulSoup(html, \"html.parser\")\n",
    "    url_normal = soup.find('div', id=\"regularnews\")\n",
    "    if url_normal == None:\n",
    "        url_normal = soup.find('p', id=\"regularnews\")\n",
    "    url_normal = url_normal.a.get('href')\n",
    "    if '/http://' in url_normal:\n",
    "        url_normal = 'http://' + url_normal.split('/http://')[-1]\n",
    "    else:\n",
    "        url_normal = 'https://' + url_normal.split('/https://')[-1]\n",
    "    date = soup.find('p', id=\"newsDate\").text[1:-1]\n",
    "    #title_easy = soup.find('h1', class_=\"article-main__title\")\n",
    "    #title_easy_ruby = ''.join([str(t) for t in title_easy.contents]).strip()\n",
    "    url_easy = soup.find('meta', attrs={'name':'shorturl'}).get('content')\n",
    "    title_easy = soup.find('div', id='newstitle').h2\n",
    "    title_easy_ruby = ''.join([str(t) for t in title_easy.contents]).strip()\n",
    "    title_easy = BeautifulSoup(remove_rt(str(title_easy)), \"html.parser\").text.strip()\n",
    "    article_easy = soup.find('div', id=\"newsarticle\")\n",
    "    article_easy = BeautifulSoup(tag(remove_rt(str(article_easy))), \"html.parser\").text.strip()\n",
    "    article_easy_ruby = soup.find('div', id=\"newsarticle\").find_all('p')\n",
    "    article_easy_ruby = '\\n'.join([''.join([remove_a(str(l)) for l in p.contents]) for p in article_easy_ruby if p != []]).strip()\n",
    "    \n",
    "    return {\n",
    "        'id':url_easy.split('/')[-1].split('.html')[0],\n",
    "        'title_easy':title_easy,\n",
    "        'title_easy_ruby':title_easy_ruby,\n",
    "        'article_easy':retag(article_easy),\n",
    "        'article_easy_ruby':article_easy_ruby,\n",
    "        'url_easy':url_easy,\n",
    "        'url_normal':url_normal,\n",
    "        'date_easy':date\n",
    "    }\n",
    "\n",
    "# for new web easy\n",
    "def scrape_easy_one_new(html):\n",
    "    soup = BeautifulSoup(html, \"html.parser\")\n",
    "    url_easy = 'https://' + soup.find('meta', property=\"og:url\").get('content').split('/https://')[-1]\n",
    "    url_normal = soup.find('div', class_=\"link-to-normal\").a.get('href')\n",
    "    date = soup.find('p', class_=\"article-main__date\").text[1:-1]\n",
    "    title_easy = soup.find('h1', class_=\"article-main__title\")\n",
    "    title_easy_ruby = ''.join([str(t) for t in title_easy.contents]).strip()\n",
    "    title_easy = BeautifulSoup(remove_rt(str(title_easy)), \"html.parser\").text.strip()\n",
    "    article_easy = soup.find('div', class_=\"article-main__body article-body\")\n",
    "    article_easy = BeautifulSoup(tag(remove_rt(str(article_easy))), \"html.parser\").text.strip()\n",
    "    article_easy_ruby = soup.find('div', class_=\"article-main__body article-body\").find_all('p')\n",
    "    article_easy_ruby = '\\n'.join([''.join([remove_a(str(l)) for l in p.contents]) for p in article_easy_ruby if p != []]).strip()\n",
    "    \n",
    "    return {\n",
    "        'id':url_easy.split('/')[-1].split('.html')[0],\n",
    "        'title_easy':title_easy,\n",
    "        'title_easy_ruby':title_easy_ruby,\n",
    "        'article_easy':retag(article_easy),\n",
    "        'article_easy_ruby':article_easy_ruby,\n",
    "        'url_easy':url_easy,\n",
    "        'url_normal':url_normal,\n",
    "        'date_easy':date\n",
    "    }\n",
    "\n",
    "\n",
    "\n",
    "def get_link(start=0):\n",
    "    notyet = []\n",
    "    n_list = pd.read_json('nhkweb.json', encoding='utf-8')['url'].tolist()\n",
    "    df_e = pd.read_json('nhkwebeasy.json', encoding='utf-8') \n",
    "    for i in df_e['url_normal'][start:]:\n",
    "        if i not in n_list:\n",
    "            notyet.append(i)\n",
    "    with open('nolinknormal.txt') as f:\n",
    "        nolink = f.read().split()\n",
    "    return sorted(set(notyet) - set(nolink))\n",
    "        \n",
    "def js_e(dic):\n",
    "    with open('nhkwebeasy.json', 'r', encoding='utf-8') as f:\n",
    "        data = json.load(f)\n",
    "    with open('nhkwebeasy.json', 'w', encoding='utf-8') as f:\n",
    "        if dic['id'] not in [x['id'] for x in data]:\n",
    "            data.append(dic)\n",
    "        else:\n",
    "            for i, d in enumerate(data):\n",
    "                if dic['id'] == d['id']:\n",
    "                    data[i] = dic\n",
    "        data = sorted(data, key=lambda x:x['id'])\n",
    "        json.dump(data, f, indent=4, ensure_ascii=False)"
   ]
  },
  {
   "cell_type": "markdown",
   "execution_count": null,
   "metadata": {},
   "outputs": [],
   "source": [
    "# scrape"
   ]
  },
  {
   "cell_type": "code",
   "execution_count": 4,
   "metadata": {},
   "outputs": [],
   "source": [
    "driver = webdriver.Chrome()"
   ]
  },
  {
   "cell_type": "markdown",
   "execution_count": 63,
   "metadata": {},
   "outputs": [],
   "source": [
    "# clean category & keyword"
   ]
  },
  {
   "cell_type": "code",
   "execution_count": 4,
   "metadata": {},
   "outputs": [
    {
     "name": "stdout",
     "output_type": "stream",
     "text": "8398\n4744\n"
    }
   ],
   "source": [
    "with open('nhkweb.json','r', encoding='utf-8') as f:\n",
    "    data = json.load(f)\n",
    "    print(len(data))\n",
    "with open('nhkwebeasy.json','r', encoding='utf-8') as f:\n",
    "    data = json.load(f)\n",
    "    print(len(data))"
   ]
  },
  {
   "cell_type": "code",
   "execution_count": 47,
   "metadata": {},
   "outputs": [
    {
     "name": "stdout",
     "output_type": "stream",
     "text": "articles:  8730\n"
    },
    {
     "data": {
      "text/plain": "[('社会', 2617),\n ('国際', 2336),\n ('科学・文化', 1443),\n ('ビジネス', 1345),\n ('スポーツ', 1071),\n ('政治', 772),\n ('暮らし', 732),\n ('地域', 615),\n ('気象・災害', 414)]"
     },
     "execution_count": 47,
     "metadata": {},
     "output_type": "execute_result"
    }
   ],
   "source": [
    "# check category\n",
    "\n",
    "with open('nhkweb.json','r', encoding='utf-8') as f:\n",
    "    data = json.load(f)\n",
    "print('articles: ', len(data))\n",
    "genre = Counter()\n",
    "for dic in data:\n",
    "    for g in dic['genre']:\n",
    "        genre[g] += 1\n",
    "genre.most_common()"
   ]
  },
  {
   "cell_type": "code",
   "execution_count": 46,
   "metadata": {},
   "outputs": [],
   "source": [
    "# genre <> keywords\n",
    "\n",
    "with open('nhkweb.json','r', encoding='utf-8') as f:\n",
    "    data = json.load(f)\n",
    "\n",
    "category = ['社会', '国際', 'ビジネス', 'スポーツ', '政治', '科学・文化', '暮らし', '地域', '気象・災害']\n",
    "for i, dic in enumerate(data):\n",
    "    newgenre = []\n",
    "    newkey = []\n",
    "    for j in dic['genre']:\n",
    "        if j in category:\n",
    "            newgenre.append(j)\n",
    "        elif j == \"災害\" or j == \"気象\":\n",
    "            newgenre.append('気象・災害')\n",
    "        elif j == \"科学・医療\" or j == \"文化・エンタメ\":\n",
    "            newgenre.append('科学・文化')\n",
    "        elif j == \"経済\":\n",
    "            newgenre.append('ビジネス')\n",
    "        else:\n",
    "            newkey.append(j)\n",
    "    for j in dic['keywords']:\n",
    "        if j in category:\n",
    "            newgenre.append(j)\n",
    "        elif j == \"災害\" or j == \"気象\":\n",
    "            newgenre.append('気象・災害')\n",
    "        else:\n",
    "            newkey.append(j)\n",
    "    data[i]['genre'] = list(set(newgenre))\n",
    "    data[i]['keywords'] = list(set(newkey))\n",
    "\n",
    "with open('nhkweb.json','w', encoding='utf-8') as f:\n",
    "    json.dump(data, f, indent=4, ensure_ascii=False)\n",
    "    "
   ]
  },
  {
   "cell_type": "code",
   "execution_count": 3,
   "metadata": {},
   "outputs": [
    {
     "data": {
      "text/plain": "k10010353911000    1\nk10010441541000    1\nk10012115201000    1\nk10010055061000    1\nk10010471031000    1\n                  ..\nk10010771931000    1\nk10010399941000    1\nk10010904951000    1\nk10011871991000    1\nk10011099221000    1\nName: id, Length: 4530, dtype: int64"
     },
     "execution_count": 3,
     "metadata": {},
     "output_type": "execute_result"
    }
   ],
   "source": [
    "normal = pd.read_json('nhkwebeasy.json')\n",
    "normal.id.value_counts()"
   ]
  },
  {
   "cell_type": "markdown",
   "execution_count": null,
   "metadata": {},
   "outputs": [],
   "source": [
    "# NHK web easy"
   ]
  },
  {
   "cell_type": "code",
   "execution_count": 4,
   "metadata": {},
   "outputs": [
    {
     "name": "stdout",
     "output_type": "stream",
     "text": "918 4916\nnot yet 826\n"
    },
    {
     "data": {
      "text/plain": "['https://web.archive.org/web/*/http://www3.nhk.or.jp/news/easy/k10014345501000/k10014345501000.html',\n 'https://web.archive.org/web/*/http://www3.nhk.or.jp/news/easy/k10014358721000/k10014358721000.html',\n 'https://web.archive.org/web/*/http://www3.nhk.or.jp/news/easy/k10014360391000/k10014360391000.html',\n 'https://web.archive.org/web/*/http://www3.nhk.or.jp/news/easy/k10014364701000/k10014364701000.html',\n 'https://web.archive.org/web/*/http://www3.nhk.or.jp/news/easy/k10014407931000/k10014407931000.html',\n 'https://web.archive.org/web/*/http://www3.nhk.or.jp/news/easy/k10014420291000/k10014420291000.html',\n 'https://web.archive.org/web/*/http://www3.nhk.or.jp/news/easy/k10014425011000/k10014425011000.html',\n 'https://web.archive.org/web/*/http://www3.nhk.or.jp/news/easy/k10014425961000/k10014425961000.html',\n 'https://web.archive.org/web/*/http://www3.nhk.or.jp/news/easy/k10014450891000/k10014450891000.html',\n 'https://web.archive.org/web/*/http://www3.nhk.or.jp/news/easy/k10014466031000/k10014466031000.html']"
     },
     "execution_count": 4,
     "metadata": {},
     "output_type": "execute_result"
    }
   ],
   "source": [
    "with open('linkeasy.txt') as f:\n",
    "    urls = f.read().strip().split()\n",
    "    ids = set([x.split('.html')[0].split('/')[-1] for x in urls])\n",
    "\n",
    "id_exist = set(pd.read_json('nhkwebeasy.json')['id'].tolist())\n",
    "print(len(ids), len(id_exist))\n",
    "print('not yet', len(ids - id_exist))\n",
    "urls[:10]"
   ]
  },
  {
   "cell_type": "code",
   "execution_count": 4,
   "metadata": {},
   "outputs": [],
   "source": [
    "driver = webdriver.Chrome()"
   ]
  },
  {
   "cell_type": "code",
   "execution_count": 42,
   "metadata": {},
   "outputs": [
    {
     "name": "stdout",
     "output_type": "stream",
     "text": "https://web.archive.org/web/20140220102100/http://www3.nhk.or.jp/news/easy/k10014817011000/k10014817011000.html SUCCESShttps://web.archive.org/web/20150202040756/http://www3.nhk.or.jp/news/easy/k10014850531000/k10014850531000.html SUCCESShttps://web.archive.org/web/20140220114955/http://www3.nhk.or.jp/news/easy/k10014866311000/k10014866311000.html SUCCESShttps://web.archive.org/web/20140220231927/http://www3.nhk.or.jp/news/easy/k10014876541000/k10014876541000.html SUCCESShttps://web.archive.org/web/20150202040847/http://www3.nhk.or.jp/news/easy/k10014903541000/k10014903541000.html SUCCESShttps://web.archive.org/web/20150202040754/http://www3.nhk.or.jp/news/easy/k10014903841000/k10014903841000.html SUCCESShttps://web.archive.org/web/20150128133837/http://www3.nhk.or.jp/news/easy/k10014958811000/k10014958811000.html SUCCESShttps://web.archive.org/web/20150318032042/http://www3.nhk.or.jp/news/easy/k10015570521000/k10015570521000.html SUCCESShttps://web.archive.org/web/20150303031941/http://www3.nhk.or.jp/news/easy/k10015746071000/k10015746071000.html SUCCESShttps://web.archive.org/web/20150303031540/http://www3.nhk.or.jp/news/easy/k10015760941000/k10015760941000.html SUCCESShttps://web.archive.org/web/20150303031430/http://www3.nhk.or.jp/news/easy/k10015824171000/k10015824171000.html SUCCESShttps://web.archive.org/web/20141113153041/http://www3.nhk.or.jp:80/news/easy/k10013067731000/k10013067731000.html SUCCESShttps://web.archive.org/web/20140721030829/http://www3.nhk.or.jp:80/news/easy/k10013069601000/k10013069601000.html SUCCESShttps://web.archive.org/web/20141115000613/http://www3.nhk.or.jp:80/news/easy/k10013069781000/k10013069781000.html SUCCESShttps://web.archive.org/web/20141113152711/http://www3.nhk.or.jp:80/news/easy/k10013073581000/k10013073581000.html SUCCESShttps://web.archive.org/web/20140323102918/http://www3.nhk.or.jp:80/news/easy/k10013074061000/k10013074061000.html SUCCESShttps://web.archive.org/web/20140721031043/http://www3.nhk.or.jp:80/news/easy/k10013074291000/k10013074291000.html SUCCESShttps://web.archive.org/web/20140722124849/http://www3.nhk.or.jp:80/news/easy/k10013077621000/k10013077621000.html SUCCESShttps://web.archive.org/web/20141115162813/http://www3.nhk.or.jp:80/news/easy/k10013085271000/k10013085271000.html SUCCESShttps://web.archive.org/web/20141114204041/http://www3.nhk.or.jp:80/news/easy/k10013091711000/k10013091711000.html SUCCESShttps://web.archive.org/web/20141116030708/http://www3.nhk.or.jp:80/news/easy/k10013101601000/k10013101601000.html SUCCESShttps://web.archive.org/web/20141115001317/http://www3.nhk.or.jp:80/news/easy/k10013101831000/k10013101831000.html SUCCESShttps://web.archive.org/web/20141115162820/http://www3.nhk.or.jp:80/news/easy/k10013101861000/k10013101861000.html SUCCESShttps://web.archive.org/web/20130726164642/http://www3.nhk.or.jp:80/news/easy/k10013102271000/k10013102271000.html SUCCESShttps://web.archive.org/web/20141115162825/http://www3.nhk.or.jp:80/news/easy/k10013112761000/k10013112761000.html SUCCESShttps://web.archive.org/web/20141116185639/http://www3.nhk.or.jp:80/news/easy/k10013118081000/k10013118081000.html SUCCESShttps://web.archive.org/web/20141115174455/http://www3.nhk.or.jp:80/news/easy/k10013119001000/k10013119001000.html SUCCESShttps://web.archive.org/web/20141115162829/http://www3.nhk.or.jp:80/news/easy/k10013122921000/k10013122921000.html SUCCESShttps://web.archive.org/web/20131122225204/http://www3.nhk.or.jp:80/news/easy/k10013131141000/k10013131141000.html SUCCESShttps://web.archive.org/web/20130723125536/http://www3.nhk.or.jp:80/news/easy/k10013135061000/k10013135061000.html SUCCESShttps://web.archive.org/web/20141116045652/http://www3.nhk.or.jp:80/news/easy/k10013140451000/k10013140451000.html SUCCESS"
    },
    {
     "ename": "AttributeError",
     "evalue": "'NoneType' object has no attribute 'get'",
     "output_type": "error",
     "traceback": [
      "\u001b[0;31m---------------------------------------------------------------------------\u001b[0m",
      "\u001b[0;31mAttributeError\u001b[0m                            Traceback (most recent call last)",
      "\u001b[0;32m<ipython-input-42-0d396273aa9b>\u001b[0m in \u001b[0;36m<module>\u001b[0;34m\u001b[0m\n\u001b[1;32m     19\u001b[0m     \u001b[0;32mtry\u001b[0m\u001b[0;34m:\u001b[0m\u001b[0;34m\u001b[0m\u001b[0;34m\u001b[0m\u001b[0m\n\u001b[0;32m---> 20\u001b[0;31m         \u001b[0mdic\u001b[0m \u001b[0;34m=\u001b[0m \u001b[0mscrape_easy_one\u001b[0m\u001b[0;34m(\u001b[0m\u001b[0mhtml\u001b[0m\u001b[0;34m)\u001b[0m\u001b[0;34m\u001b[0m\u001b[0;34m\u001b[0m\u001b[0m\n\u001b[0m\u001b[1;32m     21\u001b[0m     \u001b[0;32mexcept\u001b[0m\u001b[0;34m:\u001b[0m\u001b[0;34m\u001b[0m\u001b[0;34m\u001b[0m\u001b[0m\n",
      "\u001b[0;32m<ipython-input-2-7133921177e7>\u001b[0m in \u001b[0;36mscrape_easy_one\u001b[0;34m(html)\u001b[0m\n\u001b[1;32m     28\u001b[0m         \u001b[0murl_normal\u001b[0m \u001b[0;34m=\u001b[0m \u001b[0msoup\u001b[0m\u001b[0;34m.\u001b[0m\u001b[0mfind\u001b[0m\u001b[0;34m(\u001b[0m\u001b[0;34m'p'\u001b[0m\u001b[0;34m,\u001b[0m \u001b[0mid\u001b[0m\u001b[0;34m=\u001b[0m\u001b[0;34m\"regularnews\"\u001b[0m\u001b[0;34m)\u001b[0m\u001b[0;34m\u001b[0m\u001b[0;34m\u001b[0m\u001b[0m\n\u001b[0;32m---> 29\u001b[0;31m     \u001b[0murl_normal\u001b[0m \u001b[0;34m=\u001b[0m \u001b[0murl_normal\u001b[0m\u001b[0;34m.\u001b[0m\u001b[0ma\u001b[0m\u001b[0;34m.\u001b[0m\u001b[0mget\u001b[0m\u001b[0;34m(\u001b[0m\u001b[0;34m'href'\u001b[0m\u001b[0;34m)\u001b[0m\u001b[0;34m\u001b[0m\u001b[0;34m\u001b[0m\u001b[0m\n\u001b[0m\u001b[1;32m     30\u001b[0m     \u001b[0;32mif\u001b[0m \u001b[0;34m'/http://'\u001b[0m \u001b[0;32min\u001b[0m \u001b[0murl_normal\u001b[0m\u001b[0;34m:\u001b[0m\u001b[0;34m\u001b[0m\u001b[0;34m\u001b[0m\u001b[0m\n",
      "\u001b[0;31mAttributeError\u001b[0m: 'NoneType' object has no attribute 'a'",
      "\nDuring handling of the above exception, another exception occurred:\n",
      "\u001b[0;31mAttributeError\u001b[0m                            Traceback (most recent call last)",
      "\u001b[0;32m<ipython-input-42-0d396273aa9b>\u001b[0m in \u001b[0;36m<module>\u001b[0;34m\u001b[0m\n\u001b[1;32m     20\u001b[0m         \u001b[0mdic\u001b[0m \u001b[0;34m=\u001b[0m \u001b[0mscrape_easy_one\u001b[0m\u001b[0;34m(\u001b[0m\u001b[0mhtml\u001b[0m\u001b[0;34m)\u001b[0m\u001b[0;34m\u001b[0m\u001b[0;34m\u001b[0m\u001b[0m\n\u001b[1;32m     21\u001b[0m     \u001b[0;32mexcept\u001b[0m\u001b[0;34m:\u001b[0m\u001b[0;34m\u001b[0m\u001b[0;34m\u001b[0m\u001b[0m\n\u001b[0;32m---> 22\u001b[0;31m         \u001b[0mdic\u001b[0m \u001b[0;34m=\u001b[0m \u001b[0mscrape_easy_one_new\u001b[0m\u001b[0;34m(\u001b[0m\u001b[0mhtml\u001b[0m\u001b[0;34m)\u001b[0m\u001b[0;34m\u001b[0m\u001b[0;34m\u001b[0m\u001b[0m\n\u001b[0m\u001b[1;32m     23\u001b[0m     \u001b[0mjs_e\u001b[0m\u001b[0;34m(\u001b[0m\u001b[0mdic\u001b[0m\u001b[0;34m)\u001b[0m\u001b[0;34m\u001b[0m\u001b[0;34m\u001b[0m\u001b[0m\n\u001b[1;32m     24\u001b[0m     \u001b[0mprint\u001b[0m\u001b[0;34m(\u001b[0m\u001b[0marchiveurl\u001b[0m\u001b[0;34m,\u001b[0m \u001b[0;34m'SUCCESS'\u001b[0m\u001b[0;34m,\u001b[0m \u001b[0mend\u001b[0m\u001b[0;34m=\u001b[0m\u001b[0;34m'\\r'\u001b[0m\u001b[0;34m)\u001b[0m\u001b[0;34m\u001b[0m\u001b[0;34m\u001b[0m\u001b[0m\n",
      "\u001b[0;32m<ipython-input-2-7133921177e7>\u001b[0m in \u001b[0;36mscrape_easy_one_new\u001b[0;34m(html)\u001b[0m\n\u001b[1;32m     58\u001b[0m \u001b[0;32mdef\u001b[0m \u001b[0mscrape_easy_one_new\u001b[0m\u001b[0;34m(\u001b[0m\u001b[0mhtml\u001b[0m\u001b[0;34m)\u001b[0m\u001b[0;34m:\u001b[0m\u001b[0;34m\u001b[0m\u001b[0;34m\u001b[0m\u001b[0m\n\u001b[1;32m     59\u001b[0m     \u001b[0msoup\u001b[0m \u001b[0;34m=\u001b[0m \u001b[0mBeautifulSoup\u001b[0m\u001b[0;34m(\u001b[0m\u001b[0mhtml\u001b[0m\u001b[0;34m,\u001b[0m \u001b[0;34m\"html.parser\"\u001b[0m\u001b[0;34m)\u001b[0m\u001b[0;34m\u001b[0m\u001b[0;34m\u001b[0m\u001b[0m\n\u001b[0;32m---> 60\u001b[0;31m     \u001b[0murl_easy\u001b[0m \u001b[0;34m=\u001b[0m \u001b[0;34m'https://'\u001b[0m \u001b[0;34m+\u001b[0m \u001b[0msoup\u001b[0m\u001b[0;34m.\u001b[0m\u001b[0mfind\u001b[0m\u001b[0;34m(\u001b[0m\u001b[0;34m'meta'\u001b[0m\u001b[0;34m,\u001b[0m \u001b[0mproperty\u001b[0m\u001b[0;34m=\u001b[0m\u001b[0;34m\"og:url\"\u001b[0m\u001b[0;34m)\u001b[0m\u001b[0;34m.\u001b[0m\u001b[0mget\u001b[0m\u001b[0;34m(\u001b[0m\u001b[0;34m'content'\u001b[0m\u001b[0;34m)\u001b[0m\u001b[0;34m.\u001b[0m\u001b[0msplit\u001b[0m\u001b[0;34m(\u001b[0m\u001b[0;34m'/https://'\u001b[0m\u001b[0;34m)\u001b[0m\u001b[0;34m[\u001b[0m\u001b[0;34m-\u001b[0m\u001b[0;36m1\u001b[0m\u001b[0;34m]\u001b[0m\u001b[0;34m\u001b[0m\u001b[0;34m\u001b[0m\u001b[0m\n\u001b[0m\u001b[1;32m     61\u001b[0m     \u001b[0murl_normal\u001b[0m \u001b[0;34m=\u001b[0m \u001b[0msoup\u001b[0m\u001b[0;34m.\u001b[0m\u001b[0mfind\u001b[0m\u001b[0;34m(\u001b[0m\u001b[0;34m'div'\u001b[0m\u001b[0;34m,\u001b[0m \u001b[0mclass_\u001b[0m\u001b[0;34m=\u001b[0m\u001b[0;34m\"link-to-normal\"\u001b[0m\u001b[0;34m)\u001b[0m\u001b[0;34m.\u001b[0m\u001b[0ma\u001b[0m\u001b[0;34m.\u001b[0m\u001b[0mget\u001b[0m\u001b[0;34m(\u001b[0m\u001b[0;34m'href'\u001b[0m\u001b[0;34m)\u001b[0m\u001b[0;34m\u001b[0m\u001b[0;34m\u001b[0m\u001b[0m\n\u001b[1;32m     62\u001b[0m     \u001b[0mdate\u001b[0m \u001b[0;34m=\u001b[0m \u001b[0msoup\u001b[0m\u001b[0;34m.\u001b[0m\u001b[0mfind\u001b[0m\u001b[0;34m(\u001b[0m\u001b[0;34m'p'\u001b[0m\u001b[0;34m,\u001b[0m \u001b[0mclass_\u001b[0m\u001b[0;34m=\u001b[0m\u001b[0;34m\"article-main__date\"\u001b[0m\u001b[0;34m)\u001b[0m\u001b[0;34m.\u001b[0m\u001b[0mtext\u001b[0m\u001b[0;34m[\u001b[0m\u001b[0;36m1\u001b[0m\u001b[0;34m:\u001b[0m\u001b[0;34m-\u001b[0m\u001b[0;36m1\u001b[0m\u001b[0;34m]\u001b[0m\u001b[0;34m\u001b[0m\u001b[0;34m\u001b[0m\u001b[0m\n",
      "\u001b[0;31mAttributeError\u001b[0m: 'NoneType' object has no attribute 'get'"
     ]
    }
   ],
   "source": [
    "id_exist = set(pd.read_json('nhkwebeasy.json')['id'].tolist())\n",
    "for url in urls:\n",
    "    ID = url.split('.html')[0].split('/')[-1]\n",
    "    if ID in id_exist:\n",
    "        continue\n",
    "    driver.get(url)\n",
    "    time.sleep(4)\n",
    "    html = str(driver.page_source.encode('utf-8'))\n",
    "    snap = re.search(r'(between|1 time).*?<a href=\"(.+?)\">', html)\n",
    "    if snap == None:\n",
    "        continue\n",
    "    archiveurl = 'https://web.archive.org' + snap.group(2)\n",
    "    html = requests.get(archiveurl).text\n",
    "    time.sleep(3)\n",
    "    \"\"\"\n",
    "    driver.get(archiveurl)\n",
    "    time.sleep(10)\n",
    "    html = driver.page_source.encode('utf-8')\n",
    "    \"\"\"\n",
    "    try:\n",
    "        dic = scrape_easy_one(html)\n",
    "    except:\n",
    "        dic = scrape_easy_one_new(html)\n",
    "    js_e(dic)\n",
    "    print(archiveurl, end='\\n')\n",
    "    id_exist = set(pd.read_json('nhkwebeasy.json')['id'].tolist())"
   ]
  },
  {
   "cell_type": "code",
   "execution_count": 39,
   "metadata": {},
   "outputs": [
    {
     "data": {
      "text/plain": "{'id': 'k10014838111000',\n 'title_easy': 'インドの人工衛星がアジアで初めて火星の軌道に入る',\n 'title_easy_ruby': 'インドの<ruby>人工衛星<rt>じんこうえいせい</rt></ruby>がアジアで<ruby>初<rt>はじ</rt></ruby>めて<ruby>火星<rt>かせい</rt></ruby>の<ruby>軌道<rt>きどう</rt></ruby>に<ruby>入<rt>はい</rt></ruby>る',\n 'article_easy': '<plc>インド</plc>は去年１１月、火星を調べる人工衛星「マンガルヤーン」を打ち上げました。「マンガルヤーン」は１０か月で約６億５０００万ｋｍ飛んで、火星の近くまで行きました。\\n２４日、「マンガルヤーン」はスピードと方向を少しずつ変えながら火星を回る軌道に入りました。<per>モディ</per>首相もこのとき、<org>インド宇宙研究機構</org>で見ていました。\\n<plc>インド</plc>は、<plc>アメリカ</plc>、昔の<plc>ソビエト</plc>、<plc>ヨーロッパ</plc>に続いて４番目に人工衛星を火星の軌道に入れました。<plc>アジア</plc>の国の中では、<plc>インド</plc>が初めてです。\\n「マンガルヤーン」は、カメラやメタンガスを調べる機械を使って、軌道を回りながら火星を調べる予定です。使うお金は、全部で約４５億ルピー（<plc>日本</plc>のお金で約８０億円）です。<plc>アメリカ</plc>などに比べてとても安いため、<plc>インド</plc>はこれからもっと宇宙ビジネスをしていこうと考えています。',\n 'article_easy_ruby': '<span class=\"colorL\">インド</span>は<ruby>去年<rt>きょねん</rt></ruby>１１<ruby>月<rt>がつ</rt></ruby>、<ruby>火星<rt>かせい</rt></ruby>を<ruby>調<rt>しら</rt></ruby>べる<ruby>人工衛星<rt>じんこうえいせい</rt></ruby>「マンガルヤーン」を<ruby>打<rt>う</rt></ruby>ち<ruby>上<rt>あ</rt></ruby>げました。「マンガルヤーン」は１０か<ruby>月<rt>げつ</rt></ruby>で<ruby>約<rt>やく</rt></ruby>６<ruby>億<rt>おく</rt></ruby>５０００<ruby>万<rt>まん</rt></ruby>ｋｍ<ruby>飛<rt>と</rt></ruby>んで、<ruby>火星<rt>かせい</rt></ruby>の<ruby>近<rt>ちか</rt></ruby>くまで<ruby>行<rt>い</rt></ruby>きました。\\n<ruby>２４日<rt>にじゅうよっか</rt></ruby>、「マンガルヤーン」はスピードと<ruby>方向<rt>ほうこう</rt></ruby>を<ruby>少<rt>すこ</rt></ruby>しずつ<ruby>変<rt>か</rt></ruby>えながら<ruby>火星<rt>かせい</rt></ruby>を<ruby>回<rt>まわ</rt></ruby>る<ruby>軌道<rt>きどう</rt></ruby>に<ruby>入<rt>はい</rt></ruby>りました。<span class=\"colorN\">モディ</span><ruby>首相<rt>しゅしょう</rt></ruby>もこのとき、<span class=\"colorC\">インド<ruby>宇宙<rt>うちゅう</rt></ruby><ruby>研究<rt>けんきゅう</rt></ruby><ruby>機構<rt>きこう</rt></ruby></span>で<ruby>見<rt>み</rt></ruby>ていました。\\n<span class=\"colorL\">インド</span>は、<span class=\"colorL\">アメリカ</span>、<ruby>昔<rt>むかし</rt></ruby>の<span class=\"colorL\">ソビエト</span>、<span class=\"colorL\">ヨーロッパ</span>に<ruby>続<rt>つづ</rt></ruby>いて４<ruby>番目<rt>ばんめ</rt></ruby>に<ruby>人工衛星<rt>じんこうえいせい</rt></ruby>を<ruby>火星<rt>かせい</rt></ruby>の<ruby>軌道<rt>きどう</rt></ruby>に<ruby>入<rt>い</rt></ruby>れました。<span class=\"colorL\">アジア</span>の<ruby>国<rt>くに</rt></ruby>の<ruby>中<rt>なか</rt></ruby>では、<span class=\"colorL\">インド</span>が<ruby>初<rt>はじ</rt></ruby>めてです。\\n「マンガルヤーン」は、カメラやメタンガスを<ruby>調<rt>しら</rt></ruby>べる<ruby>機械<rt>きかい</rt></ruby>を<ruby>使<rt>つか</rt></ruby>って、<ruby>軌道<rt>きどう</rt></ruby>を<ruby>回<rt>まわ</rt></ruby>りながら<ruby>火星<rt>かせい</rt></ruby>を<ruby>調<rt>しら</rt></ruby>べる<ruby>予定<rt>よてい</rt></ruby>です。<ruby>使<rt>つか</rt></ruby>うお<ruby>金<rt>かね</rt></ruby>は、<ruby>全部<rt>ぜんぶ</rt></ruby>で<ruby>約<rt>やく</rt></ruby>４５<ruby>億<rt>おく</rt></ruby>ルピー（<span class=\"colorL\"><ruby>日本<rt>にっぽん</rt></ruby></span>のお<ruby>金<rt>かね</rt></ruby>で<ruby>約<rt>やく</rt></ruby>８０<ruby>億<rt>おく</rt></ruby><ruby>円<rt>えん</rt></ruby>）です。<span class=\"colorL\">アメリカ</span>などに<ruby>比<rt>くら</rt></ruby>べてとても<ruby>安<rt>やす</rt></ruby>いため、<span class=\"colorL\">インド</span>はこれからもっと<ruby>宇宙<rt>うちゅう</rt></ruby>ビジネスをしていこうと<ruby>考<rt>かんが</rt></ruby>えています。',\n 'url_easy': 'http://www3.nhk.or.jp/news/easy/k10014838111000/k10014838111000.html',\n 'url_normal': 'http://www3.nhk.or.jp/news/html/20140924/k10014838111000.html',\n 'date_easy': '09月25日 17時30分'}"
     },
     "execution_count": 39,
     "metadata": {},
     "output_type": "execute_result"
    }
   ],
   "source": [
    "html = driver.page_source.encode('utf-8')\n",
    "dic = scrape_easy_one(html)\n",
    "dic"
   ]
  },
  {
   "cell_type": "code",
   "execution_count": 40,
   "metadata": {},
   "outputs": [],
   "source": [
    "js_e(dic)"
   ]
  },
  {
   "cell_type": "code",
   "execution_count": 30,
   "metadata": {},
   "outputs": [
    {
     "data": {
      "text/plain": "'https://web.archive.org/web/*/http://www3.nhk.or.jp/news/easy/k10014345501000/k10014345501000.html'"
     },
     "execution_count": 30,
     "metadata": {},
     "output_type": "execute_result"
    }
   ],
   "source": [
    "urls[0]"
   ]
  },
  {
   "cell_type": "code",
   "execution_count": 33,
   "metadata": {},
   "outputs": [],
   "source": [
    "page = requests.get(urls[0]).text\n",
    "snap = re.search(r'(between|1 time).*?<a href=\"(.+?)\">', page)"
   ]
  },
  {
   "cell_type": "code",
   "execution_count": 34,
   "metadata": {},
   "outputs": [],
   "source": [
    "snap"
   ]
  },
  {
   "cell_type": "code",
   "execution_count": 35,
   "metadata": {},
   "outputs": [],
   "source": [
    "a = requests.get('https://web.archive.org/web/20150202040759/http://www3.nhk.or.jp/news/easy/k10014816211000/k10014816211000.html').text"
   ]
  },
  {
   "cell_type": "code",
   "execution_count": 36,
   "metadata": {},
   "outputs": [
    {
     "data": {
      "text/plain": "{'id': 'k10014816211000',\n 'title_easy': '地球温暖化が進むと日本はどうなるか\\u3000環境省が考える',\n 'title_easy_ruby': '<ruby>地球温暖化<rt>ちきゅうおんだんか</rt></ruby>が<ruby>進<rt>すす</rt></ruby>むと<ruby>日本<rt>にっぽん</rt></ruby>はどうなるか\\u3000<ruby>環境省<rt>かんきょうしょう</rt></ruby>が<ruby>考<rt>かんが</rt></ruby>える',\n 'article_easy': '<org>環境省</org>の審議会は、このまま地球温暖化が進むと<plc>日本</plc>はどうなるか考えました。\\nそれによると、食料では、レベルがいちばん高い米の割合が減って、特に<plc>九州</plc>では２１世紀の終わりに４０％少なくなる可能性もあります。\\n災害も多くなります。２１世紀の終わりには、川の水があふれるような激しい雨が増えたり、強い台風のため太平洋の海岸に高い波が来たりする危険が多くなります。\\nそして、熱中症など暑さが原因で亡くなる可能性が、２０９０年から１０年の間に、最も多い場合、３．７倍になります。\\n政府は、このような地球温暖化が原因で起きる被害を少なくするためにはどうしたらいいか、ことしの夏ごろまでに計画を作る予定です。',\n 'article_easy_ruby': '<span class=\"colorC\"><ruby>環境省<rt>かんきょうしょう</rt></ruby></span>の<ruby>審議会<rt>しんぎかい</rt></ruby>は、このまま<ruby>地球温暖化<rt>ちきゅうおんだんか</rt></ruby>が<ruby>進<rt>すす</rt></ruby>むと<span class=\"colorL\"><ruby>日本<rt>にっぽん</rt></ruby></span>はどうなるか<ruby>考<rt>かんが</rt></ruby>えました。\\nそれによると、<ruby>食料<rt>しょくりょう</rt></ruby>では、レベルがいちばん<ruby>高<rt>たか</rt></ruby>い<ruby>米<rt>こめ</rt></ruby>の<ruby>割合<rt>わりあい</rt></ruby>が<ruby>減<rt>へ</rt></ruby>って、<ruby>特<rt>とく</rt></ruby>に<span class=\"colorL\"><ruby>九州<rt>きゅうしゅう</rt></ruby></span>では２１<ruby>世紀<rt>せいき</rt></ruby>の<ruby>終<rt>お</rt></ruby>わりに４０％<ruby>少<rt>すく</rt></ruby>なくなる<ruby>可能性<rt>かのうせい</rt></ruby>もあります。\\n<ruby>災害<rt>さいがい</rt></ruby>も<ruby>多<rt>おお</rt></ruby>くなります。２１<ruby>世紀<rt>せいき</rt></ruby>の<ruby>終<rt>お</rt></ruby>わりには、<ruby>川<rt>かわ</rt></ruby>の<ruby>水<rt>みず</rt></ruby>があふれるような<ruby>激<rt>はげ</rt></ruby>しい<ruby>雨<rt>あめ</rt></ruby>が<ruby>増<rt>ふ</rt></ruby>えたり、<ruby>強<rt>つよ</rt></ruby>い<ruby>台風<rt>たいふう</rt></ruby>のため<ruby>太平洋<rt>たいへいよう</rt></ruby>の<ruby>海岸<rt>かいがん</rt></ruby>に<ruby>高<rt>たか</rt></ruby>い<ruby>波<rt>なみ</rt></ruby>が<ruby>来<rt>き</rt></ruby>たりする<ruby>危険<rt>きけん</rt></ruby>が<ruby>多<rt>おお</rt></ruby>くなります。\\nそして、<ruby>熱中症<rt>ねっちゅうしょう</rt></ruby>など<ruby>暑<rt>あつ</rt></ruby>さが<ruby>原因<rt>げんいん</rt></ruby>で<ruby>亡<rt>な</rt></ruby>くなる<ruby>可能性<rt>かのうせい</rt></ruby>が、２０９０<ruby>年<rt>ねん</rt></ruby>から１０<ruby>年<rt>ねん</rt></ruby>の<ruby>間<rt>あいだ</rt></ruby>に、<ruby>最<rt>もっと</rt></ruby>も<ruby>多<rt>おお</rt></ruby>い<ruby>場合<rt>ばあい</rt></ruby>、３．７<ruby>倍<rt>ばい</rt></ruby>になります。\\n<ruby>政府<rt>せいふ</rt></ruby>は、このような<ruby>地球温暖化<rt>ちきゅうおんだんか</rt></ruby>が<ruby>原因<rt>げんいん</rt></ruby>で<ruby>起<rt>お</rt></ruby>きる<ruby>被害<rt>ひがい</rt></ruby>を<ruby>少<rt>すく</rt></ruby>なくするためにはどうしたらいいか、ことしの<ruby>夏<rt>なつ</rt></ruby>ごろまでに<ruby>計画<rt>けいかく</rt></ruby>を<ruby>作<rt>つく</rt></ruby>る<ruby>予定<rt>よてい</rt></ruby>です。',\n 'url_easy': 'http://www3.nhk.or.jp/news/easy/k10014816211000/k10014816211000.html',\n 'url_normal': 'http://www3.nhk.or.jp/news/html/20150120/k10014816211000.html',\n 'date_easy': '01月22日 11時30分'}"
     },
     "execution_count": 36,
     "metadata": {},
     "output_type": "execute_result"
    }
   ],
   "source": [
    "scrape_easy_one(a)"
   ]
  },
  {
   "cell_type": "code",
   "execution_count": null,
   "metadata": {},
   "outputs": [],
   "source": []
  }
 ]
}