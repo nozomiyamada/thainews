{
 "nbformat": 4,
 "nbformat_minor": 2,
 "metadata": {
  "language_info": {
   "name": "python",
   "codemirror_mode": {
    "name": "ipython",
    "version": 3
   },
   "version": "3.7.5-final"
  },
  "orig_nbformat": 2,
  "file_extension": ".py",
  "mimetype": "text/x-python",
  "name": "python",
  "npconvert_exporter": "python",
  "pygments_lexer": "ipython3",
  "version": 3,
  "kernelspec": {
   "name": "python37564bit72de44cd76184052b9457c2863c13ac2",
   "display_name": "Python 3.7.5 64-bit"
  }
 },
 "cells": [
  {
   "cell_type": "code",
   "execution_count": 68,
   "metadata": {},
   "outputs": [],
   "source": [
    "import numpy as np\n",
    "import pandas as pd\n",
    "import re, json, csv, requests, time, glob, tqdm\n",
    "from bs4 import BeautifulSoup\n",
    "from selenium import webdriver\n",
    "from collections import Counter"
   ]
  },
  {
   "cell_type": "code",
   "execution_count": 95,
   "metadata": {},
   "outputs": [],
   "source": [
    "def scrape(html):\n",
    "    soup = BeautifulSoup(html, \"html.parser\")\n",
    "    json_data = json.loads(soup.find_all(\"script\", type=\"application/ld+json\")[-1].text)\n",
    "    title = json_data.get('headline', soup.find('h1', class_='content--title').text)\n",
    "    date = json_data.get('datePublished', re.search(r'datetime:.*?(\\d{4}-\\d{2}-\\d{2}T\\d{2}:\\d{2})', str(html)).group(1))\n",
    "    date_m = json_data.get('dateModified', '')\n",
    "    genre = json_data.get('genre', [])\n",
    "    if genre == []:\n",
    "        genre = [k for k in soup.find('meta', attrs={'name':'keywords'}).get('content').split(',') if k not in ['NHK','ニュース', 'NHK NEWS WEB']]\n",
    "    keywords = json_data.get('keywords', [])\n",
    "    article = soup.find('div', id=\"news_textbody\").text\n",
    "    url_normal = 'https:' + soup.find('meta', property=\"og:url\").get('content').rsplit('https:')[-1]\n",
    "    if soup.find_all('div', id=\"news_textmore\") != []:\n",
    "        for textmore in soup.find_all('div', id=\"news_textmore\"):\n",
    "            article += ('\\n' + textmore.text)\n",
    "    if soup.find_all('div', class_=\"news_add\") != []:\n",
    "        for newsadd in soup.find_all('div', class_=\"news_add\"):\n",
    "            if newsadd.h3 != None:\n",
    "                newsadd.h3.extract()\n",
    "            article += ('\\n' + newsadd.text)\n",
    "            \n",
    "    return {\n",
    "        'id':url_normal.split('/')[-1].split('.html')[0],\n",
    "        'title':title,\n",
    "        'article':article.strip(),\n",
    "        'genre':genre,\n",
    "        'keywords':keywords,\n",
    "        'url':url_normal,\n",
    "        'datePublished':date,\n",
    "        'dateModified':date_m\n",
    "    }\n",
    "\n",
    "def get_link(start=0):\n",
    "    notyet = []\n",
    "    n_list = pd.read_json('nhkweb.json', encoding='utf-8')['url'].tolist()\n",
    "    df_e = pd.read_json('nhkwebeasy.json', encoding='utf-8') \n",
    "    for i in df_e['url_normal'][start:]:\n",
    "        if i not in n_list:\n",
    "            notyet.append(i)\n",
    "    return notyet\n",
    "\n",
    "def get_link_nogenre(start=0):\n",
    "    notyet = []\n",
    "    with open('nhkweb.json', 'r', encoding='utf-8') as f:\n",
    "        data = json.load(f)\n",
    "    for dic in data:\n",
    "        if dic['genre'] == []:\n",
    "            notyet.append(dic['url'])\n",
    "    return notyet  \n",
    "\n",
    "def js(dic):\n",
    "    with open('nhkweb.json', 'r', encoding='utf-8') as f:\n",
    "        data = json.load(f)\n",
    "    with open('nhkweb.json', 'w', encoding='utf-8') as f:\n",
    "        if dic['id'] not in [x['id'] for x in data]:\n",
    "            data.append(dic)\n",
    "        else:\n",
    "            for i, d in enumerate(data):\n",
    "                if dic['id'] == d['id']:\n",
    "                    data[i] = dic\n",
    "        data = sorted(data, key=lambda x:x['id'])\n",
    "        json.dump(data, f, indent=4, ensure_ascii=False)\n",
    "        \n",
    "easy = pd.read_json('nhkwebeasy.json')"
   ]
  },
  {
   "cell_type": "code",
   "execution_count": 4,
   "metadata": {},
   "outputs": [],
   "source": [
    "htmls = ['https://www3.nhk.or.jp/news/html/20191117/k10012180511000.html']"
   ]
  },
  {
   "cell_type": "code",
   "execution_count": 96,
   "metadata": {},
   "outputs": [
    {
     "data": {
      "text/plain": "['https://www3.nhk.or.jp/news/html/20190120/k10011784611000.html',\n 'https://www3.nhk.or.jp/news/html/20191010/k10012120321000.html',\n 'https://www3.nhk.or.jp/news/html/20191017/k10012135411000.html']"
     },
     "execution_count": 96,
     "metadata": {},
     "output_type": "execute_result"
    }
   ],
   "source": [
    "htmls = get_link(0); htmls"
   ]
  },
  {
   "cell_type": "code",
   "execution_count": 111,
   "metadata": {},
   "outputs": [
    {
     "data": {
      "text/plain": "ml/20190916/k10012084571000.html',\n 'https://www3.nhk.or.jp/news/html/20190917/k10012084901000.html',\n 'https://www3.nhk.or.jp/news/html/20190917/k10012085171000.html',\n 'https://www3.nhk.or.jp/news/html/20190917/k10012085691000.html',\n 'https://www3.nhk.or.jp/news/html/20190918/k10012086671000.html',\n 'https://www3.nhk.or.jp/news/html/20190918/k10012086731000.html',\n 'https://www3.nhk.or.jp/news/html/20190918/k10012086891000.html',\n 'https://www3.nhk.or.jp/news/html/20190918/k10012087661000.html',\n 'https://www3.nhk.or.jp/news/html/20190918/k10012087961000.html',\n 'https://www3.nhk.or.jp/news/html/20190919/k10012088561000.html',\n 'https://www3.nhk.or.jp/news/html/20190919/k10012088691000.html',\n 'https://www3.nhk.or.jp/news/html/20190919/k10012089251000.html',\n 'https://www3.nhk.or.jp/news/html/20190919/k10012090321000.html',\n 'https://www3.nhk.or.jp/news/html/20190920/k10012090631000.html',\n 'https://www3.nhk.or.jp/news/html/20190920/k10012090721000.html',\n 'https://www3.nhk.or.jp/news/html/20190920/k10012090911000.html',\n 'https://www3.nhk.or.jp/news/html/20190922/k10012093861000.html',\n 'https://www3.nhk.or.jp/news/html/20190922/k10012093881000.html',\n 'https://www3.nhk.or.jp/news/html/20190923/k10012095271000.html',\n 'https://www3.nhk.or.jp/news/html/20190924/k10012095781000.html',\n 'https://www3.nhk.or.jp/news/html/20190924/k10012095871000.html',\n 'https://www3.nhk.or.jp/news/html/20190924/k10012096141000.html',\n 'https://www3.nhk.or.jp/news/html/20190924/k10012096201000.html',\n 'https://www3.nhk.or.jp/news/html/20190924/k10012096701000.html',\n 'https://www3.nhk.or.jp/news/html/20190924/k10012097141000.html',\n 'https://www3.nhk.or.jp/news/html/20190925/k10012097611000.html',\n 'https://www3.nhk.or.jp/news/html/20190925/k10012098621000.html',\n 'https://www3.nhk.or.jp/news/html/20190925/k10012098961000.html',\n 'https://www3.nhk.or.jp/news/html/20190925/k10012099061000.html',\n 'https://www3.nhk.or.jp/news/html/20190926/k10012099311000.html',\n 'https://www3.nhk.or.jp/news/html/20190926/k10012099441000.html',\n 'https://www3.nhk.or.jp/news/html/20190926/k10012100211000.html',\n 'https://www3.nhk.or.jp/news/html/20190926/k10012100651000.html',\n 'https://www3.nhk.or.jp/news/html/20190927/k10012100971000.html',\n 'https://www3.nhk.or.jp/news/html/20190927/k10012101021000.html',\n 'https://www3.nhk.or.jp/news/html/20190927/k10012101541000.html',\n 'https://www3.nhk.or.jp/news/html/20190927/k10012102051000.html',\n 'https://www3.nhk.or.jp/news/html/20190929/k10012103981000.html',\n 'https://www3.nhk.or.jp/news/html/20190929/k10012104361000.html',\n 'https://www3.nhk.or.jp/news/html/20190930/k10012104471000.html',\n 'https://www3.nhk.or.jp/news/html/20190930/k10012104621000.html',\n 'https://www3.nhk.or.jp/news/html/20190930/k10012105301000.html',\n 'https://www3.nhk.or.jp/news/html/20190930/k10012105871000.html',\n 'https://www3.nhk.or.jp/news/html/20191001/k10012106131000.html',\n 'https://www3.nhk.or.jp/news/html/20191001/k10012106381000.html',\n 'https://www3.nhk.or.jp/news/html/20191001/k10012106441000.html',\n 'https://www3.nhk.or.jp/news/html/20191001/k10012106681000.html',\n 'https://www3.nhk.or.jp/news/html/20191001/k10012107231000.html',\n 'https://www3.nhk.or.jp/news/html/20191001/k10012107241000.html',\n 'https://www3.nhk.or.jp/news/html/20191001/k10012108041000.html',\n 'https://www3.nhk.or.jp/news/html/20191002/k10012108671000.html',\n 'https://www3.nhk.or.jp/news/html/20191002/k10012108801000.html',\n 'https://www3.nhk.or.jp/news/html/20191002/k10012109111000.html',\n 'https://www3.nhk.or.jp/news/html/20191002/k10012109511000.html',\n 'https://www3.nhk.or.jp/news/html/20191002/k10012109661000.html',\n 'https://www3.nhk.or.jp/news/html/20191003/k10012110341000.html',\n 'https://www3.nhk.or.jp/news/html/20191003/k10012110941000.html',\n 'https://www3.nhk.or.jp/news/html/20191003/k10012111721000.html',\n 'https://www3.nhk.or.jp/news/html/20191003/k10012111751000.html',\n 'https://www3.nhk.or.jp/news/html/20191004/k10012112071000.html',\n 'https://www3.nhk.or.jp/news/html/20191004/k10012113661000.html',\n 'https://www3.nhk.or.jp/news/html/20191005/k10012113911000.html',\n 'https://www3.nhk.or.jp/news/html/20191005/k10012114451000.html',\n 'https://www3.nhk.or.jp/news/html/20191005/k10012114641000.html',\n 'https://www3.nhk.or.jp/news/html/20191006/k10012115201000.html',\n 'https://www3.nhk.or.jp/news/html/20191007/k10012115531000.html',\n 'https://www3.nhk.or.jp/news/html/20191007/k10012115851000.html',\n 'https://www3.nhk.or.jp/news/html/20191007/k10012115861000.html',\n 'https://www3.nhk.or.jp/news/html/20191007/k10012116331000.html',\n 'https://www3.nhk.or.jp/news/html/20191008/k10012116981000.html',\n 'https://www3.nhk.or.jp/news/html/20191008/k10012118281000.html',\n 'https://www3.nhk.or.jp/news/html/20191009/k10012118561000.html',\n 'https://www3.nhk.or.jp/news/html/20191009/k10012118671000.html',\n 'https://www3.nhk.or.jp/news/html/20191009/k10012118911000.html',\n 'https://www3.nhk.or.jp/news/html/20191009/k10012119501000.html',\n 'https://www3.nhk.or.jp/news/html/20191009/k10012119571000.html',\n 'https://www3.nhk.or.jp/news/html/20191010/k10012121331000.html',\n 'https://www3.nhk.or.jp/news/html/20191010/k10012121841000.html',\n 'https://www3.nhk.or.jp/news/html/20191011/k10012122311000.html',\n 'https://www3.nhk.or.jp/news/html/20191011/k10012122671000.html',\n 'https://www3.nhk.or.jp/news/html/20191013/k10012130101000.html',\n 'https://www3.nhk.or.jp/news/html/20191014/k10012131261000.html',\n 'https://www3.nhk.or.jp/news/html/20191014/k10012131311000.html',\n 'https://www3.nhk.or.jp/news/html/20191015/k10012131351000.html',\n 'https://www3.nhk.or.jp/news/html/20191015/k10012131581000.html',\n 'https://www3.nhk.or.jp/news/html/20191015/k10012132641000.html',\n 'https://www3.nhk.or.jp/news/html/20191015/k10012132701000.html',\n 'https://www3.nhk.or.jp/news/html/20191015/k10012133061000.html',\n 'https://www3.nhk.or.jp/news/html/20191015/k10012133491000.html',\n 'https://www3.nhk.or.jp/news/html/20191017/k10012135441000.html',\n 'https://www3.nhk.or.jp/news/html/20191017/k10012135481000.html',\n 'https://www3.nhk.or.jp/news/html/20191017/k10012135631000.html',\n 'https://www3.nhk.or.jp/news/html/20191017/k10012136401000.html',\n 'https://www3.nhk.or.jp/news/html/20191017/k10012136581000.html',\n 'https://www3.nhk.or.jp/news/html/20191017/k10012136621000.html',\n 'https://www3.nhk.or.jp/news/html/20191018/k10012137901000.html',\n 'https://www3.nhk.or.jp/news/html/20191020/k10012139481000.html',\n 'https://www3.nhk.or.jp/news/html/20191020/k10012140971000.html',\n 'https://www3.nhk.or.jp/news/html/20191020/k10012141011000.html',\n 'https://www3.nhk.or.jp/news/html/20191021/k10012141361000.html',\n 'https://www3.nhk.or.jp/news/html/20191021/k10012142111000.html',\n 'https://www3.nhk.or.jp/news/html/20191021/k10012142931000.html',\n 'https://www3.nhk.or.jp/news/html/20191022/k10012143671000.html',\n 'https://www3.nhk.or.jp/news/html/20191023/k10012144331000.html',\n 'https://www3.nhk.or.jp/news/html/20191023/k10012144581000.html',\n 'https://www3.nhk.or.jp/news/html/20191023/k10012145371000.html',\n 'https://www3.nhk.or.jp/news/html/20191023/k10012145531000.html',\n 'https://www3.nhk.or.jp/news/html/20191023/k10012145691000.html',\n 'https://www3.nhk.or.jp/news/html/20191024/k10012146061000.html',\n 'https://www3.nhk.or.jp/news/html/20191024/k10012146191000.html',\n 'https://www3.nhk.or.jp/news/html/20191024/k10012146471000.html',\n 'https://www3.nhk.or.jp/news/html/20191024/k10012146591000.html',\n 'https://www3.nhk.or.jp/news/html/20191024/k10012146641000.html',\n 'https://www3.nhk.or.jp/news/html/20191025/k10012147731000.html',\n 'https://www3.nhk.or.jp/news/html/20191027/k10012152331000.html',\n 'https://www3.nhk.or.jp/news/html/20191028/k10012152801000.html',\n 'https://www3.nhk.or.jp/news/html/20191028/k10012152811000.html',\n 'https://www3.nhk.or.jp/news/html/20191028/k10012152821000.html',\n 'https://www3.nhk.or.jp/news/html/20191028/k10012153001000.html',\n 'https://www3.nhk.or.jp/news/html/20191028/k10012153881000.html',\n 'https://www3.nhk.or.jp/news/html/20191028/k10012154151000.html',\n 'https://www3.nhk.or.jp/news/html/20191029/k10012154351000.html',\n 'https://www3.nhk.or.jp/news/html/20191029/k10012154391000.html',\n 'https://www3.nhk.or.jp/news/html/20191029/k10012154701000.html',\n 'https://www3.nhk.or.jp/news/html/20191029/k10012154781000.html',\n 'https://www3.nhk.or.jp/news/html/20191029/k10012155201000.html',\n 'https://www3.nhk.or.jp/news/html/20191029/k10012155661000.html',\n 'https://www3.nhk.or.jp/news/html/20191030/k10012156081000.html',\n 'https://www3.nhk.or.jp/news/html/20191030/k10012156541000.html',\n 'https://www3.nhk.or.jp/news/html/20191030/k10012156961000.html',\n 'https://www3.nhk.or.jp/news/html/20191030/k10012157721000.html',\n 'https://www3.nhk.or.jp/news/html/20191101/k10012157821000.html',\n 'https://www3.nhk.or.jp/news/html/20191031/k10012157881000.html',\n 'https://www3.nhk.or.jp/news/html/20191031/k10012157951000.html',\n 'https://www3.nhk.or.jp/news/html/20191031/k10012158301000.html',\n 'https://www3.nhk.or.jp/news/html/20191031/k10012158851000.html',\n 'https://www3.nhk.or.jp/news/html/20191101/k10012159891000.html',\n 'https://www3.nhk.or.jp/news/html/20191101/k10012160001000.html',\n 'https://www3.nhk.or.jp/news/html/20191103/k10012163101000.html',\n 'https://www3.nhk.or.jp/news/html/20191104/k10012163461000.html',\n 'https://www3.nhk.or.jp/news/html/20191105/k10012164091000.html',\n 'https://www3.nhk.or.jp/news/html/20191105/k10012164171000.html',\n 'https://www3.nhk.or.jp/news/html/20191105/k10012164241000.html',\n 'https://www3.nhk.or.jp/news/html/20191105/k10012164791000.html',\n 'https://www3.nhk.or.jp/news/html/20191105/k10012165311000.html',\n 'https://www3.nhk.or.jp/news/html/20191105/k10012165341000.html',\n 'https://www3.nhk.or.jp/news/html/20191106/k10012165711000.html',\n 'https://www3.nhk.or.jp/news/html/20191107/k10012166961000.html',\n 'https://www3.nhk.or.jp/news/html/20191107/k10012166991000.html',\n 'https://www3.nhk.or.jp/news/html/20191107/k10012167161000.html',\n 'https://www3.nhk.or.jp/news/html/20191107/k10012167251000.html',\n 'https://www3.nhk.or.jp/news/html/20191107/k10012167431000.html',\n 'https://www3.nhk.or.jp/news/html/20191107/k10012168291000.html',\n 'https://www3.nhk.or.jp/news/html/20191107/k10012168441000.html',\n 'https://www3.nhk.or.jp/news/html/20191107/k10012168461000.html',\n 'https://www3.nhk.or.jp/news/html/20191107/k10012168541000.html',\n 'https://www3.nhk.or.jp/news/html/20191108/k10012168841000.html',\n 'https://www3.nhk.or.jp/news/html/20191109/k10012171331000.html',\n 'https://www3.nhk.or.jp/news/html/20191110/k10012171561000.html',\n 'https://www3.nhk.or.jp/news/html/20191110/k10012171801000.html',\n 'https://www3.nhk.or.jp/news/html/20191111/k10012172181000.html',\n 'https://www3.nhk.or.jp/news/html/20191111/k10012172291000.html',\n 'https://www3.nhk.or.jp/news/html/20191111/k10012172741000.html',\n 'https://www3.nhk.or.jp/news/html/20191111/k10012173121000.html',\n 'https://www3.nhk.or.jp/news/html/20191111/k10012173131000.html',\n 'https://www3.nhk.or.jp/news/html/20191111/k10012173281000.html',\n 'https://www3.nhk.or.jp/news/html/20191112/k10012173541000.html',\n 'https://www3.nhk.or.jp/news/html/20191112/k10012173811000.html',\n 'https://www3.nhk.or.jp/news/html/20191112/k10012173891000.html',\n 'https://www3.nhk.or.jp/news/html/20191112/k10012174361000.html',\n 'https://www3.nhk.or.jp/news/html/20191113/k10012175021000.html',\n 'https://www3.nhk.or.jp/news/html/20191113/k10012175121000.html',\n 'https://www3.nhk.or.jp/news/html/20191113/k10012175241000.html',\n 'https://www3.nhk.or.jp/news/html/20191113/k10012175891000.html',\n 'https://www3.nhk.or.jp/news/html/20191114/k10012176461000.html',\n 'https://www3.nhk.or.jp/news/html/20191114/k10012177281000.html',\n 'https://www3.nhk.or.jp/news/html/20191114/k10012177391000.html',\n 'https://www3.nhk.or.jp/news/html/20191114/k10012177431000.html',\n 'https://www3.nhk.or.jp/news/html/20191115/k10012178011000.html',\n 'https://www3.nhk.or.jp/news/html/20191115/k10012178141000.html',\n 'https://www3.nhk.or.jp/news/html/20191117/k10012180241000.html',\n 'https://www3.nhk.or.jp/news/html/20191117/k10012180511000.html',\n 'https://www3.nhk.or.jp/news/html/20191118/k10012181011000.html',\n 'https://www3.nhk.or.jp/news/html/20191118/k10012181061000.html',\n 'https://www3.nhk.or.jp/news/html/20191118/k10012181221000.html',\n 'https://www3.nhk.or.jp/news/html/20191118/k10012181451000.html',\n 'https://www3.nhk.or.jp/news/html/20191118/k10012182031000.html',\n 'https://www3.nhk.or.jp/news/html/20191119/k10012182231000.html',\n 'https://www3.nhk.or.jp/news/html/20191119/k10012182341000.html',\n 'https://www3.nhk.or.jp/news/html/20191119/k10012182461000.html',\n 'https://www3.nhk.or.jp/news/html/20191119/k10012182481000.html',\n 'https://www3.nhk.or.jp/news/html/20191119/k10012182621000.html',\n 'https://www3.nhk.or.jp/news/html/20191119/k10012182891000.html',\n 'https://www3.nhk.or.jp/news/html/20191119/k10012182911000.html',\n 'https://www3.nhk.or.jp/news/html/20191119/k10012183081000.html',\n 'https://www3.nhk.or.jp/news/html/20191119/k10012183091000.html',\n 'https://www3.nhk.or.jp/news/html/20191120/k10012183781000.html',\n 'https://www3.nhk.or.jp/news/html/20191120/k10012184061000.html',\n 'https://www3.nhk.or.jp/news/html/20191121/k10012184861000.html',\n 'https://www3.nhk.or.jp/news/html/20191121/k10012184911000.html',\n 'https://www3.nhk.or.jp/news/html/20191121/k10012185211000.html',\n 'https://www3.nhk.or.jp/news/html/20191121/k10012185291000.html',\n 'https://www3.nhk.or.jp/news/html/20191121/k10012185501000.html',\n 'https://www3.nhk.or.jp/news/html/20191121/k10012185721000.html',\n 'https://www3.nhk.or.jp/news/html/20191122/k10012186241000.html',\n 'https://www3.nhk.or.jp/news/html/20191122/k10012187581000.html',\n 'https://www3.nhk.or.jp/news/html/20191123/k10012188061000.html',\n 'https://www3.nhk.or.jp/news/html/20191123/k10012188151000.html',\n 'https://www3.nhk.or.jp/news/html/20191123/k10012188161000.html',\n 'https://www3.nhk.or.jp/news/html/20191123/k10012188171000.html',\n 'https://www3.nhk.or.jp/news/html/20191123/k10012188191000.html',\n 'https://www3.nhk.or.jp/news/html/20191123/k10012188201000.html',\n 'https://www3.nhk.or.jp/news/html/20191124/k10012189231000.html',\n 'https://www3.nhk.or.jp/news/html/20191125/k10012189841000.html',\n 'https://www3.nhk.or.jp/news/html/20191125/k10012189921000.html',\n 'https://www3.nhk.or.jp/news/html/20191125/k10012190351000.html',\n 'https://www3.nhk.or.jp/news/html/20191125/k10012190491000.html',\n 'https://www3.nhk.or.jp/news/html/20191125/k10012190801000.html',\n 'https://www3.nhk.or.jp/news/html/20191126/k10012190951000.html',\n 'https://www3.nhk.or.jp/news/html/20191126/k10012191121000.html',\n 'https://www3.nhk.or.jp/news/html/20191127/k10012192321000.html',\n 'https://www3.nhk.or.jp/news/html/20191204/k10012201381000.html',\n 'https://www3.nhk.or.jp/news/html/20191226/k10012228811000.html',\n 'https://www3.nhk.or.jp/news/html/20191226/k10012229051000.html',\n 'https://www3.nhk.or.jp/news/html/20191226/k10012229391000.html',\n 'https://www3.nhk.or.jp/news/html/20191227/k10012229631000.html',\n 'https://www3.nhk.or.jp/news/html/20191227/k10012229721000.html',\n 'https://www3.nhk.or.jp/news/html/20191227/k10012229921000.html',\n 'https://www3.nhk.or.jp/news/html/20191227/k10012229951000.html',\n 'https://www3.nhk.or.jp/news/html/20191227/k10012230211000.html',\n 'https://www3.nhk.or.jp/news/html/20191227/k10012230231000.html',\n 'https://www3.nhk.or.jp/news/html/20191227/k10012230241000.html',\n 'https://www3.nhk.or.jp/news/html/20191227/k10012230371000.html',\n 'https://www3.nhk.or.jp/news/html/20191227/k10012230381000.html',\n 'https://www3.nhk.or.jp/news/html/20191227/k10012230401000.html',\n 'https://www3.nhk.or.jp/news/html/20191227/k10012230571000.html',\n 'https://www3.nhk.or.jp/news/html/20191227/k10012230631000.html',\n 'https://www3.nhk.or.jp/news/html/20191229/k10012231511000.html',\n 'https://www3.nhk.or.jp/news/html/20191230/k10012231901000.html',\n 'https://www3.nhk.or.jp/news/html/20191230/k10012232371000.html',\n 'https://www3.nhk.or.jp/news/html/20200103/k10012234191000.html',\n 'https://www3.nhk.or.jp/news/html/20200103/k10012234391000.html',\n 'https://www3.nhk.or.jp/news/html/20200106/k10012236091000.html',\n 'https://www3.nhk.or.jp/news/html/20200106/k10012236471000.html',\n 'https://www3.nhk.or.jp/news/html/20200107/k10012237751000.html',\n 'https://www3.nhk.or.jp/news/html/20200108/k10012238091000.html',\n 'https://www3.nhk.or.jp/news/html/20200108/k10012238321000.html',\n 'https://www3.nhk.or.jp/news/html/20200110/k10012240571000.html',\n 'https://www3.nhk.or.jp/news/html/20200110/k10012241681000.html',\n 'https://www3.nhk.or.jp/news/html/20200111/k10012242401000.html',\n 'https://www3.nhk.or.jp/news/html/20200111/k10012242561000.html',\n 'https://www3.nhk.or.jp/news/html/20200111/k10012242581000.html',\n 'https://www3.nhk.or.jp/news/html/20200111/k10012242711000.html',\n 'https://www3.nhk.or.jp/news/html/20200111/k10012242731000.html',\n 'https://www3.nhk.or.jp/news/html/20200112/k10012243221000.html',\n 'https://www3.nhk.or.jp/news/html/20200114/k10012245061000.html',\n 'https://www3.nhk.or.jp/news/html/20200114/k10012245231000.html',\n 'https://www3.nhk.or.jp/news/html/20200114/k10012245571000.html',\n 'https://www3.nhk.or.jp/news/html/20200115/k10012246231000.html',\n 'https://www3.nhk.or.jp/news/html/20200115/k10012246821000.html',\n 'https://www3.nhk.or.jp/news/html/20200116/k10012247511000.html',\n 'https://www3.nhk.or.jp/news/html/20200116/k10012247821000.html',\n 'https://www3.nhk.or.jp/news/html/20200117/k10012248291000.html',\n 'https://www3.nhk.or.jp/news/html/20200117/k10012248431000.html',\n 'https://www3.nhk.or.jp/news/html/20200117/k10012248491000.html',\n 'https://www3.nhk.or.jp/news/html/20200117/k10012248511000.html',\n 'https://www3.nhk.or.jp/news/html/20200117/k10012248531000.html',\n 'https://www3.nhk.or.jp/news/html/20200117/k10012248841000.html',\n 'https://www3.nhk.or.jp/news/html/20200117/k10012248871000.html',\n 'https://www3.nhk.or.jp/news/html/20200117/k10012248981000.html',\n 'https://www3.nhk.or.jp/news/html/20200117/k10012249001000.html',\n 'https://www3.nhk.or.jp/news/html/20200117/k10012249051000.html',\n 'https://www3.nhk.or.jp/news/html/20200117/k10012249261000.html',\n 'https://www3.nhk.or.jp/news/html/20200117/k10012249481000.html',\n 'https://www3.nhk.or.jp/news/html/20200117/k10012249511000.html',\n 'https://www3.nhk.or.jp/news/html/20200117/k10012249661000.html',\n 'https://www3.nhk.or.jp/news/html/20200117/k10012249741000.html',\n 'https://www3.nhk.or.jp/news/html/20200127/k10012260281000.html',\n 'https://www3.nhk.or.jp/news/html/20200127/k10012260461000.html',\n 'https://www3.nhk.or.jp/news/html/20200127/k10012260701000.html',\n 'https://www3.nhk.or.jp/news/html/20200128/k10012261641000.html',\n 'https://www3.nhk.or.jp/news/html/20200128/k10012261881000.html',\n 'https://www3.nhk.or.jp/news/html/20200128/k10012262531000.html',\n 'https://www3.nhk.or.jp/news/html/20200129/k10012263051000.html',\n 'https://www3.nhk.or.jp/news/html/20200129/k10012263111000.html',\n 'https://www3.nhk.or.jp/news/html/20200129/k10012263141000.html',\n 'https://www3.nhk.or.jp/news/html/20200129/k10012263191000.html',\n 'https://www3.nhk.or.jp/news/html/20200129/k10012263201000.html',\n 'https://www3.nhk.or.jp/news/html/20200129/k10012263221000.html',\n 'https://www3.nhk.or.jp/news/html/20200129/k10012263231000.html',\n 'https://www3.nhk.or.jp/news/html/20200129/k10012263261000.html',\n 'https://www3.nhk.or.jp/news/html/20200129/k10012263271000.html',\n 'https://www3.nhk.or.jp/news/html/20200129/k10012263301000.html',\n 'https://www3.nhk.or.jp/news/html/20200129/k10012263311000.html',\n 'https://www3.nhk.or.jp/news/html/20200129/k10012264481000.html',\n 'https://www3.nhk.or.jp/news/html/20200130/k10012265271000.html',\n 'https://www3.nhk.or.jp/news/html/20200130/k10012265281000.html',\n 'https://www3.nhk.or.jp/news/html/20200130/k10012265421000.html',\n 'https://www3.nhk.or.jp/news/html/20200130/k10012265641000.html']"
     },
     "execution_count": 111,
     "metadata": {},
     "output_type": "execute_result"
    }
   ],
   "source": [
    "htmls = get_link_nogenre(); htmls"
   ]
  },
  {
   "cell_type": "markdown",
   "execution_count": null,
   "metadata": {},
   "outputs": [],
   "source": [
    "# scrape"
   ]
  },
  {
   "cell_type": "code",
   "execution_count": 50,
   "metadata": {},
   "outputs": [],
   "source": [
    "driver = webdriver.Chrome()"
   ]
  },
  {
   "cell_type": "code",
   "execution_count": 112,
   "metadata": {},
   "outputs": [
    {
     "name": "stderr",
     "output_type": "stream",
     "text": "\n\n\n\n\n\n\n\n\n  0%|          | 0/528 [00:00<?, ?it/s]\u001b[A\u001b[A\u001b[A\u001b[A\u001b[A\u001b[A\u001b[A\u001b[A\u001b[A\n\n\n\n\n\n\n\n\n  0%|          | 1/528 [01:22<12:05:07, 82.56s/it]\u001b[A\u001b[A\u001b[A\u001b[A\u001b[A\u001b[A\u001b[A\u001b[A\u001b[A\n\n\n\n\n\n\n\n\n  0%|          | 2/528 [02:50<12:16:58, 84.07s/it]\u001b[A\u001b[A\u001b[A\u001b[A\u001b[A\u001b[A\u001b[A\u001b[A\u001b[A\n\n\n\n\n\n\n\n\n  1%|          | 3/528 [04:21<12:33:33, 86.12s/it]\u001b[A\u001b[A\u001b[A\u001b[A\u001b[A\u001b[A\u001b[A\u001b[A\u001b[A\n\n\n\n\n\n\n\n\n  1%|          | 4/528 [06:02<13:12:01, 90.69s/it]\u001b[A\u001b[A\u001b[A\u001b[A\u001b[A\u001b[A\u001b[A\u001b[A\u001b[A\n\n\n\n\n\n\n\n\n  1%|          | 5/528 [07:39<13:26:50, 92.56s/it]\u001b[A\u001b[A\u001b[A\u001b[A\u001b[A\u001b[A\u001b[A\u001b[A\u001b[A\n\n\n\n\n\n\n\n\n  1%|          | 6/528 [09:01<12:56:59, 89.31s/it]\u001b[A\u001b[A\u001b[A\u001b[A\u001b[A\u001b[A\u001b[A\u001b[A\u001b[A\n\n\n\n\n\n\n\n\n  1%|▏         | 7/528 [10:34<13:06:00, 90.52s/it]\u001b[A\u001b[A\u001b[A\u001b[A\u001b[A\u001b[A\u001b[A\u001b[A\u001b[A\n\n\n\n\n\n\n\n\n  2%|▏         | 8/528 [12:17<13:37:46, 94.36s/it]\u001b[A\u001b[A\u001b[A\u001b[A\u001b[A\u001b[A\u001b[A\u001b[A\u001b[A\n\n\n\n\n\n\n\n\n  2%|▏         | 9/528 [13:34<12:51:37, 89.20s/it]\u001b[A\u001b[A\u001b[A\u001b[A\u001b[A\u001b[A\u001b[A\u001b[A\u001b[A\n\n\n\n\n\n\n\n\n  2%|▏         | 10/528 [14:59<12:38:40, 87.88s/it]\u001b[A\u001b[A\u001b[A\u001b[A\u001b[A\u001b[A\u001b[A\u001b[A\u001b[A\n\n\n\n\n\n\n\n\n  2%|▏         | 11/528 [16:47<13:29:27, 93.94s/it]\u001b[A\u001b[A\u001b[A\u001b[A\u001b[A\u001b[A\u001b[A\u001b[A\u001b[A\n\n\n\n\n\n\n\n\n  2%|▏         | 12/528 [18:08<12:54:17, 90.03s/it]\u001b[A\u001b[A\u001b[A\u001b[A\u001b[A\u001b[A\u001b[A\u001b[A\u001b[A\n\n\n\n\n\n\n\n\n  2%|▏         | 13/528 [19:51<13:25:59, 93.90s/it]\u001b[A\u001b[A\u001b[A\u001b[A\u001b[A\u001b[A\u001b[A\u001b[A\u001b[A\n\n\n\n\n\n\n\n\n  3%|▎         | 14/528 [21:40<14:02:20, 98.33s/it]\u001b[A\u001b[A\u001b[A\u001b[A\u001b[A\u001b[A\u001b[A\u001b[A\u001b[A"
    },
    {
     "ename": "AttributeError",
     "evalue": "'NoneType' object has no attribute 'text'",
     "output_type": "error",
     "traceback": [
      "\u001b[0;31m---------------------------------------------------------------------------\u001b[0m",
      "\u001b[0;31mAttributeError\u001b[0m                            Traceback (most recent call last)",
      "\u001b[0;32m<ipython-input-112-572e0ce6e3f8>\u001b[0m in \u001b[0;36m<module>\u001b[0;34m\u001b[0m\n\u001b[1;32m     10\u001b[0m     \u001b[0mtime\u001b[0m\u001b[0;34m.\u001b[0m\u001b[0msleep\u001b[0m\u001b[0;34m(\u001b[0m\u001b[0;36m30\u001b[0m\u001b[0;34m)\u001b[0m\u001b[0;34m\u001b[0m\u001b[0;34m\u001b[0m\u001b[0m\n\u001b[1;32m     11\u001b[0m     \u001b[0mhtml\u001b[0m \u001b[0;34m=\u001b[0m \u001b[0mdriver\u001b[0m\u001b[0;34m.\u001b[0m\u001b[0mpage_source\u001b[0m\u001b[0;34m.\u001b[0m\u001b[0mencode\u001b[0m\u001b[0;34m(\u001b[0m\u001b[0;34m'utf-8'\u001b[0m\u001b[0;34m)\u001b[0m\u001b[0;34m\u001b[0m\u001b[0;34m\u001b[0m\u001b[0m\n\u001b[0;32m---> 12\u001b[0;31m     \u001b[0mdic\u001b[0m \u001b[0;34m=\u001b[0m \u001b[0mscrape\u001b[0m\u001b[0;34m(\u001b[0m\u001b[0mhtml\u001b[0m\u001b[0;34m)\u001b[0m\u001b[0;34m\u001b[0m\u001b[0;34m\u001b[0m\u001b[0m\n\u001b[0m\u001b[1;32m     13\u001b[0m     \u001b[0mjs\u001b[0m\u001b[0;34m(\u001b[0m\u001b[0mdic\u001b[0m\u001b[0;34m)\u001b[0m\u001b[0;34m\u001b[0m\u001b[0;34m\u001b[0m\u001b[0m\n",
      "\u001b[0;32m<ipython-input-95-9233105af2ef>\u001b[0m in \u001b[0;36mscrape\u001b[0;34m(html)\u001b[0m\n\u001b[1;32m      2\u001b[0m     \u001b[0msoup\u001b[0m \u001b[0;34m=\u001b[0m \u001b[0mBeautifulSoup\u001b[0m\u001b[0;34m(\u001b[0m\u001b[0mhtml\u001b[0m\u001b[0;34m,\u001b[0m \u001b[0;34m\"html.parser\"\u001b[0m\u001b[0;34m)\u001b[0m\u001b[0;34m\u001b[0m\u001b[0;34m\u001b[0m\u001b[0m\n\u001b[1;32m      3\u001b[0m     \u001b[0mjson_data\u001b[0m \u001b[0;34m=\u001b[0m \u001b[0mjson\u001b[0m\u001b[0;34m.\u001b[0m\u001b[0mloads\u001b[0m\u001b[0;34m(\u001b[0m\u001b[0msoup\u001b[0m\u001b[0;34m.\u001b[0m\u001b[0mfind_all\u001b[0m\u001b[0;34m(\u001b[0m\u001b[0;34m\"script\"\u001b[0m\u001b[0;34m,\u001b[0m \u001b[0mtype\u001b[0m\u001b[0;34m=\u001b[0m\u001b[0;34m\"application/ld+json\"\u001b[0m\u001b[0;34m)\u001b[0m\u001b[0;34m[\u001b[0m\u001b[0;34m-\u001b[0m\u001b[0;36m1\u001b[0m\u001b[0;34m]\u001b[0m\u001b[0;34m.\u001b[0m\u001b[0mtext\u001b[0m\u001b[0;34m)\u001b[0m\u001b[0;34m\u001b[0m\u001b[0;34m\u001b[0m\u001b[0m\n\u001b[0;32m----> 4\u001b[0;31m     \u001b[0mtitle\u001b[0m \u001b[0;34m=\u001b[0m \u001b[0mjson_data\u001b[0m\u001b[0;34m.\u001b[0m\u001b[0mget\u001b[0m\u001b[0;34m(\u001b[0m\u001b[0;34m'headline'\u001b[0m\u001b[0;34m,\u001b[0m \u001b[0msoup\u001b[0m\u001b[0;34m.\u001b[0m\u001b[0mfind\u001b[0m\u001b[0;34m(\u001b[0m\u001b[0;34m'h1'\u001b[0m\u001b[0;34m,\u001b[0m \u001b[0mclass_\u001b[0m\u001b[0;34m=\u001b[0m\u001b[0;34m'content--title'\u001b[0m\u001b[0;34m)\u001b[0m\u001b[0;34m.\u001b[0m\u001b[0mtext\u001b[0m\u001b[0;34m)\u001b[0m\u001b[0;34m\u001b[0m\u001b[0;34m\u001b[0m\u001b[0m\n\u001b[0m\u001b[1;32m      5\u001b[0m     \u001b[0mdate\u001b[0m \u001b[0;34m=\u001b[0m \u001b[0mjson_data\u001b[0m\u001b[0;34m.\u001b[0m\u001b[0mget\u001b[0m\u001b[0;34m(\u001b[0m\u001b[0;34m'datePublished'\u001b[0m\u001b[0;34m,\u001b[0m \u001b[0mre\u001b[0m\u001b[0;34m.\u001b[0m\u001b[0msearch\u001b[0m\u001b[0;34m(\u001b[0m\u001b[0;34mr'datetime:.*?(\\d{4}-\\d{2}-\\d{2}T\\d{2}:\\d{2})'\u001b[0m\u001b[0;34m,\u001b[0m \u001b[0mstr\u001b[0m\u001b[0;34m(\u001b[0m\u001b[0mhtml\u001b[0m\u001b[0;34m)\u001b[0m\u001b[0;34m)\u001b[0m\u001b[0;34m.\u001b[0m\u001b[0mgroup\u001b[0m\u001b[0;34m(\u001b[0m\u001b[0;36m1\u001b[0m\u001b[0;34m)\u001b[0m\u001b[0;34m)\u001b[0m\u001b[0;34m\u001b[0m\u001b[0;34m\u001b[0m\u001b[0m\n\u001b[1;32m      6\u001b[0m     \u001b[0mdate_m\u001b[0m \u001b[0;34m=\u001b[0m \u001b[0mjson_data\u001b[0m\u001b[0;34m.\u001b[0m\u001b[0mget\u001b[0m\u001b[0;34m(\u001b[0m\u001b[0;34m'dateModified'\u001b[0m\u001b[0;34m,\u001b[0m \u001b[0;34m''\u001b[0m\u001b[0;34m)\u001b[0m\u001b[0;34m\u001b[0m\u001b[0;34m\u001b[0m\u001b[0m\n",
      "\u001b[0;31mAttributeError\u001b[0m: 'NoneType' object has no attribute 'text'"
     ]
    }
   ],
   "source": [
    "for nhkurl in tqdm.tqdm(htmls[:]):\n",
    "    driver.get(f'https://web.archive.org/web/2019*/{nhkurl}')\n",
    "    time.sleep(10)\n",
    "    html = str(driver.page_source.encode('utf-8'))\n",
    "    snap = re.search(r'(between|1 time).*?<a href=\"(.+?)\">', html)\n",
    "    if not snap:\n",
    "        print(nhkurl)\n",
    "        continue\n",
    "    driver.get('https://web.archive.org' + snap.group(2))\n",
    "    time.sleep(30)\n",
    "    html = driver.page_source.encode('utf-8')\n",
    "    dic = scrape(html)\n",
    "    js(dic)"
   ]
  },
  {
   "cell_type": "code",
   "execution_count": 94,
   "metadata": {},
   "outputs": [
    {
     "name": "stdout",
     "output_type": "stream",
     "text": "{'id': 'k10011846961000', 'title': '買い物弱者など解決へ ロボットがコンビニの商品配達する実験', 'article': '高齢化に伴う「買い物弱者」などの解決につなげようと、自動で動くロボットがコンビニの商品を配達する実験が神奈川県の大学で行われました。\\nこれは大手コンビニチェーンの「ローソン」と自動運転技術を開発するベンチャー企業の「ＺＭＰ」などが行いました。実験は大学内で行われ、利用者がスマートフォンの専用のアプリを使って商品を注文すると、高さ、幅などが１メートルに満たない箱型のロボットが、仮設の店舗から商品を届けます。センサーやカメラが周りの状況を認識しているということで、人が近づくと自動的に停止するほか、人とすれ違った際には音声であいさつもしてくれます。両社では、こうしたロボットで高齢化に伴う買い物弱者やドライバーの人手不足といった課題の解決につなげたい考えです。また公道を移動できるよう国に対して法整備を働きかけていくことにしています。ローソンの牧野国嗣オープン・イノベーションセンター長は「時間がなかったり、体が不自由で店に行けなかったりするなど、さまざまなニーズに応えるため、実用化を進めていきたい」と話していました。', 'genre': ['ビジネス', '社会'], 'keywords': [], 'url': 'https://www3.nhk.or.jp/news/html/20190313/k10011846961000.html', 'datePublished': '2019-03-13T17:35:18+09:00', 'dateModified': '2019-03-27T14:00:23+09:00'}\n"
    }
   ],
   "source": [
    "html = driver.page_source.encode('utf-8')\n",
    "soup = BeautifulSoup(html, \"html.parser\")\n",
    "dic = scrape(html)\n",
    "print(dic)\n",
    "js(dic)"
   ]
  },
  {
   "cell_type": "code",
   "execution_count": 91,
   "metadata": {},
   "outputs": [],
   "source": [
    "html = str(driver.page_source.encode('utf-8'))\n",
    "re.search(r'\"genre\":(.+?),', html)"
   ]
  },
  {
   "cell_type": "markdown",
   "execution_count": 63,
   "metadata": {},
   "outputs": [],
   "source": [
    "# clean category & keyword"
   ]
  },
  {
   "cell_type": "code",
   "execution_count": 75,
   "metadata": {},
   "outputs": [
    {
     "name": "stdout",
     "output_type": "stream",
     "text": "4712\n"
    }
   ],
   "source": [
    "with open('nhkweb.json','r', encoding='utf-8') as f:\n",
    "    data = json.load(f)\n",
    "print(len(data))"
   ]
  },
  {
   "cell_type": "code",
   "execution_count": 103,
   "metadata": {},
   "outputs": [
    {
     "name": "stdout",
     "output_type": "stream",
     "text": "4714\n"
    },
    {
     "data": {
      "text/plain": "[('社会', 1287),\n ('国際', 1075),\n ('ビジネス', 642),\n ('スポーツ', 542),\n ('科学・文化', 537),\n ('政治', 527),\n ('暮らし', 319),\n ('地域', 252),\n ('気象・災害', 124)]"
     },
     "execution_count": 103,
     "metadata": {},
     "output_type": "execute_result"
    }
   ],
   "source": [
    "# check category\n",
    "\n",
    "with open('nhkweb.json','r', encoding='utf-8') as f:\n",
    "    data = json.load(f)\n",
    "print(len(data))\n",
    "genre = Counter()\n",
    "for dic in data:\n",
    "    for g in dic['genre']:\n",
    "        genre[g] += 1\n",
    "genre.most_common()"
   ]
  },
  {
   "cell_type": "code",
   "execution_count": 102,
   "metadata": {},
   "outputs": [],
   "source": [
    "# genre <> keywords\n",
    "\n",
    "with open('nhkweb.json','r', encoding='utf-8') as f:\n",
    "    data = json.load(f)\n",
    "\n",
    "category = ['社会', '国際', 'ビジネス', 'スポーツ', '政治', '科学・文化', '暮らし', '地域', '気象・災害']\n",
    "for i, dic in enumerate(data):\n",
    "    newgenre = []\n",
    "    newkey = []\n",
    "    for j in dic['genre']:\n",
    "        j = re.sub('災害|気象', '気象・災害', j)\n",
    "        if j in category:\n",
    "            newgenre.append(j)\n",
    "        else:\n",
    "            newkey.append(j)\n",
    "    for j in dic['keywords']:\n",
    "        j = re.sub('災害|気象', '気象・災害', j)\n",
    "        if j in category:\n",
    "            newgenre.append(j)\n",
    "        else:\n",
    "            newkey.append(j)\n",
    "    data[i]['genre'] = list(set(newgenre))\n",
    "    data[i]['keywords'] = list(set(newkey))\n",
    "\n",
    "with open('nhkweb.json','w', encoding='utf-8') as f:\n",
    "    json.dump(data, f, indent=4, ensure_ascii=False)\n",
    "    "
   ]
  },
  {
   "cell_type": "code",
   "execution_count": null,
   "metadata": {},
   "outputs": [],
   "source": []
  }
 ]
}