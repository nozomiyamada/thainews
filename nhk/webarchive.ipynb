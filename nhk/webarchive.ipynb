{
 "nbformat": 4,
 "nbformat_minor": 2,
 "metadata": {
  "language_info": {
   "name": "python",
   "codemirror_mode": {
    "name": "ipython",
    "version": 3
   },
   "version": "3.7.5-final"
  },
  "orig_nbformat": 2,
  "file_extension": ".py",
  "mimetype": "text/x-python",
  "name": "python",
  "npconvert_exporter": "python",
  "pygments_lexer": "ipython3",
  "version": 3,
  "kernelspec": {
   "name": "python37564bit72de44cd76184052b9457c2863c13ac2",
   "display_name": "Python 3.7.5 64-bit"
  }
 },
 "cells": [
  {
   "cell_type": "code",
   "execution_count": 1,
   "metadata": {},
   "outputs": [],
   "source": [
    "import numpy as np\n",
    "import pandas as pd\n",
    "import re, json, csv, requests, time, glob, tqdm\n",
    "from bs4 import BeautifulSoup\n",
    "from selenium import webdriver"
   ]
  },
  {
   "cell_type": "code",
   "execution_count": 2,
   "metadata": {},
   "outputs": [],
   "source": [
    "def scrape(html):\n",
    "    soup = BeautifulSoup(html, \"html.parser\")\n",
    "    json_data = json.loads(soup.find_all(\"script\", type=\"application/ld+json\")[-1].text)\n",
    "    title = json_data['headline']\n",
    "    date = json_data['datePublished']\n",
    "    date_m = json_data['dateModified']\n",
    "    genre = json_data.get('genre', [])\n",
    "    keywords = json_data.get('keywords', [])\n",
    "    article = soup.find('div', id=\"news_textbody\").text\n",
    "    url_normal = 'https:' + soup.find('meta', property=\"og:url\").get('content').rsplit('https:')[-1]\n",
    "    if soup.find_all('div', id=\"news_textmore\") != []:\n",
    "        for textmore in soup.find_all('div', id=\"news_textmore\"):\n",
    "            article += ('\\n' + textmore.text)\n",
    "    if soup.find_all('div', class_=\"news_add\") != []:\n",
    "        for newsadd in soup.find_all('div', class_=\"news_add\"):\n",
    "            if newsadd.h3 != None:\n",
    "                newsadd.h3.extract()\n",
    "            article += ('\\n' + newsadd.text)\n",
    "            \n",
    "    return {\n",
    "        'id':url_normal.split('/')[-1].split('.html')[0],\n",
    "        'title':title,\n",
    "        'article':article.strip(),\n",
    "        'genre':genre,\n",
    "        'keywords':keywords,\n",
    "        'url':url_normal,\n",
    "        'datePublished':date,\n",
    "        'dateModified':date_m\n",
    "    }\n",
    "\n",
    "def get_link(start=0):\n",
    "    notyet = []\n",
    "    n_list = pd.read_json('nhkweb.json', encoding='utf-8')['url'].tolist()\n",
    "    df_e = pd.read_json('nhkwebeasy.json', encoding='utf-8') \n",
    "    for i in df_e['url_normal'][start:]:\n",
    "        if i not in n_list:\n",
    "            notyet.append(i)\n",
    "    return notyet\n",
    "\n",
    "def js(dic):\n",
    "    with open('nhkweb.json', 'r', encoding='utf-8') as f:\n",
    "        data = json.load(f)\n",
    "    with open('nhkweb.json', 'w', encoding='utf-8') as f:\n",
    "        if dic not in data:\n",
    "            data.append(dic)\n",
    "        data = sorted(data, key=lambda x:x['id'])\n",
    "        json.dump(data, f, indent=4, ensure_ascii=False)\n",
    "        \n",
    "easy = pd.read_json('nhkwebeasy.json')"
   ]
  },
  {
   "cell_type": "code",
   "execution_count": 4,
   "metadata": {},
   "outputs": [],
   "source": [
    "htmls = ['https://www3.nhk.or.jp/news/html/20191117/k10012180511000.html']"
   ]
  },
  {
   "cell_type": "code",
   "execution_count": 36,
   "metadata": {},
   "outputs": [
    {
     "data": {
      "text/plain": "['https://www3.nhk.or.jp/news/html/20191010/k10012120321000.html',\n 'https://www3.nhk.or.jp/news/html/20191017/k10012135411000.html']"
     },
     "execution_count": 36,
     "metadata": {},
     "output_type": "execute_result"
    }
   ],
   "source": [
    "htmls = get_link(800); htmls"
   ]
  },
  {
   "cell_type": "markdown",
   "execution_count": null,
   "metadata": {},
   "outputs": [],
   "source": [
    "# scrape"
   ]
  },
  {
   "cell_type": "code",
   "execution_count": 20,
   "metadata": {},
   "outputs": [],
   "source": [
    "driver = webdriver.Chrome()"
   ]
  },
  {
   "cell_type": "code",
   "execution_count": 35,
   "metadata": {},
   "outputs": [
    {
     "name": "stderr",
     "output_type": "stream",
     "text": "\n\n\n\n  0%|          | 0/51 [00:00<?, ?it/s]\u001b[A\u001b[A\u001b[A\u001b[A\n\n\n\n  2%|▏         | 1/51 [01:30<1:15:38, 90.78s/it]\u001b[A\u001b[A\u001b[A\u001b[A\n\n\n\n  4%|▍         | 2/51 [02:53<1:12:09, 88.36s/it]\u001b[A\u001b[A\u001b[A\u001b[A\n\n\n\n  6%|▌         | 3/51 [04:01<1:05:47, 82.24s/it]\u001b[A\u001b[A\u001b[A\u001b[A\n\n\n\n  8%|▊         | 4/51 [05:16<1:02:45, 80.11s/it]\u001b[A\u001b[A\u001b[A\u001b[A\n\n\n\n 10%|▉         | 5/51 [06:28<59:37, 77.77s/it]\u001b[A\u001b[A\u001b[A\u001b[A\n\n\n\n 12%|█▏        | 6/51 [07:45<58:09, 77.55s/it]\u001b[A\u001b[A\u001b[A\u001b[A\n\n\n\n 14%|█▎        | 7/51 [08:54<54:54, 74.87s/it]\u001b[A\u001b[A\u001b[A\u001b[A\n\n\n\n 16%|█▌        | 8/51 [10:10<53:48, 75.08s/it]\u001b[A\u001b[A\u001b[A\u001b[A\n\n\n\n 18%|█▊        | 9/51 [11:18<51:14, 73.19s/it]\u001b[A\u001b[A\u001b[A\u001b[A\n\n\n\n 20%|█▉        | 10/51 [12:28<49:19, 72.18s/it]\u001b[A\u001b[A\u001b[A\u001b[A\n\n\n\n 22%|██▏       | 11/51 [13:42<48:25, 72.65s/it]\u001b[A\u001b[A\u001b[A\u001b[A\n\n\n\n 24%|██▎       | 12/51 [14:52<46:43, 71.87s/it]\u001b[A\u001b[A\u001b[A\u001b[A\n\n\n\n 25%|██▌       | 13/51 [15:52<43:19, 68.41s/it]\u001b[A\u001b[A\u001b[A\u001b[A\n\n\n\n 27%|██▋       | 14/51 [16:53<40:47, 66.14s/it]\u001b[A\u001b[A\u001b[A\u001b[A\n\n\n\n 29%|██▉       | 15/51 [17:53<38:34, 64.28s/it]\u001b[A\u001b[A\u001b[A\u001b[A\n\n\n\n 31%|███▏      | 16/51 [19:08<39:24, 67.57s/it]\u001b[A\u001b[A\u001b[A\u001b[A\n\n\n\n 33%|███▎      | 17/51 [20:30<40:42, 71.83s/it]\u001b[A\u001b[A\u001b[A\u001b[A\n\n\n\n 35%|███▌      | 18/51 [22:02<42:52, 77.94s/it]\u001b[A\u001b[A\u001b[A\u001b[A\n\n\n\n 37%|███▋      | 19/51 [23:35<43:58, 82.45s/it]\u001b[A\u001b[A\u001b[A\u001b[A\n\n\n\n 39%|███▉      | 20/51 [25:03<43:27, 84.11s/it]\u001b[A\u001b[A\u001b[A\u001b[A\n\n\n\n 41%|████      | 21/51 [26:27<42:03, 84.10s/it]\u001b[A\u001b[A\u001b[A\u001b[A\n\n\n\n 43%|████▎     | 22/51 [27:59<41:44, 86.35s/it]\u001b[A\u001b[A\u001b[A\u001b[A\n\n\n\n 45%|████▌     | 23/51 [29:32<41:10, 88.22s/it]\u001b[A\u001b[A\u001b[A\u001b[A\n\n\n\n 47%|████▋     | 24/51 [31:00<39:45, 88.36s/it]\u001b[A\u001b[A\u001b[A\u001b[A\n\n\n\n 49%|████▉     | 25/51 [32:30<38:28, 88.77s/it]\u001b[A\u001b[A\u001b[A\u001b[A\n\n\n\n 51%|█████     | 26/51 [34:00<37:09, 89.17s/it]\u001b[A\u001b[A\u001b[A\u001b[A\n\n\n\n 53%|█████▎    | 27/51 [35:29<35:40, 89.17s/it]\u001b[A\u001b[A\u001b[A\u001b[A\n\n\n\n 55%|█████▍    | 28/51 [37:05<34:56, 91.16s/it]\u001b[A\u001b[A\u001b[A\u001b[A\n\n\n\n 57%|█████▋    | 29/51 [38:11<30:37, 83.52s/it]\u001b[A\u001b[A\u001b[A\u001b[A\n\n\n\n 59%|█████▉    | 30/51 [39:37<29:32, 84.38s/it]\u001b[A\u001b[A\u001b[A\u001b[A\n\n\n\n 61%|██████    | 31/51 [41:01<28:02, 84.12s/it]\u001b[A\u001b[A\u001b[A\u001b[A\n\n\n\n 63%|██████▎   | 32/51 [42:21<26:17, 83.05s/it]\u001b[A\u001b[A\u001b[A\u001b[A\n\n\n\n 65%|██████▍   | 33/51 [43:50<25:26, 84.83s/it]\u001b[A\u001b[A\u001b[A\u001b[A\n\n\n\n 67%|██████▋   | 34/51 [45:08<23:27, 82.81s/it]\u001b[A\u001b[A\u001b[A\u001b[A\n\n\n\n 69%|██████▊   | 35/51 [46:28<21:51, 81.96s/it]\u001b[A\u001b[A\u001b[A\u001b[A\n\n\n\n 71%|███████   | 36/51 [47:46<20:08, 80.58s/it]\u001b[A\u001b[A\u001b[A\u001b[A\n\n\n\n 73%|███████▎  | 37/51 [49:03<18:35, 79.65s/it]\u001b[A\u001b[A\u001b[A\u001b[A\n\n\n\n 75%|███████▍  | 38/51 [50:16<16:49, 77.62s/it]\u001b[A\u001b[A\u001b[A\u001b[A\n\n\n\n 76%|███████▋  | 39/51 [51:31<15:22, 76.89s/it]\u001b[A\u001b[A\u001b[A\u001b[A\n\n\n\n 78%|███████▊  | 40/51 [52:33<13:14, 72.24s/it]\u001b[A\u001b[A\u001b[A\u001b[A\n\n\n\n 80%|████████  | 41/51 [53:42<11:54, 71.41s/it]\u001b[A\u001b[A\u001b[A\u001b[A\n\n\n\n 82%|████████▏ | 42/51 [55:00<10:59, 73.32s/it]\u001b[A\u001b[A\u001b[A\u001b[A\n\n\n\n 84%|████████▍ | 43/51 [56:18<09:58, 74.77s/it]\u001b[A\u001b[A\u001b[A\u001b[A\n\n\n\n 86%|████████▋ | 44/51 [57:40<08:58, 76.92s/it]\u001b[A\u001b[A\u001b[A\u001b[A\n\n\n\n 88%|████████▊ | 45/51 [58:55<07:38, 76.49s/it]\u001b[A\u001b[A\u001b[A\u001b[A\n\n\n\n 90%|█████████ | 46/51 [1:00:07<06:15, 75.14s/it]\u001b[A\u001b[A\u001b[A\u001b[A\n\n\n\n 92%|█████████▏| 47/51 [1:01:29<05:07, 76.94s/it]\u001b[A\u001b[A\u001b[A\u001b[A\n\n\n\n 94%|█████████▍| 48/51 [1:02:48<03:52, 77.64s/it]\u001b[A\u001b[A\u001b[A\u001b[A\n\n\n\n 96%|█████████▌| 49/51 [1:04:11<02:38, 79.41s/it]\u001b[A\u001b[A\u001b[A\u001b[A\n\n\n\n 98%|█████████▊| 50/51 [1:05:44<01:23, 83.33s/it]\u001b[A\u001b[A\u001b[A\u001b[A\n\n\n\n100%|██████████| 51/51 [1:07:22<00:00, 79.27s/it]\n"
    }
   ],
   "source": [
    "for nhkurl in tqdm.tqdm(htmls[:-2]):\n",
    "    driver.get(f'https://web.archive.org/web/2019*/{nhkurl}')\n",
    "    time.sleep(10)\n",
    "    html = str(driver.page_source.encode('utf-8'))\n",
    "    snap = re.search(r'(between|1 time).*?<a href=\"(.+?)\">', html)\n",
    "    if not snap:\n",
    "        print(nhkurl)\n",
    "        continue\n",
    "    driver.get('https://web.archive.org' + snap.group(2))\n",
    "    time.sleep(30)\n",
    "    html = driver.page_source.encode('utf-8')\n",
    "    dic = scrape(html)\n",
    "    js(dic)"
   ]
  },
  {
   "cell_type": "code",
   "execution_count": 21,
   "metadata": {},
   "outputs": [],
   "source": [
    "html = driver.page_source.encode('utf-8')\n",
    "dic = scrape(html)\n",
    "js(dic)"
   ]
  },
  {
   "cell_type": "code",
   "execution_count": 15,
   "metadata": {},
   "outputs": [
    {
     "data": {
      "text/plain": "['</strong>&nbsp;<a href=\"/web/']"
     },
     "execution_count": 15,
     "metadata": {},
     "output_type": "execute_result"
    }
   ],
   "source": [
    "re.findall(r'1 time(.............................)', html)"
   ]
  },
  {
   "cell_type": "code",
   "execution_count": null,
   "metadata": {},
   "outputs": [],
   "source": []
  }
 ]
}