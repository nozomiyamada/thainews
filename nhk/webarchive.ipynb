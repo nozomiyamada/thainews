{
 "nbformat": 4,
 "nbformat_minor": 2,
 "metadata": {
  "language_info": {
   "name": "python",
   "codemirror_mode": {
    "name": "ipython",
    "version": 3
   },
   "version": "3.7.5-final"
  },
  "orig_nbformat": 2,
  "file_extension": ".py",
  "mimetype": "text/x-python",
  "name": "python",
  "npconvert_exporter": "python",
  "pygments_lexer": "ipython3",
  "version": 3,
  "kernelspec": {
   "name": "python37564bit72de44cd76184052b9457c2863c13ac2",
   "display_name": "Python 3.7.5 64-bit"
  }
 },
 "cells": [
  {
   "cell_type": "code",
   "execution_count": 1,
   "metadata": {},
   "outputs": [],
   "source": [
    "import numpy as np\n",
    "import pandas as pd\n",
    "import re, json, csv, requests, time, glob, tqdm\n",
    "from bs4 import BeautifulSoup\n",
    "from selenium import webdriver"
   ]
  },
  {
   "cell_type": "code",
   "execution_count": 2,
   "metadata": {},
   "outputs": [],
   "source": [
    "def scrape(html):\n",
    "    soup = BeautifulSoup(html, \"html.parser\")\n",
    "    json_data = json.loads(soup.find_all(\"script\", type=\"application/ld+json\")[-1].text)\n",
    "    title = json_data['headline']\n",
    "    date = json_data['datePublished']\n",
    "    date_m = json_data['dateModified']\n",
    "    genre = json_data.get('genre', [])\n",
    "    keywords = json_data.get('keywords', [])\n",
    "    article = soup.find('div', id=\"news_textbody\").text\n",
    "    url_normal = 'https:' + soup.find('meta', property=\"og:url\").get('content').rsplit('https:')[-1]\n",
    "    if soup.find_all('div', id=\"news_textmore\") != []:\n",
    "        for textmore in soup.find_all('div', id=\"news_textmore\"):\n",
    "            article += ('\\n' + textmore.text)\n",
    "    if soup.find_all('div', class_=\"news_add\") != []:\n",
    "        for newsadd in soup.find_all('div', class_=\"news_add\"):\n",
    "            if newsadd.h3 != None:\n",
    "                newsadd.h3.extract()\n",
    "            article += ('\\n' + newsadd.text)\n",
    "            \n",
    "    return {\n",
    "        'id':url_normal.split('/')[-1].split('.html')[0],\n",
    "        'title':title,\n",
    "        'article':article.strip(),\n",
    "        'genre':genre,\n",
    "        'keywords':keywords,\n",
    "        'url':url_normal,\n",
    "        'datePublished':date,\n",
    "        'dateModified':date_m\n",
    "    }\n",
    "\n",
    "def get_link(start=0):\n",
    "    notyet = []\n",
    "    n_list = pd.read_json('nhkweb.json', encoding='utf-8')['url'].tolist()\n",
    "    df_e = pd.read_json('nhkwebeasy.json', encoding='utf-8') \n",
    "    for i in df_e['url_normal'][start:]:\n",
    "        if i not in n_list:\n",
    "            notyet.append(i)\n",
    "    return notyet\n",
    "\n",
    "def js(dic):\n",
    "    with open('nhkweb.json', 'r', encoding='utf-8') as f:\n",
    "        data = json.load(f)\n",
    "    with open('nhkweb.json', 'w', encoding='utf-8') as f:\n",
    "        if dic not in data:\n",
    "            data.append(dic)\n",
    "        data = sorted(data, key=lambda x:x['id'])\n",
    "        json.dump(data, f, indent=4, ensure_ascii=False)\n",
    "        \n",
    "easy = pd.read_json('nhkwebeasy.json')"
   ]
  },
  {
   "cell_type": "code",
   "execution_count": 4,
   "metadata": {},
   "outputs": [],
   "source": [
    "htmls = ['https://www3.nhk.or.jp/news/html/20191117/k10012180511000.html']"
   ]
  },
  {
   "cell_type": "code",
   "execution_count": 48,
   "metadata": {},
   "outputs": [
    {
     "data": {
      "text/plain": "['https://www3.nhk.or.jp/news/html/20190813/k10012032841000.html',\n 'https://www3.nhk.or.jp/news/html/20190813/k10012032991000.html',\n 'https://www3.nhk.or.jp/news/html/20190813/k10012033071000.html',\n 'https://www3.nhk.or.jp/news/html/20190813/k10012033431000.html',\n 'https://www3.nhk.or.jp/news/html/20190813/k10012033471000.html',\n 'https://www3.nhk.or.jp/news/html/20190813/k10012034021000.html',\n 'https://www3.nhk.or.jp/news/html/20190814/k10012034201000.html',\n 'https://www3.nhk.or.jp/news/html/20190814/k10012035261000.html',\n 'https://www3.nhk.or.jp/news/html/20190814/k10012035421000.html',\n 'https://www3.nhk.or.jp/news/html/20190815/k10012035821000.html',\n 'https://www3.nhk.or.jp/news/html/20190815/k10012035841000.html',\n 'https://www3.nhk.or.jp/news/html/20190815/k10012036341000.html',\n 'https://www3.nhk.or.jp/news/html/20190815/k10012036721000.html',\n 'https://www3.nhk.or.jp/news/html/20190815/k10012036871000.html',\n 'https://www3.nhk.or.jp/news/html/20190815/k10012037231000.html',\n 'https://www3.nhk.or.jp/news/html/20190816/k10012037411000.html',\n 'https://www3.nhk.or.jp/news/html/20190816/k10012037611000.html',\n 'https://www3.nhk.or.jp/news/html/20190816/k10012038471000.html',\n 'https://www3.nhk.or.jp/news/html/20190816/k10012038591000.html',\n 'https://www3.nhk.or.jp/news/html/20190817/k10012039081000.html',\n 'https://www3.nhk.or.jp/news/html/20191010/k10012120321000.html',\n 'https://www3.nhk.or.jp/news/html/20191017/k10012135411000.html']"
     },
     "execution_count": 48,
     "metadata": {},
     "output_type": "execute_result"
    }
   ],
   "source": [
    "htmls = get_link(750); htmls"
   ]
  },
  {
   "cell_type": "markdown",
   "execution_count": null,
   "metadata": {},
   "outputs": [],
   "source": [
    "# scrape"
   ]
  },
  {
   "cell_type": "code",
   "execution_count": 20,
   "metadata": {},
   "outputs": [],
   "source": [
    "driver = webdriver.Chrome()"
   ]
  },
  {
   "cell_type": "code",
   "execution_count": 49,
   "metadata": {},
   "outputs": [
    {
     "name": "stderr",
     "output_type": "stream",
     "text": "\n\n\n\n\n\n  0%|          | 0/20 [00:00<?, ?it/s]\u001b[A\u001b[A\u001b[A\u001b[A\u001b[A\u001b[A\n\n\n\n\n\n  5%|▌         | 1/20 [01:00<19:06, 60.34s/it]\u001b[A\u001b[A\u001b[A\u001b[A\u001b[A\u001b[A\n\n\n\n\n\n 10%|█         | 2/20 [01:56<17:44, 59.17s/it]\u001b[A\u001b[A\u001b[A\u001b[A\u001b[A\u001b[A\n\n\n\n\n\n 15%|█▌        | 3/20 [02:56<16:49, 59.36s/it]\u001b[A\u001b[A\u001b[A\u001b[A\u001b[A\u001b[A\n\n\n\n\n\n 20%|██        | 4/20 [03:57<15:56, 59.76s/it]\u001b[A\u001b[A\u001b[A\u001b[A\u001b[A\u001b[A\n\n\n\n\n\n 25%|██▌       | 5/20 [04:53<14:38, 58.56s/it]\u001b[A\u001b[A\u001b[A\u001b[A\u001b[A\u001b[A\n\n\n\n\n\n 30%|███       | 6/20 [05:52<13:44, 58.86s/it]\u001b[A\u001b[A\u001b[A\u001b[A\u001b[A\u001b[A\n\n\n\n\n\n 35%|███▌      | 7/20 [06:52<12:50, 59.27s/it]\u001b[A\u001b[A\u001b[A\u001b[A\u001b[A\u001b[A\n\n\n\n\n\n 40%|████      | 8/20 [07:58<12:13, 61.14s/it]\u001b[A\u001b[A\u001b[A\u001b[A\u001b[A\u001b[A\n\n\n\n\n\n 45%|████▌     | 9/20 [08:58<11:08, 60.78s/it]\u001b[A\u001b[A\u001b[A\u001b[A\u001b[A\u001b[A\n\n\n\n\n\n 50%|█████     | 10/20 [10:01<10:15, 61.57s/it]\u001b[A\u001b[A\u001b[A\u001b[A\u001b[A\u001b[A\n\n\n\n\n\n 55%|█████▌    | 11/20 [11:02<09:12, 61.43s/it]\u001b[A\u001b[A\u001b[A\u001b[A\u001b[A\u001b[A\n\n\n\n\n\n 60%|██████    | 12/20 [12:04<08:13, 61.63s/it]\u001b[A\u001b[A\u001b[A\u001b[A\u001b[A\u001b[A\n\n\n\n\n\n 65%|██████▌   | 13/20 [13:13<07:26, 63.81s/it]\u001b[A\u001b[A\u001b[A\u001b[A\u001b[A\u001b[A\n\n\n\n\n\n 70%|███████   | 14/20 [14:27<06:40, 66.83s/it]\u001b[A\u001b[A\u001b[A\u001b[A\u001b[A\u001b[A\n\n\n\n\n\n 75%|███████▌  | 15/20 [15:33<05:33, 66.67s/it]\u001b[A\u001b[A\u001b[A\u001b[A\u001b[A\u001b[A\n\n\n\n\n\n 80%|████████  | 16/20 [16:46<04:34, 68.51s/it]\u001b[A\u001b[A\u001b[A\u001b[A\u001b[A\u001b[A\n\n\n\n\n\n 85%|████████▌ | 17/20 [17:41<03:13, 64.40s/it]\u001b[A\u001b[A\u001b[A\u001b[A\u001b[A\u001b[A\n\n\n\n\n\n 90%|█████████ | 18/20 [18:41<02:05, 62.92s/it]\u001b[A\u001b[A\u001b[A\u001b[A\u001b[A\u001b[A\n\n\n\n\n\n 95%|█████████▌| 19/20 [19:40<01:01, 61.85s/it]\u001b[A\u001b[A\u001b[A\u001b[A\u001b[A\u001b[A\n\n\n\n\n\n100%|██████████| 20/20 [20:40<00:00, 62.04s/it]\n"
    }
   ],
   "source": [
    "for nhkurl in tqdm.tqdm(htmls[:-2]):\n",
    "    driver.get(f'https://web.archive.org/web/2019*/{nhkurl}')\n",
    "    time.sleep(10)\n",
    "    html = str(driver.page_source.encode('utf-8'))\n",
    "    snap = re.search(r'(between|1 time).*?<a href=\"(.+?)\">', html)\n",
    "    if not snap:\n",
    "        print(nhkurl)\n",
    "        continue\n",
    "    driver.get('https://web.archive.org' + snap.group(2))\n",
    "    time.sleep(30)\n",
    "    html = driver.page_source.encode('utf-8')\n",
    "    dic = scrape(html)\n",
    "    js(dic)"
   ]
  },
  {
   "cell_type": "code",
   "execution_count": 44,
   "metadata": {},
   "outputs": [],
   "source": [
    "html = driver.page_source.encode('utf-8')\n",
    "dic = scrape(html)\n",
    "js(dic)"
   ]
  },
  {
   "cell_type": "code",
   "execution_count": 15,
   "metadata": {},
   "outputs": [
    {
     "data": {
      "text/plain": "['</strong>&nbsp;<a href=\"/web/']"
     },
     "execution_count": 15,
     "metadata": {},
     "output_type": "execute_result"
    }
   ],
   "source": [
    "re.findall(r'1 time(.............................)', html)"
   ]
  },
  {
   "cell_type": "code",
   "execution_count": null,
   "metadata": {},
   "outputs": [],
   "source": []
  }
 ]
}