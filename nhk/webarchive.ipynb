{
 "nbformat": 4,
 "nbformat_minor": 2,
 "metadata": {
  "language_info": {
   "name": "python",
   "codemirror_mode": {
    "name": "ipython",
    "version": 3
   },
   "version": "3.7.5-final"
  },
  "orig_nbformat": 2,
  "file_extension": ".py",
  "mimetype": "text/x-python",
  "name": "python",
  "npconvert_exporter": "python",
  "pygments_lexer": "ipython3",
  "version": 3,
  "kernelspec": {
   "name": "python37564bit72de44cd76184052b9457c2863c13ac2",
   "display_name": "Python 3.7.5 64-bit"
  }
 },
 "cells": [
  {
   "cell_type": "code",
   "execution_count": 68,
   "metadata": {},
   "outputs": [],
   "source": [
    "import numpy as np\n",
    "import pandas as pd\n",
    "import re, json, csv, requests, time, glob, tqdm\n",
    "from bs4 import BeautifulSoup\n",
    "from selenium import webdriver\n",
    "from collections import Counter"
   ]
  },
  {
   "cell_type": "code",
   "execution_count": 95,
   "metadata": {},
   "outputs": [],
   "source": [
    "def scrape(html):\n",
    "    soup = BeautifulSoup(html, \"html.parser\")\n",
    "    json_data = json.loads(soup.find_all(\"script\", type=\"application/ld+json\")[-1].text)\n",
    "    title = json_data.get('headline', soup.find('h1', class_='content--title').text)\n",
    "    date = json_data.get('datePublished', re.search(r'datetime:.*?(\\d{4}-\\d{2}-\\d{2}T\\d{2}:\\d{2})', str(html)).group(1))\n",
    "    date_m = json_data.get('dateModified', '')\n",
    "    genre = json_data.get('genre', [])\n",
    "    if genre == []:\n",
    "        genre = [k for k in soup.find('meta', attrs={'name':'keywords'}).get('content').split(',') if k not in ['NHK','ニュース', 'NHK NEWS WEB']]\n",
    "    keywords = json_data.get('keywords', [])\n",
    "    article = soup.find('div', id=\"news_textbody\").text\n",
    "    url_normal = 'https:' + soup.find('meta', property=\"og:url\").get('content').rsplit('https:')[-1]\n",
    "    if soup.find_all('div', id=\"news_textmore\") != []:\n",
    "        for textmore in soup.find_all('div', id=\"news_textmore\"):\n",
    "            article += ('\\n' + textmore.text)\n",
    "    if soup.find_all('div', class_=\"news_add\") != []:\n",
    "        for newsadd in soup.find_all('div', class_=\"news_add\"):\n",
    "            if newsadd.h3 != None:\n",
    "                newsadd.h3.extract()\n",
    "            article += ('\\n' + newsadd.text)\n",
    "            \n",
    "    return {\n",
    "        'id':url_normal.split('/')[-1].split('.html')[0],\n",
    "        'title':title,\n",
    "        'article':article.strip(),\n",
    "        'genre':genre,\n",
    "        'keywords':keywords,\n",
    "        'url':url_normal,\n",
    "        'datePublished':date,\n",
    "        'dateModified':date_m\n",
    "    }\n",
    "\n",
    "def get_link(start=0):\n",
    "    notyet = []\n",
    "    n_list = pd.read_json('nhkweb.json', encoding='utf-8')['url'].tolist()\n",
    "    df_e = pd.read_json('nhkwebeasy.json', encoding='utf-8') \n",
    "    for i in df_e['url_normal'][start:]:\n",
    "        if i not in n_list:\n",
    "            notyet.append(i)\n",
    "    return notyet\n",
    "\n",
    "def get_link_nogenre(start=0):\n",
    "    notyet = []\n",
    "    with open('nhkweb.json', 'r', encoding='utf-8') as f:\n",
    "        data = json.load(f)\n",
    "    for dic in data:\n",
    "        if dic['genre'] == []:\n",
    "            notyet.append(dic['url'])\n",
    "    return notyet  \n",
    "\n",
    "def js(dic):\n",
    "    with open('nhkweb.json', 'r', encoding='utf-8') as f:\n",
    "        data = json.load(f)\n",
    "    with open('nhkweb.json', 'w', encoding='utf-8') as f:\n",
    "        if dic['id'] not in [x['id'] for x in data]:\n",
    "            data.append(dic)\n",
    "        else:\n",
    "            for i, d in enumerate(data):\n",
    "                if dic['id'] == d['id']:\n",
    "                    data[i] = dic\n",
    "        data = sorted(data, key=lambda x:x['id'])\n",
    "        json.dump(data, f, indent=4, ensure_ascii=False)\n",
    "        \n",
    "easy = pd.read_json('nhkwebeasy.json')"
   ]
  },
  {
   "cell_type": "code",
   "execution_count": 4,
   "metadata": {},
   "outputs": [],
   "source": [
    "htmls = ['https://www3.nhk.or.jp/news/html/20191117/k10012180511000.html']"
   ]
  },
  {
   "cell_type": "code",
   "execution_count": 96,
   "metadata": {},
   "outputs": [
    {
     "data": {
      "text/plain": "['https://www3.nhk.or.jp/news/html/20190120/k10011784611000.html',\n 'https://www3.nhk.or.jp/news/html/20191010/k10012120321000.html',\n 'https://www3.nhk.or.jp/news/html/20191017/k10012135411000.html']"
     },
     "execution_count": 96,
     "metadata": {},
     "output_type": "execute_result"
    }
   ],
   "source": [
    "htmls = get_link(0); htmls"
   ]
  },
  {
   "cell_type": "code",
   "execution_count": 99,
   "metadata": {},
   "outputs": [
    {
     "data": {
      "text/plain": "['https://www3.nhk.or.jp/news/html/20190117/k10011780361000.html',\n 'https://www3.nhk.or.jp/news/html/20190123/k10011787281000.html',\n 'https://www3.nhk.or.jp/news/html/20190123/k10011788211000.html',\n 'https://www3.nhk.or.jp/news/html/20190205/k10011803571000.html',\n 'https://www3.nhk.or.jp/news/html/20190221/k10011823181000.html',\n 'https://www3.nhk.or.jp/news/html/20190226/k10011828651000.html',\n 'https://www3.nhk.or.jp/news/html/20190226/k10011828871000.html',\n 'https://www3.nhk.or.jp/news/html/20190307/k10011838501000.html',\n 'https://www3.nhk.or.jp/news/html/20190311/k10011842891000.html',\n 'https://www3.nhk.or.jp/news/html/20190311/k10011844261000.html',\n 'https://www3.nhk.or.jp/news/html/20190313/k10011847001000.html',\n 'https://www3.nhk.or.jp/news/html/20190314/k10011847471000.html',\n 'https://www3.nhk.or.jp/news/html/20190314/k10011848051000.html',\n 'https://www3.nhk.or.jp/news/html/20190315/k10011848721000.html',\n 'https://www3.nhk.or.jp/news/html/20190315/k10011848861000.html',\n 'https://www3.nhk.or.jp/news/html/20190315/k10011849051000.html',\n 'https://www3.nhk.or.jp/news/html/20190317/k10011851331000.html',\n 'https://www3.nhk.or.jp/news/html/20190317/k10011851471000.html',\n 'https://www3.nhk.or.jp/news/html/20190317/k10011851531000.html',\n 'https://www3.nhk.or.jp/news/html/20190318/k10011851881000.html',\n 'https://www3.nhk.or.jp/news/html/20190318/k10011852331000.html',\n 'https://www3.nhk.or.jp/news/html/20190318/k10011852411000.html',\n 'https://www3.nhk.or.jp/news/html/20190319/k10011852841000.html',\n 'https://www3.nhk.or.jp/news/html/20190319/k10011852881000.html',\n 'https://www3.nhk.or.jp/news/html/20190319/k10011853301000.html',\n 'https://www3.nhk.or.jp/news/html/20190319/k10011853671000.html',\n 'https://www3.nhk.or.jp/news/html/20190319/k10011853721000.html',\n 'https://www3.nhk.or.jp/news/html/20190320/k10011853911000.html',\n 'https://www3.nhk.or.jp/news/html/20190320/k10011854131000.html',\n 'https://www3.nhk.or.jp/news/html/20190321/k10011855631000.html',\n 'https://www3.nhk.or.jp/news/html/20190321/k10011855861000.html',\n 'https://www3.nhk.or.jp/news/html/20190322/k10011856231000.html',\n 'https://www3.nhk.or.jp/news/html/20190322/k10011856321000.html',\n 'https://www3.nhk.or.jp/news/html/20190322/k10011856681000.html',\n 'https://www3.nhk.or.jp/news/html/20190323/k10011858001000.html',\n 'https://www3.nhk.or.jp/news/html/20190323/k10011858101000.html',\n 'https://www3.nhk.or.jp/news/html/20190324/k10011858731000.html',\n 'https://www3.nhk.or.jp/news/html/20190324/k10011859231000.html',\n 'https://www3.nhk.or.jp/news/html/20190325/k10011859461000.html',\n 'https://www3.nhk.or.jp/news/html/20190325/k10011859911000.html',\n 'https://www3.nhk.or.jp/news/html/20190325/k10011860021000.html',\n 'https://www3.nhk.or.jp/news/html/20190325/k10011860071000.html',\n 'https://www3.nhk.or.jp/news/html/20190325/k10011860241000.html',\n 'https://www3.nhk.or.jp/news/html/20190326/k10011860901000.html',\n 'https://www3.nhk.or.jp/news/html/20190326/k10011861501000.html',\n 'https://www3.nhk.or.jp/news/html/20190327/k10011862061000.html',\n 'https://www3.nhk.or.jp/news/html/20190327/k10011862241000.html',\n 'https://www3.nhk.or.jp/news/html/20190327/k10011862291000.html',\n 'https://www3.nhk.or.jp/news/html/20190327/k10011862381000.html',\n 'https://www3.nhk.or.jp/news/html/20190327/k10011862601000.html',\n 'https://www3.nhk.or.jp/news/html/20190327/k10011862721000.html',\n 'https://www3.nhk.or.jp/news/html/20190328/k10011863231000.html',\n 'https://www3.nhk.or.jp/news/html/20190328/k10011863371000.html',\n 'https://www3.nhk.or.jp/news/html/20190328/k10011863851000.html',\n 'https://www3.nhk.or.jp/news/html/20190328/k10011863921000.html',\n 'https://www3.nhk.or.jp/news/html/20190328/k10011864121000.html',\n 'https://www3.nhk.or.jp/news/html/20190328/k10011864661000.html',\n 'https://www3.nhk.or.jp/news/html/20190328/k10011865101000.html',\n 'https://www3.nhk.or.jp/news/html/20190331/k10011867711000.html',\n 'https://www3.nhk.or.jp/news/html/20190331/k10011868161000.html',\n 'https://www3.nhk.or.jp/news/html/20190401/k10011868321000.html',\n 'https://www3.nhk.or.jp/news/html/20190401/k10011868381000.html',\n 'https://www3.nhk.or.jp/news/html/20190401/k10011868721000.html',\n 'https://www3.nhk.or.jp/news/html/20190401/k10011869111000.html',\n 'https://www3.nhk.or.jp/news/html/20190402/k10011869901000.html',\n 'https://www3.nhk.or.jp/news/html/20190402/k10011870031000.html',\n 'https://www3.nhk.or.jp/news/html/20190402/k10011870151000.html',\n 'https://www3.nhk.or.jp/news/html/20190402/k10011870291000.html',\n 'https://www3.nhk.or.jp/news/html/20190402/k10011870301000.html',\n 'https://www3.nhk.or.jp/news/html/20190402/k10011870321000.html',\n 'https://www3.nhk.or.jp/news/html/20190402/k10011870501000.html',\n 'https://www3.nhk.or.jp/news/html/20190402/k10011870511000.html',\n 'https://www3.nhk.or.jp/news/html/20190403/k10011871151000.html',\n 'https://www3.nhk.or.jp/news/html/20190403/k10011871211000.html',\n 'https://www3.nhk.or.jp/news/html/20190403/k10011871841000.html',\n 'https://www3.nhk.or.jp/news/html/20190403/k10011871991000.html',\n 'https://www3.nhk.or.jp/news/html/20190403/k10011872111000.html',\n 'https://www3.nhk.or.jp/news/html/20190404/k10011872431000.html',\n 'https://www3.nhk.or.jp/news/html/20190404/k10011872491000.html',\n 'https://www3.nhk.or.jp/news/html/20190404/k10011872971000.html',\n 'https://www3.nhk.or.jp/news/html/20190404/k10011873021000.html',\n 'https://www3.nhk.or.jp/news/html/20190404/k10011873061000.html',\n 'https://www3.nhk.or.jp/news/html/20190405/k10011873801000.html',\n 'https://www3.nhk.or.jp/news/html/20190406/k10011874901000.html',\n 'https://www3.nhk.or.jp/news/html/20190406/k10011875121000.html',\n 'https://www3.nhk.or.jp/news/html/20190407/k10011875641000.html',\n 'https://www3.nhk.or.jp/news/html/20190407/k10011875651000.html',\n 'https://www3.nhk.or.jp/news/html/20190407/k10011876011000.html',\n 'https://www3.nhk.or.jp/news/html/20190408/k10011876911000.html',\n 'https://www3.nhk.or.jp/news/html/20190408/k10011877091000.html',\n 'https://www3.nhk.or.jp/news/html/20190408/k10011877221000.html',\n 'https://www3.nhk.or.jp/news/html/20190409/k10011877651000.html',\n 'https://www3.nhk.or.jp/news/html/20190409/k10011877791000.html',\n 'https://www3.nhk.or.jp/news/html/20190409/k10011878201000.html',\n 'https://www3.nhk.or.jp/news/html/20190409/k10011878461000.html',\n 'https://www3.nhk.or.jp/news/html/20190410/k10011878661000.html',\n 'https://www3.nhk.or.jp/news/html/20190410/k10011879001000.html',\n 'https://www3.nhk.or.jp/news/html/20190410/k10011879091000.html',\n 'https://www3.nhk.or.jp/news/html/20190410/k10011879971000.html',\n 'https://www3.nhk.or.jp/news/html/20190410/k10011880011000.html']"
     },
     "execution_count": 99,
     "metadata": {},
     "output_type": "execute_result"
    }
   ],
   "source": [
    "htmls = get_link_nogenre(); htmls[:100]"
   ]
  },
  {
   "cell_type": "markdown",
   "execution_count": null,
   "metadata": {},
   "outputs": [],
   "source": [
    "# scrape"
   ]
  },
  {
   "cell_type": "code",
   "execution_count": 50,
   "metadata": {},
   "outputs": [],
   "source": [
    "driver = webdriver.Chrome()"
   ]
  },
  {
   "cell_type": "code",
   "execution_count": 100,
   "metadata": {},
   "outputs": [
    {
     "name": "stderr",
     "output_type": "stream",
     "text": "\n\n\n\n\n\n  0%|          | 0/833 [00:00<?, ?it/s]\u001b[A\u001b[A\u001b[A\u001b[A\u001b[A\u001b[A\n\n\n\n\n\n  0%|          | 1/833 [00:57<13:13:16, 57.21s/it]\u001b[A\u001b[A\u001b[A\u001b[A\u001b[A\u001b[A\n\n\n\n\n\n  0%|          | 2/833 [01:56<13:22:46, 57.96s/it]\u001b[A\u001b[A\u001b[A\u001b[A\u001b[A\u001b[A\n\n\n\n\n\n  0%|          | 3/833 [03:01<13:48:46, 59.91s/it]\u001b[A\u001b[A\u001b[A\u001b[A\u001b[A\u001b[A\n\n\n\n\n\n  0%|          | 4/833 [04:01<13:49:52, 60.06s/it]\u001b[A\u001b[A\u001b[A\u001b[A\u001b[A\u001b[A\n\n\n\n\n\n  1%|          | 5/833 [05:09<14:20:43, 62.37s/it]\u001b[A\u001b[A\u001b[A\u001b[A\u001b[A\u001b[A\n\n\n\n\n\n  1%|          | 6/833 [06:15<14:35:10, 63.50s/it]\u001b[A\u001b[A\u001b[A\u001b[A\u001b[A\u001b[A\n\n\n\n\n\n  1%|          | 7/833 [07:16<14:24:23, 62.79s/it]\u001b[A\u001b[A\u001b[A\u001b[A\u001b[A\u001b[A\n\n\n\n\n\n  1%|          | 8/833 [08:30<15:08:02, 66.04s/it]\u001b[A\u001b[A\u001b[A\u001b[A\u001b[A\u001b[A\n\n\n\n\n\n  1%|          | 9/833 [09:36<15:07:27, 66.08s/it]\u001b[A\u001b[A\u001b[A\u001b[A\u001b[A\u001b[A\n\n\n\n\n\n  1%|          | 10/833 [10:34<14:34:19, 63.74s/it]\u001b[A\u001b[A\u001b[A\u001b[A\u001b[A\u001b[A\n\n\n\n\n\n  1%|▏         | 11/833 [11:40<14:41:35, 64.35s/it]\u001b[A\u001b[A\u001b[A\u001b[A\u001b[A\u001b[A\n\n\n\n\n\n  1%|▏         | 12/833 [12:42<14:28:25, 63.47s/it]\u001b[A\u001b[A\u001b[A\u001b[A\u001b[A\u001b[A\n\n\n\n\n\n  2%|▏         | 13/833 [13:51<14:51:03, 65.20s/it]\u001b[A\u001b[A\u001b[A\u001b[A\u001b[A\u001b[A\n\n\n\n\n\n  2%|▏         | 14/833 [14:37<13:32:44, 59.54s/it]\u001b[A\u001b[A\u001b[A\u001b[A\u001b[A\u001b[A\n\n\n\n\n\n  2%|▏         | 15/833 [15:29<12:58:21, 57.09s/it]\u001b[A\u001b[A\u001b[A\u001b[A\u001b[A\u001b[A\n\n\n\n\n\n  2%|▏         | 16/833 [16:25<12:53:06, 56.78s/it]\u001b[A\u001b[A\u001b[A\u001b[A\u001b[A\u001b[A\n\n\n\n\n\n  2%|▏         | 17/833 [17:16<12:31:54, 55.29s/it]\u001b[A\u001b[A\u001b[A\u001b[A\u001b[A\u001b[A\n\n\n\n\n\n  2%|▏         | 18/833 [18:09<12:19:48, 54.46s/it]\u001b[A\u001b[A\u001b[A\u001b[A\u001b[A\u001b[A\n\n\n\n\n\n  2%|▏         | 19/833 [19:01<12:10:30, 53.85s/it]\u001b[A\u001b[A\u001b[A\u001b[A\u001b[A\u001b[A\n\n\n\n\n\n  2%|▏         | 20/833 [19:53<11:59:23, 53.09s/it]\u001b[A\u001b[A\u001b[A\u001b[A\u001b[A\u001b[A\n\n\n\n\n\n  3%|▎         | 21/833 [20:34<11:09:14, 49.45s/it]\u001b[A\u001b[A\u001b[A\u001b[A\u001b[A\u001b[A\n\n\n\n\n\n  3%|▎         | 22/833 [21:29<11:33:44, 51.32s/it]\u001b[A\u001b[A\u001b[A\u001b[A\u001b[A\u001b[A\n\n\n\n\n\n  3%|▎         | 23/833 [22:19<11:25:09, 50.75s/it]\u001b[A\u001b[A\u001b[A\u001b[A\u001b[A\u001b[A\n\n\n\n\n\n  3%|▎         | 24/833 [23:11<11:29:53, 51.17s/it]\u001b[A\u001b[A\u001b[A\u001b[A\u001b[A\u001b[A\n\n\n\n\n\n  3%|▎         | 25/833 [24:03<11:31:24, 51.34s/it]\u001b[A\u001b[A\u001b[A\u001b[A\u001b[A\u001b[A\n\n\n\n\n\n  3%|▎         | 26/833 [24:53<11:25:40, 50.98s/it]\u001b[A\u001b[A\u001b[A\u001b[A\u001b[A\u001b[A\n\n\n\n\n\n  3%|▎         | 27/833 [25:44<11:25:23, 51.02s/it]\u001b[A\u001b[A\u001b[A\u001b[A\u001b[A\u001b[A\n\n\n\n\n\n  3%|▎         | 28/833 [26:37<11:34:43, 51.78s/it]\u001b[A\u001b[A\u001b[A\u001b[A\u001b[A\u001b[A\n\n\n\n\n\n  3%|▎         | 29/833 [27:52<13:05:47, 58.64s/it]\u001b[A\u001b[A\u001b[A\u001b[A\u001b[A\u001b[A\n\n\n\n\n\n  4%|▎         | 30/833 [28:45<12:42:32, 56.98s/it]\u001b[A\u001b[A\u001b[A\u001b[A\u001b[A\u001b[A\n\n\n\n\n\n  4%|▎         | 31/833 [29:36<12:17:17, 55.16s/it]\u001b[A\u001b[A\u001b[A\u001b[A\u001b[A\u001b[A\n\n\n\n\n\n  4%|▍         | 32/833 [30:28<12:01:51, 54.07s/it]\u001b[A\u001b[A\u001b[A\u001b[A\u001b[A\u001b[A\n\n\n\n\n\n  4%|▍         | 33/833 [31:19<11:51:49, 53.39s/it]\u001b[A\u001b[A\u001b[A\u001b[A\u001b[A\u001b[A\n\n\n\n\n\n  4%|▍         | 34/833 [32:13<11:52:43, 53.52s/it]\u001b[A\u001b[A\u001b[A\u001b[A\u001b[A\u001b[A\n\n\n\n\n\n  4%|▍         | 35/833 [33:09<12:01:12, 54.23s/it]\u001b[A\u001b[A\u001b[A\u001b[A\u001b[A\u001b[A\n\n\n\n\n\n  4%|▍         | 36/833 [34:02<11:56:37, 53.95s/it]\u001b[A\u001b[A\u001b[A\u001b[A\u001b[A\u001b[A\n\n\n\n\n\n  4%|▍         | 37/833 [35:05<12:31:38, 56.66s/it]\u001b[A\u001b[A\u001b[A\u001b[A\u001b[A\u001b[A\n\n\n\n\n\n  5%|▍         | 38/833 [36:09<12:58:44, 58.77s/it]\u001b[A\u001b[A\u001b[A\u001b[A\u001b[A\u001b[A\n\n\n\n\n\n  5%|▍         | 39/833 [36:57<12:12:41, 55.37s/it]\u001b[A\u001b[A\u001b[A\u001b[A\u001b[A\u001b[A\n\n\n\n\n\n  5%|▍         | 40/833 [37:59<12:40:33, 57.55s/it]\u001b[A\u001b[A\u001b[A\u001b[A\u001b[A\u001b[A\n\n\n\n\n\n  5%|▍         | 41/833 [39:00<12:54:00, 58.64s/it]\u001b[A\u001b[A\u001b[A\u001b[A\u001b[A\u001b[A\n\n\n\n\n\n  5%|▌         | 42/833 [39:50<12:16:26, 55.86s/it]\u001b[A\u001b[A\u001b[A\u001b[A\u001b[A\u001b[A\n\n\n\n\n\n  5%|▌         | 43/833 [40:52<12:42:19, 57.90s/it]\u001b[A\u001b[A\u001b[A\u001b[A\u001b[A\u001b[A\n\n\n\n\n\n  5%|▌         | 44/833 [41:54<12:56:18, 59.03s/it]\u001b[A\u001b[A\u001b[A\u001b[A\u001b[A\u001b[A\n\n\n\n\n\n  5%|▌         | 45/833 [43:02<13:28:35, 61.57s/it]\u001b[A\u001b[A\u001b[A\u001b[A\u001b[A\u001b[A\n\n\n\n\n\n  6%|▌         | 46/833 [44:10<13:55:03, 63.66s/it]\u001b[A\u001b[A\u001b[A\u001b[A\u001b[A\u001b[A\n\n\n\n\n\n  6%|▌         | 47/833 [45:16<14:02:23, 64.30s/it]\u001b[A\u001b[A\u001b[A\u001b[A\u001b[A\u001b[A\n\n\n\n\n\n  6%|▌         | 48/833 [46:09<13:16:32, 60.88s/it]\u001b[A\u001b[A\u001b[A\u001b[A\u001b[A\u001b[A\n\n\n\n\n\n  6%|▌         | 49/833 [47:13<13:28:06, 61.85s/it]\u001b[A\u001b[A\u001b[A\u001b[A\u001b[A\u001b[A\n\n\n\n\n\n  6%|▌         | 50/833 [48:16<13:33:14, 62.32s/it]\u001b[A\u001b[A\u001b[A\u001b[A\u001b[A\u001b[A\n\n\n\n\n\n  6%|▌         | 51/833 [49:18<13:29:35, 62.12s/it]\u001b[A\u001b[A\u001b[A\u001b[A\u001b[A\u001b[A\n\n\n\n\n\n  6%|▌         | 52/833 [50:12<12:58:19, 59.79s/it]\u001b[A\u001b[A\u001b[A\u001b[A\u001b[A\u001b[A\n\n\n\n\n\n  6%|▋         | 53/833 [51:13<12:59:57, 60.00s/it]\u001b[A\u001b[A\u001b[A\u001b[A\u001b[A\u001b[A\n\n\n\n\n\n  6%|▋         | 54/833 [52:02<12:18:19, 56.87s/it]\u001b[A\u001b[A\u001b[A\u001b[A\u001b[A\u001b[A\n\n\n\n\n\n  7%|▋         | 55/833 [52:51<11:43:55, 54.29s/it]\u001b[A\u001b[A\u001b[A\u001b[A\u001b[A\u001b[A\n\n\n\n\n\n  7%|▋         | 56/833 [53:50<12:01:46, 55.74s/it]\u001b[A\u001b[A\u001b[A\u001b[A\u001b[A\u001b[A\n\n\n\n\n\n  7%|▋         | 57/833 [54:55<12:37:23, 58.56s/it]\u001b[A\u001b[A\u001b[A\u001b[A\u001b[A\u001b[A\n\n\n\n\n\n  7%|▋         | 58/833 [55:54<12:39:42, 58.82s/it]\u001b[A\u001b[A\u001b[A\u001b[A\u001b[A\u001b[A\n\n\n\n\n\n  7%|▋         | 59/833 [56:52<12:35:52, 58.60s/it]\u001b[A\u001b[A\u001b[A\u001b[A\u001b[A\u001b[A\n\n\n\n\n\n  7%|▋         | 60/833 [57:53<12:40:59, 59.07s/it]\u001b[A\u001b[A\u001b[A\u001b[A\u001b[A\u001b[A\n\n\n\n\n\n  7%|▋         | 61/833 [58:53<12:45:56, 59.53s/it]\u001b[A\u001b[A\u001b[A\u001b[A\u001b[A\u001b[A\n\n\n\n\n\n  7%|▋         | 62/833 [59:58<13:04:07, 61.02s/it]\u001b[A\u001b[A\u001b[A\u001b[A\u001b[A\u001b[A\n\n\n\n\n\n  8%|▊         | 63/833 [1:01:06<13:33:11, 63.37s/it]\u001b[A\u001b[A\u001b[A\u001b[A\u001b[A\u001b[A\n\n\n\n\n\n  8%|▊         | 64/833 [1:02:08<13:25:50, 62.87s/it]\u001b[A\u001b[A\u001b[A\u001b[A\u001b[A\u001b[A\n\n\n\n\n\n  8%|▊         | 65/833 [1:03:12<13:26:33, 63.01s/it]\u001b[A\u001b[A\u001b[A\u001b[A\u001b[A\u001b[A\n\n\n\n\n\n  8%|▊         | 66/833 [1:04:11<13:10:26, 61.83s/it]\u001b[A\u001b[A\u001b[A\u001b[A\u001b[A\u001b[A\n\n\n\n\n\n  8%|▊         | 67/833 [1:05:24<13:54:07, 65.34s/it]\u001b[A\u001b[A\u001b[A\u001b[A\u001b[A\u001b[A\n\n\n\n\n\n  8%|▊         | 68/833 [1:06:35<14:14:02, 66.98s/it]\u001b[A\u001b[A\u001b[A\u001b[A\u001b[A\u001b[A\n\n\n\n\n\n  8%|▊         | 69/833 [1:07:29<13:22:58, 63.06s/it]\u001b[A\u001b[A\u001b[A\u001b[A\u001b[A\u001b[A\n\n\n\n\n\n  8%|▊         | 70/833 [1:08:21<12:40:45, 59.82s/it]\u001b[A\u001b[A\u001b[A\u001b[A\u001b[A\u001b[A\n\n\n\n\n\n  9%|▊         | 71/833 [1:09:32<13:19:51, 62.98s/it]\u001b[A\u001b[A\u001b[A\u001b[A\u001b[A\u001b[A\n\n\n\n\n\n  9%|▊         | 72/833 [1:10:54<14:33:11, 68.85s/it]\u001b[A\u001b[A\u001b[A\u001b[A\u001b[A\u001b[A\n\n\n\n\n\n  9%|▉         | 73/833 [1:11:42<13:13:46, 62.67s/it]\u001b[A\u001b[A\u001b[A\u001b[A\u001b[A\u001b[A\n\n\n\n\n\n  9%|▉         | 74/833 [1:12:59<14:06:04, 66.88s/it]\u001b[A\u001b[A\u001b[A\u001b[A\u001b[A\u001b[A\n\n\n\n\n\n  9%|▉         | 75/833 [1:14:09<14:17:02, 67.84s/it]\u001b[A\u001b[A\u001b[A\u001b[A\u001b[A\u001b[A\n\n\n\n\n\n  9%|▉         | 76/833 [1:15:03<13:23:04, 63.65s/it]\u001b[A\u001b[A\u001b[A\u001b[A\u001b[A\u001b[A\n\n\n\n\n\n  9%|▉         | 77/833 [1:16:12<13:43:04, 65.32s/it]\u001b[A\u001b[A\u001b[A\u001b[A\u001b[A\u001b[A\n\n\n\n\n\n  9%|▉         | 78/833 [1:17:29<14:23:41, 68.64s/it]\u001b[A\u001b[A\u001b[A\u001b[A\u001b[A\u001b[A\n\n\n\n\n\n  9%|▉         | 79/833 [1:18:42<14:40:02, 70.03s/it]\u001b[A\u001b[A\u001b[A\u001b[A\u001b[A\u001b[A\n\n\n\n\n\n 10%|▉         | 80/833 [1:19:39<13:49:46, 66.12s/it]\u001b[A\u001b[A\u001b[A\u001b[A\u001b[A\u001b[A\n\n\n\n\n\n 10%|▉         | 81/833 [1:20:29<12:49:48, 61.42s/it]\u001b[A\u001b[A\u001b[A\u001b[A\u001b[A\u001b[A\n\n\n\n\n\n 10%|▉         | 82/833 [1:21:49<13:56:38, 66.84s/it]\u001b[A\u001b[A\u001b[A\u001b[A\u001b[A\u001b[A\n\n\n\n\n\n 10%|▉         | 83/833 [1:23:09<14:46:17, 70.90s/it]\u001b[A\u001b[A\u001b[A\u001b[A\u001b[A\u001b[A\n\n\n\n\n\n 10%|█         | 84/833 [1:24:22<14:51:59, 71.45s/it]\u001b[A\u001b[A\u001b[A\u001b[A\u001b[A\u001b[A\n\n\n\n\n\n 10%|█         | 85/833 [1:25:37<15:03:51, 72.50s/it]\u001b[A\u001b[A\u001b[A\u001b[A\u001b[A\u001b[A\n\n\n\n\n\n 10%|█         | 86/833 [1:26:45<14:48:08, 71.34s/it]\u001b[A\u001b[A\u001b[A\u001b[A\u001b[A\u001b[A\n\n\n\n\n\n 10%|█         | 87/833 [1:27:55<14:38:53, 70.69s/it]\u001b[A\u001b[A\u001b[A\u001b[A\u001b[A\u001b[A\n\n\n\n\n\n 11%|█         | 88/833 [1:29:13<15:06:10, 72.98s/it]\u001b[A\u001b[A\u001b[A\u001b[A\u001b[A\u001b[A\n\n\n\n\n\n 11%|█         | 89/833 [1:30:12<14:12:31, 68.75s/it]\u001b[A\u001b[A\u001b[A\u001b[A\u001b[A\u001b[A\n\n\n\n\n\n 11%|█         | 90/833 [1:31:14<13:46:16, 66.72s/it]\u001b[A\u001b[A\u001b[A\u001b[A\u001b[A\u001b[A\n\n\n\n\n\n 11%|█         | 91/833 [1:32:19<13:39:20, 66.25s/it]\u001b[A\u001b[A\u001b[A\u001b[A\u001b[A\u001b[A\n\n\n\n\n\n 11%|█         | 92/833 [1:33:33<14:07:17, 68.61s/it]\u001b[A\u001b[A\u001b[A\u001b[A\u001b[A\u001b[A\n\n\n\n\n\n 11%|█         | 93/833 [1:34:40<14:00:01, 68.11s/it]\u001b[A\u001b[A\u001b[A\u001b[A\u001b[A\u001b[A\n\n\n\n\n\n 11%|█▏        | 94/833 [1:35:52<14:12:52, 69.25s/it]\u001b[A\u001b[A\u001b[A\u001b[A\u001b[A\u001b[A\n\n\n\n\n\n 11%|█▏        | 95/833 [1:37:20<15:22:02, 74.96s/it]\u001b[A\u001b[A\u001b[A\u001b[A\u001b[A\u001b[A\n\n\n\n\n\n 12%|█▏        | 96/833 [1:38:29<14:58:45, 73.17s/it]\u001b[A\u001b[A\u001b[A\u001b[A\u001b[A\u001b[A\n\n\n\n\n\n 12%|█▏        | 97/833 [1:39:48<15:17:46, 74.82s/it]\u001b[A\u001b[A\u001b[A\u001b[A\u001b[A\u001b[A\n\n\n\n\n\n 12%|█▏        | 98/833 [1:40:55<14:49:21, 72.60s/it]\u001b[A\u001b[A\u001b[A\u001b[A\u001b[A\u001b[A\n\n\n\n\n\n 12%|█▏        | 99/833 [1:41:56<14:04:53, 69.06s/it]\u001b[A\u001b[A\u001b[A\u001b[A\u001b[A\u001b[A\n\n\n\n\n\n 12%|█▏        | 100/833 [1:43:03<13:56:56, 68.51s/it]\u001b[A\u001b[A\u001b[A\u001b[A\u001b[A\u001b[A\n\n\n\n\n\n 12%|█▏        | 101/833 [1:43:56<12:56:52, 63.68s/it]\u001b[A\u001b[A\u001b[A\u001b[A\u001b[A\u001b[A\n\n\n\n\n\n 12%|█▏        | 102/833 [1:45:00<12:58:38, 63.91s/it]\u001b[A\u001b[A\u001b[A\u001b[A\u001b[A\u001b[A\n\n\n\n\n\n 12%|█▏        | 103/833 [1:46:02<12:49:02, 63.21s/it]\u001b[A\u001b[A\u001b[A\u001b[A\u001b[A\u001b[A\n\n\n\n\n\n 12%|█▏        | 104/833 [1:47:12<13:13:28, 65.31s/it]\u001b[A\u001b[A\u001b[A\u001b[A\u001b[A\u001b[A\n\n\n\n\n\n 13%|█▎        | 105/833 [1:48:24<13:36:27, 67.29s/it]\u001b[A\u001b[A\u001b[A\u001b[A\u001b[A\u001b[A\n\n\n\n\n\n 13%|█▎        | 106/833 [1:49:51<14:47:45, 73.27s/it]\u001b[A\u001b[A\u001b[A\u001b[A\u001b[A\u001b[A\n\n\n\n\n\n 13%|█▎        | 107/833 [1:51:03<14:43:11, 72.99s/it]\u001b[A\u001b[A\u001b[A\u001b[A\u001b[A\u001b[A\n\n\n\n\n\n 13%|█▎        | 108/833 [1:52:17<14:42:37, 73.04s/it]\u001b[A\u001b[A\u001b[A\u001b[A\u001b[A\u001b[A\n\n\n\n\n\n 13%|█▎        | 109/833 [1:53:20<14:07:48, 70.26s/it]\u001b[A\u001b[A\u001b[A\u001b[A\u001b[A\u001b[A\n\n\n\n\n\n 13%|█▎        | 110/833 [1:54:52<15:24:28, 76.72s/it]\u001b[A\u001b[A\u001b[A\u001b[A\u001b[A\u001b[A\n\n\n\n\n\n 13%|█▎        | 111/833 [1:55:46<13:58:56, 69.72s/it]\u001b[A\u001b[A\u001b[A\u001b[A\u001b[A\u001b[A\n\n\n\n\n\n 13%|█▎        | 112/833 [1:56:55<13:56:44, 69.63s/it]\u001b[A\u001b[A\u001b[A\u001b[A\u001b[A\u001b[A\n\n\n\n\n\n 14%|█▎        | 113/833 [1:58:10<14:13:44, 71.15s/it]\u001b[A\u001b[A\u001b[A\u001b[A\u001b[A\u001b[A\n\n\n\n\n\n 14%|█▎        | 114/833 [1:59:17<13:59:50, 70.08s/it]\u001b[A\u001b[A\u001b[A\u001b[A\u001b[A\u001b[A\n\n\n\n\n\n 14%|█▍        | 115/833 [2:00:33<14:18:10, 71.71s/it]\u001b[A\u001b[A\u001b[A\u001b[A\u001b[A\u001b[A\n\n\n\n\n\n 14%|█▍        | 116/833 [2:01:29<13:21:17, 67.05s/it]\u001b[A\u001b[A\u001b[A\u001b[A\u001b[A\u001b[A\n\n\n\n\n\n 14%|█▍        | 117/833 [2:02:45<13:52:02, 69.72s/it]\u001b[A\u001b[A\u001b[A\u001b[A\u001b[A\u001b[A\n\n\n\n\n\n 14%|█▍        | 118/833 [2:04:07<14:34:40, 73.40s/it]\u001b[A\u001b[A\u001b[A\u001b[A\u001b[A\u001b[A\n\n\n\n\n\n 14%|█▍        | 119/833 [2:05:29<15:03:14, 75.90s/it]\u001b[A\u001b[A\u001b[A\u001b[A\u001b[A\u001b[A\n\n\n\n\n\n 14%|█▍        | 120/833 [2:06:52<15:29:49, 78.25s/it]\u001b[A\u001b[A\u001b[A\u001b[A\u001b[A\u001b[A\n\n\n\n\n\n 15%|█▍        | 121/833 [2:08:27<16:26:21, 83.12s/it]\u001b[A\u001b[A\u001b[A\u001b[A\u001b[A\u001b[A\n\n\n\n\n\n 15%|█▍        | 122/833 [2:09:51<16:28:45, 83.44s/it]\u001b[A\u001b[A\u001b[A\u001b[A\u001b[A\u001b[A\n\n\n\n\n\n 15%|█▍        | 123/833 [2:11:06<15:57:58, 80.96s/it]\u001b[A\u001b[A\u001b[A\u001b[A\u001b[A\u001b[A\n\n\n\n\n\n 15%|█▍        | 124/833 [2:12:27<15:55:50, 80.89s/it]\u001b[A\u001b[A\u001b[A\u001b[A\u001b[A\u001b[A\n\n\n\n\n\n 15%|█▌        | 125/833 [2:13:33<15:01:08, 76.37s/it]\u001b[A\u001b[A\u001b[A\u001b[A\u001b[A\u001b[A\n\n\n\n\n\n 15%|█▌        | 126/833 [2:14:52<15:09:24, 77.18s/it]\u001b[A\u001b[A\u001b[A\u001b[A\u001b[A\u001b[A\n\n\n\n\n\n 15%|█▌        | 127/833 [2:16:29<16:18:45, 83.18s/it]\u001b[A\u001b[A\u001b[A\u001b[A\u001b[A\u001b[A\n\n\n\n\n\n 15%|█▌        | 128/833 [2:17:40<15:33:16, 79.43s/it]\u001b[A\u001b[A\u001b[A\u001b[A\u001b[A\u001b[A\n\n\n\n\n\n 15%|█▌        | 129/833 [2:19:13<16:20:45, 83.59s/it]\u001b[A\u001b[A\u001b[A\u001b[A\u001b[A\u001b[A\n\n\n\n\n\n 16%|█▌        | 130/833 [2:20:20<15:22:05, 78.70s/it]\u001b[A\u001b[A\u001b[A\u001b[A\u001b[A\u001b[A\n\n\n\n\n\n 16%|█▌        | 131/833 [2:21:50<15:58:48, 81.95s/it]\u001b[A\u001b[A\u001b[A\u001b[A\u001b[A\u001b[A\n\n\n\n\n\n 16%|█▌        | 132/833 [2:23:10<15:49:44, 81.29s/it]\u001b[A\u001b[A\u001b[A\u001b[A\u001b[A\u001b[A\n\n\n\n\n\n 16%|█▌        | 133/833 [2:24:36<16:05:18, 82.74s/it]\u001b[A\u001b[A\u001b[A\u001b[A\u001b[A\u001b[A\n\n\n\n\n\n 16%|█▌        | 134/833 [2:25:59<16:06:52, 82.99s/it]\u001b[A\u001b[A\u001b[A\u001b[A\u001b[A\u001b[A\n\n\n\n\n\n 16%|█▌        | 135/833 [2:27:14<15:35:24, 80.41s/it]\u001b[A\u001b[A\u001b[A\u001b[A\u001b[A\u001b[A\n\n\n\n\n\n 16%|█▋        | 136/833 [2:28:54<16:44:39, 86.48s/it]\u001b[A\u001b[A\u001b[A\u001b[A\u001b[A\u001b[A\n\n\n\n\n\n 16%|█▋        | 137/833 [2:30:15<16:24:40, 84.89s/it]\u001b[A\u001b[A\u001b[A\u001b[A\u001b[A\u001b[A\n\n\n\n\n\n 17%|█▋        | 138/833 [2:31:32<15:53:12, 82.29s/it]\u001b[A\u001b[A\u001b[A\u001b[A\u001b[A\u001b[A\n\n\n\n\n\n 17%|█▋        | 139/833 [2:32:48<15:29:30, 80.36s/it]\u001b[A\u001b[A\u001b[A\u001b[A\u001b[A\u001b[A\n\n\n\n\n\n 17%|█▋        | 140/833 [2:33:58<14:52:24, 77.26s/it]\u001b[A\u001b[A\u001b[A\u001b[A\u001b[A\u001b[A\n\n\n\n\n\n 17%|█▋        | 141/833 [2:35:18<15:01:27, 78.16s/it]\u001b[A\u001b[A\u001b[A\u001b[A\u001b[A\u001b[A\n\n\n\n\n\n 17%|█▋        | 142/833 [2:36:27<14:27:43, 75.34s/it]\u001b[A\u001b[A\u001b[A\u001b[A\u001b[A\u001b[A\n\n\n\n\n\n 17%|█▋        | 143/833 [2:37:36<14:05:57, 73.56s/it]\u001b[A\u001b[A\u001b[A\u001b[A\u001b[A\u001b[A\n\n\n\n\n\n 17%|█▋        | 144/833 [2:38:43<13:42:37, 71.64s/it]\u001b[A\u001b[A\u001b[A\u001b[A\u001b[A\u001b[A\n\n\n\n\n\n 17%|█▋        | 145/833 [2:39:52<13:31:03, 70.73s/it]\u001b[A\u001b[A\u001b[A\u001b[A\u001b[A\u001b[A\n\n\n\n\n\n 18%|█▊        | 146/833 [2:41:01<13:24:21, 70.25s/it]\u001b[A\u001b[A\u001b[A\u001b[A\u001b[A\u001b[A\n\n\n\n\n\n 18%|█▊        | 147/833 [2:42:12<13:25:21, 70.44s/it]\u001b[A\u001b[A\u001b[A\u001b[A\u001b[A\u001b[A\n\n\n\n\n\n 18%|█▊        | 148/833 [2:43:35<14:09:37, 74.42s/it]\u001b[A\u001b[A\u001b[A\u001b[A\u001b[A\u001b[A\n\n\n\n\n\n 18%|█▊        | 149/833 [2:44:53<14:20:00, 75.44s/it]\u001b[A\u001b[A\u001b[A\u001b[A\u001b[A\u001b[A"
    }
   ],
   "source": [
    "for nhkurl in tqdm.tqdm(htmls[1:-2]):\n",
    "    driver.get(f'https://web.archive.org/web/2019*/{nhkurl}')\n",
    "    time.sleep(10)\n",
    "    html = str(driver.page_source.encode('utf-8'))\n",
    "    snap = re.search(r'(between|1 time).*?<a href=\"(.+?)\">', html)\n",
    "    if not snap:\n",
    "        print(nhkurl)\n",
    "        continue\n",
    "    driver.get('https://web.archive.org' + snap.group(2))\n",
    "    time.sleep(20)\n",
    "    html = driver.page_source.encode('utf-8')\n",
    "    dic = scrape(html)\n",
    "    js(dic)"
   ]
  },
  {
   "cell_type": "code",
   "execution_count": 94,
   "metadata": {},
   "outputs": [
    {
     "name": "stdout",
     "output_type": "stream",
     "text": "{'id': 'k10011846961000', 'title': '買い物弱者など解決へ ロボットがコンビニの商品配達する実験', 'article': '高齢化に伴う「買い物弱者」などの解決につなげようと、自動で動くロボットがコンビニの商品を配達する実験が神奈川県の大学で行われました。\\nこれは大手コンビニチェーンの「ローソン」と自動運転技術を開発するベンチャー企業の「ＺＭＰ」などが行いました。実験は大学内で行われ、利用者がスマートフォンの専用のアプリを使って商品を注文すると、高さ、幅などが１メートルに満たない箱型のロボットが、仮設の店舗から商品を届けます。センサーやカメラが周りの状況を認識しているということで、人が近づくと自動的に停止するほか、人とすれ違った際には音声であいさつもしてくれます。両社では、こうしたロボットで高齢化に伴う買い物弱者やドライバーの人手不足といった課題の解決につなげたい考えです。また公道を移動できるよう国に対して法整備を働きかけていくことにしています。ローソンの牧野国嗣オープン・イノベーションセンター長は「時間がなかったり、体が不自由で店に行けなかったりするなど、さまざまなニーズに応えるため、実用化を進めていきたい」と話していました。', 'genre': ['ビジネス', '社会'], 'keywords': [], 'url': 'https://www3.nhk.or.jp/news/html/20190313/k10011846961000.html', 'datePublished': '2019-03-13T17:35:18+09:00', 'dateModified': '2019-03-27T14:00:23+09:00'}\n"
    }
   ],
   "source": [
    "html = driver.page_source.encode('utf-8')\n",
    "soup = BeautifulSoup(html, \"html.parser\")\n",
    "dic = scrape(html)\n",
    "print(dic)\n",
    "js(dic)"
   ]
  },
  {
   "cell_type": "code",
   "execution_count": 91,
   "metadata": {},
   "outputs": [],
   "source": [
    "html = str(driver.page_source.encode('utf-8'))\n",
    "re.search(r'\"genre\":(.+?),', html)"
   ]
  },
  {
   "cell_type": "markdown",
   "execution_count": 63,
   "metadata": {},
   "outputs": [],
   "source": [
    "# clean category & keyword"
   ]
  },
  {
   "cell_type": "code",
   "execution_count": 75,
   "metadata": {},
   "outputs": [
    {
     "name": "stdout",
     "output_type": "stream",
     "text": "4712\n"
    }
   ],
   "source": [
    "with open('nhkweb.json','r', encoding='utf-8') as f:\n",
    "    data = json.load(f)\n",
    "print(len(data))"
   ]
  },
  {
   "cell_type": "code",
   "execution_count": 79,
   "metadata": {},
   "outputs": [
    {
     "name": "stdout",
     "output_type": "stream",
     "text": "4712\n"
    },
    {
     "data": {
      "text/plain": "[('社会', 1232),\n ('国際', 1039),\n ('ビジネス', 603),\n ('スポーツ', 532),\n ('政治', 518),\n ('科学・文化', 504),\n ('暮らし', 285),\n ('地域', 234),\n ('気象・災害', 209)]"
     },
     "execution_count": 79,
     "metadata": {},
     "output_type": "execute_result"
    }
   ],
   "source": [
    "# check category\n",
    "\n",
    "with open('nhkweb.json','r', encoding='utf-8') as f:\n",
    "    data = json.load(f)\n",
    "print(len(data))\n",
    "genre = Counter()\n",
    "for dic in data:\n",
    "    for g in dic['genre']:\n",
    "        genre[g] += 1\n",
    "genre.most_common()"
   ]
  },
  {
   "cell_type": "code",
   "execution_count": 77,
   "metadata": {},
   "outputs": [],
   "source": [
    "# genre <> keywords\n",
    "\n",
    "with open('nhkweb.json','r', encoding='utf-8') as f:\n",
    "    data = json.load(f)\n",
    "\n",
    "category = ['社会', '国際', 'ビジネス', 'スポーツ', '政治', '科学・文化', '暮らし', '地域', '気象・災害']\n",
    "for i, dic in enumerate(data):\n",
    "    newgenre = []\n",
    "    newkey = []\n",
    "    for j in dic['genre']:\n",
    "        j = re.sub('災害|気象', '気象・災害', j)\n",
    "        if j in category:\n",
    "            newgenre.append(j)\n",
    "        else:\n",
    "            newkey.append(j)\n",
    "    for j in dic['keywords']:\n",
    "        j = re.sub('災害|気象', '気象・災害', j)\n",
    "        if j in category:\n",
    "            newgenre.append(j)\n",
    "        else:\n",
    "            newkey.append(j)\n",
    "    data[i]['genre'] = list(set(newgenre))\n",
    "    data[i]['keywords'] = list(set(newkey))\n",
    "\n",
    "with open('nhkweb.json','w', encoding='utf-8') as f:\n",
    "    json.dump(data, f, indent=4, ensure_ascii=False)\n",
    "    "
   ]
  },
  {
   "cell_type": "code",
   "execution_count": null,
   "metadata": {},
   "outputs": [],
   "source": []
  }
 ]
}