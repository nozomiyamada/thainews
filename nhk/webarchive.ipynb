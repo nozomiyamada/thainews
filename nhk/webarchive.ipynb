{
 "nbformat": 4,
 "nbformat_minor": 2,
 "metadata": {
  "language_info": {
   "name": "python",
   "codemirror_mode": {
    "name": "ipython",
    "version": 3
   },
   "version": "3.7.5-final"
  },
  "orig_nbformat": 2,
  "file_extension": ".py",
  "mimetype": "text/x-python",
  "name": "python",
  "npconvert_exporter": "python",
  "pygments_lexer": "ipython3",
  "version": 3,
  "kernelspec": {
   "name": "python37564bit72de44cd76184052b9457c2863c13ac2",
   "display_name": "Python 3.7.5 64-bit"
  }
 },
 "cells": [
  {
   "source": [
    "import numpy as np\n",
    "import pandas as pd\n",
    "import re, json, csv, requests, time, glob, tqdm\n",
    "from bs4 import BeautifulSoup\n",
    "from selenium import webdriver"
   ],
   "cell_type": "code",
   "outputs": [],
   "metadata": {},
   "execution_count": 3
  },
  {
   "source": [
    "def scrape(html):\n",
    "    soup = BeautifulSoup(html, \"html.parser\")\n",
    "    json_data = json.loads(soup.find_all(\"script\", type=\"application/ld+json\")[-1].text)\n",
    "    title = json_data['headline']\n",
    "    date = json_data['datePublished']\n",
    "    date_m = json_data['dateModified']\n",
    "    genre = json_data.get('genre', [])\n",
    "    keywords = json_data.get('keywords', [])\n",
    "    article = soup.find('div', id=\"news_textbody\").text\n",
    "    url_normal = 'https:' + soup.find('meta', property=\"og:url\").get('content').rsplit('https:')[-1]\n",
    "    if soup.find_all('div', id=\"news_textmore\") != []:\n",
    "        for textmore in soup.find_all('div', id=\"news_textmore\"):\n",
    "            article += ('\\n' + textmore.text)\n",
    "    if soup.find_all('div', class_=\"news_add\") != []:\n",
    "        for newsadd in soup.find_all('div', class_=\"news_add\"):\n",
    "            if newsadd.h3 != None:\n",
    "                newsadd.h3.extract()\n",
    "            article += ('\\n' + newsadd.text)\n",
    "            \n",
    "    return {\n",
    "        'id':url_normal.split('/')[-1].split('.html')[0],\n",
    "        'title':title,\n",
    "        'article':article.strip(),\n",
    "        'genre':genre,\n",
    "        'keywords':keywords,\n",
    "        'url':url_normal,\n",
    "        'datePublished':date,\n",
    "        'dateModified':date_m\n",
    "    }\n",
    "\n",
    "def get_link(start=0):\n",
    "    notyet = []\n",
    "    n_list = pd.read_json('nhkweb.json', encoding='utf-8')['url'].tolist()\n",
    "    df_e = pd.read_json('nhkwebeasy.json', encoding='utf-8') \n",
    "    for i in df_e['url_normal'][start:]:\n",
    "        if i not in n_list:\n",
    "            notyet.append(i)\n",
    "    return notyet\n",
    "\n",
    "def js(dic):\n",
    "    with open('nhkweb.json', 'r', encoding='utf-8') as f:\n",
    "        data = json.load(f)\n",
    "    with open('nhkweb.json', 'w', encoding='utf-8') as f:\n",
    "        if dic not in data:\n",
    "            data.append(dic)\n",
    "        data = sorted(data, key=lambda x:x['id'])\n",
    "        json.dump(data, f, indent=4, ensure_ascii=False)\n",
    "        \n",
    "easy = pd.read_json('nhkwebeasy.json')"
   ],
   "cell_type": "code",
   "outputs": [],
   "metadata": {},
   "execution_count": 4
  },
  {
   "cell_type": "code",
   "execution_count": 4,
   "metadata": {},
   "outputs": [],
   "source": [
    "htmls = ['https://www3.nhk.or.jp/news/html/20191117/k10012180511000.html']"
   ]
  },
  {
   "source": [
    "htmls = get_link(400); htmls"
   ],
   "cell_type": "code",
   "outputs": [
    {
     "output_type": "execute_result",
     "data": {
      "text/plain": "['https://www3.nhk.or.jp/news/html/20190423/k10011893291000.html',\n 'https://www3.nhk.or.jp/news/html/20190423/k10011893771000.html',\n 'https://www3.nhk.or.jp/news/html/20190424/k10011893961000.html',\n 'https://www3.nhk.or.jp/news/html/20190424/k10011894371000.html',\n 'https://www3.nhk.or.jp/news/html/20190424/k10011894381000.html',\n 'https://www3.nhk.or.jp/news/html/20190424/k10011894931000.html',\n 'https://www3.nhk.or.jp/news/html/20190425/k10011895461000.html',\n 'https://www3.nhk.or.jp/news/html/20190425/k10011895631000.html',\n 'https://www3.nhk.or.jp/news/html/20190425/k10011896411000.html',\n 'https://www3.nhk.or.jp/news/html/20190425/k10011896471000.html',\n 'https://www3.nhk.or.jp/news/html/20190425/k10011896501000.html',\n 'https://www3.nhk.or.jp/news/html/20190425/k10011896761000.html',\n 'https://www3.nhk.or.jp/news/html/20190426/k10011896961000.html',\n 'https://www3.nhk.or.jp/news/html/20190506/k10011901411000.html',\n 'https://www3.nhk.or.jp/news/html/20190501/k10011902581000.html',\n 'https://www3.nhk.or.jp/news/html/20190501/k10011903031000.html',\n 'https://www3.nhk.or.jp/news/html/20190504/k10011905091000.html',\n 'https://www3.nhk.or.jp/news/html/20190506/k10011906471000.html',\n 'https://www3.nhk.or.jp/news/html/20190506/k10011906921000.html',\n 'https://www3.nhk.or.jp/news/html/20190507/k10011907121000.html',\n 'https://www3.nhk.or.jp/news/html/20190507/k10011907461000.html',\n 'https://www3.nhk.or.jp/news/html/20190507/k10011907521000.html',\n 'https://www3.nhk.or.jp/news/html/20190507/k10011907661000.html',\n 'https://www3.nhk.or.jp/news/html/20190507/k10011907701000.html',\n 'https://www3.nhk.or.jp/news/html/20190508/k10011908231000.html',\n 'https://www3.nhk.or.jp/news/html/20190508/k10011908411000.html',\n 'https://www3.nhk.or.jp/news/html/20190508/k10011908631000.html',\n 'https://www3.nhk.or.jp/news/html/20190508/k10011908731000.html',\n 'https://www3.nhk.or.jp/news/html/20190508/k10011908771000.html',\n 'https://www3.nhk.or.jp/news/html/20190508/k10011908801000.html',\n 'https://www3.nhk.or.jp/news/html/20190508/k10011908921000.html',\n 'https://www3.nhk.or.jp/news/html/20190509/k10011909561000.html',\n 'https://www3.nhk.or.jp/news/html/20190509/k10011909951000.html',\n 'https://www3.nhk.or.jp/news/html/20190509/k10011910251000.html',\n 'https://www3.nhk.or.jp/news/html/20190510/k10011910771000.html',\n 'https://www3.nhk.or.jp/news/html/20190511/k10011912431000.html',\n 'https://www3.nhk.or.jp/news/html/20190512/k10011913021000.html',\n 'https://www3.nhk.or.jp/news/html/20190512/k10011913501000.html',\n 'https://www3.nhk.or.jp/news/html/20190512/k10011913581000.html',\n 'https://www3.nhk.or.jp/news/html/20190513/k10011913691000.html',\n 'https://www3.nhk.or.jp/news/html/20190513/k10011914561000.html',\n 'https://www3.nhk.or.jp/news/html/20190514/k10011914981000.html',\n 'https://www3.nhk.or.jp/news/html/20190514/k10011915011000.html',\n 'https://www3.nhk.or.jp/news/html/20190514/k10011915111000.html',\n 'https://www3.nhk.or.jp/news/html/20190514/k10011915211000.html',\n 'https://www3.nhk.or.jp/news/html/20190514/k10011915371000.html',\n 'https://www3.nhk.or.jp/news/html/20190514/k10011915791000.html',\n 'https://www3.nhk.or.jp/news/html/20190514/k10011915891000.html',\n 'https://www3.nhk.or.jp/news/html/20190514/k10011915901000.html',\n 'https://www3.nhk.or.jp/news/html/20190515/k10011916321000.html',\n 'https://www3.nhk.or.jp/news/html/20191010/k10012120321000.html',\n 'https://www3.nhk.or.jp/news/html/20191017/k10012135411000.html']"
     },
     "metadata": {},
     "execution_count": 25
    }
   ],
   "metadata": {},
   "execution_count": 25
  },
  {
   "cell_type": "markdown",
   "execution_count": null,
   "metadata": {},
   "outputs": [],
   "source": [
    "# scrape"
   ]
  },
  {
   "source": [
    "driver = webdriver.Chrome()"
   ],
   "cell_type": "code",
   "outputs": [],
   "metadata": {},
   "execution_count": 9
  },
  {
   "source": [
    "for nhkurl in tqdm.tqdm(htmls[:-2]):\n",
    "    driver.get(f'https://web.archive.org/web/2019*/{nhkurl}')\n",
    "    time.sleep(10)\n",
    "    html = str(driver.page_source.encode('utf-8'))\n",
    "    snap = re.search(r'(between|1 time).*?<a href=\"(.+?)\">', html)\n",
    "    if not snap:\n",
    "        print(nhkurl)\n",
    "        continue\n",
    "    driver.get('https://web.archive.org' + snap.group(2))\n",
    "    time.sleep(30)\n",
    "    html = driver.page_source.encode('utf-8')\n",
    "    dic = scrape(html)\n",
    "    js(dic)"
   ],
   "cell_type": "code",
   "outputs": [
    {
     "output_type": "stream",
     "name": "stderr",
     "text": "100%|██████████| 50/50 [1:02:07<00:00, 74.55s/it]\n"
    }
   ],
   "metadata": {},
   "execution_count": 26
  },
  {
   "cell_type": "code",
   "execution_count": 44,
   "metadata": {},
   "outputs": [],
   "source": [
    "html = driver.page_source.encode('utf-8')\n",
    "dic = scrape(html)\n",
    "js(dic)"
   ]
  },
  {
   "cell_type": "code",
   "execution_count": 15,
   "metadata": {},
   "outputs": [
    {
     "data": {
      "text/plain": "['</strong>&nbsp;<a href=\"/web/']"
     },
     "execution_count": 15,
     "metadata": {},
     "output_type": "execute_result"
    }
   ],
   "source": [
    "re.findall(r'1 time(.............................)', html)"
   ]
  },
  {
   "cell_type": "code",
   "execution_count": null,
   "metadata": {},
   "outputs": [],
   "source": []
  }
 ]
}