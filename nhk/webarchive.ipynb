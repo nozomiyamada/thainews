{
 "nbformat": 4,
 "nbformat_minor": 2,
 "metadata": {
  "language_info": {
   "name": "python",
   "codemirror_mode": {
    "name": "ipython",
    "version": 3
   },
   "version": "3.7.5-final"
  },
  "orig_nbformat": 2,
  "file_extension": ".py",
  "mimetype": "text/x-python",
  "name": "python",
  "npconvert_exporter": "python",
  "pygments_lexer": "ipython3",
  "version": 3,
  "kernelspec": {
   "name": "python37564bitfc898d97eee84e119bf64c8374813c1c",
   "display_name": "Python 3.7.5 64-bit"
  }
 },
 "cells": [
  {
   "source": [
    "import numpy as np\n",
    "import pandas as pd\n",
    "import re, json, csv, requests, time, glob, tqdm\n",
    "from bs4 import BeautifulSoup\n",
    "from selenium import webdriver"
   ],
   "cell_type": "code",
   "outputs": [],
   "metadata": {},
   "execution_count": 1
  },
  {
   "source": [
    "def scrape(html):\n",
    "    soup = BeautifulSoup(html, \"html.parser\")\n",
    "    json_data = json.loads(soup.find_all(\"script\", type=\"application/ld+json\")[-1].text)\n",
    "    title = json_data['headline']\n",
    "    date = json_data['datePublished']\n",
    "    date_m = json_data['dateModified']\n",
    "    genre = json_data.get('genre', [])\n",
    "    keywords = json_data.get('keywords', [])\n",
    "    article = soup.find('div', id=\"news_textbody\").text\n",
    "    url_normal = 'https:' + soup.find('meta', property=\"og:url\").get('content').rsplit('https:')[-1]\n",
    "    if soup.find_all('div', id=\"news_textmore\") != []:\n",
    "        for textmore in soup.find_all('div', id=\"news_textmore\"):\n",
    "            article += ('\\n' + textmore.text)\n",
    "    if soup.find_all('div', class_=\"news_add\") != []:\n",
    "        for newsadd in soup.find_all('div', class_=\"news_add\"):\n",
    "            if newsadd.h3 != None:\n",
    "                newsadd.h3.extract()\n",
    "            article += ('\\n' + newsadd.text)\n",
    "            \n",
    "    return {\n",
    "        'id':url_normal.split('/')[-1].split('.html')[0],\n",
    "        'title':title,\n",
    "        'article':article.strip(),\n",
    "        'genre':genre,\n",
    "        'keywords':keywords,\n",
    "        'url':url_normal,\n",
    "        'datePublished':date,\n",
    "        'dateModified':date_m\n",
    "    }\n",
    "\n",
    "def js(dic):\n",
    "    with open('nhkweb.json', 'r', encoding='utf-8') as f:\n",
    "        data = json.load(f)\n",
    "    with open('nhkweb.json', 'w', encoding='utf-8') as f:\n",
    "        if dic not in data:\n",
    "            data.append(dic)\n",
    "        data = sorted(data, key=lambda x:x['id'])\n",
    "        json.dump(data, f, indent=4, ensure_ascii=False)\n",
    "        \n",
    "easy = pd.read_json('nhkwebeasy.json')"
   ],
   "cell_type": "code",
   "outputs": [],
   "metadata": {},
   "execution_count": 2
  },
  {
   "cell_type": "code",
   "execution_count": null,
   "metadata": {},
   "outputs": [],
   "source": [
    "driver = webdriver.Chrome()"
   ]
  },
  {
   "cell_type": "code",
   "execution_count": null,
   "metadata": {},
   "outputs": [],
   "source": [
    "for nhkurl in tqdm.tqdm(htmls):\n",
    "    driver.get(f'https://web.archive.org/web/2019*/{nhkurl}')\n",
    "    time.sleep(10)\n",
    "    html = str(driver.page_source.encode('utf-8'))\n",
    "    snap = re.search(r'between <a href=\"(.+?)\">', html)\n",
    "    if not snap:\n",
    "        print(nhkurl)\n",
    "        continue\n",
    "    driver.get('https://web.archive.org' + snap.group(1))\n",
    "    time.sleep(30)\n",
    "    html = driver.page_source.encode('utf-8')\n",
    "    dic = scrape(html)\n",
    "    js(dic)"
   ]
  }
 ]
}