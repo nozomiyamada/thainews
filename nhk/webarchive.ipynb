{
 "nbformat": 4,
 "nbformat_minor": 2,
 "metadata": {
  "language_info": {
   "name": "python",
   "codemirror_mode": {
    "name": "ipython",
    "version": 3
   },
   "version": "3.7.6-final"
  },
  "orig_nbformat": 2,
  "file_extension": ".py",
  "mimetype": "text/x-python",
  "name": "python",
  "npconvert_exporter": "python",
  "pygments_lexer": "ipython3",
  "version": 3,
  "kernelspec": {
   "name": "python37664bit159cf5e9823545708744fa9c9ccfe5dc",
   "display_name": "Python 3.7.6 64-bit"
  }
 },
 "cells": [
  {
   "cell_type": "code",
   "execution_count": 1,
   "metadata": {},
   "outputs": [],
   "source": [
    "import numpy as np\n",
    "import pandas as pd\n",
    "import re, json, csv, requests, time, glob, tqdm\n",
    "from bs4 import BeautifulSoup\n",
    "from selenium import webdriver\n",
    "from collections import Counter"
   ]
  },
  {
   "cell_type": "code",
   "execution_count": 2,
   "metadata": {},
   "outputs": [],
   "source": [
    "def scrape(html):\n",
    "    soup = BeautifulSoup(html, \"html.parser\")\n",
    "    json_data = json.loads(soup.find_all(\"script\", type=\"application/ld+json\")[-1].text)\n",
    "    title = json_data.get('headline', soup.find('h1', class_='content--title').text)\n",
    "    date = json_data.get('datePublished', re.search(r'datetime:.*?(\\d{4}-\\d{2}-\\d{2}T\\d{2}:\\d{2})', str(html)).group(1))\n",
    "    date_m = json_data.get('dateModified', '')\n",
    "    genre = json_data.get('genre', [])\n",
    "    if genre == []:\n",
    "        genre = [k for k in soup.find('meta', attrs={'name':'keywords'}).get('content').split(',') if k not in ['NHK','ニュース', 'NHK NEWS WEB']]\n",
    "    keywords = json_data.get('keywords', [])\n",
    "    article = soup.find('div', id=\"news_textbody\").text\n",
    "    url_normal = 'https:' + soup.find('meta', property=\"og:url\").get('content').rsplit('https:')[-1]\n",
    "    if soup.find_all('div', id=\"news_textmore\") != []:\n",
    "        for textmore in soup.find_all('div', id=\"news_textmore\"):\n",
    "            article += ('\\n' + textmore.text)\n",
    "    if soup.find_all('div', class_=\"news_add\") != []:\n",
    "        for newsadd in soup.find_all('div', class_=\"news_add\"):\n",
    "            if newsadd.h3 != None:\n",
    "                newsadd.h3.extract()\n",
    "            article += ('\\n' + newsadd.text)\n",
    "            \n",
    "    return {\n",
    "        'id':url_normal.split('/')[-1].split('.html')[0],\n",
    "        'title':title,\n",
    "        'article':article.strip(),\n",
    "        'genre':genre,\n",
    "        'keywords':keywords,\n",
    "        'url':url_normal,\n",
    "        'datePublished':date,\n",
    "        'dateModified':date_m\n",
    "    }\n",
    "\n",
    "def remove_rt(text):\n",
    "    return re.sub('<rt>.+?</rt>', '', text)\n",
    "\n",
    "def tag(text):\n",
    "    text = re.sub(r'<span class=\"colorC\">(.+?)</span>', r\"{org}\\1{/org}\", text)\n",
    "    text = re.sub(r'<span class=\"colorL\">(.+?)</span>', r\"{plc}\\1{/plc}\", text)\n",
    "    text = re.sub(r'<span class=\"colorN\">(.+?)</span>', r\"{per}\\1{/per}\", text)\n",
    "    return text\n",
    "\n",
    "def retag(text):\n",
    "    text = re.sub(r'{org}(.+?){/org}', r\"<org>\\1</org>\", text)\n",
    "    text = re.sub(r'{plc}(.+?){/plc}', r\"<plc>\\1</plc>\", text)\n",
    "    text = re.sub(r'{per}(.+?){/per}', r\"<per>\\1</per>\", text)\n",
    "    return text\n",
    "\n",
    "def remove_a(text):\n",
    "    text = re.sub(r'</?a.*?>', '', text)\n",
    "    text = re.sub(r'<span class=\"under\">(\\w+)</span>', r'\\1', text)\n",
    "    return text\n",
    "\n",
    "# for old web easy\n",
    "def scrape_easy_one(html):\n",
    "    soup = BeautifulSoup(html, \"html.parser\")\n",
    "    url_normal = soup.find('div', id=\"regularnews\").a.get('href').split('/http://')[-1]\n",
    "    url_normal = 'http://' + url_normal\n",
    "    date = soup.find('p', id=\"newsDate\").text[1:-1]\n",
    "    #title_easy = soup.find('h1', class_=\"article-main__title\")\n",
    "    #title_easy_ruby = ''.join([str(t) for t in title_easy.contents]).strip()\n",
    "    url_easy = soup.find('meta', attrs={'name':'shorturl'}).get('content')\n",
    "    title_easy = soup.find('div', id='newstitle').h2\n",
    "    title_easy_ruby = ''.join([str(t) for t in title_easy.contents]).strip()\n",
    "    title_easy = BeautifulSoup(remove_rt(str(title_easy)), \"html.parser\").text.strip()\n",
    "    article_easy = soup.find('div', id=\"newsarticle\")\n",
    "    article_easy = BeautifulSoup(tag(remove_rt(str(article_easy))), \"html.parser\").text.strip()\n",
    "    article_easy_ruby = soup.find('div', id=\"newsarticle\").find_all('p')\n",
    "    article_easy_ruby = '\\n'.join([''.join([remove_a(str(l)) for l in p.contents]) for p in article_easy_ruby if p != []]).strip()\n",
    "    \n",
    "    return {\n",
    "        'id':url_easy.split('/')[-1].split('.html')[0],\n",
    "        'title_easy':title_easy,\n",
    "        'title_easy_ruby':title_easy_ruby,\n",
    "        'article_easy':retag(article_easy),\n",
    "        'article_easy_ruby':article_easy_ruby,\n",
    "        'url_easy':url_easy,\n",
    "        'url_normal':url_normal,\n",
    "        'date_easy':date\n",
    "    }\n",
    "\n",
    "def get_link(start=0):\n",
    "    notyet = []\n",
    "    n_list = pd.read_json('nhkweb.json', encoding='utf-8')['url'].tolist()\n",
    "    df_e = pd.read_json('nhkwebeasy.json', encoding='utf-8') \n",
    "    for i in df_e['url_normal'][start:]:\n",
    "        if i not in n_list:\n",
    "            notyet.append(i)\n",
    "    return notyet\n",
    "\n",
    "def get_link_nogenre(start=0):\n",
    "    notyet = []\n",
    "    with open('nhkweb.json', 'r', encoding='utf-8') as f:\n",
    "        data = json.load(f)\n",
    "    for dic in data:\n",
    "        if dic['genre'] == []:\n",
    "            notyet.append(dic['url'])\n",
    "    return notyet  \n",
    "\n",
    "def js(dic):\n",
    "    with open('nhkweb.json', 'r', encoding='utf-8') as f:\n",
    "        data = json.load(f)\n",
    "    with open('nhkweb.json', 'w', encoding='utf-8') as f:\n",
    "        if dic['id'] not in [x['id'] for x in data]:\n",
    "            data.append(dic)\n",
    "        else:\n",
    "            for i, d in enumerate(data):\n",
    "                if dic['id'] == d['id']:\n",
    "                    data[i] = dic\n",
    "        data = sorted(data, key=lambda x:x['id'])\n",
    "        json.dump(data, f, indent=4, ensure_ascii=False)\n",
    "        \n",
    "def js_e(dic):\n",
    "    with open('nhkwebeasy.json', 'r', encoding='utf-8') as f:\n",
    "        data = json.load(f)\n",
    "    with open('nhkwebeasy.json', 'w', encoding='utf-8') as f:\n",
    "        if dic['id'] not in [x['id'] for x in data]:\n",
    "            data.append(dic)\n",
    "        else:\n",
    "            for i, d in enumerate(data):\n",
    "                if dic['id'] == d['id']:\n",
    "                    data[i] = dic\n",
    "        data = sorted(data, key=lambda x:x['id'])\n",
    "        json.dump(data, f, indent=4, ensure_ascii=False)"
   ]
  },
  {
   "cell_type": "code",
   "execution_count": 4,
   "metadata": {},
   "outputs": [],
   "source": [
    "htmls = ['https://www3.nhk.or.jp/news/html/20191117/k10012180511000.html']"
   ]
  },
  {
   "cell_type": "code",
   "execution_count": 28,
   "metadata": {},
   "outputs": [
    {
     "data": {
      "text/plain": "['https://www3.nhk.or.jp/news/html/20190120/k10011784611000.html',\n 'https://www3.nhk.or.jp/news/html/20191010/k10012120321000.html',\n 'https://www3.nhk.or.jp/news/html/20191017/k10012135411000.html',\n 'https://www3.nhk.or.jp/news/html/20200204/k10012271251000.html',\n 'https://www3.nhk.or.jp/news/html/20200204/k10012271311000.html']"
     },
     "execution_count": 28,
     "metadata": {},
     "output_type": "execute_result"
    }
   ],
   "source": [
    "htmls = get_link(0); htmls"
   ]
  },
  {
   "cell_type": "code",
   "execution_count": 29,
   "metadata": {},
   "outputs": [
    {
     "data": {
      "text/plain": "[]"
     },
     "execution_count": 29,
     "metadata": {},
     "output_type": "execute_result"
    }
   ],
   "source": [
    "htmls = get_link_nogenre(); htmls[:50]"
   ]
  },
  {
   "cell_type": "markdown",
   "execution_count": null,
   "metadata": {},
   "outputs": [],
   "source": [
    "# scrape"
   ]
  },
  {
   "cell_type": "code",
   "execution_count": 18,
   "metadata": {},
   "outputs": [],
   "source": [
    "driver = webdriver.Chrome()"
   ]
  },
  {
   "cell_type": "code",
   "execution_count": 16,
   "metadata": {},
   "outputs": [
    {
     "name": "stderr",
     "output_type": "stream",
     "text": " 14%|█▍        | 1/7 [01:22<08:16, 82.81s/it]"
    },
    {
     "ename": "KeyboardInterrupt",
     "evalue": "",
     "output_type": "error",
     "traceback": [
      "\u001b[0;31m---------------------------------------------------------------------------\u001b[0m",
      "\u001b[0;31mKeyboardInterrupt\u001b[0m                         Traceback (most recent call last)",
      "\u001b[0;32m<ipython-input-16-572e0ce6e3f8>\u001b[0m in \u001b[0;36m<module>\u001b[0;34m\u001b[0m\n\u001b[1;32m      8\u001b[0m         \u001b[0;32mcontinue\u001b[0m\u001b[0;34m\u001b[0m\u001b[0;34m\u001b[0m\u001b[0m\n\u001b[1;32m      9\u001b[0m     \u001b[0mdriver\u001b[0m\u001b[0;34m.\u001b[0m\u001b[0mget\u001b[0m\u001b[0;34m(\u001b[0m\u001b[0;34m'https://web.archive.org'\u001b[0m \u001b[0;34m+\u001b[0m \u001b[0msnap\u001b[0m\u001b[0;34m.\u001b[0m\u001b[0mgroup\u001b[0m\u001b[0;34m(\u001b[0m\u001b[0;36m2\u001b[0m\u001b[0;34m)\u001b[0m\u001b[0;34m)\u001b[0m\u001b[0;34m\u001b[0m\u001b[0;34m\u001b[0m\u001b[0m\n\u001b[0;32m---> 10\u001b[0;31m     \u001b[0mtime\u001b[0m\u001b[0;34m.\u001b[0m\u001b[0msleep\u001b[0m\u001b[0;34m(\u001b[0m\u001b[0;36m30\u001b[0m\u001b[0;34m)\u001b[0m\u001b[0;34m\u001b[0m\u001b[0;34m\u001b[0m\u001b[0m\n\u001b[0m\u001b[1;32m     11\u001b[0m     \u001b[0mhtml\u001b[0m \u001b[0;34m=\u001b[0m \u001b[0mdriver\u001b[0m\u001b[0;34m.\u001b[0m\u001b[0mpage_source\u001b[0m\u001b[0;34m.\u001b[0m\u001b[0mencode\u001b[0m\u001b[0;34m(\u001b[0m\u001b[0;34m'utf-8'\u001b[0m\u001b[0;34m)\u001b[0m\u001b[0;34m\u001b[0m\u001b[0;34m\u001b[0m\u001b[0m\n\u001b[1;32m     12\u001b[0m     \u001b[0mdic\u001b[0m \u001b[0;34m=\u001b[0m \u001b[0mscrape\u001b[0m\u001b[0;34m(\u001b[0m\u001b[0mhtml\u001b[0m\u001b[0;34m)\u001b[0m\u001b[0;34m\u001b[0m\u001b[0;34m\u001b[0m\u001b[0m\n",
      "\u001b[0;31mKeyboardInterrupt\u001b[0m: "
     ]
    }
   ],
   "source": [
    "for nhkurl in tqdm.tqdm(htmls[:]):\n",
    "    driver.get(f'https://web.archive.org/web/2019*/{nhkurl}')\n",
    "    time.sleep(10)\n",
    "    html = str(driver.page_source.encode('utf-8'))\n",
    "    snap = re.search(r'(between|1 time).*?<a href=\"(.+?)\">', html)\n",
    "    if not snap:\n",
    "        print(nhkurl)\n",
    "        continue\n",
    "    driver.get('https://web.archive.org' + snap.group(2))\n",
    "    time.sleep(30)\n",
    "    html = driver.page_source.encode('utf-8')\n",
    "    dic = scrape(html)\n",
    "    js(dic)"
   ]
  },
  {
   "cell_type": "code",
   "execution_count": 94,
   "metadata": {},
   "outputs": [
    {
     "name": "stdout",
     "output_type": "stream",
     "text": "{'id': 'k10011846961000', 'title': '買い物弱者など解決へ ロボットがコンビニの商品配達する実験', 'article': '高齢化に伴う「買い物弱者」などの解決につなげようと、自動で動くロボットがコンビニの商品を配達する実験が神奈川県の大学で行われました。\\nこれは大手コンビニチェーンの「ローソン」と自動運転技術を開発するベンチャー企業の「ＺＭＰ」などが行いました。実験は大学内で行われ、利用者がスマートフォンの専用のアプリを使って商品を注文すると、高さ、幅などが１メートルに満たない箱型のロボットが、仮設の店舗から商品を届けます。センサーやカメラが周りの状況を認識しているということで、人が近づくと自動的に停止するほか、人とすれ違った際には音声であいさつもしてくれます。両社では、こうしたロボットで高齢化に伴う買い物弱者やドライバーの人手不足といった課題の解決につなげたい考えです。また公道を移動できるよう国に対して法整備を働きかけていくことにしています。ローソンの牧野国嗣オープン・イノベーションセンター長は「時間がなかったり、体が不自由で店に行けなかったりするなど、さまざまなニーズに応えるため、実用化を進めていきたい」と話していました。', 'genre': ['ビジネス', '社会'], 'keywords': [], 'url': 'https://www3.nhk.or.jp/news/html/20190313/k10011846961000.html', 'datePublished': '2019-03-13T17:35:18+09:00', 'dateModified': '2019-03-27T14:00:23+09:00'}\n"
    }
   ],
   "source": [
    "html = driver.page_source.encode('utf-8')\n",
    "soup = BeautifulSoup(html, \"html.parser\")\n",
    "dic = scrape(html)\n",
    "print(dic)\n",
    "js(dic)"
   ]
  },
  {
   "cell_type": "code",
   "execution_count": 91,
   "metadata": {},
   "outputs": [],
   "source": [
    "html = str(driver.page_source.encode('utf-8'))\n",
    "re.search(r'\"genre\":(.+?),', html)"
   ]
  },
  {
   "cell_type": "markdown",
   "execution_count": 63,
   "metadata": {},
   "outputs": [],
   "source": [
    "# clean category & keyword"
   ]
  },
  {
   "cell_type": "code",
   "execution_count": 17,
   "metadata": {},
   "outputs": [
    {
     "name": "stdout",
     "output_type": "stream",
     "text": "5147\n1685\n"
    }
   ],
   "source": [
    "with open('nhkweb.json','r', encoding='utf-8') as f:\n",
    "    data = json.load(f)\n",
    "    print(len(data))\n",
    "with open('nhkwebeasy.json','r', encoding='utf-8') as f:\n",
    "    data = json.load(f)\n",
    "    print(len(data))"
   ]
  },
  {
   "cell_type": "code",
   "execution_count": 18,
   "metadata": {},
   "outputs": [
    {
     "name": "stdout",
     "output_type": "stream",
     "text": "articles:  5147\n"
    },
    {
     "data": {
      "text/plain": "[('社会', 1639),\n ('国際', 1322),\n ('ビジネス', 823),\n ('科学・文化', 729),\n ('スポーツ', 702),\n ('政治', 615),\n ('暮らし', 410),\n ('地域', 319),\n ('気象・災害', 271)]"
     },
     "execution_count": 18,
     "metadata": {},
     "output_type": "execute_result"
    }
   ],
   "source": [
    "# check category\n",
    "\n",
    "with open('nhkweb.json','r', encoding='utf-8') as f:\n",
    "    data = json.load(f)\n",
    "print('articles: ', len(data))\n",
    "genre = Counter()\n",
    "for dic in data:\n",
    "    for g in dic['genre']:\n",
    "        genre[g] += 1\n",
    "genre.most_common()"
   ]
  },
  {
   "cell_type": "code",
   "execution_count": 24,
   "metadata": {},
   "outputs": [],
   "source": [
    "# genre <> keywords\n",
    "\n",
    "with open('nhkweb.json','r', encoding='utf-8') as f:\n",
    "    data = json.load(f)\n",
    "\n",
    "category = ['社会', '国際', 'ビジネス', 'スポーツ', '政治', '科学・文化', '暮らし', '地域', '気象・災害']\n",
    "for i, dic in enumerate(data):\n",
    "    newgenre = []\n",
    "    newkey = []\n",
    "    for j in dic['genre']:\n",
    "        if j in category:\n",
    "            newgenre.append(j)\n",
    "        elif j == \"災害\" or j == \"気象\":\n",
    "            newgenre.append('気象・災害')\n",
    "        else:\n",
    "            newkey.append(j)\n",
    "    for j in dic['keywords']:\n",
    "        if j in category:\n",
    "            newgenre.append(j)\n",
    "        elif j == \"災害\" or j == \"気象\":\n",
    "            newgenre.append('気象・災害')\n",
    "        else:\n",
    "            newkey.append(j)\n",
    "    data[i]['genre'] = list(set(newgenre))\n",
    "    data[i]['keywords'] = list(set(newkey))\n",
    "\n",
    "with open('nhkweb.json','w', encoding='utf-8') as f:\n",
    "    json.dump(data, f, indent=4, ensure_ascii=False)\n",
    "    "
   ]
  },
  {
   "cell_type": "code",
   "execution_count": 3,
   "metadata": {},
   "outputs": [
    {
     "data": {
      "text/plain": "k10012255531000    1\nk10012263311000    1\nk10012263971000    1\nk10012228721000    1\nk10012251101000    1\n                  ..\nk10011795521000    1\nk10012234731000    1\nk10012253721000    1\nk10012084571000    1\nk10012239591000    1\nName: id, Length: 5147, dtype: int64"
     },
     "execution_count": 3,
     "metadata": {},
     "output_type": "execute_result"
    }
   ],
   "source": [
    "normal = pd.read_json('nhkweb.json')\n",
    "normal.id.value_counts()"
   ]
  },
  {
   "cell_type": "markdown",
   "execution_count": null,
   "metadata": {},
   "outputs": [],
   "source": [
    "# web easy archive"
   ]
  },
  {
   "cell_type": "code",
   "execution_count": 9,
   "metadata": {},
   "outputs": [
    {
     "name": "stdout",
     "output_type": "stream",
     "text": "634\n"
    },
    {
     "data": {
      "text/plain": "['http://www3.nhk.or.jp/news/easy/k10010443301000/k10010443301000.html',\n 'http://www3.nhk.or.jp/news/easy/k10010443481000/k10010443481000.html',\n 'http://www3.nhk.or.jp/news/easy/k10010443511000/k10010443511000.html',\n 'http://www3.nhk.or.jp/news/easy/k10010443941000/k10010443941000.html',\n 'http://www3.nhk.or.jp/news/easy/k10010443971000/k10010443971000.html',\n 'http://www3.nhk.or.jp/news/easy/k10010444561000/k10010444561000.html',\n 'http://www3.nhk.or.jp/news/easy/k10010444601000/k10010444601000.html',\n 'http://www3.nhk.or.jp/news/easy/k10010445021000/k10010445021000.html',\n 'http://www3.nhk.or.jp/news/easy/k10010445391000/k10010445391000.html',\n 'http://www3.nhk.or.jp/news/easy/k10010445501000/k10010445501000.html']"
     },
     "execution_count": 9,
     "metadata": {},
     "output_type": "execute_result"
    }
   ],
   "source": [
    "with open('tobescraped.txt') as f:\n",
    "    lst = f.read().split()\n",
    "with open('nolink.txt') as f:\n",
    "    nolink = f.read().split()\n",
    "with open('nhkwebeasy.json') as f:\n",
    "    urls = [x['url_easy'] for x in json.load(f)]\n",
    "htmls = sorted(set(lst) - set(urls) - set(nolink))\n",
    "print(len(htmls))\n",
    "htmls[30:40]"
   ]
  },
  {
   "cell_type": "code",
   "execution_count": 4,
   "metadata": {},
   "outputs": [],
   "source": [
    "driver = webdriver.Chrome()"
   ]
  },
  {
   "cell_type": "code",
   "execution_count": 10,
   "metadata": {},
   "outputs": [
    {
     "name": "stderr",
     "output_type": "stream",
     "text": "\n\n  0%|          | 0/180 [00:00<?, ?it/s]\u001b[A\u001b[A\n\n  1%|          | 1/180 [01:01<3:04:25, 61.82s/it]\u001b[A\u001b[A\n\n  1%|          | 2/180 [01:57<2:58:03, 60.02s/it]\u001b[A\u001b[A\n\n  2%|▏         | 3/180 [02:54<2:53:50, 58.93s/it]\u001b[A\u001b[A\n\n  2%|▏         | 4/180 [03:55<2:54:53, 59.62s/it]\u001b[A\u001b[A\n\n  3%|▎         | 5/180 [04:54<2:53:45, 59.57s/it]\u001b[A\u001b[A\n\n  3%|▎         | 6/180 [06:19<3:14:18, 67.00s/it]\u001b[A\u001b[A\n\n  4%|▍         | 7/180 [07:41<3:26:38, 71.67s/it]\u001b[A\u001b[A\n\n  4%|▍         | 8/180 [08:37<3:12:10, 67.04s/it]\u001b[A\u001b[A\n\n  5%|▌         | 9/180 [09:29<2:58:05, 62.49s/it]\u001b[A\u001b[A\n\n  6%|▌         | 10/180 [10:21<2:47:53, 59.26s/it]\u001b[A\u001b[A\n\n  6%|▌         | 11/180 [11:07<2:35:31, 55.21s/it]\u001b[A\u001b[A\n\n  7%|▋         | 12/180 [11:51<2:25:01, 51.79s/it]\u001b[A\u001b[A\n\n  7%|▋         | 13/180 [12:32<2:15:27, 48.67s/it]\u001b[A\u001b[A\n\n  8%|▊         | 14/180 [13:20<2:14:19, 48.55s/it]\u001b[A\u001b[A\n\n  8%|▊         | 15/180 [14:16<2:19:15, 50.64s/it]\u001b[A\u001b[A\n\n  9%|▉         | 16/180 [15:05<2:17:39, 50.36s/it]\u001b[A\u001b[A\n\n  9%|▉         | 17/180 [16:01<2:21:27, 52.07s/it]\u001b[A\u001b[A\n\n 10%|█         | 18/180 [16:49<2:17:00, 50.74s/it]\u001b[A\u001b[A\n\n 11%|█         | 19/180 [17:41<2:16:53, 51.02s/it]\u001b[A\u001b[A\n\n 11%|█         | 20/180 [18:31<2:15:31, 50.82s/it]\u001b[A\u001b[A\n\n 12%|█▏        | 21/180 [19:27<2:18:24, 52.23s/it]\u001b[A\u001b[A\n\n 12%|█▏        | 22/180 [20:17<2:16:26, 51.81s/it]\u001b[A\u001b[A\n\n 13%|█▎        | 23/180 [21:17<2:21:31, 54.09s/it]\u001b[A\u001b[A\n\n 13%|█▎        | 24/180 [22:09<2:18:59, 53.46s/it]\u001b[A\u001b[A\n\n 14%|█▍        | 25/180 [23:02<2:17:53, 53.38s/it]\u001b[A\u001b[A\n\n 14%|█▍        | 26/180 [24:02<2:22:12, 55.41s/it]\u001b[A\u001b[A\n\n 15%|█▌        | 27/180 [24:57<2:20:53, 55.25s/it]\u001b[A\u001b[A\n\n 16%|█▌        | 28/180 [25:42<2:12:26, 52.28s/it]\u001b[A\u001b[A\n\n 16%|█▌        | 29/180 [26:28<2:06:38, 50.32s/it]\u001b[A\u001b[A\n\n 17%|█▋        | 30/180 [27:11<1:59:47, 47.92s/it]\u001b[A\u001b[A\n\n 17%|█▋        | 31/180 [28:02<2:01:30, 48.93s/it]\u001b[A\u001b[A\n\n 18%|█▊        | 32/180 [28:51<2:00:32, 48.87s/it]\u001b[A\u001b[A\n\n 18%|█▊        | 33/180 [29:53<2:09:48, 52.98s/it]\u001b[A\u001b[A\n\n 19%|█▉        | 34/180 [31:00<2:19:25, 57.30s/it]\u001b[A\u001b[A\n\n 19%|█▉        | 35/180 [32:05<2:23:38, 59.44s/it]\u001b[A\u001b[A\n\n 20%|██        | 36/180 [33:06<2:23:57, 59.98s/it]\u001b[A\u001b[A\n\n 21%|██        | 37/180 [34:17<2:30:54, 63.32s/it]\u001b[A\u001b[A\n\n 21%|██        | 38/180 [35:28<2:35:21, 65.64s/it]\u001b[A\u001b[A\n\n 22%|██▏       | 39/180 [36:28<2:30:19, 63.97s/it]\u001b[A\u001b[A\n\n 22%|██▏       | 40/180 [37:46<2:38:36, 67.97s/it]\u001b[A\u001b[A\n\n 23%|██▎       | 41/180 [39:07<2:46:26, 71.85s/it]\u001b[A\u001b[A\n\n 23%|██▎       | 42/180 [40:03<2:34:43, 67.27s/it]\u001b[A\u001b[A\n\n 24%|██▍       | 43/180 [41:25<2:43:24, 71.57s/it]\u001b[A\u001b[A\n\n 24%|██▍       | 44/180 [42:27<2:35:57, 68.81s/it]\u001b[A\u001b[A\n\n 25%|██▌       | 45/180 [43:35<2:33:57, 68.42s/it]\u001b[A\u001b[A\n\n 26%|██▌       | 46/180 [44:40<2:30:36, 67.43s/it]\u001b[A\u001b[A\n\n 26%|██▌       | 47/180 [46:29<2:57:13, 79.95s/it]\u001b[A\u001b[A\n\n 27%|██▋       | 48/180 [47:31<2:44:19, 74.69s/it]\u001b[A\u001b[A\n\n 27%|██▋       | 49/180 [48:36<2:36:46, 71.81s/it]\u001b[A\u001b[A\n\n 28%|██▊       | 50/180 [50:03<2:44:57, 76.13s/it]\u001b[A\u001b[A\n\n 28%|██▊       | 51/180 [51:09<2:37:08, 73.09s/it]\u001b[A\u001b[A\n\n 29%|██▉       | 52/180 [52:20<2:34:46, 72.55s/it]\u001b[A\u001b[A\n\n 29%|██▉       | 53/180 [53:28<2:30:46, 71.23s/it]\u001b[A\u001b[A\n\n 30%|███       | 54/180 [54:28<2:22:11, 67.71s/it]\u001b[A\u001b[A\n\n 31%|███       | 55/180 [55:24<2:13:59, 64.32s/it]\u001b[A\u001b[A\n\n 31%|███       | 56/180 [56:24<2:10:12, 63.01s/it]\u001b[A\u001b[A\n\n 32%|███▏      | 57/180 [57:26<2:08:17, 62.58s/it]\u001b[A\u001b[A\n\n 32%|███▏      | 58/180 [58:33<2:10:08, 64.00s/it]\u001b[A\u001b[A\n\n 33%|███▎      | 59/180 [59:33<2:06:51, 62.90s/it]\u001b[A\u001b[A\n\n 33%|███▎      | 60/180 [1:00:28<2:00:54, 60.45s/it]\u001b[A\u001b[A\n\n 34%|███▍      | 61/180 [1:01:34<2:03:19, 62.18s/it]\u001b[A\u001b[A\n\n 34%|███▍      | 62/180 [1:02:26<1:56:05, 59.03s/it]\u001b[A\u001b[A\n\n 35%|███▌      | 63/180 [1:03:18<1:50:56, 56.89s/it]\u001b[A\u001b[A\n\n 36%|███▌      | 64/180 [1:04:27<1:57:04, 60.56s/it]\u001b[A\u001b[A\n\n 36%|███▌      | 65/180 [1:05:26<1:55:02, 60.03s/it]\u001b[A\u001b[A\n\n 37%|███▋      | 66/180 [1:06:27<1:54:41, 60.37s/it]\u001b[A\u001b[A\n\n 37%|███▋      | 67/180 [1:07:33<1:56:48, 62.02s/it]\u001b[A\u001b[A\n\n 38%|███▊      | 68/180 [1:08:32<1:54:27, 61.32s/it]\u001b[A\u001b[A\n\n 38%|███▊      | 69/180 [1:09:34<1:53:31, 61.37s/it]\u001b[A\u001b[A\n\n 39%|███▉      | 70/180 [1:10:47<1:58:46, 64.78s/it]\u001b[A\u001b[A\n\n 39%|███▉      | 71/180 [1:12:01<2:03:06, 67.77s/it]\u001b[A\u001b[A\n\n 40%|████      | 72/180 [1:13:07<2:01:02, 67.25s/it]\u001b[A\u001b[A\n\n 41%|████      | 73/180 [1:14:12<1:58:38, 66.53s/it]\u001b[A\u001b[A\n\n 41%|████      | 74/180 [1:15:20<1:58:06, 66.85s/it]\u001b[A\u001b[A\n\n 42%|████▏     | 75/180 [1:16:28<1:57:56, 67.40s/it]\u001b[A\u001b[A\n\n 42%|████▏     | 76/180 [1:17:43<2:00:33, 69.56s/it]\u001b[A\u001b[A\n\n 43%|████▎     | 77/180 [1:18:44<1:55:07, 67.07s/it]\u001b[A\u001b[A\n\n 43%|████▎     | 78/180 [1:20:09<2:02:59, 72.35s/it]\u001b[A\u001b[A\n\n 44%|████▍     | 79/180 [1:21:10<1:55:51, 68.82s/it]\u001b[A\u001b[A\n\n 44%|████▍     | 80/180 [1:22:08<1:49:27, 65.67s/it]\u001b[A\u001b[A\n\n 45%|████▌     | 81/180 [1:23:01<1:42:13, 61.95s/it]\u001b[A\u001b[A\n\n 46%|████▌     | 82/180 [1:23:54<1:36:35, 59.14s/it]\u001b[A\u001b[A\n\n 46%|████▌     | 83/180 [1:24:48<1:33:03, 57.56s/it]\u001b[A\u001b[A\n\n 47%|████▋     | 84/180 [1:25:46<1:32:30, 57.82s/it]\u001b[A\u001b[A\n\n 47%|████▋     | 85/180 [1:26:42<1:30:30, 57.17s/it]\u001b[A\u001b[A\n\n 48%|████▊     | 86/180 [1:27:40<1:29:51, 57.36s/it]\u001b[A\u001b[A\n\n 48%|████▊     | 87/180 [1:29:08<1:43:14, 66.61s/it]\u001b[A\u001b[A\n\n 49%|████▉     | 88/180 [1:30:23<1:46:13, 69.28s/it]\u001b[A\u001b[A\n\n 49%|████▉     | 89/180 [1:31:25<1:41:35, 66.98s/it]\u001b[A\u001b[A\n\n 50%|█████     | 90/180 [1:32:28<1:38:49, 65.89s/it]\u001b[A\u001b[A\n\n 51%|█████     | 91/180 [1:33:34<1:37:36, 65.80s/it]\u001b[A\u001b[A\n\n 51%|█████     | 92/180 [1:34:43<1:38:12, 66.96s/it]\u001b[A\u001b[A\n\n 52%|█████▏    | 93/180 [1:35:42<1:33:13, 64.30s/it]\u001b[A\u001b[A\n\n 52%|█████▏    | 94/180 [1:36:42<1:30:34, 63.19s/it]\u001b[A\u001b[A\n\n 53%|█████▎    | 95/180 [1:37:48<1:30:38, 63.99s/it]\u001b[A\u001b[A\n\n 53%|█████▎    | 96/180 [1:39:04<1:34:38, 67.60s/it]\u001b[A\u001b[A\n\n 54%|█████▍    | 97/180 [1:40:11<1:33:14, 67.40s/it]\u001b[A\u001b[A\n\n 54%|█████▍    | 98/180 [1:41:13<1:29:49, 65.73s/it]\u001b[A\u001b[A\n\n 55%|█████▌    | 99/180 [1:42:35<1:35:20, 70.63s/it]\u001b[A\u001b[A\n\n 56%|█████▌    | 100/180 [1:43:30<1:28:07, 66.10s/it]\u001b[A\u001b[A\n\n 56%|█████▌    | 101/180 [1:44:28<1:23:34, 63.48s/it]\u001b[A\u001b[A\n\n 57%|█████▋    | 102/180 [1:45:25<1:20:14, 61.73s/it]\u001b[A\u001b[A\n\n 57%|█████▋    | 103/180 [1:46:31<1:20:34, 62.79s/it]\u001b[A\u001b[A\n\n 58%|█████▊    | 104/180 [1:47:34<1:19:36, 62.85s/it]\u001b[A\u001b[A\n\n 58%|█████▊    | 105/180 [1:48:32<1:16:42, 61.37s/it]\u001b[A\u001b[A\n\n 59%|█████▉    | 106/180 [1:49:28<1:13:57, 59.97s/it]\u001b[A\u001b[A\n\n 59%|█████▉    | 107/180 [1:50:42<1:18:03, 64.15s/it]\u001b[A\u001b[A\n\n 60%|██████    | 108/180 [1:51:50<1:18:23, 65.32s/it]\u001b[A\u001b[A\n\n 61%|██████    | 109/180 [1:53:03<1:20:00, 67.61s/it]\u001b[A\u001b[A\n\n 61%|██████    | 110/180 [1:53:56<1:13:35, 63.08s/it]\u001b[A\u001b[A\n\n 62%|██████▏   | 111/180 [1:54:54<1:10:51, 61.62s/it]\u001b[A\u001b[A\n\n 62%|██████▏   | 112/180 [1:55:55<1:09:29, 61.31s/it]\u001b[A\u001b[A\n\n 63%|██████▎   | 113/180 [1:56:55<1:08:15, 61.12s/it]\u001b[A\u001b[A\n\n 63%|██████▎   | 114/180 [1:57:54<1:06:31, 60.48s/it]\u001b[A\u001b[A\n\n 64%|██████▍   | 115/180 [1:58:58<1:06:43, 61.59s/it]\u001b[A\u001b[A\n\n 64%|██████▍   | 116/180 [2:00:06<1:07:37, 63.40s/it]\u001b[A\u001b[A\n\n 65%|██████▌   | 117/180 [2:01:13<1:07:45, 64.54s/it]\u001b[A\u001b[A\n\n 66%|██████▌   | 118/180 [2:02:15<1:05:57, 63.83s/it]\u001b[A\u001b[A\n\n 66%|██████▌   | 119/180 [2:03:26<1:07:03, 65.95s/it]\u001b[A\u001b[A\n\n 67%|██████▋   | 120/180 [2:04:22<1:02:45, 62.75s/it]\u001b[A\u001b[A\n\n 67%|██████▋   | 121/180 [2:05:45<1:07:44, 68.89s/it]\u001b[A\u001b[A\n\n 68%|██████▊   | 122/180 [2:06:43<1:03:35, 65.78s/it]\u001b[A\u001b[A\n\n 68%|██████▊   | 123/180 [2:07:35<58:37, 61.71s/it]\u001b[A\u001b[A\n\n 69%|██████▉   | 124/180 [2:08:28<54:59, 58.92s/it]\u001b[A\u001b[A\n\n 69%|██████▉   | 125/180 [2:09:22<52:40, 57.46s/it]\u001b[A\u001b[A\n\n 70%|███████   | 126/180 [2:10:18<51:19, 57.04s/it]\u001b[A\u001b[A\n\n 71%|███████   | 127/180 [2:11:20<51:35, 58.41s/it]\u001b[A\u001b[A\n\n 71%|███████   | 128/180 [2:12:24<52:18, 60.35s/it]\u001b[A\u001b[A\n\n 72%|███████▏  | 129/180 [2:13:39<54:57, 64.66s/it]\u001b[A\u001b[A\n\n 72%|███████▏  | 130/180 [2:14:36<51:58, 62.37s/it]\u001b[A\u001b[A\n\n 73%|███████▎  | 131/180 [2:16:04<57:11, 70.04s/it]\u001b[A\u001b[A\n\n 73%|███████▎  | 132/180 [2:17:15<56:07, 70.16s/it]\u001b[A\u001b[A\n\n 74%|███████▍  | 133/180 [2:18:18<53:26, 68.21s/it]\u001b[A\u001b[A\n\n 74%|███████▍  | 134/180 [2:19:23<51:28, 67.14s/it]\u001b[A\u001b[A\n\n 75%|███████▌  | 135/180 [2:20:20<48:10, 64.24s/it]\u001b[A\u001b[A\n\n 76%|███████▌  | 136/180 [2:21:32<48:50, 66.60s/it]\u001b[A\u001b[A\n\n 76%|███████▌  | 137/180 [2:22:41<48:11, 67.25s/it]\u001b[A\u001b[A\n\n 77%|███████▋  | 138/180 [2:23:58<49:08, 70.20s/it]\u001b[A\u001b[A\n\n 77%|███████▋  | 139/180 [2:24:57<45:34, 66.69s/it]\u001b[A\u001b[A\n\n 78%|███████▊  | 140/180 [2:25:57<43:11, 64.78s/it]\u001b[A\u001b[A\n\n 78%|███████▊  | 141/180 [2:26:54<40:31, 62.35s/it]\u001b[A\u001b[A\n\n 79%|███████▉  | 142/180 [2:28:00<40:17, 63.62s/it]\u001b[A\u001b[A\n\n 79%|███████▉  | 143/180 [2:29:07<39:50, 64.61s/it]\u001b[A\u001b[A\n\n 80%|████████  | 144/180 [2:30:13<39:01, 65.04s/it]\u001b[A\u001b[A\n\n 81%|████████  | 145/180 [2:31:19<38:02, 65.22s/it]\u001b[A\u001b[A\n\n 81%|████████  | 146/180 [2:32:17<35:39, 62.92s/it]\u001b[A\u001b[A\n\n 82%|████████▏ | 147/180 [2:33:22<35:02, 63.72s/it]\u001b[A\u001b[A\n\n 82%|████████▏ | 148/180 [2:34:39<36:02, 67.58s/it]\u001b[A\u001b[A\n\n 83%|████████▎ | 149/180 [2:35:48<35:14, 68.23s/it]\u001b[A\u001b[A\n\n 83%|████████▎ | 150/180 [2:36:50<33:10, 66.33s/it]\u001b[A\u001b[A\n\n 84%|████████▍ | 151/180 [2:37:55<31:52, 65.94s/it]\u001b[A\u001b[A\n\n 84%|████████▍ | 152/180 [2:39:07<31:29, 67.49s/it]\u001b[A\u001b[A\n\n 85%|████████▌ | 153/180 [2:40:15<30:28, 67.73s/it]\u001b[A\u001b[A\n\n 86%|████████▌ | 154/180 [2:41:16<28:33, 65.92s/it]\u001b[A\u001b[A\n\n 86%|████████▌ | 155/180 [2:42:15<26:30, 63.60s/it]\u001b[A\u001b[A\n\n 87%|████████▋ | 156/180 [2:43:21<25:46, 64.43s/it]\u001b[A\u001b[A\n\n 87%|████████▋ | 157/180 [2:44:37<25:59, 67.81s/it]\u001b[A\u001b[A\n\n 88%|████████▊ | 158/180 [2:45:52<25:40, 70.02s/it]\u001b[A\u001b[A\n\n 88%|████████▊ | 159/180 [2:46:11<19:08, 54.67s/it]\u001b[A\u001b[Ahttp://www3.nhk.or.jp/news/easy/k10010499511000/k10010499511000.html\n\n\n 89%|████████▉ | 160/180 [2:47:17<19:20, 58.01s/it]\u001b[A\u001b[A\n\n 89%|████████▉ | 161/180 [2:47:31<14:11, 44.80s/it]\u001b[A\u001b[Ahttp://www3.nhk.or.jp/news/easy/k10010500401000/k10010500401000.html\n\n\n 90%|█████████ | 162/180 [2:47:45<10:43, 35.73s/it]\u001b[A\u001b[Ahttp://www3.nhk.or.jp/news/easy/k10010500591000/k10010500591000.html\n\n\n 91%|█████████ | 163/180 [2:48:53<12:50, 45.29s/it]\u001b[A\u001b[A\n\n 91%|█████████ | 164/180 [2:49:57<13:34, 50.93s/it]\u001b[A\u001b[A\n\n 92%|█████████▏| 165/180 [2:51:24<15:25, 61.73s/it]\u001b[A\u001b[A\n\n 92%|█████████▏| 166/180 [2:52:28<14:36, 62.62s/it]\u001b[A\u001b[A\n\n 93%|█████████▎| 167/180 [2:53:34<13:46, 63.56s/it]\u001b[A\u001b[A\n\n 93%|█████████▎| 168/180 [2:54:30<12:16, 61.37s/it]\u001b[A\u001b[A\n\n 94%|█████████▍| 169/180 [2:55:34<11:22, 62.02s/it]\u001b[A\u001b[A\n\n 94%|█████████▍| 170/180 [2:56:27<09:54, 59.46s/it]\u001b[A\u001b[A\n\n 95%|█████████▌| 171/180 [2:57:19<08:34, 57.15s/it]\u001b[A\u001b[A\n\n 96%|█████████▌| 172/180 [2:58:19<07:42, 57.86s/it]\u001b[A\u001b[A\n\n 96%|█████████▌| 173/180 [2:59:21<06:54, 59.28s/it]\u001b[A\u001b[A\n\n 97%|█████████▋| 174/180 [3:00:23<06:00, 60.02s/it]\u001b[A\u001b[A\n\n 97%|█████████▋| 175/180 [3:01:31<05:11, 62.32s/it]\u001b[A\u001b[A\n\n 98%|█████████▊| 176/180 [3:02:37<04:14, 63.60s/it]\u001b[A\u001b[A\n\n 98%|█████████▊| 177/180 [3:03:36<03:06, 62.08s/it]\u001b[A\u001b[A\n\n 99%|█████████▉| 178/180 [3:04:34<02:01, 60.79s/it]\u001b[A\u001b[A\n\n 99%|█████████▉| 179/180 [3:06:02<01:08, 68.91s/it]\u001b[A\u001b[A\n\n100%|██████████| 180/180 [3:07:04<00:00, 62.36s/it]\n"
    }
   ],
   "source": [
    "for nhkurl in tqdm.tqdm(htmls[20:200]):\n",
    "    driver.get(f'https://web.archive.org/web/2016*/{nhkurl}')\n",
    "    time.sleep(10)\n",
    "    html = str(driver.page_source.encode('utf-8'))\n",
    "    snap = re.search(r'(between|1 time).*?<a href=\"(.+?)\">', html)\n",
    "    if not snap:\n",
    "        print(nhkurl)\n",
    "        continue\n",
    "    driver.get('https://web.archive.org' + snap.group(2))\n",
    "    time.sleep(20)\n",
    "    html = driver.page_source.encode('utf-8')\n",
    "    dic = scrape_easy_one(html)\n",
    "    js_e(dic)"
   ]
  },
  {
   "cell_type": "code",
   "execution_count": 7,
   "metadata": {},
   "outputs": [
    {
     "name": "stderr",
     "output_type": "stream",
     "text": "13%|█▎        | 14/110 [12:00<57:19, 35.83s/it]http://www3.nhk.or.jp/news/easy/k10010326291000/k10010326291000.html\n 34%|███▎      | 37/110 [33:11<50:41, 41.66s/it]http://www3.nhk.or.jp/news/easy/k10010335581000/k10010335581000.html\n 45%|████▍     | 49/110 [45:01<47:24, 46.63s/it]http://www3.nhk.or.jp/news/easy/k10010340871000/k10010340871000.html\n 54%|█████▎    | 59/110 [56:01<1:04:36, 76.01s/it]"
    },
    {
     "ename": "AttributeError",
     "evalue": "'NoneType' object has no attribute 'a'",
     "output_type": "error",
     "traceback": [
      "\u001b[0;31m---------------------------------------------------------------------------\u001b[0m",
      "\u001b[0;31mAttributeError\u001b[0m                            Traceback (most recent call last)",
      "\u001b[0;32m<ipython-input-7-898e19c96a30>\u001b[0m in \u001b[0;36m<module>\u001b[0;34m\u001b[0m\n\u001b[1;32m     10\u001b[0m     \u001b[0mtime\u001b[0m\u001b[0;34m.\u001b[0m\u001b[0msleep\u001b[0m\u001b[0;34m(\u001b[0m\u001b[0;36m20\u001b[0m\u001b[0;34m)\u001b[0m\u001b[0;34m\u001b[0m\u001b[0;34m\u001b[0m\u001b[0m\n\u001b[1;32m     11\u001b[0m     \u001b[0mhtml\u001b[0m \u001b[0;34m=\u001b[0m \u001b[0mdriver\u001b[0m\u001b[0;34m.\u001b[0m\u001b[0mpage_source\u001b[0m\u001b[0;34m.\u001b[0m\u001b[0mencode\u001b[0m\u001b[0;34m(\u001b[0m\u001b[0;34m'utf-8'\u001b[0m\u001b[0;34m)\u001b[0m\u001b[0;34m\u001b[0m\u001b[0;34m\u001b[0m\u001b[0m\n\u001b[0;32m---> 12\u001b[0;31m     \u001b[0mdic\u001b[0m \u001b[0;34m=\u001b[0m \u001b[0mscrape_easy_one\u001b[0m\u001b[0;34m(\u001b[0m\u001b[0mhtml\u001b[0m\u001b[0;34m)\u001b[0m\u001b[0;34m\u001b[0m\u001b[0;34m\u001b[0m\u001b[0m\n\u001b[0m\u001b[1;32m     13\u001b[0m     \u001b[0mjs_e\u001b[0m\u001b[0;34m(\u001b[0m\u001b[0mdic\u001b[0m\u001b[0;34m)\u001b[0m\u001b[0;34m\u001b[0m\u001b[0;34m\u001b[0m\u001b[0m\n",
      "\u001b[0;32m<ipython-input-2-971cc75274e9>\u001b[0m in \u001b[0;36mscrape_easy_one\u001b[0;34m(html)\u001b[0m\n\u001b[1;32m     54\u001b[0m \u001b[0;32mdef\u001b[0m \u001b[0mscrape_easy_one\u001b[0m\u001b[0;34m(\u001b[0m\u001b[0mhtml\u001b[0m\u001b[0;34m)\u001b[0m\u001b[0;34m:\u001b[0m\u001b[0;34m\u001b[0m\u001b[0;34m\u001b[0m\u001b[0m\n\u001b[1;32m     55\u001b[0m     \u001b[0msoup\u001b[0m \u001b[0;34m=\u001b[0m \u001b[0mBeautifulSoup\u001b[0m\u001b[0;34m(\u001b[0m\u001b[0mhtml\u001b[0m\u001b[0;34m,\u001b[0m \u001b[0;34m\"html.parser\"\u001b[0m\u001b[0;34m)\u001b[0m\u001b[0;34m\u001b[0m\u001b[0;34m\u001b[0m\u001b[0m\n\u001b[0;32m---> 56\u001b[0;31m     \u001b[0murl_normal\u001b[0m \u001b[0;34m=\u001b[0m \u001b[0msoup\u001b[0m\u001b[0;34m.\u001b[0m\u001b[0mfind\u001b[0m\u001b[0;34m(\u001b[0m\u001b[0;34m'div'\u001b[0m\u001b[0;34m,\u001b[0m \u001b[0mid\u001b[0m\u001b[0;34m=\u001b[0m\u001b[0;34m\"regularnews\"\u001b[0m\u001b[0;34m)\u001b[0m\u001b[0;34m.\u001b[0m\u001b[0ma\u001b[0m\u001b[0;34m.\u001b[0m\u001b[0mget\u001b[0m\u001b[0;34m(\u001b[0m\u001b[0;34m'href'\u001b[0m\u001b[0;34m)\u001b[0m\u001b[0;34m.\u001b[0m\u001b[0msplit\u001b[0m\u001b[0;34m(\u001b[0m\u001b[0;34m'/http://'\u001b[0m\u001b[0;34m)\u001b[0m\u001b[0;34m[\u001b[0m\u001b[0;34m-\u001b[0m\u001b[0;36m1\u001b[0m\u001b[0;34m]\u001b[0m\u001b[0;34m\u001b[0m\u001b[0;34m\u001b[0m\u001b[0m\n\u001b[0m\u001b[1;32m     57\u001b[0m     \u001b[0murl_normal\u001b[0m \u001b[0;34m=\u001b[0m \u001b[0;34m'http://'\u001b[0m \u001b[0;34m+\u001b[0m \u001b[0murl_normal\u001b[0m\u001b[0;34m\u001b[0m\u001b[0;34m\u001b[0m\u001b[0m\n\u001b[1;32m     58\u001b[0m     \u001b[0mdate\u001b[0m \u001b[0;34m=\u001b[0m \u001b[0msoup\u001b[0m\u001b[0;34m.\u001b[0m\u001b[0mfind\u001b[0m\u001b[0;34m(\u001b[0m\u001b[0;34m'p'\u001b[0m\u001b[0;34m,\u001b[0m \u001b[0mid\u001b[0m\u001b[0;34m=\u001b[0m\u001b[0;34m\"newsDate\"\u001b[0m\u001b[0;34m)\u001b[0m\u001b[0;34m.\u001b[0m\u001b[0mtext\u001b[0m\u001b[0;34m[\u001b[0m\u001b[0;36m1\u001b[0m\u001b[0;34m:\u001b[0m\u001b[0;34m-\u001b[0m\u001b[0;36m1\u001b[0m\u001b[0;34m]\u001b[0m\u001b[0;34m\u001b[0m\u001b[0;34m\u001b[0m\u001b[0m\n",
      "\u001b[0;31mAttributeError\u001b[0m: 'NoneType' object has no attribute 'a'"
     ]
    }
   ],
   "source": [
    "for nhkurl in tqdm.tqdm(htmls[40:150]):\n",
    "    driver.get(f'https://web.archive.org/web/2016*/{nhkurl}')\n",
    "    time.sleep(10)\n",
    "    html = str(driver.page_source.encode('utf-8'))\n",
    "    snap = re.search(r'(between|1 time).*?<a href=\"(.+?)\">', html)\n",
    "    if not snap:\n",
    "        print(nhkurl)\n",
    "        continue\n",
    "    driver.get('https://web.archive.org' + snap.group(2))\n",
    "    time.sleep(20)\n",
    "    html = driver.page_source.encode('utf-8')\n",
    "    dic = scrape_easy_one(html)\n",
    "    js_e(dic)"
   ]
  },
  {
   "cell_type": "code",
   "execution_count": 6,
   "metadata": {},
   "outputs": [],
   "source": [
    "html = driver.page_source.encode('utf-8')\n",
    "dic = scrape_easy_one(html)\n",
    "js_e(dic)"
   ]
  },
  {
   "cell_type": "code",
   "execution_count": null,
   "metadata": {},
   "outputs": [],
   "source": []
  }
 ]
}