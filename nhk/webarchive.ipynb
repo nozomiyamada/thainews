{
 "nbformat": 4,
 "nbformat_minor": 2,
 "metadata": {
  "language_info": {
   "name": "python",
   "codemirror_mode": {
    "name": "ipython",
    "version": 3
   },
   "version": "3.7.5-final"
  },
  "orig_nbformat": 2,
  "file_extension": ".py",
  "mimetype": "text/x-python",
  "name": "python",
  "npconvert_exporter": "python",
  "pygments_lexer": "ipython3",
  "version": 3,
  "kernelspec": {
   "name": "python37564bit72de44cd76184052b9457c2863c13ac2",
   "display_name": "Python 3.7.5 64-bit"
  }
 },
 "cells": [
  {
   "cell_type": "code",
   "execution_count": 3,
   "metadata": {},
   "outputs": [],
   "source": [
    "import numpy as np\n",
    "import pandas as pd\n",
    "import re, json, csv, requests, time, glob, tqdm\n",
    "from bs4 import BeautifulSoup\n",
    "from selenium import webdriver\n",
    "from collections import Counter"
   ]
  },
  {
   "cell_type": "code",
   "execution_count": 33,
   "metadata": {},
   "outputs": [],
   "source": [
    "def scrape(html):\n",
    "    soup = BeautifulSoup(html, \"html.parser\")\n",
    "    json_data = json.loads(soup.find_all(\"script\", type=\"application/ld+json\")[-1].text)\n",
    "    title = json_data.get('headline', soup.find('h1', class_='content--title').text)\n",
    "    date = json_data.get('datePublished', re.search(r'datetime:.*?(\\d{4}-\\d{2}-\\d{2}T\\d{2}:\\d{2})', str(html)).group(1))\n",
    "    date_m = json_data.get('dateModified', '')\n",
    "    genre = json_data.get('genre', [])\n",
    "    if genre == []:\n",
    "        genre = [k for k in soup.find('meta', attrs={'name':'keywords'}).get('content').split(',') if k not in ['NHK','ニュース', 'NHK NEWS WEB']]\n",
    "    keywords = json_data.get('keywords', [])\n",
    "    article = soup.find('div', id=\"news_textbody\").text\n",
    "    url_normal = 'https:' + soup.find('meta', property=\"og:url\").get('content').rsplit('https:')[-1]\n",
    "    if soup.find_all('div', id=\"news_textmore\") != []:\n",
    "        for textmore in soup.find_all('div', id=\"news_textmore\"):\n",
    "            article += ('\\n' + textmore.text)\n",
    "    if soup.find_all('div', class_=\"news_add\") != []:\n",
    "        for newsadd in soup.find_all('div', class_=\"news_add\"):\n",
    "            if newsadd.h3 != None:\n",
    "                newsadd.h3.extract()\n",
    "            article += ('\\n' + newsadd.text)\n",
    "            \n",
    "    return {\n",
    "        'id':url_normal.split('/')[-1].split('.html')[0],\n",
    "        'title':title,\n",
    "        'article':article.strip(),\n",
    "        'genre':genre,\n",
    "        'keywords':keywords,\n",
    "        'url':url_normal,\n",
    "        'datePublished':date,\n",
    "        'dateModified':date_m\n",
    "    }\n",
    "\n",
    "def remove_rt(text):\n",
    "    return re.sub('<rt>.+?</rt>', '', text)\n",
    "\n",
    "def tag(text):\n",
    "    text = re.sub(r'<span class=\"colorC\">(.+?)</span>', r\"{org}\\1{/org}\", text)\n",
    "    text = re.sub(r'<span class=\"colorL\">(.+?)</span>', r\"{plc}\\1{/plc}\", text)\n",
    "    text = re.sub(r'<span class=\"colorN\">(.+?)</span>', r\"{per}\\1{/per}\", text)\n",
    "    return text\n",
    "\n",
    "def retag(text):\n",
    "    text = re.sub(r'{org}(.+?){/org}', r\"<org>\\1</org>\", text)\n",
    "    text = re.sub(r'{plc}(.+?){/plc}', r\"<plc>\\1</plc>\", text)\n",
    "    text = re.sub(r'{per}(.+?){/per}', r\"<per>\\1</per>\", text)\n",
    "    return text\n",
    "\n",
    "def remove_a(text):\n",
    "    text = re.sub(r'</?a.*?>', '', text)\n",
    "    text = re.sub(r'<span class=\"under\">(\\w+)</span>', r'\\1', text)\n",
    "    text = re.sub(r'<img.+?>(<br ?/?>)?', '', text)\n",
    "    text = re.sub(r'^<br ?/?>', '', text)\n",
    "    return text.strip()\n",
    "\n",
    "# for old web easy\n",
    "def scrape_easy_one(html):\n",
    "    soup = BeautifulSoup(html, \"html.parser\")\n",
    "    url_normal = soup.find('div', id=\"regularnews\").a.get('href')\n",
    "    if '/http://' in url_normal:\n",
    "        url_normal = 'http://' + url_normal.split('/http://')[-1]\n",
    "    else:\n",
    "        url_normal = 'https://' + url_normal.split('/https://')[-1]\n",
    "    date = soup.find('p', id=\"newsDate\").text[1:-1]\n",
    "    #title_easy = soup.find('h1', class_=\"article-main__title\")\n",
    "    #title_easy_ruby = ''.join([str(t) for t in title_easy.contents]).strip()\n",
    "    url_easy = soup.find('meta', attrs={'name':'shorturl'}).get('content')\n",
    "    title_easy = soup.find('div', id='newstitle').h2\n",
    "    title_easy_ruby = ''.join([str(t) for t in title_easy.contents]).strip()\n",
    "    title_easy = BeautifulSoup(remove_rt(str(title_easy)), \"html.parser\").text.strip()\n",
    "    article_easy = soup.find('div', id=\"newsarticle\")\n",
    "    article_easy = BeautifulSoup(tag(remove_rt(str(article_easy))), \"html.parser\").text.strip()\n",
    "    article_easy_ruby = soup.find('div', id=\"newsarticle\").find_all('p')\n",
    "    article_easy_ruby = '\\n'.join([''.join([remove_a(str(l)) for l in p.contents]) for p in article_easy_ruby if p != []]).strip()\n",
    "    \n",
    "    return {\n",
    "        'id':url_easy.split('/')[-1].split('.html')[0],\n",
    "        'title_easy':title_easy,\n",
    "        'title_easy_ruby':title_easy_ruby,\n",
    "        'article_easy':retag(article_easy),\n",
    "        'article_easy_ruby':article_easy_ruby,\n",
    "        'url_easy':url_easy,\n",
    "        'url_normal':url_normal,\n",
    "        'date_easy':date\n",
    "    }\n",
    "\n",
    "# for new web easy\n",
    "def scrape_easy_one_new(html):\n",
    "    soup = BeautifulSoup(html, \"html.parser\")\n",
    "    url_easy = 'https://' + soup.find('meta', property=\"og:url\").get('content').split('/https://')[-1]\n",
    "    url_normal = soup.find('div', class_=\"link-to-normal\").a.get('href')\n",
    "    date = soup.find('p', class_=\"article-main__date\").text[1:-1]\n",
    "    title_easy = soup.find('h1', class_=\"article-main__title\")\n",
    "    title_easy_ruby = ''.join([str(t) for t in title_easy.contents]).strip()\n",
    "    title_easy = BeautifulSoup(remove_rt(str(title_easy)), \"html.parser\").text.strip()\n",
    "    article_easy = soup.find('div', class_=\"article-main__body article-body\")\n",
    "    article_easy = BeautifulSoup(tag(remove_rt(str(article_easy))), \"html.parser\").text.strip()\n",
    "    article_easy_ruby = soup.find('div', class_=\"article-main__body article-body\").find_all('p')\n",
    "    article_easy_ruby = '\\n'.join([''.join([remove_a(str(l)) for l in p.contents]) for p in article_easy_ruby if p != []]).strip()\n",
    "    \n",
    "    return {\n",
    "        'id':url_easy.split('/')[-1].split('.html')[0],\n",
    "        'title_easy':title_easy,\n",
    "        'title_easy_ruby':title_easy_ruby,\n",
    "        'article_easy':retag(article_easy),\n",
    "        'article_easy_ruby':article_easy_ruby,\n",
    "        'url_easy':url_easy,\n",
    "        'url_normal':url_normal,\n",
    "        'date_easy':date\n",
    "    }\n",
    "\n",
    "def make_date_normal_old(hmd,time):\n",
    "    year = hmd[:4]\n",
    "    month = hmd[4:6]\n",
    "    day = hmd[6:]\n",
    "    hour, minute = time.split('時')\n",
    "    minute = minute.strip('分')\n",
    "    if len(hour) == 1:\n",
    "        hour = '0' + hour\n",
    "    if len(minute) == 1:\n",
    "        minute = '0' + minute\n",
    "    return f\"{year}-{month}-{day}T{hour}:{minute}\"\n",
    "\n",
    "\n",
    "# for old web normal\n",
    "def scrape_normal_one(html, url):\n",
    "    soup = BeautifulSoup(html, \"html.parser\")\n",
    "    title = soup.find('span', class_=\"contentTitle\").text.strip()\n",
    "    hmd_ = url.split('/')[-2]\n",
    "    time_ = soup.find('span', id=\"news_time\").text\n",
    "    date = make_date_normal_old(hmd_, time_)\n",
    "    genre = [k for k in soup.find('meta', attrs={'name':'keywords'}).get('content').split(',') if k not in ['NHK','ニュース', 'NHK NEWS WEB','ＮＨＫ','ＮＨＫニュース','']]\n",
    "    article = soup.find('div', id=\"news_textbody\").text\n",
    "    if soup.find_all('div', id=\"news_textmore\") != []:\n",
    "        for textmore in soup.find_all('div', id=\"news_textmore\"):\n",
    "            article += ('\\n' + textmore.text)\n",
    "    if soup.find_all('div', class_=\"news_add\") != []:\n",
    "        for newsadd in soup.find_all('div', class_=\"news_add\"):\n",
    "            if newsadd.h3 != None:\n",
    "                newsadd.h3.extract()\n",
    "            article += ('\\n' + newsadd.text)\n",
    "            \n",
    "    return {\n",
    "        'id':url.split('/')[-1].split('.html')[0],\n",
    "        'title':title,\n",
    "        'article':article.strip(),\n",
    "        'genre':genre,\n",
    "        'keywords':[],\n",
    "        'url':url,\n",
    "        'datePublished':date,\n",
    "        'dateModified':\"\"\n",
    "    }\n",
    "\n",
    "def get_link(start=0):\n",
    "    notyet = []\n",
    "    n_list = pd.read_json('nhkweb.json', encoding='utf-8')['url'].tolist()\n",
    "    df_e = pd.read_json('nhkwebeasy.json', encoding='utf-8') \n",
    "    for i in df_e['url_normal'][start:]:\n",
    "        if i not in n_list:\n",
    "            notyet.append(i)\n",
    "    with open('nolinknormal.txt') as f:\n",
    "        nolink = f.read().split()\n",
    "    return sorted(set(notyet) - set(nolink))\n",
    "\n",
    "def get_link_nogenre(start=0):\n",
    "    notyet = []\n",
    "    with open('nhkweb.json', 'r', encoding='utf-8') as f:\n",
    "        data = json.load(f)\n",
    "    for dic in data:\n",
    "        if dic['genre'] == []:\n",
    "            notyet.append(dic['url'])\n",
    "    return notyet  \n",
    "\n",
    "def js(dic):\n",
    "    with open('nhkweb.json', 'r', encoding='utf-8') as f:\n",
    "        data = json.load(f)\n",
    "    with open('nhkweb.json', 'w', encoding='utf-8') as f:\n",
    "        if dic['id'] not in [x['id'] for x in data]:\n",
    "            data.append(dic)\n",
    "        else:\n",
    "            for i, d in enumerate(data):\n",
    "                if dic['id'] == d['id']:\n",
    "                    data[i] = dic\n",
    "        data = sorted(data, key=lambda x:x['id'])\n",
    "        json.dump(data, f, indent=4, ensure_ascii=False)\n",
    "        \n",
    "def js_e(dic):\n",
    "    with open('nhkwebeasy.json', 'r', encoding='utf-8') as f:\n",
    "        data = json.load(f)\n",
    "    with open('nhkwebeasy.json', 'w', encoding='utf-8') as f:\n",
    "        if dic['id'] not in [x['id'] for x in data]:\n",
    "            data.append(dic)\n",
    "        else:\n",
    "            for i, d in enumerate(data):\n",
    "                if dic['id'] == d['id']:\n",
    "                    data[i] = dic\n",
    "        data = sorted(data, key=lambda x:x['id'])\n",
    "        json.dump(data, f, indent=4, ensure_ascii=False)"
   ]
  },
  {
   "cell_type": "code",
   "execution_count": 4,
   "metadata": {},
   "outputs": [],
   "source": [
    "htmls = ['https://www3.nhk.or.jp/news/html/20191117/k10012180511000.html']"
   ]
  },
  {
   "cell_type": "code",
   "execution_count": 36,
   "metadata": {},
   "outputs": [
    {
     "name": "stdout",
     "output_type": "stream",
     "text": "1121\n"
    },
    {
     "data": {
      "text/plain": "['http://www3.nhk.or.jp/news/html/20151022/k10010278681000.html',\n 'http://www3.nhk.or.jp/news/html/20151103/k10010292821000.html',\n 'http://www3.nhk.or.jp/news/html/20151107/k10010298041000.html',\n 'http://www3.nhk.or.jp/news/html/20151108/k10010298051000.html',\n 'http://www3.nhk.or.jp/news/html/20151108/k10010298411000.html',\n 'http://www3.nhk.or.jp/news/html/20151109/k10010298901000.html',\n 'http://www3.nhk.or.jp/news/html/20151109/k10010299191000.html',\n 'http://www3.nhk.or.jp/news/html/20151109/k10010299481000.html',\n 'http://www3.nhk.or.jp/news/html/20151110/k10010299961000.html',\n 'http://www3.nhk.or.jp/news/html/20151110/k10010300521000.html']"
     },
     "execution_count": 36,
     "metadata": {},
     "output_type": "execute_result"
    }
   ],
   "source": [
    "htmls = get_link(0)\n",
    "print(len(htmls))\n",
    "htmls[:10]"
   ]
  },
  {
   "cell_type": "code",
   "execution_count": 29,
   "metadata": {},
   "outputs": [
    {
     "data": {
      "text/plain": "[]"
     },
     "execution_count": 29,
     "metadata": {},
     "output_type": "execute_result"
    }
   ],
   "source": [
    "htmls = get_link_nogenre(); htmls[:50]"
   ]
  },
  {
   "cell_type": "markdown",
   "execution_count": null,
   "metadata": {},
   "outputs": [],
   "source": [
    "# scrape"
   ]
  },
  {
   "cell_type": "code",
   "execution_count": 4,
   "metadata": {},
   "outputs": [],
   "source": [
    "driver = webdriver.Chrome()"
   ]
  },
  {
   "cell_type": "code",
   "execution_count": 37,
   "metadata": {},
   "outputs": [
    {
     "name": "stderr",
     "output_type": "stream",
     "text": "37s/it]\u001b[A\u001b[A\u001b[A\u001b[A\n\n\n\n 75%|███████▌  | 843/1118 [17:54:54<5:25:25, 71.00s/it]\u001b[A\u001b[A\u001b[A\u001b[A\n\n\n\n 75%|███████▌  | 844/1118 [17:56:05<5:23:09, 70.76s/it]\u001b[A\u001b[A\u001b[A\u001b[A\n\n\n\n 76%|███████▌  | 845/1118 [17:56:16<4:00:53, 52.94s/it]\u001b[A\u001b[A\u001b[A\u001b[Ahttp://www3.nhk.or.jp/news/html/20160807/k10010625421000.html\n\n\n\n\n 76%|███████▌  | 846/1118 [17:57:26<4:22:29, 57.90s/it]\u001b[A\u001b[A\u001b[A\u001b[A\n\n\n\n 76%|███████▌  | 847/1118 [17:58:47<4:53:37, 65.01s/it]\u001b[A\u001b[A\u001b[A\u001b[A\n\n\n\n 76%|███████▌  | 848/1118 [18:00:13<5:20:27, 71.21s/it]\u001b[A\u001b[A\u001b[A\u001b[A\n\n\n\n 76%|███████▌  | 849/1118 [18:01:29<5:26:33, 72.84s/it]\u001b[A\u001b[A\u001b[A\u001b[A\n\n\n\n 76%|███████▌  | 850/1118 [18:02:46<5:30:47, 74.06s/it]\u001b[A\u001b[A\u001b[A\u001b[A\n\n\n\n 76%|███████▌  | 851/1118 [18:03:55<5:22:18, 72.43s/it]\u001b[A\u001b[A\u001b[A\u001b[A\n\n\n\n 76%|███████▌  | 852/1118 [18:05:04<5:16:22, 71.36s/it]\u001b[A\u001b[A\u001b[A\u001b[A\n\n\n\n 76%|███████▋  | 853/1118 [18:06:24<5:26:40, 73.96s/it]\u001b[A\u001b[A\u001b[A\u001b[A\n\n\n\n 76%|███████▋  | 854/1118 [18:07:33<5:18:54, 72.48s/it]\u001b[A\u001b[A\u001b[A\u001b[A\n\n\n\n 76%|███████▋  | 855/1118 [18:08:34<5:02:41, 69.05s/it]\u001b[A\u001b[A\u001b[A\u001b[A\n\n\n\n 77%|███████▋  | 856/1118 [18:09:44<5:02:51, 69.36s/it]\u001b[A\u001b[A\u001b[A\u001b[A\n\n\n\n 77%|███████▋  | 857/1118 [18:11:04<5:15:09, 72.45s/it]\u001b[A\u001b[A\u001b[A\u001b[A\n\n\n\n 77%|███████▋  | 858/1118 [18:12:22<5:22:10, 74.35s/it]\u001b[A\u001b[A\u001b[A\u001b[A\n\n\n\n 77%|███████▋  | 859/1118 [18:13:32<5:14:48, 72.93s/it]\u001b[A\u001b[A\u001b[A\u001b[A\n\n\n\n 77%|███████▋  | 860/1118 [18:14:55<5:26:19, 75.89s/it]\u001b[A\u001b[A\u001b[A\u001b[A\n\n\n\n 77%|███████▋  | 861/1118 [18:16:13<5:28:26, 76.68s/it]\u001b[A\u001b[A\u001b[A\u001b[A\n\n\n\n 77%|███████▋  | 862/1118 [18:17:29<5:25:30, 76.29s/it]\u001b[A\u001b[A\u001b[A\u001b[A\n\n\n\n 77%|███████▋  | 863/1118 [18:19:30<6:21:20, 89.73s/it]\u001b[A\u001b[A\u001b[A\u001b[A\n\n\n\n 77%|███████▋  | 864/1118 [18:21:06<6:28:00, 91.66s/it]\u001b[A\u001b[A\u001b[A\u001b[A\n\n\n\n 77%|███████▋  | 865/1118 [18:22:20<6:04:35, 86.46s/it]\u001b[A\u001b[A\u001b[A\u001b[A\n\n\n\n 77%|███████▋  | 866/1118 [18:24:09<6:31:01, 93.10s/it]\u001b[A\u001b[A\u001b[A\u001b[A\n\n\n\n 78%|███████▊  | 867/1118 [18:25:11<5:50:37, 83.82s/it]\u001b[A\u001b[A\u001b[A\u001b[A\n\n\n\n 78%|███████▊  | 868/1118 [18:26:29<5:41:41, 82.01s/it]\u001b[A\u001b[A\u001b[A\u001b[A\n\n\n\n 78%|███████▊  | 869/1118 [18:27:46<5:33:50, 80.44s/it]\u001b[A\u001b[A\u001b[A\u001b[A\n\n\n\n 78%|███████▊  | 870/1118 [18:29:09<5:36:22, 81.38s/it]\u001b[A\u001b[A\u001b[A\u001b[A\n\n\n\n 78%|███████▊  | 871/1118 [18:30:29<5:33:01, 80.90s/it]\u001b[A\u001b[A\u001b[A\u001b[A\n\n\n\n 78%|███████▊  | 872/1118 [18:31:51<5:32:57, 81.21s/it]\u001b[A\u001b[A\u001b[A\u001b[A\n\n\n\n 78%|███████▊  | 873/1118 [18:33:04<5:21:11, 78.66s/it]\u001b[A\u001b[A\u001b[A\u001b[A\n\n\n\n 78%|███████▊  | 874/1118 [18:34:13<5:07:58, 75.73s/it]\u001b[A\u001b[A\u001b[A\u001b[A\n\n\n\n 78%|███████▊  | 875/1118 [18:35:26<5:04:15, 75.12s/it]\u001b[A\u001b[A\u001b[A\u001b[A\n\n\n\n 78%|███████▊  | 876/1118 [18:36:42<5:04:11, 75.42s/it]\u001b[A\u001b[A\u001b[A\u001b[A\n\n\n\n 78%|███████▊  | 877/1118 [18:38:03<5:08:48, 76.88s/it]\u001b[A\u001b[A\u001b[A\u001b[A\n\n\n\n 79%|███████▊  | 878/1118 [18:39:11<4:56:46, 74.19s/it]\u001b[A\u001b[A\u001b[A\u001b[A\n\n\n\n 79%|███████▊  | 879/1118 [18:40:28<4:59:29, 75.19s/it]\u001b[A\u001b[A\u001b[A\u001b[A\n\n\n\n 79%|███████▊  | 880/1118 [18:41:54<5:11:22, 78.50s/it]\u001b[A\u001b[A\u001b[A\u001b[A\n\n\n\n 79%|███████▉  | 881/1118 [18:43:08<5:04:44, 77.15s/it]\u001b[A\u001b[A\u001b[A\u001b[A\n\n\n\n 79%|███████▉  | 882/1118 [18:44:33<5:12:36, 79.48s/it]\u001b[A\u001b[A\u001b[A\u001b[A\n\n\n\n 79%|███████▉  | 883/1118 [18:45:53<5:11:19, 79.49s/it]\u001b[A\u001b[A\u001b[A\u001b[A\n\n\n\n 79%|███████▉  | 884/1118 [18:47:08<5:04:37, 78.11s/it]\u001b[A\u001b[A\u001b[A\u001b[A\n\n\n\n 79%|███████▉  | 885/1118 [18:48:28<5:06:00, 78.80s/it]\u001b[A\u001b[A\u001b[A\u001b[A\n\n\n\n 79%|███████▉  | 886/1118 [18:49:40<4:57:00, 76.81s/it]\u001b[A\u001b[A\u001b[A\u001b[A\n\n\n\n 79%|███████▉  | 887/1118 [18:51:32<5:36:32, 87.41s/it]\u001b[A\u001b[A\u001b[A\u001b[A\n\n\n\n 79%|███████▉  | 888/1118 [18:52:46<5:18:46, 83.16s/it]\u001b[A\u001b[A\u001b[A\u001b[A\n\n\n\n 80%|███████▉  | 889/1118 [18:54:01<5:08:30, 80.83s/it]\u001b[A\u001b[A\u001b[A\u001b[A\n\n\n\n 80%|███████▉  | 890/1118 [18:55:21<5:06:06, 80.55s/it]\u001b[A\u001b[A\u001b[A\u001b[A\n\n\n\n 80%|███████▉  | 891/1118 [18:56:41<5:04:14, 80.41s/it]\u001b[A\u001b[A\u001b[A\u001b[A\n\n\n\n 80%|███████▉  | 892/1118 [18:57:53<4:52:49, 77.74s/it]\u001b[A\u001b[A\u001b[A\u001b[A\n\n\n\n 80%|███████▉  | 893/1118 [18:59:03<4:42:49, 75.42s/it]\u001b[A\u001b[A\u001b[A\u001b[A\n\n\n\n 80%|███████▉  | 894/1118 [19:00:11<4:33:21, 73.22s/it]\u001b[A\u001b[A\u001b[A\u001b[A\n\n\n\n 80%|████████  | 895/1118 [19:01:27<4:35:44, 74.19s/it]\u001b[A\u001b[A\u001b[A\u001b[A\n\n\n\n 80%|████████  | 896/1118 [19:03:11<5:07:58, 83.24s/it]\u001b[A\u001b[A\u001b[A\u001b[A\n\n\n\n 80%|████████  | 897/1118 [19:04:32<5:03:36, 82.43s/it]\u001b[A\u001b[A\u001b[A\u001b[A\n\n\n\n 80%|████████  | 898/1118 [19:06:30<5:41:01, 93.01s/it]\u001b[A\u001b[A\u001b[A\u001b[A\n\n\n\n 80%|████████  | 899/1118 [19:07:44<5:18:41, 87.31s/it]\u001b[A\u001b[A\u001b[A\u001b[A\n\n\n\n 81%|████████  | 900/1118 [19:08:55<4:59:54, 82.54s/it]\u001b[A\u001b[A\u001b[A\u001b[A\n\n\n\n 81%|████████  | 901/1118 [19:10:15<4:55:34, 81.73s/it]\u001b[A\u001b[A\u001b[A\u001b[A\n\n\n\n 81%|████████  | 902/1118 [19:11:31<4:48:18, 80.08s/it]\u001b[A\u001b[A\u001b[A\u001b[A\n\n\n\n 81%|████████  | 903/1118 [19:12:41<4:36:07, 77.06s/it]\u001b[A\u001b[A\u001b[A\u001b[A\n\n\n\n 81%|████████  | 904/1118 [19:13:56<4:33:00, 76.55s/it]\u001b[A\u001b[A\u001b[A\u001b[A\n\n\n\n 81%|████████  | 905/1118 [19:15:09<4:27:42, 75.41s/it]\u001b[A\u001b[A\u001b[A\u001b[A\n\n\n\n 81%|████████  | 906/1118 [19:16:17<4:18:46, 73.24s/it]\u001b[A\u001b[A\u001b[A\u001b[A\n\n\n\n 81%|████████  | 907/1118 [19:17:37<4:23:43, 74.99s/it]\u001b[A\u001b[A\u001b[A\u001b[A\n\n\n\n 81%|████████  | 908/1118 [19:18:51<4:21:44, 74.78s/it]\u001b[A\u001b[A\u001b[A\u001b[A\n\n\n\n 81%|████████▏ | 909/1118 [19:20:06<4:21:12, 74.99s/it]\u001b[A\u001b[A\u001b[A\u001b[A\n\n\n\n 81%|████████▏ | 910/1118 [19:21:15<4:13:16, 73.06s/it]\u001b[A\u001b[A\u001b[A\u001b[A\n\n\n\n 81%|████████▏ | 911/1118 [19:22:15<3:59:07, 69.31s/it]\u001b[A\u001b[A\u001b[A\u001b[A\n\n\n\n 82%|████████▏ | 912/1118 [19:23:22<3:55:03, 68.46s/it]\u001b[A\u001b[A\u001b[A\u001b[A\n\n\n\n 82%|████████▏ | 913/1118 [19:24:35<3:58:59, 69.95s/it]\u001b[A\u001b[A\u001b[A\u001b[A\n\n\n\n 82%|████████▏ | 914/1118 [19:25:49<4:01:56, 71.16s/it]\u001b[A\u001b[A\u001b[A\u001b[A\n\n\n\n 82%|████████▏ | 915/1118 [19:27:03<4:02:55, 71.80s/it]\u001b[A\u001b[A\u001b[A\u001b[A\n\n\n\n 82%|████████▏ | 916/1118 [19:28:33<4:20:19, 77.32s/it]\u001b[A\u001b[A\u001b[A\u001b[A\n\n\n\n 82%|████████▏ | 917/1118 [19:30:44<5:13:27, 93.57s/it]\u001b[A\u001b[A\u001b[A\u001b[A\n\n\n\n 82%|████████▏ | 918/1118 [19:32:17<5:11:33, 93.47s/it]\u001b[A\u001b[A\u001b[A\u001b[A\n\n\n\n 82%|████████▏ | 919/1118 [19:33:24<4:42:42, 85.24s/it]\u001b[A\u001b[A\u001b[A\u001b[A\n\n\n\n 82%|████████▏ | 920/1118 [19:34:58<4:50:08, 87.92s/it]\u001b[A\u001b[A\u001b[A\u001b[A\n\n\n\n 82%|████████▏ | 921/1118 [19:36:30<4:52:56, 89.22s/it]\u001b[A\u001b[A\u001b[A\u001b[A\n\n\n\n 82%|████████▏ | 922/1118 [19:37:57<4:49:48, 88.72s/it]\u001b[A\u001b[A\u001b[A\u001b[A\n\n\n\n 83%|████████▎ | 923/1118 [19:39:12<4:33:59, 84.31s/it]\u001b[A\u001b[A\u001b[A\u001b[A\n\n\n\n 83%|████████▎ | 924/1118 [19:40:40<4:37:00, 85.68s/it]\u001b[A\u001b[A\u001b[A\u001b[A\n\n\n\n 83%|████████▎ | 925/1118 [19:41:53<4:22:41, 81.67s/it]\u001b[A\u001b[A\u001b[A\u001b[A\n\n\n\n 83%|████████▎ | 926/1118 [19:42:59<4:06:08, 76.92s/it]\u001b[A\u001b[A\u001b[A\u001b[A\n\n\n\n 83%|████████▎ | 927/1118 [19:44:30<4:18:38, 81.25s/it]\u001b[A\u001b[A\u001b[A\u001b[A\n\n\n\n 83%|████████▎ | 928/1118 [19:45:40<4:07:10, 78.06s/it]\u001b[A\u001b[A\u001b[A\u001b[A\n\n\n\n 83%|████████▎ | 929/1118 [19:46:43<3:50:48, 73.28s/it]\u001b[A\u001b[A\u001b[A\u001b[A\n\n\n\n 83%|████████▎ | 930/1118 [19:47:53<3:47:14, 72.52s/it]\u001b[A\u001b[A\u001b[A\u001b[A\n\n\n\n 83%|████████▎ | 931/1118 [19:48:59<3:39:41, 70.49s/it]\u001b[A\u001b[A\u001b[A\u001b[A\n\n\n\n 83%|████████▎ | 932/1118 [19:50:21<3:49:19, 73.98s/it]\u001b[A\u001b[A\u001b[A\u001b[A\n\n\n\n 83%|████████▎ | 933/1118 [19:51:30<3:43:22, 72.45s/it]\u001b[A\u001b[A\u001b[A\u001b[A\n\n\n\n 84%|████████▎ | 934/1118 [19:52:39<3:39:20, 71.52s/it]\u001b[A\u001b[A\u001b[A\u001b[A\n\n\n\n 84%|████████▎ | 935/1118 [19:53:51<3:38:08, 71.52s/it]\u001b[A\u001b[A\u001b[A\u001b[A\n\n\n\n 84%|████████▎ | 936/1118 [19:54:58<3:33:13, 70.29s/it]\u001b[A\u001b[A\u001b[A\u001b[A\n\n\n\n 84%|████████▍ | 937/1118 [19:56:11<3:33:58, 70.93s/it]\u001b[A\u001b[A\u001b[A\u001b[A\n\n\n\n 84%|████████▍ | 938/1118 [19:57:19<3:30:29, 70.16s/it]\u001b[A\u001b[A\u001b[A\u001b[A\n\n\n\n 84%|████████▍ | 939/1118 [19:58:29<3:28:47, 69.99s/it]\u001b[A\u001b[A\u001b[A\u001b[A\n\n\n\n 84%|████████▍ | 940/1118 [19:59:40<3:28:34, 70.31s/it]\u001b[A\u001b[A\u001b[A\u001b[A\n\n\n\n 84%|████████▍ | 941/1118 [20:00:51<3:28:05, 70.54s/it]\u001b[A\u001b[A\u001b[A\u001b[A\n\n\n\n 84%|████████▍ | 942/1118 [20:01:58<3:23:28, 69.37s/it]\u001b[A\u001b[A\u001b[A\u001b[A\n\n\n\n 84%|████████▍ | 943/1118 [20:03:06<3:21:55, 69.23s/it]\u001b[A\u001b[A\u001b[A\u001b[A\n\n\n\n 84%|████████▍ | 944/1118 [20:04:15<3:20:22, 69.10s/it]\u001b[A\u001b[A\u001b[A\u001b[A\n\n\n\n 85%|████████▍ | 945/1118 [20:05:27<3:21:35, 69.92s/it]\u001b[A\u001b[A\u001b[A\u001b[A\n\n\n\n 85%|████████▍ | 946/1118 [20:06:35<3:18:36, 69.28s/it]\u001b[A\u001b[A\u001b[A\u001b[A\n\n\n\n 85%|████████▍ | 947/1118 [20:07:42<3:15:36, 68.63s/it]\u001b[A\u001b[A\u001b[A\u001b[A\n\n\n\n 85%|████████▍ | 948/1118 [20:08:50<3:13:48, 68.40s/it]\u001b[A\u001b[A\u001b[A\u001b[A\n\n\n\n 85%|████████▍ | 949/1118 [20:10:07<3:20:19, 71.12s/it]\u001b[A\u001b[A\u001b[A\u001b[A\n\n\n\n 85%|████████▍ | 950/1118 [20:11:15<3:16:06, 70.04s/it]\u001b[A\u001b[A\u001b[A\u001b[A\n\n\n\n 85%|████████▌ | 951/1118 [20:12:22<3:12:07, 69.03s/it]\u001b[A\u001b[A\u001b[A\u001b[A\n\n\n\n 85%|████████▌ | 952/1118 [20:13:25<3:06:42, 67.49s/it]\u001b[A\u001b[A\u001b[A\u001b[A\n\n\n\n 85%|████████▌ | 953/1118 [20:14:31<3:04:10, 66.97s/it]\u001b[A\u001b[A\u001b[A\u001b[A\n\n\n\n 85%|████████▌ | 954/1118 [20:15:42<3:05:48, 67.98s/it]\u001b[A\u001b[A\u001b[A\u001b[A\n\n\n\n 85%|████████▌ | 955/1118 [20:16:56<3:10:19, 70.06s/it]\u001b[A\u001b[A\u001b[A\u001b[A\n\n\n\n 86%|████████▌ | 956/1118 [20:18:05<3:07:35, 69.48s/it]\u001b[A\u001b[A\u001b[A\u001b[A\n\n\n\n 86%|████████▌ | 957/1118 [20:19:10<3:03:14, 68.29s/it]\u001b[A\u001b[A\u001b[A\u001b[A\n\n\n\n 86%|████████▌ | 958/1118 [20:20:19<3:02:15, 68.34s/it]\u001b[A\u001b[A\u001b[A\u001b[A\n\n\n\n 86%|████████▌ | 959/1118 [20:21:25<2:59:40, 67.80s/it]\u001b[A\u001b[A\u001b[A\u001b[A\n\n\n\n 86%|████████▌ | 960/1118 [20:22:36<3:01:05, 68.77s/it]\u001b[A\u001b[A\u001b[A\u001b[A\n\n\n\n 86%|████████▌ | 961/1118 [20:23:40<2:56:16, 67.37s/it]\u001b[A\u001b[A\u001b[A\u001b[A\n\n\n\n 86%|████████▌ | 962/1118 [20:24:51<2:57:42, 68.35s/it]\u001b[A\u001b[A\u001b[A\u001b[A\n\n\n\n 86%|████████▌ | 963/1118 [20:26:01<2:57:41, 68.78s/it]\u001b[A\u001b[A\u001b[A\u001b[A\n\n\n\n 86%|████████▌ | 964/1118 [20:27:09<2:56:02, 68.59s/it]\u001b[A\u001b[A\u001b[A\u001b[A\n\n\n\n 86%|████████▋ | 965/1118 [20:28:20<2:56:45, 69.32s/it]\u001b[A\u001b[A\u001b[A\u001b[A\n\n\n\n 86%|████████▋ | 966/1118 [20:29:16<2:45:42, 65.41s/it]\u001b[A\u001b[A\u001b[A\u001b[A\n\n\n\n 86%|████████▋ | 967/1118 [20:30:27<2:48:53, 67.11s/it]\u001b[A\u001b[A\u001b[A\u001b[A\n\n\n\n 87%|████████▋ | 968/1118 [20:31:38<2:50:47, 68.32s/it]\u001b[A\u001b[A\u001b[A\u001b[A\n\n\n\n 87%|████████▋ | 969/1118 [20:32:51<2:52:55, 69.63s/it]\u001b[A\u001b[A\u001b[A\u001b[A\n\n\n\n 87%|████████▋ | 970/1118 [20:34:04<2:54:23, 70.70s/it]\u001b[A\u001b[A\u001b[A\u001b[A\n\n\n\n 87%|████████▋ | 971/1118 [20:35:16<2:53:50, 70.96s/it]\u001b[A\u001b[A\u001b[A\u001b[A\n\n\n\n 87%|████████▋ | 972/1118 [20:36:30<2:54:59, 71.92s/it]\u001b[A\u001b[A\u001b[A\u001b[A\n\n\n\n 87%|████████▋ | 973/1118 [20:37:38<2:50:43, 70.64s/it]\u001b[A\u001b[A\u001b[A\u001b[A\n\n\n\n 87%|████████▋ | 974/1118 [20:38:50<2:50:41, 71.12s/it]\u001b[A\u001b[A\u001b[A\u001b[A\n\n\n\n 87%|████████▋ | 975/1118 [20:40:02<2:50:13, 71.43s/it]\u001b[A\u001b[A\u001b[A\u001b[A\n\n\n\n 87%|████████▋ | 976/1118 [20:41:17<2:51:45, 72.57s/it]\u001b[A\u001b[A\u001b[A\u001b[A\n\n\n\n 87%|████████▋ | 977/1118 [20:42:26<2:47:34, 71.31s/it]\u001b[A\u001b[A\u001b[A\u001b[A\n\n\n\n 87%|████████▋ | 978/1118 [20:43:34<2:44:43, 70.60s/it]\u001b[A\u001b[A\u001b[A\u001b[A\n\n\n\n 88%|████████▊ | 979/1118 [20:44:42<2:41:42, 69.80s/it]\u001b[A\u001b[A\u001b[A\u001b[A\n\n\n\n 88%|████████▊ | 980/1118 [20:45:54<2:41:59, 70.43s/it]\u001b[A\u001b[A\u001b[A\u001b[A\n\n\n\n 88%|████████▊ | 981/1118 [20:47:07<2:42:10, 71.03s/it]\u001b[A\u001b[A\u001b[A\u001b[A\n\n\n\n 88%|████████▊ | 982/1118 [20:48:19<2:41:58, 71.46s/it]\u001b[A\u001b[A\u001b[A\u001b[A\n\n\n\n 88%|████████▊ | 983/1118 [20:49:33<2:42:32, 72.24s/it]\u001b[A\u001b[A\u001b[A\u001b[A\n\n\n\n 88%|████████▊ | 984/1118 [20:50:45<2:40:40, 71.95s/it]\u001b[A\u001b[A\u001b[A\u001b[A\n\n\n\n 88%|████████▊ | 985/1118 [20:51:54<2:38:00, 71.28s/it]\u001b[A\u001b[A\u001b[A\u001b[A\n\n\n\n 88%|████████▊ | 986/1118 [20:53:07<2:37:34, 71.62s/it]\u001b[A\u001b[A\u001b[A\u001b[A\n\n\n\n 88%|████████▊ | 987/1118 [20:54:20<2:37:21, 72.07s/it]\u001b[A\u001b[A\u001b[A\u001b[A\n\n\n\n 88%|████████▊ | 988/1118 [20:55:27<2:32:48, 70.53s/it]\u001b[A\u001b[A\u001b[A\u001b[A\n\n\n\n 88%|████████▊ | 989/1118 [20:56:36<2:30:36, 70.05s/it]\u001b[A\u001b[A\u001b[A\u001b[A\n\n\n\n 89%|████████▊ | 990/1118 [20:57:39<2:24:59, 67.96s/it]\u001b[A\u001b[A\u001b[A\u001b[A\n\n\n\n 89%|████████▊ | 991/1118 [20:58:51<2:26:27, 69.19s/it]\u001b[A\u001b[A\u001b[A\u001b[A\n\n\n\n 89%|████████▊ | 992/1118 [21:00:02<2:26:16, 69.66s/it]\u001b[A\u001b[A\u001b[A\u001b[A\n\n\n\n 89%|████████▉ | 993/1118 [21:01:05<2:21:13, 67.79s/it]\u001b[A\u001b[A\u001b[A\u001b[A\n\n\n\n 89%|████████▉ | 994/1118 [21:02:17<2:22:53, 69.14s/it]\u001b[A\u001b[A\u001b[A\u001b[A\n\n\n\n 89%|████████▉ | 995/1118 [21:03:26<2:21:34, 69.06s/it]\u001b[A\u001b[A\u001b[A\u001b[A\n\n\n\n 89%|████████▉ | 996/1118 [21:04:36<2:21:00, 69.35s/it]\u001b[A\u001b[A\u001b[A\u001b[A\n\n\n\n 89%|████████▉ | 997/1118 [21:05:52<2:23:32, 71.18s/it]\u001b[A\u001b[A\u001b[A\u001b[A\n\n\n\n 89%|████████▉ | 998/1118 [21:07:05<2:23:56, 71.97s/it]\u001b[A\u001b[A\u001b[A\u001b[A\n\n\n\n 89%|████████▉ | 999/1118 [21:08:20<2:24:08, 72.68s/it]\u001b[A\u001b[A\u001b[A\u001b[A\n\n\n\n 89%|████████▉ | 1000/1118 [21:09:38<2:26:12, 74.34s/it]\u001b[A\u001b[A\u001b[A\u001b[A\n\n\n\n 90%|████████▉ | 1001/1118 [21:10:48<2:22:31, 73.09s/it]\u001b[A\u001b[A\u001b[A\u001b[A\n\n\n\n 90%|████████▉ | 1002/1118 [21:12:03<2:22:20, 73.63s/it]\u001b[A\u001b[A\u001b[A\u001b[A\n\n\n\n 90%|████████▉ | 1003/1118 [21:13:24<2:25:21, 75.84s/it]\u001b[A\u001b[A\u001b[A\u001b[A\n\n\n\n 90%|████████▉ | 1004/1118 [21:14:45<2:27:14, 77.50s/it]\u001b[A\u001b[A\u001b[A\u001b[A\n\n\n\n 90%|████████▉ | 1005/1118 [21:15:54<2:20:39, 74.68s/it]\u001b[A\u001b[A\u001b[A\u001b[A\n\n\n\n 90%|████████▉ | 1006/1118 [21:16:58<2:13:53, 71.73s/it]\u001b[A\u001b[A\u001b[A\u001b[A\n\n\n\n 90%|█████████ | 1007/1118 [21:18:14<2:14:41, 72.81s/it]\u001b[A\u001b[A\u001b[A\u001b[A\n\n\n\n 90%|█████████ | 1008/1118 [21:19:24<2:12:07, 72.07s/it]\u001b[A\u001b[A\u001b[A\u001b[A\n\n\n\n 90%|█████████ | 1009/1118 [21:20:41<2:13:38, 73.56s/it]\u001b[A\u001b[A\u001b[A\u001b[A\n\n\n\n 90%|█████████ | 1010/1118 [21:21:51<2:10:21, 72.42s/it]\u001b[A\u001b[A\u001b[A\u001b[A\n\n\n\n 90%|█████████ | 1011/1118 [21:23:02<2:08:30, 72.06s/it]\u001b[A\u001b[A\u001b[A\u001b[A\n\n\n\n 91%|█████████ | 1012/1118 [21:24:14<2:07:22, 72.10s/it]\u001b[A\u001b[A\u001b[A\u001b[A\n\n\n\n 91%|█████████ | 1013/1118 [21:25:23<2:04:24, 71.09s/it]\u001b[A\u001b[A\u001b[A\u001b[A\n\n\n\n 91%|█████████ | 1014/1118 [21:26:40<2:06:05, 72.75s/it]\u001b[A\u001b[A\u001b[A\u001b[A\n\n\n\n 91%|█████████ | 1015/1118 [21:27:40<1:58:20, 68.94s/it]\u001b[A\u001b[A\u001b[A\u001b[A\n\n\n\n 91%|█████████ | 1016/1118 [21:28:55<2:00:42, 71.00s/it]\u001b[A\u001b[A\u001b[A\u001b[A\n\n\n\n 91%|█████████ | 1017/1118 [21:30:33<2:12:55, 78.96s/it]\u001b[A\u001b[A\u001b[A\u001b[A\n\n\n\n 91%|█████████ | 1018/1118 [21:31:57<2:14:00, 80.40s/it]\u001b[A\u001b[A\u001b[A\u001b[A\n\n\n\n 91%|█████████ | 1019/1118 [21:33:21<2:14:39, 81.61s/it]\u001b[A\u001b[A\u001b[A\u001b[A\n\n\n\n 91%|█████████ | 1020/1118 [21:34:42<2:12:53, 81.36s/it]\u001b[A\u001b[A\u001b[A\u001b[A\n\n\n\n 91%|█████████▏| 1021/1118 [21:35:51<2:05:42, 77.76s/it]\u001b[A\u001b[A\u001b[A\u001b[A\n\n\n\n 91%|█████████▏| 1022/1118 [21:37:04<2:02:09, 76.35s/it]\u001b[A\u001b[A\u001b[A\u001b[A\n\n\n\n 92%|█████████▏| 1023/1118 [21:38:19<2:00:12, 75.92s/it]\u001b[A\u001b[A\u001b[A\u001b[A\n\n\n\n 92%|█████████▏| 1024/1118 [21:39:35<1:58:38, 75.73s/it]\u001b[A\u001b[A\u001b[A\u001b[A\n\n\n\n 92%|█████████▏| 1025/1118 [21:40:52<1:58:22, 76.37s/it]\u001b[A\u001b[A\u001b[A\u001b[A\n\n\n\n 92%|█████████▏| 1026/1118 [21:42:12<1:58:44, 77.44s/it]\u001b[A\u001b[A\u001b[A\u001b[A\n\n\n\n 92%|█████████▏| 1027/1118 [21:43:28<1:56:24, 76.75s/it]\u001b[A\u001b[A\u001b[A\u001b[A\n\n\n\n 92%|█████████▏| 1028/1118 [21:44:37<1:51:46, 74.51s/it]\u001b[A\u001b[A\u001b[A\u001b[A\n\n\n\n 92%|█████████▏| 1029/1118 [21:45:52<1:50:42, 74.63s/it]\u001b[A\u001b[A\u001b[A\u001b[A\n\n\n\n 92%|█████████▏| 1030/1118 [21:47:02<1:47:31, 73.31s/it]\u001b[A\u001b[A\u001b[A\u001b[A\n\n\n\n 92%|█████████▏| 1031/1118 [21:48:11<1:44:27, 72.04s/it]\u001b[A\u001b[A\u001b[A\u001b[A\n\n\n\n 92%|█████████▏| 1032/1118 [21:49:11<1:38:08, 68.47s/it]\u001b[A\u001b[A\u001b[A\u001b[A\n\n\n\n 92%|█████████▏| 1033/1118 [21:50:30<1:41:29, 71.64s/it]\u001b[A\u001b[A\u001b[A\u001b[A\n\n\n\n 92%|█████████▏| 1034/1118 [21:51:47<1:42:21, 73.11s/it]\u001b[A\u001b[A\u001b[A\u001b[A\n\n\n\n 93%|█████████▎| 1035/1118 [21:52:54<1:38:51, 71.46s/it]\u001b[A\u001b[A\u001b[A\u001b[A\n\n\n\n 93%|█████████▎| 1036/1118 [21:54:12<1:40:13, 73.33s/it]\u001b[A\u001b[A\u001b[A\u001b[A\n\n\n\n 93%|█████████▎| 1037/1118 [21:55:16<1:35:17, 70.59s/it]\u001b[A\u001b[A\u001b[A\u001b[A\n\n\n\n 93%|█████████▎| 1038/1118 [21:56:35<1:37:21, 73.02s/it]\u001b[A\u001b[A\u001b[A\u001b[A\n\n\n\n 93%|█████████▎| 1039/1118 [21:57:40<1:33:02, 70.66s/it]\u001b[A\u001b[A\u001b[A\u001b[A\n\n\n\n 93%|█████████▎| 1040/1118 [21:58:54<1:33:07, 71.63s/it]\u001b[A\u001b[A\u001b[A\u001b[A\n\n\n\n 93%|█████████▎| 1041/1118 [22:00:00<1:29:55, 70.07s/it]\u001b[A\u001b[A\u001b[A\u001b[A\n\n\n\n 93%|█████████▎| 1042/1118 [22:01:19<1:31:53, 72.54s/it]\u001b[A\u001b[A\u001b[A\u001b[A\n\n\n\n 93%|█████████▎| 1043/1118 [22:02:31<1:30:24, 72.33s/it]\u001b[A\u001b[A\u001b[A\u001b[A\n\n\n\n 93%|█████████▎| 1044/1118 [22:03:49<1:31:17, 74.01s/it]\u001b[A\u001b[A\u001b[A\u001b[A\n\n\n\n 93%|█████████▎| 1045/1118 [22:05:04<1:30:45, 74.60s/it]\u001b[A\u001b[A\u001b[A\u001b[A\n\n\n\n 94%|█████████▎| 1046/1118 [22:06:26<1:32:06, 76.76s/it]\u001b[A\u001b[A\u001b[A\u001b[A\n\n\n\n 94%|█████████▎| 1047/1118 [22:07:42<1:30:29, 76.47s/it]\u001b[A\u001b[A\u001b[A\u001b[A\n\n\n\n 94%|█████████▎| 1048/1118 [22:09:09<1:32:47, 79.53s/it]\u001b[A\u001b[A\u001b[A\u001b[A\n\n\n\n 94%|█████████▍| 1049/1118 [22:10:26<1:30:50, 79.00s/it]\u001b[A\u001b[A\u001b[A\u001b[A\n\n\n\n 94%|█████████▍| 1050/1118 [22:11:34<1:25:38, 75.57s/it]\u001b[A\u001b[A\u001b[A\u001b[A\n\n\n\n 94%|█████████▍| 1051/1118 [22:12:38<1:20:31, 72.11s/it]\u001b[A\u001b[A\u001b[A\u001b[A\n\n\n\n 94%|█████████▍| 1052/1118 [22:13:59<1:22:03, 74.60s/it]\u001b[A\u001b[A\u001b[A\u001b[A\n\n\n\n 94%|█████████▍| 1053/1118 [22:15:17<1:21:59, 75.68s/it]\u001b[A\u001b[A\u001b[A\u001b[A\n\n\n\n 94%|█████████▍| 1054/1118 [22:16:16<1:15:32, 70.83s/it]\u001b[A\u001b[A\u001b[A\u001b[A\n\n\n\n 94%|█████████▍| 1055/1118 [22:17:30<1:15:20, 71.76s/it]\u001b[A\u001b[A\u001b[A\u001b[A\n\n\n\n 94%|█████████▍| 1056/1118 [22:18:43<1:14:22, 71.98s/it]\u001b[A\u001b[A\u001b[A\u001b[A\n\n\n\n 95%|█████████▍| 1057/1118 [22:20:02<1:15:18, 74.07s/it]\u001b[A\u001b[A\u001b[A\u001b[A\n\n\n\n 95%|█████████▍| 1058/1118 [22:21:14<1:13:39, 73.65s/it]\u001b[A\u001b[A\u001b[A\u001b[A\n\n\n\n 95%|█████████▍| 1059/1118 [22:22:18<1:09:24, 70.58s/it]\u001b[A\u001b[A\u001b[A\u001b[A\n\n\n\n 95%|█████████▍| 1060/1118 [22:23:31<1:09:05, 71.47s/it]\u001b[A\u001b[A\u001b[A\u001b[A\n\n\n\n 95%|█████████▍| 1061/1118 [22:24:46<1:08:58, 72.60s/it]\u001b[A\u001b[A\u001b[A\u001b[A\n\n\n\n 95%|█████████▍| 1062/1118 [22:26:11<1:11:06, 76.20s/it]\u001b[A\u001b[A\u001b[A\u001b[A\n\n\n\n 95%|█████████▌| 1063/1118 [22:27:29<1:10:26, 76.85s/it]\u001b[A\u001b[A\u001b[A\u001b[A\n\n\n\n 95%|█████████▌| 1064/1118 [22:28:41<1:07:44, 75.26s/it]\u001b[A\u001b[A\u001b[A\u001b[A\n\n\n\n 95%|█████████▌| 1065/1118 [22:29:57<1:06:42, 75.51s/it]\u001b[A\u001b[A\u001b[A\u001b[A\n\n\n\n 95%|█████████▌| 1066/1118 [22:31:09<1:04:29, 74.40s/it]\u001b[A\u001b[A\u001b[A\u001b[A\n\n\n\n 95%|█████████▌| 1067/1118 [22:32:27<1:04:18, 75.66s/it]\u001b[A\u001b[A\u001b[A\u001b[A\n\n\n\n 96%|█████████▌| 1068/1118 [22:33:37<1:01:30, 73.81s/it]\u001b[A\u001b[A\u001b[A\u001b[A\n\n\n\n 96%|█████████▌| 1069/1118 [22:34:52<1:00:27, 74.03s/it]\u001b[A\u001b[A\u001b[A\u001b[A\n\n\n\n 96%|█████████▌| 1070/1118 [22:36:08<59:45, 74.69s/it]\u001b[A\u001b[A\u001b[A\u001b[A\n\n\n\n 96%|█████████▌| 1071/1118 [22:37:23<58:36, 74.81s/it]\u001b[A\u001b[A\u001b[A\u001b[A\n\n\n\n 96%|█████████▌| 1072/1118 [22:38:22<53:44, 70.10s/it]\u001b[A\u001b[A\u001b[A\u001b[A\n\n\n\n 96%|█████████▌| 1073/1118 [22:39:35<53:11, 70.92s/it]\u001b[A\u001b[A\u001b[A\u001b[A\n\n\n\n 96%|█████████▌| 1074/1118 [22:40:46<51:58, 70.88s/it]\u001b[A\u001b[A\u001b[A\u001b[A\n\n\n\n 96%|█████████▌| 1075/1118 [22:42:00<51:28, 71.82s/it]\u001b[A\u001b[A\u001b[A\u001b[A\n\n\n\n 96%|█████████▌| 1076/1118 [22:43:15<51:06, 73.01s/it]\u001b[A\u001b[A\u001b[A\u001b[A\n\n\n\n 96%|█████████▋| 1077/1118 [22:44:24<49:03, 71.80s/it]\u001b[A\u001b[A\u001b[A\u001b[A\n\n\n\n 96%|█████████▋| 1078/1118 [22:45:26<45:51, 68.78s/it]\u001b[A\u001b[A\u001b[A\u001b[A\n\n\n\n 97%|█████████▋| 1079/1118 [22:46:38<45:22, 69.81s/it]\u001b[A\u001b[A\u001b[A\u001b[A\n\n\n\n 97%|█████████▋| 1080/1118 [22:47:49<44:27, 70.21s/it]\u001b[A\u001b[A\u001b[A\u001b[A\n\n\n\n 97%|█████████▋| 1081/1118 [22:49:10<45:16, 73.43s/it]\u001b[A\u001b[A\u001b[A\u001b[A\n\n\n\n 97%|█████████▋| 1082/1118 [22:50:24<44:02, 73.40s/it]\u001b[A\u001b[A\u001b[A\u001b[A\n\n\n\n 97%|█████████▋| 1083/1118 [22:51:38<42:59, 73.70s/it]\u001b[A\u001b[A\u001b[A\u001b[A\n\n\n\n 97%|█████████▋| 1084/1118 [22:52:41<39:55, 70.46s/it]\u001b[A\u001b[A\u001b[A\u001b[A\n\n\n\n 97%|█████████▋| 1085/1118 [22:52:52<28:57, 52.65s/it]\u001b[A\u001b[A\u001b[A\u001b[Ahttp://www3.nhk.or.jp/news/html/20161024/k10010741541000.html\n\n\n\n\n 97%|█████████▋| 1086/1118 [22:54:05<31:20, 58.76s/it]\u001b[A\u001b[A\u001b[A\u001b[A\n\n\n\n 97%|█████████▋| 1087/1118 [22:55:19<32:43, 63.33s/it]\u001b[A\u001b[A\u001b[A\u001b[A\n\n\n\n 97%|█████████▋| 1088/1118 [22:56:32<33:05, 66.18s/it]\u001b[A\u001b[A\u001b[A\u001b[A\n\n\n\n 97%|█████████▋| 1089/1118 [22:57:49<33:36, 69.52s/it]\u001b[A\u001b[A\u001b[A\u001b[A\n\n\n\n 97%|█████████▋| 1090/1118 [22:59:06<33:27, 71.70s/it]\u001b[A\u001b[A\u001b[A\u001b[A\n\n\n\n 98%|█████████▊| 1091/1118 [23:00:19<32:24, 72.01s/it]\u001b[A\u001b[A\u001b[A\u001b[A\n\n\n\n 98%|█████████▊| 1092/1118 [23:01:42<32:43, 75.52s/it]\u001b[A\u001b[A\u001b[A\u001b[A\n\n\n\n 98%|█████████▊| 1093/1118 [23:02:51<30:36, 73.47s/it]\u001b[A\u001b[A\u001b[A\u001b[A\n\n\n\n 98%|█████████▊| 1094/1118 [23:04:06<29:33, 73.90s/it]\u001b[A\u001b[A\u001b[A\u001b[A\n\n\n\n 98%|█████████▊| 1095/1118 [23:05:18<28:05, 73.30s/it]\u001b[A\u001b[A\u001b[A\u001b[A\n\n\n\n 98%|█████████▊| 1096/1118 [23:06:32<26:59, 73.63s/it]\u001b[A\u001b[A\u001b[A\u001b[A\n\n\n\n 98%|█████████▊| 1097/1118 [23:07:47<25:53, 74.00s/it]\u001b[A\u001b[A\u001b[A\u001b[A\n\n\n\n 98%|█████████▊| 1098/1118 [23:08:58<24:21, 73.05s/it]\u001b[A\u001b[A\u001b[A\u001b[A\n\n\n\n 98%|█████████▊| 1099/1118 [23:10:12<23:13, 73.36s/it]\u001b[A\u001b[A\u001b[A\u001b[A\n\n\n\n 98%|█████████▊| 1100/1118 [23:11:27<22:06, 73.69s/it]\u001b[A\u001b[A\u001b[A\u001b[A\n\n\n\n 98%|█████████▊| 1101/1118 [23:12:45<21:15, 75.01s/it]\u001b[A\u001b[A\u001b[A\u001b[A\n\n\n\n 99%|█████████▊| 1102/1118 [23:14:13<21:06, 79.15s/it]\u001b[A\u001b[A\u001b[A\u001b[A\n\n\n\n 99%|█████████▊| 1103/1118 [23:15:14<18:21, 73.43s/it]\u001b[A\u001b[A\u001b[A\u001b[A\n\n\n\n 99%|█████████▊| 1104/1118 [23:16:25<16:57, 72.68s/it]\u001b[A\u001b[A\u001b[A\u001b[A\n\n\n\n 99%|█████████▉| 1105/1118 [23:17:41<15:57, 73.69s/it]\u001b[A\u001b[A\u001b[A\u001b[A\n\n\n\n 99%|█████████▉| 1106/1118 [23:18:55<14:45, 73.79s/it]\u001b[A\u001b[A\u001b[A\u001b[A\n\n\n\n 99%|█████████▉| 1107/1118 [23:20:13<13:47, 75.26s/it]\u001b[A\u001b[A\u001b[A\u001b[A\n\n\n\n 99%|█████████▉| 1108/1118 [23:21:19<12:03, 72.38s/it]\u001b[A\u001b[A\u001b[A\u001b[Ahttps://www3.nhk.or.jp/news/html/20190120/k10011784611000.html\n\n\n\n\n 99%|█████████▉| 1109/1118 [23:21:30<08:05, 53.98s/it]\u001b[A\u001b[A\u001b[A\u001b[Ahttps://www3.nhk.or.jp/news/html/20191010/k10012120321000.html\n\n\n\n\n 99%|█████████▉| 1110/1118 [23:22:31<07:28, 56.09s/it]\u001b[A\u001b[A\u001b[A\u001b[Ahttps://www3.nhk.or.jp/news/html/20191017/k10012135411000.html\n\n\n\n\n 99%|█████████▉| 1111/1118 [23:23:46<07:12, 61.84s/it]\u001b[A\u001b[A\u001b[A\u001b[A\n\n\n\n 99%|█████████▉| 1112/1118 [23:25:03<06:37, 66.25s/it]\u001b[A\u001b[A\u001b[A\u001b[A\n\n\n\n100%|█████████▉| 1113/1118 [23:26:20<05:47, 69.42s/it]\u001b[A\u001b[A\u001b[A\u001b[A\n\n\n\n100%|█████████▉| 1114/1118 [23:27:35<04:44, 71.22s/it]\u001b[A\u001b[A\u001b[A\u001b[A\n\n\n\n100%|█████████▉| 1115/1118 [23:28:57<03:43, 74.44s/it]\u001b[A\u001b[A\u001b[A\u001b[A\n\n\n\n100%|█████████▉| 1116/1118 [23:30:16<02:31, 75.82s/it]\u001b[A\u001b[A\u001b[A\u001b[A\n\n\n\n100%|█████████▉| 1117/1118 [23:31:40<01:18, 78.33s/it]\u001b[A\u001b[A\u001b[A\u001b[A\n\n\n\n100%|██████████| 1118/1118 [23:32:35<00:00, 75.81s/it]http://www3.nhk.or.jp/news/html/20150122/k10014901061000.html\n\n"
    }
   ],
   "source": [
    "for nhkurl in tqdm.tqdm(htmls[3:]):\n",
    "    driver.get(f'https://web.archive.org/web/2019*/{nhkurl}')\n",
    "    time.sleep(10)\n",
    "    html = str(driver.page_source.encode('utf-8'))\n",
    "    snap = re.search(r'(between|1 time).*?<a href=\"(.+?)\">', html)\n",
    "    if not snap:\n",
    "        print(nhkurl)\n",
    "        continue\n",
    "    driver.get('https://web.archive.org' + snap.group(2))\n",
    "    time.sleep(30)\n",
    "    html = driver.page_source.encode('utf-8')\n",
    "    try:\n",
    "        dic = scrape_normal_one(html, nhkurl)\n",
    "        js(dic)\n",
    "    except:\n",
    "        print(nhkurl)"
   ]
  },
  {
   "cell_type": "code",
   "execution_count": 29,
   "metadata": {},
   "outputs": [
    {
     "name": "stdout",
     "output_type": "stream",
     "text": "{'id': 'k10010252101000', 'title': '選手強化費 クレジットカードのポイントで寄付', 'article': 'クレジットカードのポイントをオリンピックを目指すトップ選手の強化費への寄付として募るというユニークな取り組みが、ＪＯＣ＝日本オリンピック委員会とクレジットカード大手の協力で２９日から始まりました。\\n\\nこの取り組みは、２０２０年東京オリンピックなどを見据え、選手強化の充実が求められるなか、ＪＯＣがオリンピックの公式スポンサーでクレジットカード大手のＶＩＳＡと協力して始めました。具体的には、ＶＩＳＡカードの会員がカードの利用に伴ってたまるポイントをオリンピックを目指すトップ選手を対象とした強化費としてＪＯＣに寄付することを選択します。カード会社は、ポイントを現金化してＪＯＣの口座に振り込み、ＪＯＣが来年のリオデジャネイロ大会に参加する２８の競技団体に配分するということです。配分の割合は通常の強化費配分の指針となる競技団体のランクなどに応じて決めて、配分した金額はホームページ上で公表するということです。期間は当面、２９日から来年８月末までの予定で、５年後の東京大会などに向けては、直接、ＪＯＣに寄付できる仕組みも検討するということです。取り組みに参加しているカード会社は、２９日現在、１４８社あり、こうした寄付の取り組みは世界のオリンピック委員会でも初めてだということです。\\n\\n\\n\\n会見に同席したＪＯＣの理事で陸上、ハンマー投げの４０歳、室伏広治選手は、「強化のサポートが十分ではない競技団体や選手がまだまだいるので、１人でも多くの選手がメダルを取れるように、また、東京大会への機運が高まるようにお願いしたい」と呼びかけたうえで、「自分自身、カードを利用してためたポイントが期限を迎えて消えてしまうことがたびたびある。消えてしまう前に寄付して、多くのアスリートや若い世代に行き渡るようにしたいですね」と話し会見場を和ませていました。また、競泳女子の１８歳、渡部香生子選手は、「競技を続ける環境が整わずに苦労している選手がいる。今回の取り組みで強化の支援はもちろん、若い選手たちの励みになれば」と話していました。', 'genre': ['スポーツ'], 'keywords': [], 'url': 'http://www3.nhk.or.jp/news/html/20150929/k10010252101000.html', 'datePublished': '2015-09-29T17:15', 'dateModified': ''}\n"
    }
   ],
   "source": [
    "html = driver.page_source.encode('utf-8')\n",
    "soup = BeautifulSoup(html, \"html.parser\")\n",
    "dic = scrape_normal_one(html, 'http://www3.nhk.or.jp/news/html/20150929/k10010252101000.html')\n",
    "print(dic)\n",
    "js(dic)"
   ]
  },
  {
   "cell_type": "code",
   "execution_count": 91,
   "metadata": {},
   "outputs": [],
   "source": [
    "html = str(driver.page_source.encode('utf-8'))\n",
    "re.search(r'\"genre\":(.+?),', html)"
   ]
  },
  {
   "cell_type": "markdown",
   "execution_count": 63,
   "metadata": {},
   "outputs": [],
   "source": [
    "# clean category & keyword"
   ]
  },
  {
   "cell_type": "code",
   "execution_count": 25,
   "metadata": {},
   "outputs": [
    {
     "name": "stdout",
     "output_type": "stream",
     "text": "6305\n2641\n"
    }
   ],
   "source": [
    "with open('nhkweb.json','r', encoding='utf-8') as f:\n",
    "    data = json.load(f)\n",
    "    print(len(data))\n",
    "with open('nhkwebeasy.json','r', encoding='utf-8') as f:\n",
    "    data = json.load(f)\n",
    "    print(len(data))"
   ]
  },
  {
   "cell_type": "code",
   "execution_count": 43,
   "metadata": {},
   "outputs": [
    {
     "name": "stdout",
     "output_type": "stream",
     "text": "articles:  6305\n"
    },
    {
     "data": {
      "text/plain": "[('社会', 1976),\n ('国際', 1652),\n ('ビジネス', 974),\n ('科学・文化', 962),\n ('スポーツ', 810),\n ('政治', 640),\n ('暮らし', 475),\n ('地域', 395),\n ('気象・災害', 309)]"
     },
     "execution_count": 43,
     "metadata": {},
     "output_type": "execute_result"
    }
   ],
   "source": [
    "# check category\n",
    "\n",
    "with open('nhkweb.json','r', encoding='utf-8') as f:\n",
    "    data = json.load(f)\n",
    "print('articles: ', len(data))\n",
    "genre = Counter()\n",
    "for dic in data:\n",
    "    for g in dic['genre']:\n",
    "        genre[g] += 1\n",
    "genre.most_common()"
   ]
  },
  {
   "cell_type": "code",
   "execution_count": 42,
   "metadata": {},
   "outputs": [],
   "source": [
    "# genre <> keywords\n",
    "\n",
    "with open('nhkweb.json','r', encoding='utf-8') as f:\n",
    "    data = json.load(f)\n",
    "\n",
    "category = ['社会', '国際', 'ビジネス', 'スポーツ', '政治', '科学・文化', '暮らし', '地域', '気象・災害']\n",
    "for i, dic in enumerate(data):\n",
    "    newgenre = []\n",
    "    newkey = []\n",
    "    for j in dic['genre']:\n",
    "        if j in category:\n",
    "            newgenre.append(j)\n",
    "        elif j == \"災害\" or j == \"気象\":\n",
    "            newgenre.append('気象・災害')\n",
    "        elif j == \"科学・医療\" or j == \"文化・エンタメ\":\n",
    "            newgenre.append('科学・文化')\n",
    "        elif j == \"経済\":\n",
    "            newgenre.append('ビジネス')\n",
    "        else:\n",
    "            newkey.append(j)\n",
    "    for j in dic['keywords']:\n",
    "        if j in category:\n",
    "            newgenre.append(j)\n",
    "        elif j == \"災害\" or j == \"気象\":\n",
    "            newgenre.append('気象・災害')\n",
    "        else:\n",
    "            newkey.append(j)\n",
    "    data[i]['genre'] = list(set(newgenre))\n",
    "    data[i]['keywords'] = list(set(newkey))\n",
    "\n",
    "with open('nhkweb.json','w', encoding='utf-8') as f:\n",
    "    json.dump(data, f, indent=4, ensure_ascii=False)\n",
    "    "
   ]
  },
  {
   "cell_type": "code",
   "execution_count": 45,
   "metadata": {},
   "outputs": [
    {
     "data": {
      "text/plain": "k10010600041000    1\nk10010435721000    1\nk10011907121000    1\nk10012221391000    1\nk10010541451000    1\n                  ..\nk10010533141000    1\nk10012219701000    1\nk10010518271000    1\nk10010536941000    1\nk10012248381000    1\nName: id, Length: 2661, dtype: int64"
     },
     "execution_count": 45,
     "metadata": {},
     "output_type": "execute_result"
    }
   ],
   "source": [
    "normal = pd.read_json('nhkwebeasy.json')\n",
    "normal.id.value_counts()"
   ]
  },
  {
   "cell_type": "markdown",
   "execution_count": null,
   "metadata": {},
   "outputs": [],
   "source": [
    "# NHK web easy (new) ID k1001140020 ~"
   ]
  },
  {
   "cell_type": "code",
   "execution_count": 48,
   "metadata": {},
   "outputs": [
    {
     "name": "stdout",
     "output_type": "stream",
     "text": "1989\n1983\n"
    }
   ],
   "source": [
    "with open('tobescraped.txt') as f:\n",
    "    urls = f.read().split()\n",
    "print(len(urls))\n",
    "\n",
    "ids = pd.read_json('nhkwebeasy.json')['id'].tolist()\n",
    "urls = [url for url in urls if url.split('/')[-1].strip('.html') not in ids]\n",
    "print(len(urls))"
   ]
  },
  {
   "cell_type": "code",
   "execution_count": 27,
   "metadata": {},
   "outputs": [],
   "source": [
    "driver = webdriver.Chrome()"
   ]
  },
  {
   "cell_type": "code",
   "execution_count": 49,
   "metadata": {},
   "outputs": [
    {
     "name": "stderr",
     "output_type": "stream",
     "text": "\n\n\n\n\n  0%|          | 0/100 [00:00<?, ?it/s]\u001b[A\u001b[A\u001b[A\u001b[A\u001b[A\n\n\n\n\n  1%|          | 1/100 [00:50<1:23:41, 50.72s/it]\u001b[A\u001b[A\u001b[A\u001b[A\u001b[A\n\n\n\n\n  2%|▏         | 2/100 [01:34<1:19:21, 48.59s/it]\u001b[A\u001b[A\u001b[A\u001b[A\u001b[A\n\n\n\n\n  3%|▎         | 3/100 [02:41<1:27:40, 54.23s/it]\u001b[A\u001b[A\u001b[A\u001b[A\u001b[A\n\n\n\n\n  4%|▍         | 4/100 [03:30<1:24:14, 52.65s/it]\u001b[A\u001b[A\u001b[A\u001b[A\u001b[A\n\n\n\n\n  5%|▌         | 5/100 [04:17<1:20:32, 50.87s/it]\u001b[A\u001b[A\u001b[A\u001b[A\u001b[A\n\n\n\n\n  6%|▌         | 6/100 [04:56<1:13:55, 47.19s/it]\u001b[A\u001b[A\u001b[A\u001b[A\u001b[A\n\n\n\n\n  7%|▋         | 7/100 [05:39<1:11:21, 46.04s/it]\u001b[A\u001b[A\u001b[A\u001b[A\u001b[A\n\n\n\n\n  8%|▊         | 8/100 [06:28<1:11:51, 46.86s/it]\u001b[A\u001b[A\u001b[A\u001b[A\u001b[A\n\n\n\n\n  9%|▉         | 9/100 [07:08<1:07:54, 44.77s/it]\u001b[A\u001b[A\u001b[A\u001b[A\u001b[A\n\n\n\n\n 10%|█         | 10/100 [07:50<1:06:12, 44.14s/it]\u001b[A\u001b[A\u001b[A\u001b[A\u001b[A\n\n\n\n\n 11%|█         | 11/100 [08:38<1:07:06, 45.25s/it]\u001b[A\u001b[A\u001b[A\u001b[A\u001b[A\n\n\n\n\n 12%|█▏        | 12/100 [09:29<1:08:57, 47.02s/it]\u001b[A\u001b[A\u001b[A\u001b[A\u001b[A\n\n\n\n\n 13%|█▎        | 13/100 [10:13<1:06:35, 45.92s/it]\u001b[A\u001b[A\u001b[A\u001b[A\u001b[A\n\n\n\n\n 14%|█▍        | 14/100 [10:56<1:04:43, 45.15s/it]\u001b[A\u001b[A\u001b[A\u001b[A\u001b[A\n\n\n\n\n 15%|█▌        | 15/100 [11:46<1:05:52, 46.50s/it]\u001b[A\u001b[A\u001b[A\u001b[A\u001b[A\n\n\n\n\n 16%|█▌        | 16/100 [12:26<1:02:38, 44.74s/it]\u001b[A\u001b[A\u001b[A\u001b[A\u001b[A\n\n\n\n\n 17%|█▋        | 17/100 [13:18<1:04:55, 46.93s/it]\u001b[A\u001b[A\u001b[A\u001b[A\u001b[A\n\n\n\n\n 18%|█▊        | 18/100 [14:09<1:05:34, 47.98s/it]\u001b[A\u001b[A\u001b[A\u001b[A\u001b[A\n\n\n\n\n 19%|█▉        | 19/100 [15:06<1:08:34, 50.79s/it]\u001b[A\u001b[A\u001b[A\u001b[A\u001b[A\n\n\n\n\n 20%|██        | 20/100 [15:59<1:08:38, 51.48s/it]\u001b[A\u001b[A\u001b[A\u001b[A\u001b[A\n\n\n\n\n 21%|██        | 21/100 [16:52<1:08:18, 51.88s/it]\u001b[A\u001b[A\u001b[A\u001b[A\u001b[A\n\n\n\n\n 22%|██▏       | 22/100 [17:41<1:06:10, 50.90s/it]\u001b[A\u001b[A\u001b[A\u001b[A\u001b[A\n\n\n\n\n 23%|██▎       | 23/100 [18:26<1:03:08, 49.20s/it]\u001b[A\u001b[A\u001b[A\u001b[A\u001b[A\n\n\n\n\n 24%|██▍       | 24/100 [19:23<1:05:14, 51.50s/it]\u001b[A\u001b[A\u001b[A\u001b[A\u001b[A\n\n\n\n\n 25%|██▌       | 25/100 [20:10<1:02:43, 50.18s/it]\u001b[A\u001b[A\u001b[A\u001b[A\u001b[A\n\n\n\n\n 26%|██▌       | 26/100 [21:02<1:02:31, 50.69s/it]\u001b[A\u001b[A\u001b[A\u001b[A\u001b[A\n\n\n\n\n 27%|██▋       | 27/100 [21:51<1:01:21, 50.43s/it]\u001b[A\u001b[A\u001b[A\u001b[A\u001b[A\n\n\n\n\n 28%|██▊       | 28/100 [22:45<1:01:43, 51.43s/it]\u001b[A\u001b[A\u001b[A\u001b[A\u001b[A\n\n\n\n\n 29%|██▉       | 29/100 [23:41<1:02:27, 52.78s/it]\u001b[A\u001b[A\u001b[A\u001b[A\u001b[A\n\n\n\n\n 30%|███       | 30/100 [24:47<1:06:03, 56.63s/it]\u001b[A\u001b[A\u001b[A\u001b[A\u001b[A\n\n\n\n\n 31%|███       | 31/100 [25:43<1:04:56, 56.47s/it]\u001b[A\u001b[A\u001b[A\u001b[A\u001b[A\n\n\n\n\n 32%|███▏      | 32/100 [26:24<58:51, 51.94s/it]\u001b[A\u001b[A\u001b[A\u001b[A\u001b[A\n\n\n\n\n 33%|███▎      | 33/100 [27:21<59:42, 53.47s/it]\u001b[A\u001b[A\u001b[A\u001b[A\u001b[A\n\n\n\n\n 34%|███▍      | 34/100 [28:22<1:01:17, 55.72s/it]\u001b[A\u001b[A\u001b[A\u001b[A\u001b[A\n\n\n\n\n 35%|███▌      | 35/100 [29:13<58:38, 54.13s/it]\u001b[A\u001b[A\u001b[A\u001b[A\u001b[A\n\n\n\n\n 36%|███▌      | 36/100 [30:07<57:55, 54.30s/it]\u001b[A\u001b[A\u001b[A\u001b[A\u001b[A\n\n\n\n\n 37%|███▋      | 37/100 [30:59<56:15, 53.58s/it]\u001b[A\u001b[A\u001b[A\u001b[A\u001b[A\n\n\n\n\n 38%|███▊      | 38/100 [31:54<55:42, 53.91s/it]\u001b[A\u001b[A\u001b[A\u001b[A\u001b[A\n\n\n\n\n 39%|███▉      | 39/100 [32:45<53:58, 53.09s/it]\u001b[A\u001b[A\u001b[A\u001b[A\u001b[A\n\n\n\n\n 40%|████      | 40/100 [33:36<52:28, 52.48s/it]\u001b[A\u001b[A\u001b[A\u001b[A\u001b[A\n\n\n\n\n 41%|████      | 41/100 [34:26<50:52, 51.74s/it]\u001b[A\u001b[A\u001b[A\u001b[A\u001b[A\n\n\n\n\n 42%|████▏     | 42/100 [35:15<49:12, 50.91s/it]\u001b[A\u001b[A\u001b[A\u001b[A\u001b[A\n\n\n\n\n 43%|████▎     | 43/100 [36:05<48:12, 50.74s/it]\u001b[A\u001b[A\u001b[A\u001b[A\u001b[A\n\n\n\n\n 44%|████▍     | 44/100 [36:44<44:00, 47.15s/it]\u001b[A\u001b[A\u001b[A\u001b[A\u001b[A\n\n\n\n\n 45%|████▌     | 45/100 [37:27<42:04, 45.91s/it]\u001b[A\u001b[A\u001b[A\u001b[A\u001b[A\n\n\n\n\n 46%|████▌     | 46/100 [38:08<39:53, 44.32s/it]\u001b[A\u001b[A\u001b[A\u001b[A\u001b[A\n\n\n\n\n 47%|████▋     | 47/100 [38:59<41:03, 46.48s/it]\u001b[A\u001b[A\u001b[A\u001b[A\u001b[A\n\n\n\n\n 48%|████▊     | 48/100 [39:50<41:15, 47.61s/it]\u001b[A\u001b[A\u001b[A\u001b[A\u001b[A\n\n\n\n\n 49%|████▉     | 49/100 [40:34<39:45, 46.77s/it]\u001b[A\u001b[A\u001b[A\u001b[A\u001b[A\n\n\n\n\n 50%|█████     | 50/100 [41:25<40:02, 48.06s/it]\u001b[A\u001b[A\u001b[A\u001b[A\u001b[A\n\n\n\n\n 51%|█████     | 51/100 [42:16<39:45, 48.68s/it]\u001b[A\u001b[A\u001b[A\u001b[A\u001b[A\n\n\n\n\n 52%|█████▏    | 52/100 [43:00<37:50, 47.30s/it]\u001b[A\u001b[A\u001b[A\u001b[A\u001b[A\n\n\n\n\n 53%|█████▎    | 53/100 [43:43<36:03, 46.04s/it]\u001b[A\u001b[A\u001b[A\u001b[A\u001b[A\n\n\n\n\n 54%|█████▍    | 54/100 [44:28<35:02, 45.70s/it]\u001b[A\u001b[A\u001b[A\u001b[A\u001b[A\n\n\n\n\n 55%|█████▌    | 55/100 [45:11<33:40, 44.90s/it]\u001b[A\u001b[A\u001b[A\u001b[A\u001b[A\n\n\n\n\n 56%|█████▌    | 56/100 [46:03<34:28, 47.00s/it]\u001b[A\u001b[A\u001b[A\u001b[A\u001b[A\n\n\n\n\n 57%|█████▋    | 57/100 [46:50<33:45, 47.09s/it]\u001b[A\u001b[A\u001b[A\u001b[A\u001b[A\n\n\n\n\n 58%|█████▊    | 58/100 [47:30<31:24, 44.86s/it]\u001b[A\u001b[A\u001b[A\u001b[A\u001b[A\n\n\n\n\n 59%|█████▉    | 59/100 [48:24<32:37, 47.75s/it]\u001b[A\u001b[A\u001b[A\u001b[A\u001b[A\n\n\n\n\n 60%|██████    | 60/100 [49:24<34:21, 51.54s/it]\u001b[A\u001b[A\u001b[A\u001b[A\u001b[A\n\n\n\n\n 61%|██████    | 61/100 [50:29<36:02, 55.46s/it]\u001b[A\u001b[A\u001b[A\u001b[A\u001b[A\n\n\n\n\n 62%|██████▏   | 62/100 [51:10<32:26, 51.22s/it]\u001b[A\u001b[A\u001b[A\u001b[A\u001b[A\n\n\n\n\n 63%|██████▎   | 63/100 [51:50<29:20, 47.58s/it]\u001b[A\u001b[A\u001b[A\u001b[A\u001b[A\n\n\n\n\n 64%|██████▍   | 64/100 [52:33<27:45, 46.26s/it]\u001b[A\u001b[A\u001b[A\u001b[A\u001b[A\n\n\n\n\n 65%|██████▌   | 65/100 [53:19<26:58, 46.25s/it]\u001b[A\u001b[A\u001b[A\u001b[A\u001b[A\n\n\n\n\n 66%|██████▌   | 66/100 [54:14<27:42, 48.88s/it]\u001b[A\u001b[A\u001b[A\u001b[A\u001b[A\n\n\n\n\n 67%|██████▋   | 67/100 [55:14<28:39, 52.11s/it]\u001b[A\u001b[A\u001b[A\u001b[A\u001b[A\n\n\n\n\n 68%|██████▊   | 68/100 [56:08<28:14, 52.95s/it]\u001b[A\u001b[A\u001b[A\u001b[A\u001b[A\n\n\n\n\n 69%|██████▉   | 69/100 [56:58<26:49, 51.93s/it]\u001b[A\u001b[A\u001b[A\u001b[A\u001b[A\n\n\n\n\n 70%|███████   | 70/100 [57:50<25:55, 51.86s/it]\u001b[A\u001b[A\u001b[A\u001b[A\u001b[A\n\n\n\n\n 71%|███████   | 71/100 [58:38<24:29, 50.69s/it]\u001b[A\u001b[A\u001b[A\u001b[A\u001b[A\n\n\n\n\n 72%|███████▏  | 72/100 [59:22<22:43, 48.71s/it]\u001b[A\u001b[A\u001b[A\u001b[A\u001b[A\n\n\n\n\n 73%|███████▎  | 73/100 [1:00:05<21:07, 46.94s/it]\u001b[A\u001b[A\u001b[A\u001b[A\u001b[A\n\n\n\n\n 74%|███████▍  | 74/100 [1:01:05<22:03, 50.89s/it]\u001b[A\u001b[A\u001b[A\u001b[A\u001b[A\n\n\n\n\n 75%|███████▌  | 75/100 [1:01:53<20:49, 49.99s/it]\u001b[A\u001b[A\u001b[A\u001b[A\u001b[A\n\n\n\n\n 76%|███████▌  | 76/100 [1:02:38<19:28, 48.69s/it]\u001b[A\u001b[A\u001b[A\u001b[A\u001b[A\n\n\n\n\n 77%|███████▋  | 77/100 [1:03:28<18:48, 49.05s/it]\u001b[A\u001b[A\u001b[A\u001b[A\u001b[A\n\n\n\n\n 78%|███████▊  | 78/100 [1:04:18<18:02, 49.18s/it]\u001b[A\u001b[A\u001b[A\u001b[A\u001b[A\n\n\n\n\n 79%|███████▉  | 79/100 [1:05:01<16:34, 47.37s/it]\u001b[A\u001b[A\u001b[A\u001b[A\u001b[A\n\n\n\n\n 80%|████████  | 80/100 [1:05:56<16:34, 49.75s/it]\u001b[A\u001b[A\u001b[A\u001b[A\u001b[A"
    },
    {
     "ename": "NameError",
     "evalue": "name 'nhkurl' is not defined",
     "output_type": "error",
     "traceback": [
      "\u001b[0;31m---------------------------------------------------------------------------\u001b[0m",
      "\u001b[0;31mNameError\u001b[0m                                 Traceback (most recent call last)",
      "\u001b[0;32m<ipython-input-49-6724de6618fc>\u001b[0m in \u001b[0;36m<module>\u001b[0;34m\u001b[0m\n\u001b[1;32m      5\u001b[0m     \u001b[0msnap\u001b[0m \u001b[0;34m=\u001b[0m \u001b[0mre\u001b[0m\u001b[0;34m.\u001b[0m\u001b[0msearch\u001b[0m\u001b[0;34m(\u001b[0m\u001b[0;34mr'(between|1 time).*?<a href=\"(.+?)\">'\u001b[0m\u001b[0;34m,\u001b[0m \u001b[0mhtml\u001b[0m\u001b[0;34m)\u001b[0m\u001b[0;34m\u001b[0m\u001b[0;34m\u001b[0m\u001b[0m\n\u001b[1;32m      6\u001b[0m     \u001b[0;32mif\u001b[0m \u001b[0;32mnot\u001b[0m \u001b[0msnap\u001b[0m\u001b[0;34m:\u001b[0m\u001b[0;34m\u001b[0m\u001b[0;34m\u001b[0m\u001b[0m\n\u001b[0;32m----> 7\u001b[0;31m         \u001b[0mprint\u001b[0m\u001b[0;34m(\u001b[0m\u001b[0mnhkurl\u001b[0m\u001b[0;34m)\u001b[0m\u001b[0;34m\u001b[0m\u001b[0;34m\u001b[0m\u001b[0m\n\u001b[0m\u001b[1;32m      8\u001b[0m         \u001b[0;32mcontinue\u001b[0m\u001b[0;34m\u001b[0m\u001b[0;34m\u001b[0m\u001b[0m\n\u001b[1;32m      9\u001b[0m     \u001b[0mdriver\u001b[0m\u001b[0;34m.\u001b[0m\u001b[0mget\u001b[0m\u001b[0;34m(\u001b[0m\u001b[0;34m'https://web.archive.org'\u001b[0m \u001b[0;34m+\u001b[0m \u001b[0msnap\u001b[0m\u001b[0;34m.\u001b[0m\u001b[0mgroup\u001b[0m\u001b[0;34m(\u001b[0m\u001b[0;36m2\u001b[0m\u001b[0;34m)\u001b[0m\u001b[0;34m)\u001b[0m\u001b[0;34m\u001b[0m\u001b[0;34m\u001b[0m\u001b[0m\n",
      "\u001b[0;31mNameError\u001b[0m: name 'nhkurl' is not defined"
     ]
    }
   ],
   "source": [
    "for url in urls[:100]:\n",
    "    print(url, end='\\r')\n",
    "    driver.get(url)\n",
    "    time.sleep(6)\n",
    "    html = str(driver.page_source.encode('utf-8'))\n",
    "    snap = re.search(r'(between|1 time).*?<a href=\"(.+?)\">', html)\n",
    "    if not snap:\n",
    "        print(nhkurl)\n",
    "        continue\n",
    "    driver.get('https://web.archive.org' + snap.group(2))\n",
    "    time.sleep(20)\n",
    "    html = driver.page_source.encode('utf-8')\n",
    "    dic = scrape_easy_one_new(html)\n",
    "    js_e(dic)"
   ]
  },
  {
   "cell_type": "code",
   "execution_count": 43,
   "metadata": {},
   "outputs": [
    {
     "data": {
      "text/plain": "{'id': 'k10010055981000',\n 'title_easy': '雨や曇りの日が多くて野菜の値段が高くなる',\n 'title_easy_ruby': '<ruby>雨<rt>あめ</rt></ruby>や<ruby>曇<rt>くも</rt></ruby>りの<ruby>日<rt>ひ</rt></ruby>が<ruby>多<rt>おお</rt></ruby>くて<ruby>野菜<rt>やさい</rt></ruby>の<ruby>値段<rt>ねだん</rt></ruby>が<ruby>高<rt>たか</rt></ruby>くなる',\n 'article_easy': '<org>気象庁</org>によると、今月は雨や曇りの日が多くなっています。\\n４月上旬の日照時間（＝太陽が出ていた時間）は、四国でいつもの年の２４％、東海地方で２７％、近畿地方で３１％、関東地方などで３９％でした。１９６１年に調べ始めてから最も短くなりました。\\n１日から２０日までに雨が降った量もいつもの年より多くて、２倍近く降った地方もありました。\\n<org>東京都中央卸売市場</org>によると、晴れた日が少なくて雨の日が多かったため、多くの野菜の値段が高くなっています。今月１８日の白菜ときゅうりの値段はいつもの年の２倍以上でした。\\n<org>農林水産省</org>は「市場に出る野菜の値段は、今月の終わりごろまで高いと思います」と話しています。',\n 'article_easy_ruby': '<span class=\"colorC\"><ruby>気象庁<rt>きしょうちょう</rt></ruby></span>によると、<ruby>今月<rt>こんげつ</rt></ruby>は<ruby>雨<rt>あめ</rt></ruby>や<ruby>曇<rt>くも</rt></ruby>りの<ruby>日<rt>ひ</rt></ruby>が<ruby>多<rt>おお</rt></ruby>くなっています。\\n４<ruby>月<rt>がつ</rt></ruby><ruby>上旬<rt>じょうじゅん</rt></ruby>の<ruby>日照時間<rt>にっしょうじかん</rt></ruby>（＝<ruby>太陽<rt>たいよう</rt></ruby>が<ruby>出<rt>で</rt></ruby>ていた<ruby>時間<rt>じかん</rt></ruby>）は、<ruby>四国<rt>しこく</rt></ruby>でいつもの<ruby>年<rt>とし</rt></ruby>の２４％、<ruby>東海地方<rt>とうかいちほう</rt></ruby>で２７％、<ruby>近畿地方<rt>きんきちほう</rt></ruby>で３１％、<ruby>関東地方<rt>かんとうちほう</rt></ruby>などで３９％でした。１９６１<ruby>年<rt>ねん</rt></ruby>に<ruby>調<rt>しら</rt></ruby>べ<ruby>始<rt>はじ</rt></ruby>めてから<ruby>最<rt>もっと</rt></ruby>も<ruby>短<rt>みじか</rt></ruby>くなりました。\\n<ruby>１日<rt>ついたち</rt></ruby>から<ruby>２０日<rt>はつか</rt></ruby>までに<ruby>雨<rt>あめ</rt></ruby>が<ruby>降<rt>ふ</rt></ruby>った<ruby>量<rt>りょう</rt></ruby>もいつもの<ruby>年<rt>とし</rt></ruby>より<ruby>多<rt>おお</rt></ruby>くて、２<ruby>倍<rt>ばい</rt></ruby><ruby>近<rt>ちか</rt></ruby>く<ruby>降<rt>ふ</rt></ruby>った<ruby>地方<rt>ちほう</rt></ruby>もありました。\\n<span class=\"colorC\"><ruby>東京都<rt>とうきょうと</rt></ruby><ruby>中央<rt>ちゅうおう</rt></ruby><ruby>卸売<rt>おろしうり</rt></ruby><ruby>市場<rt>しじょう</rt></ruby></span>によると、<ruby>晴<rt>は</rt></ruby>れた<ruby>日<rt>ひ</rt></ruby>が<ruby>少<rt>すく</rt></ruby>なくて<ruby>雨<rt>あめ</rt></ruby>の<ruby>日<rt>ひ</rt></ruby>が<ruby>多<rt>おお</rt></ruby>かったため、<ruby>多<rt>おお</rt></ruby>くの<ruby>野菜<rt>やさい</rt></ruby>の<ruby>値段<rt>ねだん</rt></ruby>が<ruby>高<rt>たか</rt></ruby>くなっています。<ruby>今月<rt>こんげつ</rt></ruby>１８<ruby>日<rt>にち</rt></ruby>の<ruby>白菜<rt>はくさい</rt></ruby>ときゅうりの<ruby>値段<rt>ねだん</rt></ruby>はいつもの<ruby>年<rt>とし</rt></ruby>の２<ruby>倍<rt>ばい</rt></ruby><ruby>以上<rt>いじょう</rt></ruby>でした。\\n<span class=\"colorC\"><ruby>農林水産省<rt>のうりんすいさんしょう</rt></ruby></span>は「<ruby>市場<rt>しじょう</rt></ruby>に<ruby>出<rt>で</rt></ruby>る<ruby>野菜<rt>やさい</rt></ruby>の<ruby>値段<rt>ねだん</rt></ruby>は、<ruby>今月<rt>こんげつ</rt></ruby>の<ruby>終<rt>お</rt></ruby>わりごろまで<ruby>高<rt>たか</rt></ruby>いと<ruby>思<rt>おも</rt></ruby>います」と<ruby>話<rt>はな</rt></ruby>しています。',\n 'url_easy': 'http://www3.nhk.or.jp/news/easy/k10010055981000/k10010055981000.html',\n 'url_normal': 'http://www3.nhk.or.jp/news/html/20150421/k10010055981000.html',\n 'date_easy': '04月22日 16時30分'}"
     },
     "execution_count": 43,
     "metadata": {},
     "output_type": "execute_result"
    }
   ],
   "source": [
    "html = driver.page_source.encode('utf-8')\n",
    "dic = scrape_easy_one(html)\n",
    "dic"
   ]
  },
  {
   "cell_type": "code",
   "execution_count": 44,
   "metadata": {},
   "outputs": [],
   "source": [
    "js_e(dic)"
   ]
  },
  {
   "cell_type": "code",
   "execution_count": 36,
   "metadata": {},
   "outputs": [
    {
     "data": {
      "text/plain": "<div class=\"link-to-normal\" id=\"js-regular-news-wrapper\">\n<a class=\"btn\" href=\"https://www3.nhk.or.jp/news/html/20200206/k10012274671000.html\" id=\"js-regular-news\" target=\"_blank\"><ruby>普通<rt>ふつう</rt></ruby>のニュースを<ruby>読<rt>よ</rt></ruby>む</a>\n</div>"
     },
     "execution_count": 36,
     "metadata": {},
     "output_type": "execute_result"
    }
   ],
   "source": [
    "soup = BeautifulSoup(html)\n",
    "soup.find('div', class_='link-to-normal')"
   ]
  },
  {
   "cell_type": "code",
   "execution_count": null,
   "metadata": {},
   "outputs": [],
   "source": []
  }
 ]
}