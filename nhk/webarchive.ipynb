{
 "nbformat": 4,
 "nbformat_minor": 2,
 "metadata": {
  "language_info": {
   "name": "python",
   "codemirror_mode": {
    "name": "ipython",
    "version": 3
   },
   "version": "3.7.5-final"
  },
  "orig_nbformat": 2,
  "file_extension": ".py",
  "mimetype": "text/x-python",
  "name": "python",
  "npconvert_exporter": "python",
  "pygments_lexer": "ipython3",
  "version": 3,
  "kernelspec": {
   "name": "python37564bit72de44cd76184052b9457c2863c13ac2",
   "display_name": "Python 3.7.5 64-bit"
  }
 },
 "cells": [
  {
   "cell_type": "code",
   "execution_count": 1,
   "metadata": {},
   "outputs": [],
   "source": [
    "import numpy as np\n",
    "import pandas as pd\n",
    "import re, json, csv, requests, time, glob, tqdm\n",
    "from bs4 import BeautifulSoup\n",
    "from selenium import webdriver\n",
    "from collections import Counter"
   ]
  },
  {
   "cell_type": "code",
   "execution_count": 0,
   "metadata": {},
   "outputs": [],
   "source": [
    "def scrape(html):\n",
    "    soup = BeautifulSoup(html, \"html.parser\")\n",
    "    json_data = json.loads(soup.find_all(\"script\", type=\"application/ld+json\")[-1].text)\n",
    "    title = json_data.get('headline', soup.find('h1', class_='content--title').text)\n",
    "    date = json_data.get('datePublished', re.search(r'datetime:.*?(\\d{4}-\\d{2}-\\d{2}T\\d{2}:\\d{2})', str(html)).group(1))\n",
    "    date_m = json_data.get('dateModified', '')\n",
    "    genre = json_data.get('genre', [])\n",
    "    if genre == []:\n",
    "        genre = [k for k in soup.find('meta', attrs={'name':'keywords'}).get('content').split(',') if k not in ['NHK','ニュース', 'NHK NEWS WEB']]\n",
    "    keywords = json_data.get('keywords', [])\n",
    "    article = soup.find('div', id=\"news_textbody\").text\n",
    "    url_normal = 'https:' + soup.find('meta', property=\"og:url\").get('content').rsplit('https:')[-1]\n",
    "    if soup.find_all('div', id=\"news_textmore\") != []:\n",
    "        for textmore in soup.find_all('div', id=\"news_textmore\"):\n",
    "            article += ('\\n' + textmore.text)\n",
    "    if soup.find_all('div', class_=\"news_add\") != []:\n",
    "        for newsadd in soup.find_all('div', class_=\"news_add\"):\n",
    "            if newsadd.h3 != None:\n",
    "                newsadd.h3.extract()\n",
    "            article += ('\\n' + newsadd.text)\n",
    "            \n",
    "    return {\n",
    "        'id':url_normal.split('/')[-1].split('.html')[0],\n",
    "        'title':title,\n",
    "        'article':article.strip(),\n",
    "        'genre':genre,\n",
    "        'keywords':keywords,\n",
    "        'url':url_normal,\n",
    "        'datePublished':date,\n",
    "        'dateModified':date_m\n",
    "    }\n",
    "\n",
    "def remove_rt(text):\n",
    "    return re.sub('<rt>.+?</rt>', '', text)\n",
    "\n",
    "def tag(text):\n",
    "    text = re.sub(r'<span class=\"colorC\">(.+?)</span>', r\"{org}\\1{/org}\", text)\n",
    "    text = re.sub(r'<span class=\"colorL\">(.+?)</span>', r\"{plc}\\1{/plc}\", text)\n",
    "    text = re.sub(r'<span class=\"colorN\">(.+?)</span>', r\"{per}\\1{/per}\", text)\n",
    "    return text\n",
    "\n",
    "def retag(text):\n",
    "    text = re.sub(r'{org}(.+?){/org}', r\"<org>\\1</org>\", text)\n",
    "    text = re.sub(r'{plc}(.+?){/plc}', r\"<plc>\\1</plc>\", text)\n",
    "    text = re.sub(r'{per}(.+?){/per}', r\"<per>\\1</per>\", text)\n",
    "    return text\n",
    "\n",
    "def remove_a(text):\n",
    "    text = re.sub(r'</?a.*?>', '', text)\n",
    "    text = re.sub(r'<span class=\"under\">(\\w+)</span>', r'\\1', text)\n",
    "    return text\n",
    "\n",
    "# for old web easy\n",
    "def scrape_easy_one(html):\n",
    "    soup = BeautifulSoup(html, \"html.parser\")\n",
    "    url_normal = soup.find('div', id=\"regularnews\").a.get('href').split('/http://')[-1]\n",
    "    url_normal = 'http://' + url_normal\n",
    "    date = soup.find('p', id=\"newsDate\").text[1:-1]\n",
    "    #title_easy = soup.find('h1', class_=\"article-main__title\")\n",
    "    #title_easy_ruby = ''.join([str(t) for t in title_easy.contents]).strip()\n",
    "    url_easy = soup.find('meta', attrs={'name':'shorturl'}).get('content')\n",
    "    title_easy = soup.find('div', id='newstitle').h2\n",
    "    title_easy_ruby = ''.join([str(t) for t in title_easy.contents]).strip()\n",
    "    title_easy = BeautifulSoup(remove_rt(str(title_easy)), \"html.parser\").text.strip()\n",
    "    article_easy = soup.find('div', id=\"newsarticle\")\n",
    "    article_easy = BeautifulSoup(tag(remove_rt(str(article_easy))), \"html.parser\").text.strip()\n",
    "    article_easy_ruby = soup.find('div', id=\"newsarticle\").find_all('p')\n",
    "    article_easy_ruby = '\\n'.join([''.join([remove_a(str(l)) for l in p.contents]) for p in article_easy_ruby if p != []]).strip()\n",
    "    \n",
    "    return {\n",
    "        'id':url_easy.split('/')[-1].split('.html')[0],\n",
    "        'title_easy':title_easy,\n",
    "        'title_easy_ruby':title_easy_ruby,\n",
    "        'article_easy':retag(article_easy),\n",
    "        'article_easy_ruby':article_easy_ruby,\n",
    "        'url_easy':url_easy,\n",
    "        'url_normal':url_normal,\n",
    "        'date_easy':date\n",
    "    }\n",
    "\n",
    "def make_date_normal_old(hmd,time):\n",
    "    year = hmd[:4]\n",
    "    month = hmd[4:6]\n",
    "    day = hmd[6:]\n",
    "    hour, minute = time.split('時')\n",
    "    minute = minute.strip('分')\n",
    "    if len(hour) == 1:\n",
    "        hour = '0' + hour\n",
    "    if len(minute) == 1:\n",
    "        minute = '0' + minute\n",
    "    return f\"{year}-{month}-{day}T{hour}:{minute}\"\n",
    "\n",
    "\n",
    "# for old web normal\n",
    "def scrape_normal_one(html, url):\n",
    "    soup = BeautifulSoup(html, \"html.parser\")\n",
    "    title = soup.find('span', class_=\"contentTitle\").text.strip()\n",
    "    hmd_ = url.split('/')[-2]\n",
    "    time_ = soup.find('span', id=\"news_time\").text\n",
    "    date = make_date_normal_old(hmd_, time_)\n",
    "    genre = [k for k in soup.find('meta', attrs={'name':'keywords'}).get('content').split(',') if k not in ['NHK','ニュース', 'NHK NEWS WEB','ＮＨＫ','ＮＨＫニュース','']]\n",
    "    article = soup.find('div', id=\"news_textbody\").text\n",
    "    if soup.find_all('div', id=\"news_textmore\") != []:\n",
    "        for textmore in soup.find_all('div', id=\"news_textmore\"):\n",
    "            article += ('\\n' + textmore.text)\n",
    "    if soup.find_all('div', class_=\"news_add\") != []:\n",
    "        for newsadd in soup.find_all('div', class_=\"news_add\"):\n",
    "            if newsadd.h3 != None:\n",
    "                newsadd.h3.extract()\n",
    "            article += ('\\n' + newsadd.text)\n",
    "            \n",
    "    return {\n",
    "        'id':url.split('/')[-1].split('.html')[0],\n",
    "        'title':title,\n",
    "        'article':article.strip(),\n",
    "        'genre':genre,\n",
    "        'keywords':[],\n",
    "        'url':url,\n",
    "        'datePublished':date,\n",
    "        'dateModified':\"\"\n",
    "    }\n",
    "\n",
    "def get_link(start=0):\n",
    "    notyet = []\n",
    "    n_list = pd.read_json('nhkweb.json', encoding='utf-8')['url'].tolist()\n",
    "    df_e = pd.read_json('nhkwebeasy.json', encoding='utf-8') \n",
    "    for i in df_e['url_normal'][start:]:\n",
    "        if i not in n_list:\n",
    "            notyet.append(i)\n",
    "    with open('nolinknormal.txt') as f:\n",
    "        nolink = f.read().split()\n",
    "    return sorted(set(notyet) - set(nolink))\n",
    "\n",
    "def get_link_nogenre(start=0):\n",
    "    notyet = []\n",
    "    with open('nhkweb.json', 'r', encoding='utf-8') as f:\n",
    "        data = json.load(f)\n",
    "    for dic in data:\n",
    "        if dic['genre'] == []:\n",
    "            notyet.append(dic['url'])\n",
    "    return notyet  \n",
    "\n",
    "def js(dic):\n",
    "    with open('nhkweb.json', 'r', encoding='utf-8') as f:\n",
    "        data = json.load(f)\n",
    "    with open('nhkweb.json', 'w', encoding='utf-8') as f:\n",
    "        if dic['id'] not in [x['id'] for x in data]:\n",
    "            data.append(dic)\n",
    "        else:\n",
    "            for i, d in enumerate(data):\n",
    "                if dic['id'] == d['id']:\n",
    "                    data[i] = dic\n",
    "        data = sorted(data, key=lambda x:x['id'])\n",
    "        json.dump(data, f, indent=4, ensure_ascii=False)\n",
    "        \n",
    "def js_e(dic):\n",
    "    with open('nhkwebeasy.json', 'r', encoding='utf-8') as f:\n",
    "        data = json.load(f)\n",
    "    with open('nhkwebeasy.json', 'w', encoding='utf-8') as f:\n",
    "        if dic['id'] not in [x['id'] for x in data]:\n",
    "            data.append(dic)\n",
    "        else:\n",
    "            for i, d in enumerate(data):\n",
    "                if dic['id'] == d['id']:\n",
    "                    data[i] = dic\n",
    "        data = sorted(data, key=lambda x:x['id'])\n",
    "        json.dump(data, f, indent=4, ensure_ascii=False)"
   ]
  },
  {
   "cell_type": "code",
   "execution_count": 4,
   "metadata": {},
   "outputs": [],
   "source": [
    "htmls = ['https://www3.nhk.or.jp/news/html/20191117/k10012180511000.html']"
   ]
  },
  {
   "cell_type": "code",
   "execution_count": 36,
   "metadata": {},
   "outputs": [
    {
     "name": "stdout",
     "output_type": "stream",
     "text": "1121\n"
    },
    {
     "data": {
      "text/plain": "['http://www3.nhk.or.jp/news/html/20151022/k10010278681000.html',\n 'http://www3.nhk.or.jp/news/html/20151103/k10010292821000.html',\n 'http://www3.nhk.or.jp/news/html/20151107/k10010298041000.html',\n 'http://www3.nhk.or.jp/news/html/20151108/k10010298051000.html',\n 'http://www3.nhk.or.jp/news/html/20151108/k10010298411000.html',\n 'http://www3.nhk.or.jp/news/html/20151109/k10010298901000.html',\n 'http://www3.nhk.or.jp/news/html/20151109/k10010299191000.html',\n 'http://www3.nhk.or.jp/news/html/20151109/k10010299481000.html',\n 'http://www3.nhk.or.jp/news/html/20151110/k10010299961000.html',\n 'http://www3.nhk.or.jp/news/html/20151110/k10010300521000.html']"
     },
     "execution_count": 36,
     "metadata": {},
     "output_type": "execute_result"
    }
   ],
   "source": [
    "htmls = get_link(0)\n",
    "print(len(htmls))\n",
    "htmls[:10]"
   ]
  },
  {
   "cell_type": "code",
   "execution_count": 29,
   "metadata": {},
   "outputs": [
    {
     "data": {
      "text/plain": "[]"
     },
     "execution_count": 29,
     "metadata": {},
     "output_type": "execute_result"
    }
   ],
   "source": [
    "htmls = get_link_nogenre(); htmls[:50]"
   ]
  },
  {
   "cell_type": "markdown",
   "execution_count": null,
   "metadata": {},
   "outputs": [],
   "source": [
    "# scrape"
   ]
  },
  {
   "cell_type": "code",
   "execution_count": 4,
   "metadata": {},
   "outputs": [],
   "source": [
    "driver = webdriver.Chrome()"
   ]
  },
  {
   "cell_type": "code",
   "execution_count": 37,
   "metadata": {},
   "outputs": [
    {
     "name": "stderr",
     "output_type": "stream",
     "text": "\n\n\n\n  0%|          | 0/1118 [00:00<?, ?it/s]\u001b[A\u001b[A\u001b[A\u001b[A\n\n\n\n  0%|          | 1/1118 [01:07<21:05:17, 67.97s/it]\u001b[A\u001b[A\u001b[A\u001b[A\n\n\n\n  0%|          | 2/1118 [02:22<21:38:27, 69.81s/it]\u001b[A\u001b[A\u001b[A\u001b[A\n\n\n\n  0%|          | 3/1118 [03:39<22:19:47, 72.10s/it]\u001b[A\u001b[A\u001b[A\u001b[A\n\n\n\n  0%|          | 4/1118 [04:48<22:00:52, 71.14s/it]\u001b[A\u001b[A\u001b[A\u001b[A\n\n\n\n  0%|          | 5/1118 [06:21<24:04:02, 77.85s/it]\u001b[A\u001b[A\u001b[A\u001b[A\n\n\n\n  1%|          | 6/1118 [07:36<23:41:53, 76.72s/it]\u001b[A\u001b[A\u001b[A\u001b[A\n\n\n\n  1%|          | 7/1118 [08:53<23:43:25, 76.87s/it]\u001b[A\u001b[A\u001b[A\u001b[A\n\n\n\n  1%|          | 8/1118 [10:06<23:20:20, 75.69s/it]\u001b[A\u001b[A\u001b[A\u001b[A\n\n\n\n  1%|          | 9/1118 [11:20<23:09:39, 75.18s/it]\u001b[A\u001b[A\u001b[A\u001b[A\n\n\n\n  1%|          | 10/1118 [12:36<23:13:13, 75.45s/it]\u001b[A\u001b[A\u001b[A\u001b[A\n\n\n\n  1%|          | 11/1118 [13:49<23:01:42, 74.89s/it]\u001b[A\u001b[A\u001b[A\u001b[A\n\n\n\n  1%|          | 12/1118 [14:43<21:05:07, 68.63s/it]\u001b[A\u001b[A\u001b[A\u001b[Ahttp://www3.nhk.or.jp/news/html/20151111/k10010302431000.html\n\n\n\n\n  1%|          | 13/1118 [15:46<20:28:20, 66.70s/it]\u001b[A\u001b[A\u001b[A\u001b[A\n\n\n\n  1%|▏         | 14/1118 [16:58<20:59:55, 68.47s/it]\u001b[A\u001b[A\u001b[A\u001b[A\n\n\n\n  1%|▏         | 15/1118 [18:10<21:17:15, 69.48s/it]\u001b[A\u001b[A\u001b[A\u001b[A\n\n\n\n  1%|▏         | 16/1118 [19:23<21:38:05, 70.68s/it]\u001b[A\u001b[A\u001b[A\u001b[A\n\n\n\n  2%|▏         | 17/1118 [20:36<21:45:11, 71.13s/it]\u001b[A\u001b[A\u001b[A\u001b[A\n\n\n\n  2%|▏         | 18/1118 [21:36<20:43:12, 67.81s/it]\u001b[A\u001b[A\u001b[A\u001b[A\n\n\n\n  2%|▏         | 19/1118 [22:48<21:06:05, 69.12s/it]\u001b[A\u001b[A\u001b[A\u001b[A\n\n\n\n  2%|▏         | 20/1118 [24:00<21:21:40, 70.04s/it]\u001b[A\u001b[A\u001b[A\u001b[A\n\n\n\n  2%|▏         | 21/1118 [25:14<21:39:36, 71.08s/it]\u001b[A\u001b[A\u001b[A\u001b[A\n\n\n\n  2%|▏         | 22/1118 [26:11<20:21:39, 66.88s/it]\u001b[A\u001b[A\u001b[A\u001b[A\n\n\n\n  2%|▏         | 23/1118 [27:25<20:59:05, 68.99s/it]\u001b[A\u001b[A\u001b[A\u001b[A\n\n\n\n  2%|▏         | 24/1118 [28:45<22:02:14, 72.52s/it]\u001b[A\u001b[A\u001b[A\u001b[A\n\n\n\n  2%|▏         | 25/1118 [30:02<22:23:04, 73.73s/it]\u001b[A\u001b[A\u001b[A\u001b[A\n\n\n\n  2%|▏         | 26/1118 [31:31<23:46:09, 78.36s/it]\u001b[A\u001b[A\u001b[A\u001b[A\n\n\n\n  2%|▏         | 27/1118 [32:32<22:10:02, 73.15s/it]\u001b[A\u001b[A\u001b[A\u001b[A\n\n\n\n  3%|▎         | 28/1118 [33:47<22:17:17, 73.61s/it]\u001b[A\u001b[A\u001b[A\u001b[A\n\n\n\n  3%|▎         | 29/1118 [34:51<21:23:39, 70.73s/it]\u001b[A\u001b[A\u001b[A\u001b[A\n\n\n\n  3%|▎         | 30/1118 [36:08<21:57:26, 72.65s/it]\u001b[A\u001b[A\u001b[A\u001b[A\n\n\n\n  3%|▎         | 31/1118 [37:30<22:45:35, 75.38s/it]\u001b[A\u001b[A\u001b[A\u001b[A\n\n\n\n  3%|▎         | 32/1118 [38:30<21:21:25, 70.80s/it]\u001b[A\u001b[A\u001b[A\u001b[A\n\n\n\n  3%|▎         | 33/1118 [39:45<21:44:57, 72.16s/it]\u001b[A\u001b[A\u001b[A\u001b[A\n\n\n\n  3%|▎         | 34/1118 [41:03<22:17:20, 74.02s/it]\u001b[A\u001b[A\u001b[A\u001b[A\n\n\n\n  3%|▎         | 35/1118 [42:15<22:03:17, 73.31s/it]\u001b[A\u001b[A\u001b[A\u001b[A\n\n\n\n  3%|▎         | 36/1118 [43:29<22:03:09, 73.37s/it]\u001b[A\u001b[A\u001b[A\u001b[A\n\n\n\n  3%|▎         | 37/1118 [44:29<20:53:25, 69.57s/it]\u001b[A\u001b[A\u001b[A\u001b[A\n\n\n\n  3%|▎         | 38/1118 [45:45<21:28:08, 71.56s/it]\u001b[A\u001b[A\u001b[A\u001b[A\n\n\n\n  3%|▎         | 39/1118 [46:57<21:27:57, 71.62s/it]\u001b[A\u001b[A\u001b[A\u001b[A\n\n\n\n  4%|▎         | 40/1118 [47:56<20:18:24, 67.81s/it]\u001b[A\u001b[A\u001b[A\u001b[A\n\n\n\n  4%|▎         | 41/1118 [49:09<20:42:40, 69.23s/it]\u001b[A\u001b[A\u001b[A\u001b[A\n\n\n\n  4%|▍         | 42/1118 [51:07<25:03:58, 83.87s/it]\u001b[A\u001b[A\u001b[A\u001b[A\n\n\n\n  4%|▍         | 43/1118 [52:23<24:22:55, 81.65s/it]\u001b[A\u001b[A\u001b[A\u001b[A\n\n\n\n  4%|▍         | 44/1118 [53:45<24:19:56, 81.56s/it]\u001b[A\u001b[A\u001b[A\u001b[A\n\n\n\n  4%|▍         | 45/1118 [55:40<27:22:41, 91.86s/it]\u001b[A\u001b[A\u001b[A\u001b[A\n\n\n\n  4%|▍         | 46/1118 [57:22<28:11:34, 94.68s/it]\u001b[A\u001b[A\u001b[A\u001b[A\n\n\n\n  4%|▍         | 47/1118 [59:06<29:00:24, 97.50s/it]\u001b[A\u001b[A\u001b[A\u001b[A\n\n\n\n  4%|▍         | 48/1118 [1:00:11<26:03:35, 87.68s/it]\u001b[A\u001b[A\u001b[A\u001b[A\n\n\n\n  4%|▍         | 49/1118 [1:01:10<23:29:39, 79.12s/it]\u001b[A\u001b[A\u001b[A\u001b[A\n\n\n\n  4%|▍         | 50/1118 [1:01:58<20:45:50, 69.99s/it]\u001b[A\u001b[A\u001b[A\u001b[A\n\n\n\n  5%|▍         | 51/1118 [1:02:55<19:32:24, 65.93s/it]\u001b[A\u001b[A\u001b[A\u001b[A\n\n\n\n  5%|▍         | 52/1118 [1:03:44<18:00:16, 60.80s/it]\u001b[A\u001b[A\u001b[A\u001b[A\n\n\n\n  5%|▍         | 53/1118 [1:04:34<17:02:35, 57.61s/it]\u001b[A\u001b[A\u001b[A\u001b[A\n\n\n\n  5%|▍         | 54/1118 [1:05:50<18:42:42, 63.31s/it]\u001b[A\u001b[A\u001b[A\u001b[A\n\n\n\n  5%|▍         | 55/1118 [1:07:02<19:23:14, 65.66s/it]\u001b[A\u001b[A\u001b[A\u001b[A\n\n\n\n  5%|▌         | 56/1118 [1:08:06<19:13:46, 65.19s/it]\u001b[A\u001b[A\u001b[A\u001b[A\n\n\n\n  5%|▌         | 57/1118 [1:09:00<18:17:42, 62.08s/it]\u001b[A\u001b[A\u001b[A\u001b[A\n\n\n\n  5%|▌         | 58/1118 [1:09:59<18:00:15, 61.15s/it]\u001b[A\u001b[A\u001b[A\u001b[A\n\n\n\n  5%|▌         | 59/1118 [1:10:51<17:09:46, 58.34s/it]\u001b[A\u001b[A\u001b[A\u001b[A\n\n\n\n  5%|▌         | 60/1118 [1:11:49<17:07:18, 58.26s/it]\u001b[A\u001b[A\u001b[A\u001b[A\n\n\n\n  5%|▌         | 61/1118 [1:13:07<18:49:22, 64.11s/it]\u001b[A\u001b[A\u001b[A\u001b[A\n\n\n\n  6%|▌         | 62/1118 [1:14:19<19:30:44, 66.52s/it]\u001b[A\u001b[A\u001b[A\u001b[A\n\n\n\n  6%|▌         | 63/1118 [1:15:40<20:45:29, 70.83s/it]\u001b[A\u001b[A\u001b[A\u001b[A\n\n\n\n  6%|▌         | 64/1118 [1:16:44<20:05:15, 68.61s/it]\u001b[A\u001b[A\u001b[A\u001b[A\n\n\n\n  6%|▌         | 65/1118 [1:17:53<20:06:47, 68.76s/it]\u001b[A\u001b[A\u001b[A\u001b[A\n\n\n\n  6%|▌         | 66/1118 [1:19:01<20:03:04, 68.62s/it]\u001b[A\u001b[A\u001b[A\u001b[A\n\n\n\n  6%|▌         | 67/1118 [1:19:57<18:54:44, 64.78s/it]\u001b[A\u001b[A\u001b[A\u001b[A\n\n\n\n  6%|▌         | 68/1118 [1:21:11<19:45:39, 67.75s/it]\u001b[A\u001b[A\u001b[A\u001b[A\n\n\n\n  6%|▌         | 69/1118 [1:22:31<20:43:53, 71.15s/it]\u001b[A\u001b[A\u001b[A\u001b[A\n\n\n\n  6%|▋         | 70/1118 [1:23:48<21:15:18, 73.01s/it]\u001b[A\u001b[A\u001b[A\u001b[A\n\n\n\n  6%|▋         | 71/1118 [1:25:14<22:19:56, 76.79s/it]\u001b[A\u001b[A\u001b[A\u001b[A\n\n\n\n  6%|▋         | 72/1118 [1:26:28<22:07:36, 76.15s/it]\u001b[A\u001b[A\u001b[A\u001b[A\n\n\n\n  7%|▋         | 73/1118 [1:27:51<22:40:36, 78.12s/it]\u001b[A\u001b[A\u001b[A\u001b[A\n\n\n\n  7%|▋         | 74/1118 [1:29:10<22:43:40, 78.37s/it]\u001b[A\u001b[A\u001b[A\u001b[A\n\n\n\n  7%|▋         | 75/1118 [1:30:24<22:22:24, 77.22s/it]\u001b[A\u001b[A\u001b[A\u001b[A\n\n\n\n  7%|▋         | 76/1118 [1:31:54<23:25:01, 80.90s/it]\u001b[A\u001b[A\u001b[A\u001b[A\n\n\n\n  7%|▋         | 77/1118 [1:32:54<21:35:59, 74.70s/it]\u001b[A\u001b[A\u001b[A\u001b[A\n\n\n\n  7%|▋         | 78/1118 [1:33:57<20:35:20, 71.27s/it]\u001b[A\u001b[A\u001b[A\u001b[A\n\n\n\n  7%|▋         | 79/1118 [1:35:16<21:10:56, 73.39s/it]\u001b[A\u001b[A\u001b[A\u001b[A\n\n\n\n  7%|▋         | 80/1118 [1:36:31<21:17:45, 73.86s/it]\u001b[A\u001b[A\u001b[A\u001b[A\n\n\n\n  7%|▋         | 81/1118 [1:37:49<21:41:08, 75.28s/it]\u001b[A\u001b[A\u001b[A\u001b[A\n\n\n\n  7%|▋         | 82/1118 [1:39:00<21:16:48, 73.95s/it]\u001b[A\u001b[A\u001b[A\u001b[A\n\n\n\n  7%|▋         | 83/1118 [1:39:55<19:37:27, 68.26s/it]\u001b[A\u001b[A\u001b[A\u001b[Ahttp://www3.nhk.or.jp/news/html/20151210/k10010336131000.html\n\n\n\n\n  8%|▊         | 84/1118 [1:41:11<20:14:44, 70.49s/it]\u001b[A\u001b[A\u001b[A\u001b[A\n\n\n\n  8%|▊         | 85/1118 [1:42:26<20:36:14, 71.80s/it]\u001b[A\u001b[A\u001b[A\u001b[A\n\n\n\n  8%|▊         | 86/1118 [1:43:41<20:51:59, 72.79s/it]\u001b[A\u001b[A\u001b[A\u001b[A\n\n\n\n  8%|▊         | 87/1118 [1:44:52<20:41:29, 72.25s/it]\u001b[A\u001b[A\u001b[A\u001b[A\n\n\n\n  8%|▊         | 88/1118 [1:46:12<21:21:59, 74.68s/it]\u001b[A\u001b[A\u001b[A\u001b[A\n\n\n\n  8%|▊         | 89/1118 [1:47:30<21:39:42, 75.78s/it]\u001b[A\u001b[A\u001b[A\u001b[A\n\n\n\n  8%|▊         | 90/1118 [1:48:47<21:44:06, 76.12s/it]\u001b[A\u001b[A\u001b[A\u001b[A\n\n\n\n  8%|▊         | 91/1118 [1:50:01<21:28:06, 75.25s/it]\u001b[A\u001b[A\u001b[A\u001b[A\n\n\n\n  8%|▊         | 92/1118 [1:51:25<22:12:29, 77.92s/it]\u001b[A\u001b[A\u001b[A\u001b[A\n\n\n\n  8%|▊         | 93/1118 [1:52:46<22:27:36, 78.88s/it]\u001b[A\u001b[A\u001b[A\u001b[A\n\n\n\n  8%|▊         | 94/1118 [1:53:59<21:55:12, 77.06s/it]\u001b[A\u001b[A\u001b[A\u001b[A\n\n\n\n  8%|▊         | 95/1118 [1:55:16<21:56:40, 77.22s/it]\u001b[A\u001b[A\u001b[A\u001b[A\n\n\n\n  9%|▊         | 96/1118 [1:56:32<21:48:05, 76.80s/it]\u001b[A\u001b[A\u001b[A\u001b[A\n\n\n\n  9%|▊         | 97/1118 [1:57:45<21:26:44, 75.62s/it]\u001b[A\u001b[A\u001b[A\u001b[A\n\n\n\n  9%|▉         | 98/1118 [1:59:00<21:23:28, 75.50s/it]\u001b[A\u001b[A\u001b[A\u001b[A\n\n\n\n  9%|▉         | 99/1118 [2:00:02<20:13:15, 71.44s/it]\u001b[A\u001b[A\u001b[A\u001b[A\n\n\n\n  9%|▉         | 100/1118 [2:01:02<19:11:17, 67.86s/it]\u001b[A\u001b[A\u001b[A\u001b[A\n\n\n\n  9%|▉         | 101/1118 [2:02:17<19:48:39, 70.13s/it]\u001b[A\u001b[A\u001b[A\u001b[A\n\n\n\n  9%|▉         | 102/1118 [2:03:15<18:46:18, 66.51s/it]\u001b[A\u001b[A\u001b[A\u001b[A\n\n\n\n  9%|▉         | 103/1118 [2:04:33<19:42:13, 69.89s/it]\u001b[A\u001b[A\u001b[A\u001b[A\n\n\n\n  9%|▉         | 104/1118 [2:05:32<18:48:32, 66.78s/it]\u001b[A\u001b[A\u001b[A\u001b[A\n\n\n\n  9%|▉         | 105/1118 [2:07:01<20:36:58, 73.27s/it]\u001b[A\u001b[A\u001b[A\u001b[A\n\n\n\n  9%|▉         | 106/1118 [2:08:11<20:18:39, 72.25s/it]\u001b[A\u001b[A\u001b[A\u001b[A\n\n\n\n 10%|▉         | 107/1118 [2:09:32<21:05:04, 75.08s/it]\u001b[A\u001b[A\u001b[A\u001b[A\n\n\n\n 10%|▉         | 108/1118 [2:10:58<21:55:09, 78.13s/it]\u001b[A\u001b[A\u001b[A\u001b[A\n\n\n\n 10%|▉         | 109/1118 [2:12:10<21:26:13, 76.49s/it]\u001b[A\u001b[A\u001b[A\u001b[A\n\n\n\n 10%|▉         | 110/1118 [2:13:31<21:48:41, 77.90s/it]\u001b[A\u001b[A\u001b[A\u001b[A\n\n\n\n 10%|▉         | 111/1118 [2:14:50<21:49:05, 78.00s/it]\u001b[A\u001b[A\u001b[A\u001b[A\n\n\n\n 10%|█         | 112/1118 [2:15:57<20:55:05, 74.86s/it]\u001b[A\u001b[A\u001b[A\u001b[A\n\n\n\n 10%|█         | 113/1118 [2:16:54<19:23:01, 69.43s/it]\u001b[A\u001b[A\u001b[A\u001b[A\n\n\n\n 10%|█         | 114/1118 [2:18:19<20:39:39, 74.08s/it]\u001b[A\u001b[A\u001b[A\u001b[A\n\n\n\n 10%|█         | 115/1118 [2:19:54<22:23:37, 80.38s/it]\u001b[A\u001b[A\u001b[A\u001b[A\n\n\n\n 10%|█         | 116/1118 [2:21:24<23:11:38, 83.33s/it]\u001b[A\u001b[A\u001b[A\u001b[A\n\n\n\n 10%|█         | 117/1118 [2:22:36<22:11:51, 79.83s/it]\u001b[A\u001b[A\u001b[A\u001b[A\n\n\n\n 11%|█         | 118/1118 [2:23:52<21:52:18, 78.74s/it]\u001b[A\u001b[A\u001b[A\u001b[A\n\n\n\n 11%|█         | 119/1118 [2:25:11<21:52:29, 78.83s/it]\u001b[A\u001b[A\u001b[A\u001b[A\n\n\n\n 11%|█         | 120/1118 [2:26:30<21:51:02, 78.82s/it]\u001b[A\u001b[A\u001b[A\u001b[A\n\n\n\n 11%|█         | 121/1118 [2:27:47<21:38:45, 78.16s/it]\u001b[A\u001b[A\u001b[A\u001b[A\n\n\n\n 11%|█         | 122/1118 [2:27:59<16:08:40, 58.35s/it]\u001b[A\u001b[A\u001b[A\u001b[Ahttp://www3.nhk.or.jp/news/html/20151226/k10010353931000.html\n\n\n\n\n 11%|█         | 123/1118 [2:29:11<17:18:10, 62.60s/it]\u001b[A\u001b[A\u001b[A\u001b[A\n\n\n\n 11%|█         | 124/1118 [2:30:05<16:33:23, 59.96s/it]\u001b[A\u001b[A\u001b[A\u001b[Ahttp://www3.nhk.or.jp/news/html/20151226/k10010353961000.html\n\n\n\n\n 11%|█         | 125/1118 [2:31:13<17:12:40, 62.40s/it]\u001b[A\u001b[A\u001b[A\u001b[A\n\n\n\n 11%|█▏        | 126/1118 [2:32:12<16:54:59, 61.39s/it]\u001b[A\u001b[A\u001b[A\u001b[Ahttp://www3.nhk.or.jp/news/html/20151226/k10010354001000.html\n\n\n\n\n 11%|█▏        | 127/1118 [2:32:59<15:41:29, 57.00s/it]\u001b[A\u001b[A\u001b[A\u001b[Ahttp://www3.nhk.or.jp/news/html/20151226/k10010354021000.html\n\n\n\n\n 11%|█▏        | 128/1118 [2:33:46<14:50:44, 53.98s/it]\u001b[A\u001b[A\u001b[A\u001b[Ahttp://www3.nhk.or.jp/news/html/20151226/k10010354031000.html\n\n\n\n\n 12%|█▏        | 129/1118 [2:34:47<15:25:53, 56.17s/it]\u001b[A\u001b[A\u001b[A\u001b[A\n\n\n\n 12%|█▏        | 130/1118 [2:36:11<17:40:56, 64.43s/it]\u001b[A\u001b[A\u001b[A\u001b[A\n\n\n\n 12%|█▏        | 131/1118 [2:38:01<21:28:03, 78.30s/it]\u001b[A\u001b[A\u001b[A\u001b[A\n\n\n\n 12%|█▏        | 132/1118 [2:39:00<19:47:21, 72.25s/it]\u001b[A\u001b[A\u001b[A\u001b[Ahttp://www3.nhk.or.jp/news/html/20160103/k10010359571000.html\n\n\n\n\n 12%|█▏        | 133/1118 [2:40:15<20:02:03, 73.22s/it]\u001b[A\u001b[A\u001b[A\u001b[A\n\n\n\n 12%|█▏        | 134/1118 [2:41:14<18:52:25, 69.05s/it]\u001b[A\u001b[A\u001b[A\u001b[A\n\n\n\n 12%|█▏        | 135/1118 [2:42:31<19:30:42, 71.46s/it]\u001b[A\u001b[A\u001b[A\u001b[A\n\n\n\n 12%|█▏        | 136/1118 [2:43:35<18:52:06, 69.17s/it]\u001b[A\u001b[A\u001b[A\u001b[A\n\n\n\n 12%|█▏        | 137/1118 [2:44:57<19:52:47, 72.95s/it]\u001b[A\u001b[A\u001b[A\u001b[A\n\n\n\n 12%|█▏        | 138/1118 [2:46:09<19:45:23, 72.57s/it]\u001b[A\u001b[A\u001b[A\u001b[A\n\n\n\n 12%|█▏        | 139/1118 [2:47:10<18:46:42, 69.05s/it]\u001b[A\u001b[A\u001b[A\u001b[A\n\n\n\n 13%|█▎        | 140/1118 [2:48:26<19:20:18, 71.19s/it]\u001b[A\u001b[A\u001b[A\u001b[A\n\n\n\n 13%|█▎        | 141/1118 [2:49:51<20:29:47, 75.52s/it]\u001b[A\u001b[A\u001b[A\u001b[A\n\n\n\n 13%|█▎        | 142/1118 [2:50:57<19:42:22, 72.69s/it]\u001b[A\u001b[A\u001b[A\u001b[A\n\n\n\n 13%|█▎        | 143/1118 [2:52:13<19:55:33, 73.57s/it]\u001b[A\u001b[A\u001b[A\u001b[A\n\n\n\n 13%|█▎        | 144/1118 [2:53:11<18:35:56, 68.74s/it]\u001b[A\u001b[A\u001b[A\u001b[Ahttp://www3.nhk.or.jp/news/html/20160105/k10010361561000.html\n\n\n\n\n 13%|█▎        | 145/1118 [2:54:30<19:24:22, 71.80s/it]\u001b[A\u001b[A\u001b[A\u001b[A\n\n\n\n 13%|█▎        | 146/1118 [2:56:18<22:22:39, 82.88s/it]\u001b[A\u001b[A\u001b[A\u001b[A\n\n\n\n 13%|█▎        | 147/1118 [2:56:30<16:33:30, 61.39s/it]\u001b[A\u001b[A\u001b[A\u001b[Ahttp://www3.nhk.or.jp/news/html/20160106/k10010362601000.html\n\n\n\n\n 13%|█▎        | 148/1118 [2:58:17<20:17:51, 75.33s/it]\u001b[A\u001b[A\u001b[A\u001b[A\n\n\n\n 13%|█▎        | 149/1118 [2:59:34<20:22:46, 75.71s/it]\u001b[A\u001b[A\u001b[A\u001b[A\n\n\n\n 13%|█▎        | 150/1118 [3:00:42<19:45:35, 73.49s/it]\u001b[A\u001b[A\u001b[A\u001b[A\n\n\n\n 14%|█▎        | 151/1118 [3:01:42<18:38:15, 69.38s/it]\u001b[A\u001b[A\u001b[A\u001b[A\n\n\n\n 14%|█▎        | 152/1118 [3:02:51<18:32:58, 69.13s/it]\u001b[A\u001b[A\u001b[A\u001b[A\n\n\n\n 14%|█▎        | 153/1118 [3:04:07<19:05:40, 71.23s/it]\u001b[A\u001b[A\u001b[A\u001b[A\n\n\n\n 14%|█▍        | 154/1118 [3:05:08<18:14:16, 68.11s/it]\u001b[A\u001b[A\u001b[A\u001b[A\n\n\n\n 14%|█▍        | 155/1118 [3:06:43<20:26:36, 76.42s/it]\u001b[A\u001b[A\u001b[A\u001b[A\n\n\n\n 14%|█▍        | 156/1118 [3:08:32<22:58:12, 85.96s/it]\u001b[A\u001b[A\u001b[A\u001b[A\n\n\n\n 14%|█▍        | 157/1118 [3:09:47<22:05:42, 82.77s/it]\u001b[A\u001b[A\u001b[A\u001b[A\n\n\n\n 14%|█▍        | 158/1118 [3:11:19<22:49:40, 85.61s/it]\u001b[A\u001b[A\u001b[A\u001b[A\n\n\n\n 14%|█▍        | 159/1118 [3:12:30<21:38:11, 81.22s/it]\u001b[A\u001b[A\u001b[A\u001b[A\n\n\n\n 14%|█▍        | 160/1118 [3:13:32<20:04:44, 75.45s/it]\u001b[A\u001b[A\u001b[A\u001b[A\n\n\n\n 14%|█▍        | 161/1118 [3:14:51<20:18:40, 76.41s/it]\u001b[A\u001b[A\u001b[A\u001b[A\n\n\n\n 14%|█▍        | 162/1118 [3:16:03<19:56:08, 75.07s/it]\u001b[A\u001b[A\u001b[A\u001b[A\n\n\n\n 15%|█▍        | 163/1118 [3:17:06<19:00:16, 71.64s/it]\u001b[A\u001b[A\u001b[A\u001b[A\n\n\n\n 15%|█▍        | 164/1118 [3:18:06<18:01:47, 68.04s/it]\u001b[A\u001b[A\u001b[A\u001b[A\n\n\n\n 15%|█▍        | 165/1118 [3:19:29<19:14:13, 72.67s/it]\u001b[A\u001b[A\u001b[A\u001b[A\n\n\n\n 15%|█▍        | 166/1118 [3:20:51<19:56:18, 75.40s/it]\u001b[A\u001b[A\u001b[A\u001b[A\n\n\n\n 15%|█▍        | 167/1118 [3:22:27<21:30:23, 81.41s/it]\u001b[A\u001b[A\u001b[A\u001b[A\n\n\n\n 15%|█▌        | 168/1118 [3:23:44<21:11:31, 80.31s/it]\u001b[A\u001b[A\u001b[A\u001b[A\n\n\n\n 15%|█▌        | 169/1118 [3:24:58<20:39:09, 78.35s/it]\u001b[A\u001b[A\u001b[A\u001b[A\n\n\n\n 15%|█▌        | 170/1118 [3:26:06<19:49:28, 75.28s/it]\u001b[A\u001b[A\u001b[A\u001b[Ahttp://www3.nhk.or.jp/news/html/20160114/k10010371331000.html\n\n\n\n\n 15%|█▌        | 171/1118 [3:27:24<19:58:26, 75.93s/it]\u001b[A\u001b[A\u001b[A\u001b[A\n\n\n\n 15%|█▌        | 172/1118 [3:28:35<19:35:37, 74.56s/it]\u001b[A\u001b[A\u001b[A\u001b[A\n\n\n\n 15%|█▌        | 173/1118 [3:29:50<19:35:27, 74.63s/it]\u001b[A\u001b[A\u001b[A\u001b[A\n\n\n\n 16%|█▌        | 174/1118 [3:31:01<19:17:29, 73.57s/it]\u001b[A\u001b[A\u001b[A\u001b[A\n\n\n\n 16%|█▌        | 175/1118 [3:32:14<19:12:44, 73.35s/it]\u001b[A\u001b[A\u001b[A\u001b[A\n\n\n\n 16%|█▌        | 176/1118 [3:33:28<19:13:22, 73.46s/it]\u001b[A\u001b[A\u001b[A\u001b[A\n\n\n\n 16%|█▌        | 177/1118 [3:34:42<19:15:02, 73.65s/it]\u001b[A\u001b[A\u001b[A\u001b[A\n\n\n\n 16%|█▌        | 178/1118 [3:35:43<18:15:30, 69.93s/it]\u001b[A\u001b[A\u001b[A\u001b[A\n\n\n\n 16%|█▌        | 179/1118 [3:37:01<18:53:54, 72.45s/it]\u001b[A\u001b[A\u001b[A\u001b[A\n\n\n\n 16%|█▌        | 180/1118 [3:38:21<19:25:16, 74.54s/it]\u001b[A\u001b[A\u001b[A\u001b[A\n\n\n\n 16%|█▌        | 181/1118 [3:39:28<18:52:17, 72.51s/it]\u001b[A\u001b[A\u001b[A\u001b[A\n\n\n\n 16%|█▋        | 182/1118 [3:40:45<19:09:13, 73.67s/it]\u001b[A\u001b[A\u001b[A\u001b[A\n\n\n\n 16%|█▋        | 183/1118 [3:42:00<19:15:33, 74.15s/it]\u001b[A\u001b[A\u001b[A\u001b[A\n\n\n\n 16%|█▋        | 184/1118 [3:42:56<17:51:19, 68.82s/it]\u001b[A\u001b[A\u001b[A\u001b[A\n\n\n\n 17%|█▋        | 185/1118 [3:44:18<18:50:22, 72.69s/it]\u001b[A\u001b[A\u001b[A\u001b[A\n\n\n\n 17%|█▋        | 186/1118 [3:45:28<18:35:03, 71.78s/it]\u001b[A\u001b[A\u001b[A\u001b[A\n\n\n\n 17%|█▋        | 187/1118 [3:46:56<19:50:40, 76.74s/it]\u001b[A\u001b[A\u001b[A\u001b[A\n\n\n\n 17%|█▋        | 188/1118 [3:48:03<19:04:38, 73.85s/it]\u001b[A\u001b[A\u001b[A\u001b[A\n\n\n\n 17%|█▋        | 189/1118 [3:49:15<18:55:42, 73.35s/it]\u001b[A\u001b[A\u001b[A\u001b[A\n\n\n\n 17%|█▋        | 190/1118 [3:50:29<18:56:13, 73.46s/it]\u001b[A\u001b[A\u001b[A\u001b[A\n\n\n\n 17%|█▋        | 191/1118 [3:51:46<19:10:55, 74.49s/it]\u001b[A\u001b[A\u001b[A\u001b[A\n\n\n\n 17%|█▋        | 192/1118 [3:53:07<19:39:09, 76.40s/it]\u001b[A\u001b[A\u001b[A\u001b[A\n\n\n\n 17%|█▋        | 193/1118 [3:54:20<19:20:09, 75.25s/it]\u001b[A\u001b[A\u001b[A\u001b[A\n\n\n\n 17%|█▋        | 194/1118 [3:55:32<19:03:56, 74.28s/it]\u001b[A\u001b[A\u001b[A\u001b[A\n\n\n\n 17%|█▋        | 195/1118 [3:56:34<18:07:30, 70.69s/it]\u001b[A\u001b[A\u001b[A\u001b[A\n\n\n\n 18%|█▊        | 196/1118 [3:57:57<19:01:55, 74.31s/it]\u001b[A\u001b[A\u001b[A\u001b[A\n\n\n\n 18%|█▊        | 197/1118 [3:59:06<18:38:10, 72.85s/it]\u001b[A\u001b[A\u001b[A\u001b[A\n\n\n\n 18%|█▊        | 198/1118 [4:00:46<20:42:44, 81.05s/it]\u001b[A\u001b[A\u001b[A\u001b[A\n\n\n\n 18%|█▊        | 199/1118 [4:01:47<19:10:30, 75.11s/it]\u001b[A\u001b[A\u001b[A\u001b[A\n\n\n\n 18%|█▊        | 200/1118 [4:03:04<19:15:35, 75.53s/it]\u001b[A\u001b[A\u001b[A\u001b[A\n\n\n\n 18%|█▊        | 201/1118 [4:04:18<19:08:14, 75.13s/it]\u001b[A\u001b[A\u001b[A\u001b[A\n\n\n\n 18%|█▊        | 202/1118 [4:05:35<19:15:03, 75.66s/it]\u001b[A\u001b[A\u001b[A\u001b[A\n\n\n\n 18%|█▊        | 203/1118 [4:06:46<18:51:09, 74.17s/it]\u001b[A\u001b[A\u001b[A\u001b[A\n\n\n\n 18%|█▊        | 204/1118 [4:08:04<19:07:43, 75.34s/it]\u001b[A\u001b[A\u001b[A\u001b[A\n\n\n\n 18%|█▊        | 205/1118 [4:09:24<19:27:29, 76.72s/it]\u001b[A\u001b[A\u001b[A\u001b[A\n\n\n\n 18%|█▊        | 206/1118 [4:11:31<23:17:10, 91.92s/it]\u001b[A\u001b[A\u001b[A\u001b[A\n\n\n\n 19%|█▊        | 207/1118 [4:12:49<22:12:44, 87.78s/it]\u001b[A\u001b[A\u001b[A\u001b[A\n\n\n\n 19%|█▊        | 208/1118 [4:14:09<21:35:39, 85.43s/it]\u001b[A\u001b[A\u001b[A\u001b[A\n\n\n\n 19%|█▊        | 209/1118 [4:16:29<25:43:26, 101.88s/it]\u001b[A\u001b[A\u001b[A\u001b[A\n\n\n\n 19%|█▉        | 210/1118 [4:17:53<24:17:48, 96.33s/it]\u001b[A\u001b[A\u001b[A\u001b[A\n\n\n\n 19%|█▉        | 211/1118 [4:19:22<23:41:32, 94.04s/it]\u001b[A\u001b[A\u001b[A\u001b[A\n\n\n\n 19%|█▉        | 212/1118 [4:20:36<22:13:11, 88.29s/it]\u001b[A\u001b[A\u001b[A\u001b[A\n\n\n\n 19%|█▉        | 213/1118 [4:22:31<24:11:41, 96.24s/it]\u001b[A\u001b[A\u001b[A\u001b[A\n\n\n\n 19%|█▉        | 214/1118 [4:25:15<29:14:40, 116.46s/it]\u001b[A\u001b[A\u001b[A\u001b[A\n\n\n\n 19%|█▉        | 215/1118 [4:26:21<25:26:48, 101.45s/it]\u001b[A\u001b[A\u001b[A\u001b[A\n\n\n\n 19%|█▉        | 216/1118 [4:27:17<21:57:25, 87.63s/it]\u001b[A\u001b[A\u001b[A\u001b[A\n\n\n\n 19%|█▉        | 217/1118 [4:28:27<20:39:31, 82.54s/it]\u001b[A\u001b[A\u001b[A\u001b[A\n\n\n\n 19%|█▉        | 218/1118 [4:29:46<20:20:06, 81.34s/it]\u001b[A\u001b[A\u001b[A\u001b[A\n\n\n\n 20%|█▉        | 219/1118 [4:30:56<19:27:17, 77.91s/it]\u001b[A\u001b[A\u001b[A\u001b[A\n\n\n\n 20%|█▉        | 220/1118 [4:32:04<18:42:42, 75.01s/it]\u001b[A\u001b[A\u001b[A\u001b[A\n\n\n\n 20%|█▉        | 221/1118 [4:33:22<18:53:01, 75.79s/it]\u001b[A\u001b[A\u001b[A\u001b[A\n\n\n\n 20%|█▉        | 222/1118 [4:34:35<18:38:56, 74.93s/it]\u001b[A\u001b[A\u001b[A\u001b[A\n\n\n\n 20%|█▉        | 223/1118 [4:37:27<25:55:36, 104.29s/it]\u001b[A\u001b[A\u001b[A\u001b[A\n\n\n\n 20%|██        | 224/1118 [4:39:01<25:06:42, 101.12s/it]\u001b[A\u001b[A\u001b[A\u001b[A\n\n\n\n 20%|██        | 225/1118 [4:41:48<29:57:03, 120.74s/it]\u001b[A\u001b[A\u001b[A\u001b[A\n\n\n\n 20%|██        | 226/1118 [4:43:07<26:48:30, 108.20s/it]\u001b[A\u001b[A\u001b[A\u001b[A\n\n\n\n 20%|██        | 227/1118 [4:44:13<23:40:23, 95.65s/it]\u001b[A\u001b[A\u001b[A\u001b[A\n\n\n\n 20%|██        | 228/1118 [4:45:23<21:45:17, 88.00s/it]\u001b[A\u001b[A\u001b[A\u001b[A\n\n\n\n 20%|██        | 229/1118 [4:46:21<19:32:02, 79.10s/it]\u001b[A\u001b[A\u001b[A\u001b[A\n\n\n\n 21%|██        | 230/1118 [4:47:37<19:14:33, 78.01s/it]\u001b[A\u001b[A\u001b[A\u001b[A\n\n\n\n 21%|██        | 231/1118 [4:48:53<19:03:47, 77.37s/it]\u001b[A\u001b[A\u001b[A\u001b[A\n\n\n\n 21%|██        | 232/1118 [4:49:53<17:48:36, 72.37s/it]\u001b[A\u001b[A\u001b[A\u001b[A\n\n\n\n 21%|██        | 233/1118 [4:51:04<17:38:15, 71.75s/it]\u001b[A\u001b[A\u001b[A\u001b[A\n\n\n\n 21%|██        | 234/1118 [4:51:15<13:08:48, 53.54s/it]\u001b[A\u001b[A\u001b[A\u001b[Ahttp://www3.nhk.or.jp/news/html/20160204/k10010396381000.html\n\n\n\n\n 21%|██        | 235/1118 [4:54:04<21:40:03, 88.34s/it]\u001b[A\u001b[A\u001b[A\u001b[A\n\n\n\n 21%|██        | 236/1118 [4:54:15<15:57:21, 65.13s/it]\u001b[A\u001b[A\u001b[A\u001b[Ahttp://www3.nhk.or.jp/news/html/20160204/k10010396771000.html\n\n\n\n\n 21%|██        | 237/1118 [4:57:00<23:13:24, 94.90s/it]\u001b[A\u001b[A\u001b[A\u001b[A\n\n\n\n 21%|██▏       | 238/1118 [4:58:18<21:57:04, 89.80s/it]\u001b[A\u001b[A\u001b[A\u001b[A\n\n\n\n 21%|██▏       | 239/1118 [4:59:29<20:34:55, 84.30s/it]\u001b[A\u001b[A\u001b[A\u001b[Ahttp://www3.nhk.or.jp/news/html/20160205/k10010397331000.html\n\n\n\n\n 21%|██▏       | 240/1118 [5:01:36<23:40:35, 97.08s/it]\u001b[A\u001b[A\u001b[A\u001b[A\n\n\n\n 22%|██▏       | 241/1118 [5:02:49<21:54:24, 89.93s/it]\u001b[A\u001b[A\u001b[A\u001b[A\n\n\n\n 22%|██▏       | 242/1118 [5:03:59<20:24:19, 83.86s/it]\u001b[A\u001b[A\u001b[A\u001b[A\n\n\n\n 22%|██▏       | 243/1118 [5:05:09<19:22:38, 79.72s/it]\u001b[A\u001b[A\u001b[A\u001b[A\n\n\n\n 22%|██▏       | 244/1118 [5:06:25<19:05:06, 78.61s/it]\u001b[A\u001b[A\u001b[A\u001b[A\n\n\n\n 22%|██▏       | 245/1118 [5:06:36<14:09:37, 58.39s/it]\u001b[A\u001b[A\u001b[A\u001b[Ahttp://www3.nhk.or.jp/news/html/20160207/k10010401181000.html\n\n\n\n\n 22%|██▏       | 246/1118 [5:08:30<18:09:17, 74.95s/it]\u001b[A\u001b[A\u001b[A\u001b[A\n\n\n\n 22%|██▏       | 247/1118 [5:10:18<20:34:11, 85.02s/it]\u001b[A\u001b[A\u001b[A\u001b[A\n\n\n\n 22%|██▏       | 248/1118 [5:11:34<19:51:26, 82.17s/it]\u001b[A\u001b[A\u001b[A\u001b[A\n\n\n\n 22%|██▏       | 249/1118 [5:12:51<19:29:32, 80.75s/it]\u001b[A\u001b[A\u001b[A\u001b[A\n\n\n\n 22%|██▏       | 250/1118 [5:14:05<18:58:28, 78.70s/it]\u001b[A\u001b[A\u001b[A\u001b[A\n\n\n\n 22%|██▏       | 251/1118 [5:15:06<17:40:32, 73.39s/it]\u001b[A\u001b[A\u001b[A\u001b[A\n\n\n\n 23%|██▎       | 252/1118 [5:16:34<18:42:25, 77.77s/it]\u001b[A\u001b[A\u001b[A\u001b[A\n\n\n\n 23%|██▎       | 253/1118 [5:18:20<20:41:32, 86.12s/it]\u001b[A\u001b[A\u001b[A\u001b[A\n\n\n\n 23%|██▎       | 254/1118 [5:18:31<15:16:31, 63.65s/it]\u001b[A\u001b[A\u001b[A\u001b[Ahttp://www3.nhk.or.jp/news/html/20160210/k10010404081000.html\n\n\n\n\n 23%|██▎       | 255/1118 [5:20:29<19:09:06, 79.89s/it]\u001b[A\u001b[A\u001b[A\u001b[A\n\n\n\n 23%|██▎       | 256/1118 [5:21:40<18:30:48, 77.32s/it]\u001b[A\u001b[A\u001b[A\u001b[A\n\n\n\n 23%|██▎       | 257/1118 [5:22:49<17:53:05, 74.78s/it]\u001b[A\u001b[A\u001b[A\u001b[A\n\n\n\n 23%|██▎       | 258/1118 [5:24:16<18:46:43, 78.61s/it]\u001b[A\u001b[A\u001b[A\u001b[A\n\n\n\n 23%|██▎       | 259/1118 [5:25:16<17:23:50, 72.91s/it]\u001b[A\u001b[A\u001b[A\u001b[A\n\n\n\n 23%|██▎       | 260/1118 [5:26:30<17:27:33, 73.26s/it]\u001b[A\u001b[A\u001b[A\u001b[A\n\n\n\n 23%|██▎       | 261/1118 [5:27:42<17:21:13, 72.90s/it]\u001b[A\u001b[A\u001b[A\u001b[Ahttp://www3.nhk.or.jp/news/html/20160212/k10010406921000.html\n\n\n\n\n 23%|██▎       | 262/1118 [5:30:26<23:47:48, 100.08s/it]\u001b[A\u001b[A\u001b[A\u001b[A\n\n\n\n 24%|██▎       | 263/1118 [5:30:37<17:26:51, 73.46s/it]\u001b[A\u001b[A\u001b[A\u001b[Ahttp://www3.nhk.or.jp/news/html/20160214/k10010408501000.html\n"
    }
   ],
   "source": [
    "for nhkurl in tqdm.tqdm(htmls[3:]):\n",
    "    driver.get(f'https://web.archive.org/web/2019*/{nhkurl}')\n",
    "    time.sleep(10)\n",
    "    html = str(driver.page_source.encode('utf-8'))\n",
    "    snap = re.search(r'(between|1 time).*?<a href=\"(.+?)\">', html)\n",
    "    if not snap:\n",
    "        print(nhkurl)\n",
    "        continue\n",
    "    driver.get('https://web.archive.org' + snap.group(2))\n",
    "    time.sleep(30)\n",
    "    html = driver.page_source.encode('utf-8')\n",
    "    try:\n",
    "        dic = scrape_normal_one(html, nhkurl)\n",
    "        js(dic)\n",
    "    except:\n",
    "        print(nhkurl)"
   ]
  },
  {
   "cell_type": "code",
   "execution_count": 29,
   "metadata": {},
   "outputs": [
    {
     "name": "stdout",
     "output_type": "stream",
     "text": "{'id': 'k10010252101000', 'title': '選手強化費 クレジットカードのポイントで寄付', 'article': 'クレジットカードのポイントをオリンピックを目指すトップ選手の強化費への寄付として募るというユニークな取り組みが、ＪＯＣ＝日本オリンピック委員会とクレジットカード大手の協力で２９日から始まりました。\\n\\nこの取り組みは、２０２０年東京オリンピックなどを見据え、選手強化の充実が求められるなか、ＪＯＣがオリンピックの公式スポンサーでクレジットカード大手のＶＩＳＡと協力して始めました。具体的には、ＶＩＳＡカードの会員がカードの利用に伴ってたまるポイントをオリンピックを目指すトップ選手を対象とした強化費としてＪＯＣに寄付することを選択します。カード会社は、ポイントを現金化してＪＯＣの口座に振り込み、ＪＯＣが来年のリオデジャネイロ大会に参加する２８の競技団体に配分するということです。配分の割合は通常の強化費配分の指針となる競技団体のランクなどに応じて決めて、配分した金額はホームページ上で公表するということです。期間は当面、２９日から来年８月末までの予定で、５年後の東京大会などに向けては、直接、ＪＯＣに寄付できる仕組みも検討するということです。取り組みに参加しているカード会社は、２９日現在、１４８社あり、こうした寄付の取り組みは世界のオリンピック委員会でも初めてだということです。\\n\\n\\n\\n会見に同席したＪＯＣの理事で陸上、ハンマー投げの４０歳、室伏広治選手は、「強化のサポートが十分ではない競技団体や選手がまだまだいるので、１人でも多くの選手がメダルを取れるように、また、東京大会への機運が高まるようにお願いしたい」と呼びかけたうえで、「自分自身、カードを利用してためたポイントが期限を迎えて消えてしまうことがたびたびある。消えてしまう前に寄付して、多くのアスリートや若い世代に行き渡るようにしたいですね」と話し会見場を和ませていました。また、競泳女子の１８歳、渡部香生子選手は、「競技を続ける環境が整わずに苦労している選手がいる。今回の取り組みで強化の支援はもちろん、若い選手たちの励みになれば」と話していました。', 'genre': ['スポーツ'], 'keywords': [], 'url': 'http://www3.nhk.or.jp/news/html/20150929/k10010252101000.html', 'datePublished': '2015-09-29T17:15', 'dateModified': ''}\n"
    }
   ],
   "source": [
    "html = driver.page_source.encode('utf-8')\n",
    "soup = BeautifulSoup(html, \"html.parser\")\n",
    "dic = scrape_normal_one(html, 'http://www3.nhk.or.jp/news/html/20150929/k10010252101000.html')\n",
    "print(dic)\n",
    "js(dic)"
   ]
  },
  {
   "cell_type": "code",
   "execution_count": 91,
   "metadata": {},
   "outputs": [],
   "source": [
    "html = str(driver.page_source.encode('utf-8'))\n",
    "re.search(r'\"genre\":(.+?),', html)"
   ]
  },
  {
   "cell_type": "markdown",
   "execution_count": 63,
   "metadata": {},
   "outputs": [],
   "source": [
    "# clean category & keyword"
   ]
  },
  {
   "cell_type": "code",
   "execution_count": 44,
   "metadata": {},
   "outputs": [
    {
     "name": "stdout",
     "output_type": "stream",
     "text": "5147\n2530\n"
    }
   ],
   "source": [
    "with open('nhkweb.json','r', encoding='utf-8') as f:\n",
    "    data = json.load(f)\n",
    "    print(len(data))\n",
    "with open('nhkwebeasy.json','r', encoding='utf-8') as f:\n",
    "    data = json.load(f)\n",
    "    print(len(data))"
   ]
  },
  {
   "cell_type": "code",
   "execution_count": 18,
   "metadata": {},
   "outputs": [
    {
     "name": "stdout",
     "output_type": "stream",
     "text": "articles:  5147\n"
    },
    {
     "data": {
      "text/plain": "[('社会', 1639),\n ('国際', 1322),\n ('ビジネス', 823),\n ('科学・文化', 729),\n ('スポーツ', 702),\n ('政治', 615),\n ('暮らし', 410),\n ('地域', 319),\n ('気象・災害', 271)]"
     },
     "execution_count": 18,
     "metadata": {},
     "output_type": "execute_result"
    }
   ],
   "source": [
    "# check category\n",
    "\n",
    "with open('nhkweb.json','r', encoding='utf-8') as f:\n",
    "    data = json.load(f)\n",
    "print('articles: ', len(data))\n",
    "genre = Counter()\n",
    "for dic in data:\n",
    "    for g in dic['genre']:\n",
    "        genre[g] += 1\n",
    "genre.most_common()"
   ]
  },
  {
   "cell_type": "code",
   "execution_count": 24,
   "metadata": {},
   "outputs": [],
   "source": [
    "# genre <> keywords\n",
    "\n",
    "with open('nhkweb.json','r', encoding='utf-8') as f:\n",
    "    data = json.load(f)\n",
    "\n",
    "category = ['社会', '国際', 'ビジネス', 'スポーツ', '政治', '科学・文化', '暮らし', '地域', '気象・災害']\n",
    "for i, dic in enumerate(data):\n",
    "    newgenre = []\n",
    "    newkey = []\n",
    "    for j in dic['genre']:\n",
    "        if j in category:\n",
    "            newgenre.append(j)\n",
    "        elif j == \"災害\" or j == \"気象\":\n",
    "            newgenre.append('気象・災害')\n",
    "        elif j == \"科学・医療\":\n",
    "            newgenre.append('科学・文化')\n",
    "        elif j == \"文化・エンタメ\":\n",
    "            newgenre.append('科学・文化')\n",
    "        elif j == \"経済\":\n",
    "            newgenre.append('ビジネス')\n",
    "        else:\n",
    "            newkey.append(j)\n",
    "    for j in dic['keywords']:\n",
    "        if j in category:\n",
    "            newgenre.append(j)\n",
    "        elif j == \"災害\" or j == \"気象\":\n",
    "            newgenre.append('気象・災害')\n",
    "        else:\n",
    "            newkey.append(j)\n",
    "    data[i]['genre'] = list(set(newgenre))\n",
    "    data[i]['keywords'] = list(set(newkey))\n",
    "\n",
    "with open('nhkweb.json','w', encoding='utf-8') as f:\n",
    "    json.dump(data, f, indent=4, ensure_ascii=False)\n",
    "    "
   ]
  },
  {
   "cell_type": "code",
   "execution_count": 34,
   "metadata": {},
   "outputs": [
    {
     "data": {
      "text/plain": "k10012182341000    1\nk10010531981000    1\nk10011968211000    1\nk10010547391000    1\nk10011928501000    1\n                  ..\nk10010492921000    1\nk10012044261000    1\nk10012198791000    1\nk10012178011000    1\nk10011856231000    1\nName: id, Length: 2454, dtype: int64"
     },
     "execution_count": 34,
     "metadata": {},
     "output_type": "execute_result"
    }
   ],
   "source": [
    "normal = pd.read_json('nhkwebeasy.json')\n",
    "normal.id.value_counts()"
   ]
  },
  {
   "cell_type": "markdown",
   "execution_count": null,
   "metadata": {},
   "outputs": [],
   "source": [
    "# web easy archive"
   ]
  },
  {
   "cell_type": "code",
   "execution_count": 39,
   "metadata": {},
   "outputs": [
    {
     "name": "stdout",
     "output_type": "stream",
     "text": "14\n"
    },
    {
     "data": {
      "text/plain": "['http://www3.nhk.or.jp/news/easy/k10010255571000/k10010255571000.html',\n 'http://www3.nhk.or.jp/news/easy/k10010257891000/k10010257891000.html',\n 'http://www3.nhk.or.jp/news/easy/k10010258241000/k10010258241000.html',\n 'http://www3.nhk.or.jp/news/easy/k10010258631000/k10010258631000.html',\n 'http://www3.nhk.or.jp/news/easy/k10010260881000/k10010260881000.html',\n 'http://www3.nhk.or.jp/news/easy/k10010260921000/k10010260921000.html',\n 'http://www3.nhk.or.jp/news/easy/k10010282071000/k10010282071000.html',\n 'http://www3.nhk.or.jp/news/easy/k10010290761000/k10010290761000.html',\n 'http://www3.nhk.or.jp/news/easy/k10010293221000/k10010293221000.html',\n 'http://www3.nhk.or.jp/news/easy/k10010672751000/k10010672751000.html',\n 'http://www3.nhk.or.jp/news/easy/k10010674481000/k10010674481000.html',\n 'http://www3.nhk.or.jp/news/easy/k10010705131000/k10010705131000.html',\n 'http://www3.nhk.or.jp/news/easy/k10010729201000/k10010729201000.html',\n 'http://www3.nhk.or.jp/news/easy/k10010731741000/k10010731741000.html']"
     },
     "execution_count": 39,
     "metadata": {},
     "output_type": "execute_result"
    }
   ],
   "source": [
    "with open('tobescraped.txt') as f:\n",
    "    lst = f.read().split()\n",
    "with open('nolinkeasy.txt') as f:\n",
    "    nolink = f.read().split()\n",
    "with open('nhkwebeasy.json') as f:\n",
    "    urls = [x['url_easy'] for x in json.load(f)]\n",
    "htmls = sorted(set(lst) - set(urls) - set(nolink))\n",
    "print(len(htmls))\n",
    "htmls"
   ]
  },
  {
   "cell_type": "code",
   "execution_count": 10,
   "metadata": {},
   "outputs": [],
   "source": [
    "driver = webdriver.Chrome()"
   ]
  },
  {
   "cell_type": "code",
   "execution_count": 38,
   "metadata": {},
   "outputs": [
    {
     "name": "stderr",
     "output_type": "stream",
     "text": "\n\n\n\n\n\n  0%|          | 0/25 [00:00<?, ?it/s]\u001b[A\u001b[A\u001b[A\u001b[A\u001b[A\u001b[A\n\n\n\n\n\n  4%|▍         | 1/25 [00:14<05:39, 14.13s/it]\u001b[A\u001b[A\u001b[A\u001b[A\u001b[A\u001b[Ahttp://www3.nhk.or.jp/news/easy/k10010255571000/k10010255571000.html\n\n\n\n\n\n\n  8%|▊         | 2/25 [00:26<05:14, 13.69s/it]\u001b[A\u001b[A\u001b[A\u001b[A\u001b[A\u001b[Ahttp://www3.nhk.or.jp/news/easy/k10010257891000/k10010257891000.html\n\n\n\n\n\n\n 12%|█▏        | 3/25 [00:37<04:42, 12.83s/it]\u001b[A\u001b[A\u001b[A\u001b[A\u001b[A\u001b[Ahttp://www3.nhk.or.jp/news/easy/k10010258241000/k10010258241000.html\n\n\n\n\n\n\n 16%|█▌        | 4/25 [00:49<04:20, 12.41s/it]\u001b[A\u001b[A\u001b[A\u001b[A\u001b[A\u001b[Ahttp://www3.nhk.or.jp/news/easy/k10010258631000/k10010258631000.html\n\n\n\n\n\n\n 20%|██        | 5/25 [01:01<04:06, 12.33s/it]\u001b[A\u001b[A\u001b[A\u001b[A\u001b[A\u001b[Ahttp://www3.nhk.or.jp/news/easy/k10010260881000/k10010260881000.html\n\n\n\n\n\n\n 24%|██▍       | 6/25 [01:12<03:48, 12.00s/it]\u001b[A\u001b[A\u001b[A\u001b[A\u001b[A\u001b[Ahttp://www3.nhk.or.jp/news/easy/k10010260921000/k10010260921000.html\n\n\n\n\n\n\n 28%|██▊       | 7/25 [01:24<03:38, 12.15s/it]\u001b[A\u001b[A\u001b[A\u001b[A\u001b[A\u001b[Ahttp://www3.nhk.or.jp/news/easy/k10010282071000/k10010282071000.html\n\n\n\n\n\n\n 32%|███▏      | 8/25 [01:36<03:22, 11.89s/it]\u001b[A\u001b[A\u001b[A\u001b[A\u001b[A\u001b[Ahttp://www3.nhk.or.jp/news/easy/k10010290761000/k10010290761000.html\n\n\n\n\n\n\n 36%|███▌      | 9/25 [01:47<03:05, 11.62s/it]\u001b[A\u001b[A\u001b[A\u001b[A\u001b[A\u001b[Ahttp://www3.nhk.or.jp/news/easy/k10010293221000/k10010293221000.html\n\n\n\n\n\n\n 40%|████      | 10/25 [02:44<06:21, 25.45s/it]\u001b[A\u001b[A\u001b[A\u001b[A\u001b[A\u001b[A\n\n\n\n\n\n 44%|████▍     | 11/25 [03:28<07:12, 30.92s/it]\u001b[A\u001b[A\u001b[A\u001b[A\u001b[A\u001b[A\n\n\n\n\n\n 48%|████▊     | 12/25 [04:07<07:14, 33.46s/it]\u001b[A\u001b[A\u001b[A\u001b[A\u001b[A\u001b[A\n\n\n\n\n\n 52%|█████▏    | 13/25 [04:54<07:26, 37.24s/it]\u001b[A\u001b[A\u001b[A\u001b[A\u001b[A\u001b[A\n\n\n\n\n\n 56%|█████▌    | 14/25 [05:40<07:20, 40.05s/it]\u001b[A\u001b[A\u001b[A\u001b[A\u001b[A\u001b[A\n\n\n\n\n\n 60%|██████    | 15/25 [06:24<06:53, 41.31s/it]\u001b[A\u001b[A\u001b[A\u001b[A\u001b[A\u001b[A\n\n\n\n\n\n 64%|██████▍   | 16/25 [07:04<06:07, 40.89s/it]\u001b[A\u001b[A\u001b[A\u001b[A\u001b[A\u001b[A\n\n\n\n\n\n 68%|██████▊   | 17/25 [07:50<05:39, 42.41s/it]\u001b[A\u001b[A\u001b[A\u001b[A\u001b[A\u001b[A\n\n\n\n\n\n 72%|███████▏  | 18/25 [08:32<04:54, 42.07s/it]\u001b[A\u001b[A\u001b[A\u001b[A\u001b[A\u001b[A\n\n\n\n\n\n 76%|███████▌  | 19/25 [09:12<04:08, 41.45s/it]\u001b[A\u001b[A\u001b[A\u001b[A\u001b[A\u001b[A\n\n\n\n\n\n 80%|████████  | 20/25 [09:58<03:34, 42.94s/it]\u001b[A\u001b[A\u001b[A\u001b[A\u001b[A\u001b[A\n\n\n\n\n\n 84%|████████▍ | 21/25 [10:09<02:13, 33.35s/it]\u001b[A\u001b[A\u001b[A\u001b[A\u001b[A\u001b[Ahttp://www3.nhk.or.jp/news/easy/k10010672751000/k10010672751000.html\n\n\n\n\n\n\n 88%|████████▊ | 22/25 [10:20<01:20, 26.74s/it]\u001b[A\u001b[A\u001b[A\u001b[A\u001b[A\u001b[Ahttp://www3.nhk.or.jp/news/easy/k10010674481000/k10010674481000.html\n\n\n\n\n\n\n 92%|█████████▏| 23/25 [10:31<00:43, 21.97s/it]\u001b[A\u001b[A\u001b[A\u001b[A\u001b[A\u001b[Ahttp://www3.nhk.or.jp/news/easy/k10010705131000/k10010705131000.html\n\n\n\n\n\n\n 96%|█████████▌| 24/25 [10:43<00:18, 18.83s/it]\u001b[A\u001b[A\u001b[A\u001b[A\u001b[A\u001b[Ahttp://www3.nhk.or.jp/news/easy/k10010729201000/k10010729201000.html\n\n\n\n\n\n\n100%|██████████| 25/25 [10:54<00:00, 26.16s/it]http://www3.nhk.or.jp/news/easy/k10010731741000/k10010731741000.html\n\n"
    }
   ],
   "source": [
    "for nhkurl in htmls[:]:\n",
    "    driver.get(f'https://web.archive.org/web/2016*/{nhkurl}')\n",
    "    time.sleep(10)\n",
    "    html = str(driver.page_source.encode('utf-8'))\n",
    "    snap = re.search(r'(between|1 time).*?<a href=\"(.+?)\">', html)\n",
    "    if not snap:\n",
    "        print(nhkurl)\n",
    "        continue\n",
    "    driver.get('https://web.archive.org' + snap.group(2))\n",
    "    time.sleep(20)\n",
    "    html = driver.page_source.encode('utf-8')\n",
    "    dic = scrape_easy_one(html)\n",
    "    js_e(dic)"
   ]
  },
  {
   "cell_type": "code",
   "execution_count": 32,
   "metadata": {},
   "outputs": [],
   "source": [
    "html = driver.page_source.encode('utf-8')\n",
    "dic = scrape_easy_one(html)\n"
   ]
  },
  {
   "cell_type": "code",
   "execution_count": 33,
   "metadata": {},
   "outputs": [],
   "source": [
    "js_e(dic)"
   ]
  },
  {
   "cell_type": "code",
   "execution_count": 25,
   "metadata": {},
   "outputs": [],
   "source": [
    "html = requests.get('https://web.archive.org/web/20160824120410/http://www3.nhk.or.jp/news/easy/k10010642151000/k10010642151000.html').text\n",
    "dic = scrape_easy_one(html)"
   ]
  }
 ]
}