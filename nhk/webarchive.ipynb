{
 "nbformat": 4,
 "nbformat_minor": 2,
 "metadata": {
  "language_info": {
   "name": "python",
   "codemirror_mode": {
    "name": "ipython",
    "version": 3
   },
   "version": "3.7.5-final"
  },
  "orig_nbformat": 2,
  "file_extension": ".py",
  "mimetype": "text/x-python",
  "name": "python",
  "npconvert_exporter": "python",
  "pygments_lexer": "ipython3",
  "version": 3,
  "kernelspec": {
   "name": "python37564bit72de44cd76184052b9457c2863c13ac2",
   "display_name": "Python 3.7.5 64-bit"
  }
 },
 "cells": [
  {
   "cell_type": "code",
   "execution_count": 1,
   "metadata": {},
   "outputs": [],
   "source": [
    "import numpy as np\n",
    "import pandas as pd\n",
    "import re, json, csv, requests, time, glob, tqdm\n",
    "from bs4 import BeautifulSoup\n",
    "from selenium import webdriver"
   ]
  },
  {
   "cell_type": "code",
   "execution_count": 46,
   "metadata": {},
   "outputs": [],
   "source": [
    "def scrape(html):\n",
    "    soup = BeautifulSoup(html, \"html.parser\")\n",
    "    json_data = json.loads(soup.find_all(\"script\", type=\"application/ld+json\")[-1].text)\n",
    "    try:\n",
    "        title = json_data['headline']\n",
    "        date = json_data['datePublished']\n",
    "        date_m = json_data['dateModified']\n",
    "        genre = json_data.get('genre', [])\n",
    "        keywords = json_data.get('keywords', [])\n",
    "    except:\n",
    "        title = soup.find('h1', class_='content--title').text\n",
    "        date = soup.find_all('time')[-1].get('datetime')\n",
    "        date_m = ''\n",
    "        keywords = []\n",
    "        genre = [k for k in soup.find('meta', attrs={'name':'keywords'}).get('content').split(',') if k not in ['NHK','ニュース', 'NHK NEWS WEB']]\n",
    "    article = soup.find('div', id=\"news_textbody\").text\n",
    "    url_normal = 'https:' + soup.find('meta', property=\"og:url\").get('content').rsplit('https:')[-1]\n",
    "    if soup.find_all('div', id=\"news_textmore\") != []:\n",
    "        for textmore in soup.find_all('div', id=\"news_textmore\"):\n",
    "            article += ('\\n' + textmore.text)\n",
    "    if soup.find_all('div', class_=\"news_add\") != []:\n",
    "        for newsadd in soup.find_all('div', class_=\"news_add\"):\n",
    "            if newsadd.h3 != None:\n",
    "                newsadd.h3.extract()\n",
    "            article += ('\\n' + newsadd.text)\n",
    "            \n",
    "    return {\n",
    "        'id':url_normal.split('/')[-1].split('.html')[0],\n",
    "        'title':title,\n",
    "        'article':article.strip(),\n",
    "        'genre':genre,\n",
    "        'keywords':keywords,\n",
    "        'url':url_normal,\n",
    "        'datePublished':date,\n",
    "        'dateModified':date_m\n",
    "    }\n",
    "\n",
    "def get_link(start=0):\n",
    "    notyet = []\n",
    "    n_list = pd.read_json('nhkweb.json', encoding='utf-8')['url'].tolist()\n",
    "    df_e = pd.read_json('nhkwebeasy.json', encoding='utf-8') \n",
    "    for i in df_e['url_normal'][start:]:\n",
    "        if i not in n_list:\n",
    "            notyet.append(i)\n",
    "    return notyet\n",
    "\n",
    "def js(dic):\n",
    "    with open('nhkweb.json', 'r', encoding='utf-8') as f:\n",
    "        data = json.load(f)\n",
    "    with open('nhkweb.json', 'w', encoding='utf-8') as f:\n",
    "        if dic not in data:\n",
    "            data.append(dic)\n",
    "        data = sorted(data, key=lambda x:x['id'])\n",
    "        json.dump(data, f, indent=4, ensure_ascii=False)\n",
    "        \n",
    "easy = pd.read_json('nhkwebeasy.json')"
   ]
  },
  {
   "cell_type": "code",
   "execution_count": 4,
   "metadata": {},
   "outputs": [],
   "source": [
    "htmls = ['https://www3.nhk.or.jp/news/html/20191117/k10012180511000.html']"
   ]
  },
  {
   "cell_type": "code",
   "execution_count": 53,
   "metadata": {},
   "outputs": [
    {
     "data": {
      "text/plain": "['https://www3.nhk.or.jp/news/html/20181212/k10011744981000.html',\n 'https://www3.nhk.or.jp/news/html/20181213/k10011746391000.html',\n 'https://www3.nhk.or.jp/news/html/20181214/k10011746561000.html',\n 'https://www3.nhk.or.jp/news/html/20181214/k10011747261000.html',\n 'https://www3.nhk.or.jp/news/html/20181215/k10011748011000.html',\n 'https://www3.nhk.or.jp/news/html/20181215/k10011748121000.html',\n 'https://www3.nhk.or.jp/news/html/20181216/k10011749001000.html',\n 'https://www3.nhk.or.jp/news/html/20181217/k10011749591000.html',\n 'https://www3.nhk.or.jp/news/html/20181217/k10011749751000.html',\n 'https://www3.nhk.or.jp/news/html/20181217/k10011749811000.html',\n 'https://www3.nhk.or.jp/news/html/20181218/k10011750661000.html',\n 'https://www3.nhk.or.jp/news/html/20181218/k10011750781000.html',\n 'https://www3.nhk.or.jp/news/html/20181218/k10011750821000.html',\n 'https://www3.nhk.or.jp/news/html/20181218/k10011751011000.html',\n 'https://www3.nhk.or.jp/news/html/20181218/k10011751481000.html',\n 'https://www3.nhk.or.jp/news/html/20181219/k10011751871000.html',\n 'https://www3.nhk.or.jp/news/html/20181219/k10011752291000.html',\n 'https://www3.nhk.or.jp/news/html/20181219/k10011752761000.html',\n 'https://www3.nhk.or.jp/news/html/20181219/k10011753241000.html',\n 'https://www3.nhk.or.jp/news/html/20181219/k10011753251000.html',\n 'https://www3.nhk.or.jp/news/html/20181220/k10011753321000.html',\n 'https://www3.nhk.or.jp/news/html/20181220/k10011753421000.html',\n 'https://www3.nhk.or.jp/news/html/20181220/k10011754041000.html',\n 'https://www3.nhk.or.jp/news/html/20181220/k10011754611000.html',\n 'https://www3.nhk.or.jp/news/html/20181220/k10011754721000.html',\n 'https://www3.nhk.or.jp/news/html/20181221/k10011754741000.html',\n 'https://www3.nhk.or.jp/news/html/20181221/k10011754951000.html',\n 'https://www3.nhk.or.jp/news/html/20181222/k10011757131000.html',\n 'https://www3.nhk.or.jp/news/html/20181223/k10011757811000.html',\n 'https://www3.nhk.or.jp/news/html/20181223/k10011757831000.html',\n 'https://www3.nhk.or.jp/news/html/20181224/k10011758131000.html',\n 'https://www3.nhk.or.jp/news/html/20181224/k10011758591000.html',\n 'https://www3.nhk.or.jp/news/html/20181225/k10011758651000.html',\n 'https://www3.nhk.or.jp/news/html/20181225/k10011758681000.html',\n 'https://www3.nhk.or.jp/news/html/20181225/k10011758691000.html',\n 'https://www3.nhk.or.jp/news/html/20181225/k10011758701000.html',\n 'https://www3.nhk.or.jp/news/html/20181225/k10011758711000.html',\n 'https://www3.nhk.or.jp/news/html/20181225/k10011758741000.html',\n 'https://www3.nhk.or.jp/news/html/20181226/k10011759421000.html',\n 'https://www3.nhk.or.jp/news/html/20181226/k10011759821000.html',\n 'https://www3.nhk.or.jp/news/html/20181226/k10011760481000.html',\n 'https://www3.nhk.or.jp/news/html/20181226/k10011760491000.html',\n 'https://www3.nhk.or.jp/news/html/20181226/k10011760541000.html',\n 'https://www3.nhk.or.jp/news/html/20181227/k10011760871000.html',\n 'https://www3.nhk.or.jp/news/html/20181227/k10011761001000.html',\n 'https://www3.nhk.or.jp/news/html/20181227/k10011761601000.html',\n 'https://www3.nhk.or.jp/news/html/20181228/k10011762021000.html',\n 'https://www3.nhk.or.jp/news/html/20190105/k10011768591000.html',\n 'https://www3.nhk.or.jp/news/html/20190106/k10011768901000.html',\n 'https://www3.nhk.or.jp/news/html/20190106/k10011769171000.html',\n 'https://www3.nhk.or.jp/news/html/20190107/k10011769191000.html',\n 'https://www3.nhk.or.jp/news/html/20190107/k10011769401000.html',\n 'https://www3.nhk.or.jp/news/html/20190107/k10011769971000.html',\n 'https://www3.nhk.or.jp/news/html/20190107/k10011770241000.html',\n 'https://www3.nhk.or.jp/news/html/20190107/k10011770331000.html',\n 'https://www3.nhk.or.jp/news/html/20190108/k10011770391000.html',\n 'https://www3.nhk.or.jp/news/html/20190108/k10011770571000.html',\n 'https://www3.nhk.or.jp/news/html/20190108/k10011771031000.html',\n 'https://www3.nhk.or.jp/news/html/20190108/k10011771121000.html',\n 'https://www3.nhk.or.jp/news/html/20190108/k10011771341000.html',\n 'https://www3.nhk.or.jp/news/html/20190109/k10011771631000.html',\n 'https://www3.nhk.or.jp/news/html/20190109/k10011771681000.html',\n 'https://www3.nhk.or.jp/news/html/20190109/k10011772061000.html',\n 'https://www3.nhk.or.jp/news/html/20190109/k10011772431000.html',\n 'https://www3.nhk.or.jp/news/html/20190109/k10011772691000.html',\n 'https://www3.nhk.or.jp/news/html/20190109/k10011772721000.html',\n 'https://www3.nhk.or.jp/news/html/20190110/k10011772881000.html',\n 'https://www3.nhk.or.jp/news/html/20190110/k10011773041000.html',\n 'https://www3.nhk.or.jp/news/html/20190110/k10011773531000.html',\n 'https://www3.nhk.or.jp/news/html/20190110/k10011773571000.html',\n 'https://www3.nhk.or.jp/news/html/20190111/k10011774101000.html',\n 'https://www3.nhk.or.jp/news/html/20190111/k10011774521000.html',\n 'https://www3.nhk.or.jp/news/html/20190112/k10011776201000.html',\n 'https://www3.nhk.or.jp/news/html/20190113/k10011776491000.html',\n 'https://www3.nhk.or.jp/news/html/20190114/k10011777451000.html',\n 'https://www3.nhk.or.jp/news/html/20190114/k10011777711000.html',\n 'https://www3.nhk.or.jp/news/html/20190115/k10011777821000.html',\n 'https://www3.nhk.or.jp/news/html/20190115/k10011778151000.html',\n 'https://www3.nhk.or.jp/news/html/20190115/k10011778481000.html',\n 'https://www3.nhk.or.jp/news/html/20190115/k10011778661000.html',\n 'https://www3.nhk.or.jp/news/html/20190116/k10011779081000.html',\n 'https://www3.nhk.or.jp/news/html/20190116/k10011779401000.html',\n 'https://www3.nhk.or.jp/news/html/20190116/k10011779461000.html',\n 'https://www3.nhk.or.jp/news/html/20190116/k10011779801000.html',\n 'https://www3.nhk.or.jp/news/html/20190116/k10011780181000.html',\n 'https://www3.nhk.or.jp/news/html/20190117/k10011780291000.html',\n 'https://www3.nhk.or.jp/news/html/20190117/k10011780321000.html',\n 'https://www3.nhk.or.jp/news/html/20190117/k10011780361000.html',\n 'https://www3.nhk.or.jp/news/html/20190117/k10011781211000.html',\n 'https://www3.nhk.or.jp/news/html/20190117/k10011781411000.html',\n 'https://www3.nhk.or.jp/news/html/20190117/k10011781601000.html',\n 'https://www3.nhk.or.jp/news/html/20190118/k10011781931000.html',\n 'https://www3.nhk.or.jp/news/html/20190118/k10011782051000.html',\n 'https://www3.nhk.or.jp/news/html/20190120/k10011784501000.html',\n 'https://www3.nhk.or.jp/news/html/20190120/k10011784611000.html',\n 'https://www3.nhk.or.jp/news/html/20190121/k10011784921000.html',\n 'https://www3.nhk.or.jp/news/html/20190121/k10011785041000.html',\n 'https://www3.nhk.or.jp/news/html/20190121/k10011785291000.html',\n 'https://www3.nhk.or.jp/news/html/20190121/k10011785331000.html',\n 'https://www3.nhk.or.jp/news/html/20190121/k10011785421000.html',\n 'https://www3.nhk.or.jp/news/html/20190121/k10011785621000.html',\n 'https://www3.nhk.or.jp/news/html/20190122/k10011786181000.html',\n 'https://www3.nhk.or.jp/news/html/20190122/k10011786711000.html',\n 'https://www3.nhk.or.jp/news/html/20190122/k10011786821000.html',\n 'https://www3.nhk.or.jp/news/html/20190122/k10011787091000.html',\n 'https://www3.nhk.or.jp/news/html/20190123/k10011787281000.html',\n 'https://www3.nhk.or.jp/news/html/20190123/k10011787471000.html',\n 'https://www3.nhk.or.jp/news/html/20190123/k10011788201000.html',\n 'https://www3.nhk.or.jp/news/html/20190123/k10011788211000.html',\n 'https://www3.nhk.or.jp/news/html/20190123/k10011788281000.html',\n 'https://www3.nhk.or.jp/news/html/20190123/k10011788361000.html',\n 'https://www3.nhk.or.jp/news/html/20190123/k10011788441000.html',\n 'https://www3.nhk.or.jp/news/html/20190124/k10011789131000.html',\n 'https://www3.nhk.or.jp/news/html/20190124/k10011789551000.html',\n 'https://www3.nhk.or.jp/news/html/20190125/k10011790411000.html',\n 'https://www3.nhk.or.jp/news/html/20190125/k10011790541000.html',\n 'https://www3.nhk.or.jp/news/html/20190125/k10011790621000.html',\n 'https://www3.nhk.or.jp/news/html/20190126/k10011792721000.html',\n 'https://www3.nhk.or.jp/news/html/20190127/k10011793071000.html',\n 'https://www3.nhk.or.jp/news/html/20190128/k10011793401000.html',\n 'https://www3.nhk.or.jp/news/html/20190127/k10011793481000.html',\n 'https://www3.nhk.or.jp/news/html/20190128/k10011793571000.html',\n 'https://www3.nhk.or.jp/news/html/20190128/k10011793721000.html',\n 'https://www3.nhk.or.jp/news/html/20190128/k10011793971000.html',\n 'https://www3.nhk.or.jp/news/html/20190128/k10011794031000.html',\n 'https://www3.nhk.or.jp/news/html/20190128/k10011794651000.html',\n 'https://www3.nhk.or.jp/news/html/20190129/k10011794951000.html',\n 'https://www3.nhk.or.jp/news/html/20190129/k10011795501000.html',\n 'https://www3.nhk.or.jp/news/html/20190129/k10011795521000.html',\n 'https://www3.nhk.or.jp/news/html/20190129/k10011795691000.html',\n 'https://www3.nhk.or.jp/news/html/20190129/k10011795701000.html',\n 'https://www3.nhk.or.jp/news/html/20190130/k10011795941000.html',\n 'https://www3.nhk.or.jp/news/html/20190130/k10011796391000.html',\n 'https://www3.nhk.or.jp/news/html/20190130/k10011796501000.html',\n 'https://www3.nhk.or.jp/news/html/20190130/k10011796801000.html',\n 'https://www3.nhk.or.jp/news/html/20190130/k10011796811000.html',\n 'https://www3.nhk.or.jp/news/html/20190131/k10011797471000.html',\n 'https://www3.nhk.or.jp/news/html/20190131/k10011797971000.html',\n 'https://www3.nhk.or.jp/news/html/20190201/k10011798651000.html',\n 'https://www3.nhk.or.jp/news/html/20190201/k10011798881000.html',\n 'https://www3.nhk.or.jp/news/html/20190201/k10011799031000.html',\n 'https://www3.nhk.or.jp/news/html/20190201/k10011799221000.html',\n 'https://www3.nhk.or.jp/news/html/20190202/k10011801381000.html',\n 'https://www3.nhk.or.jp/news/html/20190203/k10011801691000.html',\n 'https://www3.nhk.or.jp/news/html/20190203/k10011801821000.html',\n 'https://www3.nhk.or.jp/news/html/20190203/k10011801851000.html',\n 'https://www3.nhk.or.jp/news/html/20190203/k10011801911000.html',\n 'https://www3.nhk.or.jp/news/html/20190204/k10011802291000.html',\n 'https://www3.nhk.or.jp/news/html/20190204/k10011802651000.html',\n 'https://www3.nhk.or.jp/news/html/20190204/k10011802851000.html',\n 'https://www3.nhk.or.jp/news/html/20190204/k10011803361000.html',\n 'https://www3.nhk.or.jp/news/html/20190204/k10011803561000.html',\n 'https://www3.nhk.or.jp/news/html/20190205/k10011803571000.html',\n 'https://www3.nhk.or.jp/news/html/20190205/k10011804251000.html',\n 'https://www3.nhk.or.jp/news/html/20190205/k10011804331000.html',\n 'https://www3.nhk.or.jp/news/html/20190206/k10011805131000.html',\n 'https://www3.nhk.or.jp/news/html/20190206/k10011805201000.html',\n 'https://www3.nhk.or.jp/news/html/20190206/k10011805671000.html',\n 'https://www3.nhk.or.jp/news/html/20190206/k10011805821000.html',\n 'https://www3.nhk.or.jp/news/html/20190206/k10011806211000.html',\n 'https://www3.nhk.or.jp/news/html/20190206/k10011806261000.html',\n 'https://www3.nhk.or.jp/news/html/20190207/k10011806411000.html',\n 'https://www3.nhk.or.jp/news/html/20190207/k10011807081000.html',\n 'https://www3.nhk.or.jp/news/html/20190207/k10011807101000.html',\n 'https://www3.nhk.or.jp/news/html/20190207/k10011807511000.html',\n 'https://www3.nhk.or.jp/news/html/20190207/k10011807621000.html',\n 'https://www3.nhk.or.jp/news/html/20190208/k10011807731000.html',\n 'https://www3.nhk.or.jp/news/html/20190208/k10011808691000.html',\n 'https://www3.nhk.or.jp/news/html/20190210/k10011810281000.html',\n 'https://www3.nhk.or.jp/news/html/20190210/k10011810461000.html',\n 'https://www3.nhk.or.jp/news/html/20190211/k10011811341000.html',\n 'https://www3.nhk.or.jp/news/html/20190212/k10011811581000.html',\n 'https://www3.nhk.or.jp/news/html/20190212/k10011811831000.html',\n 'https://www3.nhk.or.jp/news/html/20190212/k10011812051000.html',\n 'https://www3.nhk.or.jp/news/html/20190212/k10011812061000.html',\n 'https://www3.nhk.or.jp/news/html/20190212/k10011812231000.html',\n 'https://www3.nhk.or.jp/news/html/20190212/k10011812661000.html',\n 'https://www3.nhk.or.jp/news/html/20190213/k10011813361000.html',\n 'https://www3.nhk.or.jp/news/html/20190213/k10011813601000.html',\n 'https://www3.nhk.or.jp/news/html/20190213/k10011813681000.html',\n 'https://www3.nhk.or.jp/news/html/20190213/k10011813841000.html',\n 'https://www3.nhk.or.jp/news/html/20190214/k10011814271000.html',\n 'https://www3.nhk.or.jp/news/html/20190214/k10011814431000.html',\n 'https://www3.nhk.or.jp/news/html/20190214/k10011814811000.html',\n 'https://www3.nhk.or.jp/news/html/20190214/k10011815311000.html',\n 'https://www3.nhk.or.jp/news/html/20190215/k10011815471000.html',\n 'https://www3.nhk.or.jp/news/html/20190215/k10011815811000.html',\n 'https://www3.nhk.or.jp/news/html/20190216/k10011817451000.html',\n 'https://www3.nhk.or.jp/news/html/20190217/k10011818021000.html',\n 'https://www3.nhk.or.jp/news/html/20190217/k10011818061000.html',\n 'https://www3.nhk.or.jp/news/html/20190217/k10011818141000.html',\n 'https://www3.nhk.or.jp/news/html/20190217/k10011818381000.html',\n 'https://www3.nhk.or.jp/news/html/20190218/k10011818761000.html',\n 'https://www3.nhk.or.jp/news/html/20190218/k10011818881000.html',\n 'https://www3.nhk.or.jp/news/html/20190218/k10011819311000.html',\n 'https://www3.nhk.or.jp/news/html/20190219/k10011819361000.html',\n 'https://www3.nhk.or.jp/news/html/20190219/k10011819491000.html',\n 'https://www3.nhk.or.jp/news/html/20190219/k10011819821000.html',\n 'https://www3.nhk.or.jp/news/html/20190219/k10011820311000.html',\n 'https://www3.nhk.or.jp/news/html/20190219/k10011820471000.html',\n 'https://www3.nhk.or.jp/news/html/20190219/k10011820491000.html',\n 'https://www3.nhk.or.jp/news/html/20190220/k10011820741000.html',\n 'https://www3.nhk.or.jp/news/html/20190220/k10011821111000.html',\n 'https://www3.nhk.or.jp/news/html/20190220/k10011821321000.html',\n 'https://www3.nhk.or.jp/news/html/20190220/k10011821331000.html',\n 'https://www3.nhk.or.jp/news/html/20190220/k10011822071000.html',\n 'https://www3.nhk.or.jp/news/html/20190221/k10011822231000.html',\n 'https://www3.nhk.or.jp/news/html/20190221/k10011822391000.html',\n 'https://www3.nhk.or.jp/news/html/20190221/k10011822931000.html',\n 'https://www3.nhk.or.jp/news/html/20190221/k10011823181000.html',\n 'https://www3.nhk.or.jp/news/html/20190222/k10011823971000.html',\n 'https://www3.nhk.or.jp/news/html/20190224/k10011826221000.html',\n 'https://www3.nhk.or.jp/news/html/20190224/k10011826351000.html',\n 'https://www3.nhk.or.jp/news/html/20190224/k10011826461000.html',\n 'https://www3.nhk.or.jp/news/html/20190225/k10011826821000.html',\n 'https://www3.nhk.or.jp/news/html/20190225/k10011827351000.html',\n 'https://www3.nhk.or.jp/news/html/20190226/k10011827941000.html',\n 'https://www3.nhk.or.jp/news/html/20190226/k10011828001000.html',\n 'https://www3.nhk.or.jp/news/html/20190226/k10011828051000.html',\n 'https://www3.nhk.or.jp/news/html/20190226/k10011828141000.html',\n 'https://www3.nhk.or.jp/news/html/20190226/k10011828651000.html',\n 'https://www3.nhk.or.jp/news/html/20190226/k10011828831000.html',\n 'https://www3.nhk.or.jp/news/html/20190226/k10011828871000.html',\n 'https://www3.nhk.or.jp/news/html/20190226/k10011829131000.html',\n 'https://www3.nhk.or.jp/news/html/20190227/k10011830081000.html',\n 'https://www3.nhk.or.jp/news/html/20190227/k10011830131000.html',\n 'https://www3.nhk.or.jp/news/html/20190228/k10011830781000.html',\n 'https://www3.nhk.or.jp/news/html/20190228/k10011831071000.html',\n 'https://www3.nhk.or.jp/news/html/20190228/k10011831261000.html',\n 'https://www3.nhk.or.jp/news/html/20190228/k10011831811000.html',\n 'https://www3.nhk.or.jp/news/html/20190301/k10011832331000.html',\n 'https://www3.nhk.or.jp/news/html/20190304/k10011834871000.html',\n 'https://www3.nhk.or.jp/news/html/20190304/k10011834881000.html',\n 'https://www3.nhk.or.jp/news/html/20190304/k10011834981000.html',\n 'https://www3.nhk.or.jp/news/html/20190304/k10011835001000.html',\n 'https://www3.nhk.or.jp/news/html/20190304/k10011835361000.html',\n 'https://www3.nhk.or.jp/news/html/20190304/k10011835481000.html',\n 'https://www3.nhk.or.jp/news/html/20190304/k10011835521000.html',\n 'https://www3.nhk.or.jp/news/html/20190305/k10011835811000.html',\n 'https://www3.nhk.or.jp/news/html/20190305/k10011836411000.html',\n 'https://www3.nhk.or.jp/news/html/20190305/k10011836431000.html',\n 'https://www3.nhk.or.jp/news/html/20190305/k10011836701000.html',\n 'https://www3.nhk.or.jp/news/html/20190306/k10011837231000.html',\n 'https://www3.nhk.or.jp/news/html/20190306/k10011837941000.html',\n 'https://www3.nhk.or.jp/news/html/20190306/k10011837991000.html',\n 'https://www3.nhk.or.jp/news/html/20190307/k10011838281000.html',\n 'https://www3.nhk.or.jp/news/html/20190307/k10011838501000.html',\n 'https://www3.nhk.or.jp/news/html/20190307/k10011838581000.html',\n 'https://www3.nhk.or.jp/news/html/20190307/k10011839031000.html',\n 'https://www3.nhk.or.jp/news/html/20190308/k10011839721000.html',\n 'https://www3.nhk.or.jp/news/html/20190308/k10011839761000.html',\n 'https://www3.nhk.or.jp/news/html/20190309/k10011841641000.html',\n 'https://www3.nhk.or.jp/news/html/20190309/k10011841671000.html',\n 'https://www3.nhk.or.jp/news/html/20190311/k10011842891000.html',\n 'https://www3.nhk.or.jp/news/html/20190311/k10011842921000.html',\n 'https://www3.nhk.or.jp/news/html/20190311/k10011843011000.html',\n 'https://www3.nhk.or.jp/news/html/20190311/k10011844261000.html',\n 'https://www3.nhk.or.jp/news/html/20190312/k10011844671000.html',\n 'https://www3.nhk.or.jp/news/html/20190312/k10011845061000.html',\n 'https://www3.nhk.or.jp/news/html/20190312/k10011845501000.html',\n 'https://www3.nhk.or.jp/news/html/20190312/k10011845521000.html',\n 'https://www3.nhk.or.jp/news/html/20190312/k10011845551000.html',\n 'https://www3.nhk.or.jp/news/html/20190312/k10011845571000.html',\n 'https://www3.nhk.or.jp/news/html/20190313/k10011845951000.html',\n 'https://www3.nhk.or.jp/news/html/20191010/k10012120321000.html',\n 'https://www3.nhk.or.jp/news/html/20191017/k10012135411000.html']"
     },
     "execution_count": 53,
     "metadata": {},
     "output_type": "execute_result"
    }
   ],
   "source": [
    "htmls = get_link(0); htmls"
   ]
  },
  {
   "cell_type": "markdown",
   "execution_count": null,
   "metadata": {},
   "outputs": [],
   "source": [
    "# scrape"
   ]
  },
  {
   "cell_type": "code",
   "execution_count": 50,
   "metadata": {},
   "outputs": [],
   "source": [
    "driver = webdriver.Chrome()"
   ]
  },
  {
   "cell_type": "code",
   "execution_count": 48,
   "metadata": {},
   "outputs": [
    {
     "name": "stderr",
     "output_type": "stream",
     "text": "\n\n\n\n  0%|          | 0/265 [00:00<?, ?it/s]\u001b[A\u001b[A\u001b[A\u001b[A\n\n\n\n  0%|          | 1/265 [00:52<3:50:01, 52.28s/it]\u001b[A\u001b[A\u001b[A\u001b[A\n\n\n\n  1%|          | 2/265 [02:10<4:22:45, 59.95s/it]\u001b[A\u001b[A\u001b[A\u001b[A\n\n\n\n  1%|          | 3/265 [03:25<4:42:29, 64.69s/it]\u001b[A\u001b[A\u001b[A\u001b[A\n\n\n\n  2%|▏         | 4/265 [04:41<4:55:32, 67.94s/it]\u001b[A\u001b[A\u001b[A\u001b[A\n\n\n\n  2%|▏         | 5/265 [05:59<5:07:31, 70.97s/it]\u001b[A\u001b[A\u001b[A\u001b[A"
    },
    {
     "ename": "KeyboardInterrupt",
     "evalue": "",
     "output_type": "error",
     "traceback": [
      "\u001b[0;31m---------------------------------------------------------------------------\u001b[0m",
      "\u001b[0;31mKeyboardInterrupt\u001b[0m                         Traceback (most recent call last)",
      "\u001b[0;32m<ipython-input-48-a785be4d2190>\u001b[0m in \u001b[0;36m<module>\u001b[0;34m\u001b[0m\n\u001b[1;32m      8\u001b[0m         \u001b[0;32mcontinue\u001b[0m\u001b[0;34m\u001b[0m\u001b[0;34m\u001b[0m\u001b[0m\n\u001b[1;32m      9\u001b[0m     \u001b[0mdriver\u001b[0m\u001b[0;34m.\u001b[0m\u001b[0mget\u001b[0m\u001b[0;34m(\u001b[0m\u001b[0;34m'https://web.archive.org'\u001b[0m \u001b[0;34m+\u001b[0m \u001b[0msnap\u001b[0m\u001b[0;34m.\u001b[0m\u001b[0mgroup\u001b[0m\u001b[0;34m(\u001b[0m\u001b[0;36m2\u001b[0m\u001b[0;34m)\u001b[0m\u001b[0;34m)\u001b[0m\u001b[0;34m\u001b[0m\u001b[0;34m\u001b[0m\u001b[0m\n\u001b[0;32m---> 10\u001b[0;31m     \u001b[0mtime\u001b[0m\u001b[0;34m.\u001b[0m\u001b[0msleep\u001b[0m\u001b[0;34m(\u001b[0m\u001b[0;36m30\u001b[0m\u001b[0;34m)\u001b[0m\u001b[0;34m\u001b[0m\u001b[0;34m\u001b[0m\u001b[0m\n\u001b[0m\u001b[1;32m     11\u001b[0m     \u001b[0mhtml\u001b[0m \u001b[0;34m=\u001b[0m \u001b[0mdriver\u001b[0m\u001b[0;34m.\u001b[0m\u001b[0mpage_source\u001b[0m\u001b[0;34m.\u001b[0m\u001b[0mencode\u001b[0m\u001b[0;34m(\u001b[0m\u001b[0;34m'utf-8'\u001b[0m\u001b[0;34m)\u001b[0m\u001b[0;34m\u001b[0m\u001b[0;34m\u001b[0m\u001b[0m\n\u001b[1;32m     12\u001b[0m \u001b[0;34m\u001b[0m\u001b[0m\n",
      "\u001b[0;31mKeyboardInterrupt\u001b[0m: "
     ]
    }
   ],
   "source": [
    "for nhkurl in tqdm.tqdm(htmls[:-2]):\n",
    "    driver.get(f'https://web.archive.org/web/2019*/{nhkurl}')\n",
    "    time.sleep(10)\n",
    "    html = str(driver.page_source.encode('utf-8'))\n",
    "    snap = re.search(r'(between|1 time).*?<a href=\"(.+?)\">', html)\n",
    "    if not snap:\n",
    "        print(nhkurl)\n",
    "        continue\n",
    "    driver.get('https://web.archive.org' + snap.group(2))\n",
    "    time.sleep(30)\n",
    "    html = driver.page_source.encode('utf-8')\n",
    "\n",
    "    dic = scrape(html)\n",
    "\n",
    "    js(dic)"
   ]
  },
  {
   "cell_type": "code",
   "execution_count": 47,
   "metadata": {},
   "outputs": [
    {
     "data": {
      "text/plain": "{'id': 'k10011742251000',\n 'title': '外国人の銀行口座を数日で開設へ セブン銀行が新サービス',\n 'article': '日本で暮らす外国人が増えることが見込まれるとして、コンビニＡＴＭを展開するセブン銀行は、ベンチャー企業との連携でこれまでより速く銀行口座を作れるサービスを始めることになりました。\\nこのサービスは、セブン銀行が、ネット上でアジアなどの外国人向けにビザの申請サービスを手がけるベンチャー企業「ｏｎｅｖｉｓａ」と連携して来年春にも始めます。外国人が日本で銀行口座を作る場合、在留資格や収入などを確認するため、来日してから半年ほどかかることもあるということです。このため両社は、来日前、ビザを申請する際の情報を共有してあらかじめ信用性などを判断し、来日後、数日程度で口座を持てるようにすることを目指すとしています。外国人材の受け入れを拡大する改正出入国管理法の成立で、今後、国内で暮らす外国人が増えることが見込まれるとして、銀行は、母国への送金などで手数料収入の増加につなげたいねらいです。10日記者会見したセブン銀行の松橋正明専務執行役員は「来日してすぐに最低限の金融サービスを受けられる環境を整えたい」と話していました。',\n 'genre': ['ビジネス'],\n 'keywords': [],\n 'url': 'https://www3.nhk.or.jp/news/html/20181210/k10011742251000.html',\n 'datePublished': '2018-12-10T21:13',\n 'dateModified': ''}"
     },
     "execution_count": 47,
     "metadata": {},
     "output_type": "execute_result"
    }
   ],
   "source": [
    "html = driver.page_source.encode('utf-8')\n",
    "dic = scrape(html)\n",
    "dic"
   ]
  },
  {
   "cell_type": "code",
   "execution_count": 54,
   "metadata": {},
   "outputs": [
    {
     "data": {
      "text/plain": "'2018-12-12T23:02'"
     },
     "execution_count": 54,
     "metadata": {},
     "output_type": "execute_result"
    }
   ],
   "source": [
    "html = str(driver.page_source.encode('utf-8'))\n",
    "re.search(r'datetime:.*?(\\d{4}-\\d{2}-\\d{2}T\\d{2}:\\d{2})', html).group(1)"
   ]
  },
  {
   "cell_type": "code",
   "execution_count": 15,
   "metadata": {},
   "outputs": [],
   "source": [
    "with open('/Users/Nozomi/Desktop/a.html','w', encoding='utf-8') as f:\n",
    "    f.write(str(html))"
   ]
  },
  {
   "cell_type": "code",
   "execution_count": null,
   "metadata": {},
   "outputs": [],
   "source": []
  }
 ]
}