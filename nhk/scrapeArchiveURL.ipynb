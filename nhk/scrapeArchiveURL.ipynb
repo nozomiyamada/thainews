{
 "cells": [
  {
   "cell_type": "code",
   "execution_count": 1,
   "metadata": {},
   "outputs": [],
   "source": [
    "import numpy as np\n",
    "import pandas as pd\n",
    "import re, json, csv, requests, time, glob, tqdm, sys, datetime\n",
    "from bs4 import BeautifulSoup\n",
    "from selenium import webdriver"
   ]
  },
  {
   "cell_type": "code",
   "execution_count": 2,
   "metadata": {},
   "outputs": [
    {
     "data": {
      "text/plain": [
       "'20120101'"
      ]
     },
     "execution_count": 2,
     "metadata": {},
     "output_type": "execute_result"
    }
   ],
   "source": [
    "str(datetime.datetime(2012,1,1)).split()[0].replace('-', '')"
   ]
  },
  {
   "cell_type": "code",
   "execution_count": 3,
   "metadata": {},
   "outputs": [],
   "source": [
    "def scrape_urls(url):\n",
    "    driver.get(url)\n",
    "    time.sleep(10)\n",
    "    html = driver.page_source.encode('utf-8')\n",
    "    soup = BeautifulSoup(html, 'html.parser')\n",
    "    try:\n",
    "        link_num = int(soup.find('h2', id='query-summary').text.split()[0].replace(',', '')) # xxx URLs have been captured...\n",
    "    except:\n",
    "        print('No Result')\n",
    "        return\n",
    "    links = [x.a.get('href') for x in soup.tbody.find_all('td', class_=\"url sorting_1\")] # make a list of URL\n",
    "    for i in range ((link_num-1) // 50):\n",
    "        driver.find_element_by_id('resultsUrl_next').click()\n",
    "        time.sleep(2)\n",
    "        html = driver.page_source.encode('utf-8')\n",
    "        soup = BeautifulSoup(html, 'html.parser')\n",
    "        links += [x.a.get('href') for x in soup.tbody.find_all('td', class_=\"url sorting_1\")] # append URL in next page to list\n",
    "    return links"
   ]
  },
  {
   "cell_type": "code",
   "execution_count": 44,
   "metadata": {},
   "outputs": [],
   "source": [
    "links = scrape_urls('https://web.archive.org/web/*/https://www3.nhk.or.jp/nhkworld/th/news/*')"
   ]
  },
  {
   "cell_type": "code",
   "execution_count": 45,
   "metadata": {},
   "outputs": [],
   "source": [
    "with open('nhkthailink.json', 'w') as f:\n",
    "    json.dump(links, f, indent=4)"
   ]
  },
  {
   "cell_type": "markdown",
   "metadata": {},
   "source": [
    "# scrape normal URL"
   ]
  },
  {
   "cell_type": "code",
   "execution_count": 7,
   "metadata": {},
   "outputs": [],
   "source": [
    "driver = webdriver.Chrome()"
   ]
  },
  {
   "cell_type": "code",
   "execution_count": 5,
   "metadata": {},
   "outputs": [],
   "source": [
    "year = 2014\n",
    "\n",
    "for m in range(1,13):\n",
    "    with open(f'linknormal{year}.txt', 'a') as f:\n",
    "        for d in range(1, 32):\n",
    "            m, d = str(m), str(d)\n",
    "            if len(m) == 1:\n",
    "                m = '0' + m\n",
    "            if len(d) == 1:\n",
    "                d = '0' + d\n",
    "            driver.get(f'https://web.archive.org/web/*/http://www3.nhk.or.jp/news/html/{year}{m}{d}/*')\n",
    "            time.sleep(10)\n",
    "            \n",
    "            html = driver.page_source.encode('utf-8')\n",
    "            soup = BeautifulSoup(html, 'html.parser')\n",
    "            try:\n",
    "                try:\n",
    "                    link_num = int(soup.find('h2', id='query-summary').text.replace(',','').split()[0]) # x,xxx URLs have been captured...\n",
    "                except:\n",
    "                    time.sleep(5)\n",
    "                    link_num = int(soup.find('h2', id='query-summary').text.replace(',','').split()[0]) # x,xxx URLs have been captured...\n",
    "            except:\n",
    "                continue\n",
    "            \n",
    "            links = [x.a.get('href') for x in soup.tbody.find_all('td', class_=\"url\")] # make a list of URL\n",
    "            links = [link for link in links if '1000.html' in link] # only html\n",
    "            \n",
    "            for i in range ((link_num-1) // 50):\n",
    "                driver.find_element_by_id('resultsUrl_next').click()\n",
    "                time.sleep(2)\n",
    "                \n",
    "                html = driver.page_source.encode('utf-8')\n",
    "                soup = BeautifulSoup(html, 'html.parser')\n",
    "                \n",
    "                links += [x.a.get('href') for x in soup.tbody.find_all('td', class_=\"url\")] # append URL in next page to list\n",
    "                links = [link for link in links if '1000.html' in link]\n",
    "            \n",
    "            if links != []:\n",
    "                f.write('\\n'.join(links)+'\\n') # append to file"
   ]
  },
  {
   "cell_type": "code",
   "execution_count": 11,
   "metadata": {},
   "outputs": [
    {
     "data": {
      "text/plain": [
       "set()"
      ]
     },
     "execution_count": 11,
     "metadata": {},
     "output_type": "execute_result"
    }
   ],
   "source": [
    "# find missing day\n",
    "year = 2014\n",
    "\n",
    "with open(f'linknormal{year}.txt', 'r') as f:\n",
    "    data = f.read()\n",
    "\n",
    "alldates = set()\n",
    "first = datetime.datetime(year, 1, 1)\n",
    "for i in range(1,365):\n",
    "    d = f\"/{str(first + datetime.timedelta(i)).split()[0].replace('-', '')}/\"\n",
    "    alldates.add(d)\n",
    "exists = set(re.findall(f'/{year}'+r'\\d\\d\\d\\d/', data))\n",
    "notyet = alldates - exists\n",
    "notyet"
   ]
  },
  {
   "cell_type": "code",
   "execution_count": 10,
   "metadata": {},
   "outputs": [],
   "source": [
    "for d in sorted(notyet):\n",
    "    driver.get(f'https://web.archive.org/web/*/http://www3.nhk.or.jp/news/html{d}*')\n",
    "    time.sleep(10)\n",
    "\n",
    "    html = driver.page_source.encode('utf-8')\n",
    "    soup = BeautifulSoup(html, 'html.parser')\n",
    "    try:\n",
    "        try:\n",
    "            link_num = int(soup.find('h2', id='query-summary').text.replace(',','').split()[0]) # xxx URLs have been captured...\n",
    "        except:\n",
    "            time.sleep(5)\n",
    "            link_num = int(soup.find('h2', id='query-summary').text.replace(',','').split()[0]) # xxx URLs have been captured...\n",
    "    except:\n",
    "        continue\n",
    "\n",
    "    links = [x.a.get('href') for x in soup.tbody.find_all('td', class_=\"url\")] # make a list of URL\n",
    "    links = [link for link in links if '1000.html' in link] # only html\n",
    "\n",
    "    for i in range ((link_num-1) // 50):\n",
    "        driver.find_element_by_id('resultsUrl_next').click()\n",
    "        time.sleep(2)\n",
    "\n",
    "        html = driver.page_source.encode('utf-8')\n",
    "        soup = BeautifulSoup(html, 'html.parser')\n",
    "\n",
    "        links += [x.a.get('href') for x in soup.tbody.find_all('td', class_=\"url\")] # append URL in next page to list\n",
    "        links = [link for link in links if '1000.html' in link]\n",
    "\n",
    "    if links != []:\n",
    "        with open(f'linknormal{year}.txt', 'a') as f:\n",
    "            f.write('\\n'.join(links)+'\\n') # append to file"
   ]
  },
  {
   "cell_type": "code",
   "execution_count": 12,
   "metadata": {},
   "outputs": [],
   "source": []
  },
  {
   "cell_type": "markdown",
   "metadata": {},
   "source": [
    "# scrape easy URL"
   ]
  },
  {
   "cell_type": "code",
   "execution_count": 8,
   "metadata": {},
   "outputs": [
    {
     "name": "stdout",
     "output_type": "stream",
     "text": [
      "1 5757\n"
     ]
    },
    {
     "data": {
      "text/plain": [
       "1"
      ]
     },
     "execution_count": 8,
     "metadata": {},
     "output_type": "execute_result"
    }
   ],
   "source": [
    "with open('linkeasy.txt') as f:\n",
    "    urls = f.read().strip().split('\\n')\n",
    "    ids = set([x.split('.html')[0].split('/')[-1] for x in urls])\n",
    "\n",
    "id_exist = set(pd.read_json('nhkwebeasy.json')['id'].tolist())\n",
    "print(len(ids), len(id_exist))\n",
    "len(ids - id_exist)"
   ]
  },
  {
   "cell_type": "code",
   "execution_count": null,
   "metadata": {},
   "outputs": [],
   "source": []
  },
  {
   "cell_type": "code",
   "execution_count": 4,
   "metadata": {},
   "outputs": [],
   "source": [
    "driver = webdriver.Firefox()"
   ]
  },
  {
   "cell_type": "code",
   "execution_count": 7,
   "metadata": {},
   "outputs": [],
   "source": [
    "with open('linkeasy.txt', 'a') as f:\n",
    "    for i in range(110, 120):\n",
    "        driver.get(f'https://web.archive.org/web/*/http://www3.nhk.or.jp/news/easy/k100{i}/*')\n",
    "        time.sleep(10)\n",
    "        html = driver.page_source.encode('utf-8')\n",
    "        soup = BeautifulSoup(html, 'html.parser')\n",
    "        try:\n",
    "            link_num = int(soup.find('h2', id='query-summary').text.split()[0])\n",
    "        except:\n",
    "            continue\n",
    "        links = [x.a.get('href') for x in soup.tbody.find_all('td', class_=\"url sorting_1\")]\n",
    "        links = [link for link in links if link.endswith('html') or 'html?utm' in link]  \n",
    "        for i in range ((link_num-1) // 50):\n",
    "            driver.find_element_by_id('resultsUrl_next').click()\n",
    "            time.sleep(2)\n",
    "            links += [x.a.get('href') for x in soup.tbody.find_all('td', class_=\"url sorting_1\")]\n",
    "            links = [link for link in links if link.endswith('html') or 'html?utm' in link]\n",
    "        if links != []:\n",
    "            f.write('\\n'.join(links)+'\\n')\n",
    "            \n",
    "with open('linkeasy.txt', 'r') as f:\n",
    "    id_exist = set(pd.read_json('nhkwebeasy.json')['id'].tolist())\n",
    "    links = f.read().strip().split('\\n')\n",
    "    links = [link for link in links if link.split('.html')[0].split('/')[-1] not in id_exist]\n",
    "    links = sorted(set(links))\n",
    "with open('linkeasy.txt', 'w') as f:\n",
    "    f.write('\\n'.join(links) + '\\n')"
   ]
  },
  {
   "cell_type": "code",
   "execution_count": null,
   "metadata": {},
   "outputs": [],
   "source": []
  },
  {
   "cell_type": "code",
   "execution_count": 93,
   "metadata": {},
   "outputs": [
    {
     "data": {
      "text/plain": [
       "17863.30769230769"
      ]
     },
     "execution_count": 93,
     "metadata": {},
     "output_type": "execute_result"
    }
   ],
   "source": []
  },
  {
   "cell_type": "code",
   "execution_count": null,
   "metadata": {},
   "outputs": [],
   "source": []
  },
  {
   "cell_type": "code",
   "execution_count": null,
   "metadata": {},
   "outputs": [],
   "source": []
  },
  {
   "cell_type": "code",
   "execution_count": null,
   "metadata": {},
   "outputs": [],
   "source": []
  },
  {
   "cell_type": "code",
   "execution_count": null,
   "metadata": {},
   "outputs": [],
   "source": []
  }
 ],
 "metadata": {
  "file_extension": ".py",
  "kernelspec": {
   "display_name": "Python 3.7.5 64-bit",
   "language": "python",
   "name": "python37564bit72de44cd76184052b9457c2863c13ac2"
  },
  "language_info": {
   "codemirror_mode": {
    "name": "ipython",
    "version": 3
   },
   "file_extension": ".py",
   "mimetype": "text/x-python",
   "name": "python",
   "nbconvert_exporter": "python",
   "pygments_lexer": "ipython3",
   "version": "3.7.5"
  },
  "mimetype": "text/x-python",
  "name": "python",
  "npconvert_exporter": "python",
  "pygments_lexer": "ipython3",
  "version": 3
 },
 "nbformat": 4,
 "nbformat_minor": 2
}
