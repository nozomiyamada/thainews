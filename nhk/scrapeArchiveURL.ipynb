{
 "nbformat": 4,
 "nbformat_minor": 2,
 "metadata": {
  "language_info": {
   "name": "python",
   "codemirror_mode": {
    "name": "ipython",
    "version": 3
   },
   "version": "3.7.5-final"
  },
  "orig_nbformat": 2,
  "file_extension": ".py",
  "mimetype": "text/x-python",
  "name": "python",
  "npconvert_exporter": "python",
  "pygments_lexer": "ipython3",
  "version": 3,
  "kernelspec": {
   "name": "python37564bit72de44cd76184052b9457c2863c13ac2",
   "display_name": "Python 3.7.5 64-bit"
  }
 },
 "cells": [
  {
   "cell_type": "code",
   "execution_count": 1,
   "metadata": {},
   "outputs": [],
   "source": [
    "import numpy as np\n",
    "import pandas as pd\n",
    "import re, json, csv, requests, time, glob, tqdm, sys\n",
    "from bs4 import BeautifulSoup\n",
    "from selenium import webdriver"
   ]
  },
  {
   "cell_type": "markdown",
   "execution_count": null,
   "metadata": {},
   "outputs": [],
   "source": [
    "# scrape normal URL"
   ]
  },
  {
   "cell_type": "code",
   "execution_count": 2,
   "metadata": {},
   "outputs": [],
   "source": [
    "driver = webdriver.Firefox()"
   ]
  },
  {
   "cell_type": "code",
   "execution_count": 3,
   "metadata": {},
   "outputs": [],
   "source": [
    "for m in range(1,13):\n",
    "    with open('linknormal.txt', 'a') as f:\n",
    "        for d in range(1, 32):\n",
    "            m, d = str(m), str(d)\n",
    "            if len(m) == 1:\n",
    "                m = '0' + m\n",
    "            if len(d) == 1:\n",
    "                d = '0' + d\n",
    "            driver.get(f'https://web.archive.org/web/*/http://www3.nhk.or.jp/news/html/2019{m}{d}/k100/*')\n",
    "            time.sleep(10)\n",
    "            html = driver.page_source.encode('utf-8')\n",
    "            soup = BeautifulSoup(html, 'html.parser')\n",
    "            try:\n",
    "                link_num = int(soup.find('h2', id='query-summary').text.split()[0]) # xxx URLs have been captured...\n",
    "            except:\n",
    "                continue\n",
    "            links = [x.a.get('href') for x in soup.tbody.find_all('td', class_=\"url sorting_1\")] # make a list of URL\n",
    "            links = [link for link in links if link.endswith('html') or 'html?utm' in link] # only html\n",
    "            for i in range ((link_num-1) // 50):\n",
    "                driver.find_element_by_id('resultsUrl_next').click()\n",
    "                time.sleep(2)\n",
    "                links += [x.a.get('href') for x in soup.tbody.find_all('td', class_=\"url sorting_1\")] # append URL in next page to list\n",
    "                links = [link for link in links if link.endswith('html') or 'html?utm' in link]\n",
    "            if links != []:\n",
    "                f.write('\\n'.join(links)+'\\n') # append to file\n",
    "\n",
    "# sort         \n",
    "with open('linknormal.txt', 'r') as f:\n",
    "    id_exist = set(pd.read_json('nhkweb.json')['id'].tolist())\n",
    "    links = f.read().strip().split('\\n')\n",
    "    links = [link for link in links if link.split('.html')[0].split('/')[-1] not in id_exist]\n",
    "    links = sorted(set(links))\n",
    "with open('linknormal.txt', 'w') as f:\n",
    "    f.write('\\n'.join(links) + '\\n')"
   ]
  },
  {
   "cell_type": "code",
   "execution_count": 12,
   "metadata": {},
   "outputs": [],
   "source": [
    "# only one day\n",
    "with open('linknormal.txt', 'a') as f:\n",
    "    driver.get(f'https://web.archive.org/web/*/http://www3.nhk.or.jp/news/html/20130127/k100/*')\n",
    "    time.sleep(10)\n",
    "    html = driver.page_source.encode('utf-8')\n",
    "    soup = BeautifulSoup(html, 'html.parser')\n",
    "    try:\n",
    "        link_num = int(soup.find('h2', id='query-summary').text.split()[0])\n",
    "    except:\n",
    "        sys.exit()\n",
    "    links = [x.a.get('href') for x in soup.tbody.find_all('td', class_=\"url sorting_1\")]\n",
    "    links = [link for link in links if link.endswith('html') or 'html?utm' in link]  \n",
    "    for i in range ((link_num-1) // 50):\n",
    "        driver.find_element_by_id('resultsUrl_next').click()\n",
    "        time.sleep(2)\n",
    "        links += [x.a.get('href') for x in soup.tbody.find_all('td', class_=\"url sorting_1\")]\n",
    "        links = [link for link in links if link.endswith('html') or 'html?utm' in link]\n",
    "    if links != []:\n",
    "        f.write('\\n'.join(links)+'\\n')\n",
    "                \n",
    "with open('linknormal.txt', 'r') as f:\n",
    "    id_exist = set(pd.read_json('nhkweb.json')['id'].tolist())\n",
    "    links = f.read().strip().split('\\n')\n",
    "    links = [link for link in links if link.split('.html')[0].split('/')[-1] not in id_exist]\n",
    "    links = sorted(set(links))\n",
    "with open('linknormal.txt', 'w') as f:\n",
    "    f.write('\\n'.join(links) + '\\n')"
   ]
  },
  {
   "cell_type": "markdown",
   "execution_count": null,
   "metadata": {},
   "outputs": [],
   "source": [
    "# scrape easy URL"
   ]
  },
  {
   "cell_type": "code",
   "execution_count": 8,
   "metadata": {},
   "outputs": [
    {
     "name": "stdout",
     "output_type": "stream",
     "text": "1 5757\n"
    },
    {
     "data": {
      "text/plain": "1"
     },
     "execution_count": 8,
     "metadata": {},
     "output_type": "execute_result"
    }
   ],
   "source": [
    "with open('linkeasy.txt') as f:\n",
    "    urls = f.read().strip().split('\\n')\n",
    "    ids = set([x.split('.html')[0].split('/')[-1] for x in urls])\n",
    "\n",
    "id_exist = set(pd.read_json('nhkwebeasy.json')['id'].tolist())\n",
    "print(len(ids), len(id_exist))\n",
    "len(ids - id_exist)"
   ]
  },
  {
   "cell_type": "code",
   "execution_count": null,
   "metadata": {},
   "outputs": [],
   "source": []
  },
  {
   "cell_type": "code",
   "execution_count": 4,
   "metadata": {},
   "outputs": [],
   "source": [
    "driver = webdriver.Firefox()"
   ]
  },
  {
   "cell_type": "code",
   "execution_count": 7,
   "metadata": {},
   "outputs": [],
   "source": [
    "with open('linkeasy.txt', 'a') as f:\n",
    "    for i in range(110, 120):\n",
    "        driver.get(f'https://web.archive.org/web/*/http://www3.nhk.or.jp/news/easy/k100{i}/*')\n",
    "        time.sleep(10)\n",
    "        html = driver.page_source.encode('utf-8')\n",
    "        soup = BeautifulSoup(html, 'html.parser')\n",
    "        try:\n",
    "            link_num = int(soup.find('h2', id='query-summary').text.split()[0])\n",
    "        except:\n",
    "            continue\n",
    "        links = [x.a.get('href') for x in soup.tbody.find_all('td', class_=\"url sorting_1\")]\n",
    "        links = [link for link in links if link.endswith('html') or 'html?utm' in link]  \n",
    "        for i in range ((link_num-1) // 50):\n",
    "            driver.find_element_by_id('resultsUrl_next').click()\n",
    "            time.sleep(2)\n",
    "            links += [x.a.get('href') for x in soup.tbody.find_all('td', class_=\"url sorting_1\")]\n",
    "            links = [link for link in links if link.endswith('html') or 'html?utm' in link]\n",
    "        if links != []:\n",
    "            f.write('\\n'.join(links)+'\\n')\n",
    "            \n",
    "with open('linkeasy.txt', 'r') as f:\n",
    "    id_exist = set(pd.read_json('nhkwebeasy.json')['id'].tolist())\n",
    "    links = f.read().strip().split('\\n')\n",
    "    links = [link for link in links if link.split('.html')[0].split('/')[-1] not in id_exist]\n",
    "    links = sorted(set(links))\n",
    "with open('linkeasy.txt', 'w') as f:\n",
    "    f.write('\\n'.join(links) + '\\n')"
   ]
  },
  {
   "cell_type": "code",
   "execution_count": null,
   "metadata": {},
   "outputs": [],
   "source": []
  }
 ]
}