{
 "cells": [
  {
   "cell_type": "code",
   "execution_count": 58,
   "metadata": {},
   "outputs": [],
   "source": [
    "import re, json, glob\n",
    "import pandas as pd\n",
    "import mysql.connector"
   ]
  },
  {
   "cell_type": "markdown",
   "metadata": {},
   "source": [
    "# load easy & normal -> join"
   ]
  },
  {
   "cell_type": "code",
   "execution_count": 109,
   "metadata": {},
   "outputs": [],
   "source": [
    "# easy\n",
    "easy = pd.read_json('nhkwebeasy.json')\n",
    "\n",
    "# nhkweb20XX.json\n",
    "jsons = sorted(glob.glob('nhkweb20*.json'))\n",
    "norm = pd.read_json(jsons[0])\n",
    "for j in jsons[1:]:\n",
    "    norm = pd.concat([norm, pd.read_json(j)])\n",
    "    \n",
    "# joined table\n",
    "df = pd.merge(easy,norm, how='inner', on=\"id\")"
   ]
  },
  {
   "cell_type": "code",
   "execution_count": 64,
   "metadata": {},
   "outputs": [],
   "source": [
    "# join list into string\n",
    "df = df.sort_values('datePublished')\n",
    "df['genre'] = df.genre.apply(lambda x:'_'.join(x))\n",
    "df['keywords'] = df.keywords.apply(lambda x:'_'.join(x))"
   ]
  },
  {
   "cell_type": "code",
   "execution_count": 66,
   "metadata": {},
   "outputs": [
    {
     "data": {
      "text/html": [
       "<div>\n",
       "<style scoped>\n",
       "    .dataframe tbody tr th:only-of-type {\n",
       "        vertical-align: middle;\n",
       "    }\n",
       "\n",
       "    .dataframe tbody tr th {\n",
       "        vertical-align: top;\n",
       "    }\n",
       "\n",
       "    .dataframe thead th {\n",
       "        text-align: right;\n",
       "    }\n",
       "</style>\n",
       "<table border=\"1\" class=\"dataframe\">\n",
       "  <thead>\n",
       "    <tr style=\"text-align: right;\">\n",
       "      <th></th>\n",
       "      <th>id</th>\n",
       "      <th>title_easy_ruby</th>\n",
       "      <th>article_easy_ruby</th>\n",
       "      <th>title</th>\n",
       "      <th>article</th>\n",
       "      <th>genre</th>\n",
       "      <th>keywords</th>\n",
       "      <th>datePublished</th>\n",
       "    </tr>\n",
       "  </thead>\n",
       "  <tbody>\n",
       "    <tr>\n",
       "      <th>5179</th>\n",
       "      <td>k10013902141000</td>\n",
       "      <td>&lt;ruby&gt;小笠原諸島&lt;rt&gt;おがさわらしょとう&lt;/rt&gt;&lt;/ruby&gt;から&lt;ruby&gt;外&lt;...</td>\n",
       "      <td>&lt;ruby&gt;世界遺産&lt;rt&gt;せかいいさん&lt;/rt&gt;&lt;/ruby&gt;の&lt;ruby&gt;小笠原諸島&lt;r...</td>\n",
       "      <td>“原発政策ころころ変わる”</td>\n",
       "      <td>野田総理大臣は、千葉県四街道市で街頭演説し、日本未来の党や日本維新の会が掲げる原子力政策につ...</td>\n",
       "      <td>政治</td>\n",
       "      <td>総理大臣_閣議決定_エネルギー政策</td>\n",
       "      <td>2012-12-02T18:09</td>\n",
       "    </tr>\n",
       "    <tr>\n",
       "      <th>5203</th>\n",
       "      <td>k10014002951000</td>\n",
       "      <td>オーストラリア　&lt;ruby&gt;店&lt;rt&gt;みせ&lt;/rt&gt;&lt;/ruby&gt;で&lt;ruby&gt;男&lt;rt&gt;お...</td>\n",
       "      <td>&lt;span class=\"colorL\"&gt;オーストラリア&lt;/span&gt;の&lt;span clas...</td>\n",
       "      <td>六本木襲撃事件 １５人に逮捕状</td>\n",
       "      <td>ことし９月、東京・六本木のクラブで、客の男性が男らに金属バットのようなもので殴られて死亡した...</td>\n",
       "      <td>社会</td>\n",
       "      <td>関東連合_六本木_逮捕状</td>\n",
       "      <td>2012-12-06T16:13</td>\n",
       "    </tr>\n",
       "    <tr>\n",
       "      <th>5218</th>\n",
       "      <td>k10014085401000</td>\n",
       "      <td>&lt;ruby&gt;新&lt;rt&gt;あたら&lt;/rt&gt;&lt;/ruby&gt;しいロケット「Ｈ３」を&lt;ruby&gt;来年度...</td>\n",
       "      <td>&lt;span class=\"colorC\"&gt;&lt;ruby&gt;文部科学省&lt;rt&gt;もんぶかがくしょう&lt;...</td>\n",
       "      <td>専門家“ミサイル内部の機器不具合か”</td>\n",
       "      <td>北朝鮮が発射を予告した事実上の弾道ミサイルを、１０日、発射しなかったことについて、海上自衛隊...</td>\n",
       "      <td>社会</td>\n",
       "      <td>チェック_専門家_キム・ジョンイル</td>\n",
       "      <td>2012-12-10T15:51</td>\n",
       "    </tr>\n",
       "    <tr>\n",
       "      <th>5302</th>\n",
       "      <td>k10014344461000</td>\n",
       "      <td>&lt;ruby&gt;日本&lt;rt&gt;にっぽん&lt;/rt&gt;&lt;/ruby&gt;と&lt;ruby&gt;中国&lt;rt&gt;ちゅうごく...</td>\n",
       "      <td>&lt;span class=\"colorC\"&gt;&lt;ruby&gt;埼玉県&lt;rt&gt;さいたまけん&lt;/rt&gt;&lt;...</td>\n",
       "      <td>新華社“島巡る争いが試練”</td>\n",
       "      <td>中国国営の新華社通信は、ことしの中国外交について、日本政府による沖縄県の尖閣諸島の国有化や南...</td>\n",
       "      <td>国際</td>\n",
       "      <td>評論_新華社_通信</td>\n",
       "      <td>2012-12-21T12:01</td>\n",
       "    </tr>\n",
       "    <tr>\n",
       "      <th>5335</th>\n",
       "      <td>k10014441691000</td>\n",
       "      <td>たくさんの&lt;ruby&gt;情報&lt;rt&gt;じょうほう&lt;/rt&gt;&lt;/ruby&gt;を&lt;ruby&gt;集&lt;rt&gt;...</td>\n",
       "      <td>&lt;span class=\"colorC\"&gt;&lt;ruby&gt;総務省&lt;rt&gt;そうむしょう&lt;/rt&gt;&lt;...</td>\n",
       "      <td>鉄板直撃２人死亡 会社を捜索</td>\n",
       "      <td>２５日、広島県東広島市の国道を走っていた大型トレーラーの荷台から崩れ落ちた鉄板が乗用車を直撃...</td>\n",
       "      <td>社会</td>\n",
       "      <td></td>\n",
       "      <td>2012-12-26T13:49</td>\n",
       "    </tr>\n",
       "  </tbody>\n",
       "</table>\n",
       "</div>"
      ],
      "text/plain": [
       "                   id                                    title_easy_ruby  \\\n",
       "5179  k10013902141000  <ruby>小笠原諸島<rt>おがさわらしょとう</rt></ruby>から<ruby>外<...   \n",
       "5203  k10014002951000  オーストラリア　<ruby>店<rt>みせ</rt></ruby>で<ruby>男<rt>お...   \n",
       "5218  k10014085401000  <ruby>新<rt>あたら</rt></ruby>しいロケット「Ｈ３」を<ruby>来年度...   \n",
       "5302  k10014344461000  <ruby>日本<rt>にっぽん</rt></ruby>と<ruby>中国<rt>ちゅうごく...   \n",
       "5335  k10014441691000  たくさんの<ruby>情報<rt>じょうほう</rt></ruby>を<ruby>集<rt>...   \n",
       "\n",
       "                                      article_easy_ruby               title  \\\n",
       "5179  <ruby>世界遺産<rt>せかいいさん</rt></ruby>の<ruby>小笠原諸島<r...       “原発政策ころころ変わる”   \n",
       "5203  <span class=\"colorL\">オーストラリア</span>の<span clas...     六本木襲撃事件 １５人に逮捕状   \n",
       "5218  <span class=\"colorC\"><ruby>文部科学省<rt>もんぶかがくしょう<...  専門家“ミサイル内部の機器不具合か”   \n",
       "5302  <span class=\"colorC\"><ruby>埼玉県<rt>さいたまけん</rt><...       新華社“島巡る争いが試練”   \n",
       "5335  <span class=\"colorC\"><ruby>総務省<rt>そうむしょう</rt><...      鉄板直撃２人死亡 会社を捜索   \n",
       "\n",
       "                                                article genre  \\\n",
       "5179  野田総理大臣は、千葉県四街道市で街頭演説し、日本未来の党や日本維新の会が掲げる原子力政策につ...    政治   \n",
       "5203  ことし９月、東京・六本木のクラブで、客の男性が男らに金属バットのようなもので殴られて死亡した...    社会   \n",
       "5218  北朝鮮が発射を予告した事実上の弾道ミサイルを、１０日、発射しなかったことについて、海上自衛隊...    社会   \n",
       "5302  中国国営の新華社通信は、ことしの中国外交について、日本政府による沖縄県の尖閣諸島の国有化や南...    国際   \n",
       "5335  ２５日、広島県東広島市の国道を走っていた大型トレーラーの荷台から崩れ落ちた鉄板が乗用車を直撃...    社会   \n",
       "\n",
       "               keywords     datePublished  \n",
       "5179  総理大臣_閣議決定_エネルギー政策  2012-12-02T18:09  \n",
       "5203       関東連合_六本木_逮捕状  2012-12-06T16:13  \n",
       "5218  チェック_専門家_キム・ジョンイル  2012-12-10T15:51  \n",
       "5302          評論_新華社_通信  2012-12-21T12:01  \n",
       "5335                     2012-12-26T13:49  "
      ]
     },
     "execution_count": 66,
     "metadata": {},
     "output_type": "execute_result"
    }
   ],
   "source": [
    "# select columns\n",
    "df = df[['id','title_easy_ruby','article_easy_ruby','title','article','genre','keywords','datePublished']]\n",
    "df.head()"
   ]
  },
  {
   "cell_type": "code",
   "execution_count": 53,
   "metadata": {},
   "outputs": [],
   "source": [
    "# save as json\n",
    "data = []\n",
    "for i, row in df.iterrows():\n",
    "    data.append(dict(zip(df2.columns, row)))\n",
    "    \n",
    "with open('joined_nhk.json','w',encoding='utf-8') as f:\n",
    "    json.dump(data, f, ensure_ascii=False, indent=4)"
   ]
  },
  {
   "cell_type": "markdown",
   "metadata": {},
   "source": [
    "# load joined data"
   ]
  },
  {
   "cell_type": "code",
   "execution_count": 123,
   "metadata": {},
   "outputs": [
    {
     "data": {
      "text/html": [
       "<div>\n",
       "<style scoped>\n",
       "    .dataframe tbody tr th:only-of-type {\n",
       "        vertical-align: middle;\n",
       "    }\n",
       "\n",
       "    .dataframe tbody tr th {\n",
       "        vertical-align: top;\n",
       "    }\n",
       "\n",
       "    .dataframe thead th {\n",
       "        text-align: right;\n",
       "    }\n",
       "</style>\n",
       "<table border=\"1\" class=\"dataframe\">\n",
       "  <thead>\n",
       "    <tr style=\"text-align: right;\">\n",
       "      <th></th>\n",
       "      <th>id</th>\n",
       "      <th>title_easy_ruby</th>\n",
       "      <th>article_easy_ruby</th>\n",
       "      <th>title</th>\n",
       "      <th>article</th>\n",
       "      <th>genre</th>\n",
       "      <th>keywords</th>\n",
       "      <th>datePublished</th>\n",
       "    </tr>\n",
       "  </thead>\n",
       "  <tbody>\n",
       "    <tr>\n",
       "      <th>0</th>\n",
       "      <td>k10013902141000</td>\n",
       "      <td>&lt;ruby&gt;小笠原諸島&lt;rt&gt;おがさわらしょとう&lt;/rt&gt;&lt;/ruby&gt;から&lt;ruby&gt;外&lt;...</td>\n",
       "      <td>&lt;ruby&gt;世界遺産&lt;rt&gt;せかいいさん&lt;/rt&gt;&lt;/ruby&gt;の&lt;ruby&gt;小笠原諸島&lt;r...</td>\n",
       "      <td>“原発政策ころころ変わる”</td>\n",
       "      <td>野田総理大臣は、千葉県四街道市で街頭演説し、日本未来の党や日本維新の会が掲げる原子力政策につ...</td>\n",
       "      <td>政治</td>\n",
       "      <td>総理大臣_閣議決定_エネルギー政策</td>\n",
       "      <td>2012-12-02T18:09</td>\n",
       "    </tr>\n",
       "    <tr>\n",
       "      <th>1</th>\n",
       "      <td>k10014002951000</td>\n",
       "      <td>オーストラリア　&lt;ruby&gt;店&lt;rt&gt;みせ&lt;/rt&gt;&lt;/ruby&gt;で&lt;ruby&gt;男&lt;rt&gt;お...</td>\n",
       "      <td>&lt;span class=\"colorL\"&gt;オーストラリア&lt;/span&gt;の&lt;span clas...</td>\n",
       "      <td>六本木襲撃事件 １５人に逮捕状</td>\n",
       "      <td>ことし９月、東京・六本木のクラブで、客の男性が男らに金属バットのようなもので殴られて死亡した...</td>\n",
       "      <td>社会</td>\n",
       "      <td>関東連合_六本木_逮捕状</td>\n",
       "      <td>2012-12-06T16:13</td>\n",
       "    </tr>\n",
       "    <tr>\n",
       "      <th>2</th>\n",
       "      <td>k10014441691000</td>\n",
       "      <td>たくさんの&lt;ruby&gt;情報&lt;rt&gt;じょうほう&lt;/rt&gt;&lt;/ruby&gt;を&lt;ruby&gt;集&lt;rt&gt;...</td>\n",
       "      <td>&lt;span class=\"colorC\"&gt;&lt;ruby&gt;総務省&lt;rt&gt;そうむしょう&lt;/rt&gt;&lt;...</td>\n",
       "      <td>鉄板直撃２人死亡 会社を捜索</td>\n",
       "      <td>２５日、広島県東広島市の国道を走っていた大型トレーラーの荷台から崩れ落ちた鉄板が乗用車を直撃...</td>\n",
       "      <td>社会</td>\n",
       "      <td></td>\n",
       "      <td>2012-12-26T13:49</td>\n",
       "    </tr>\n",
       "    <tr>\n",
       "      <th>3</th>\n",
       "      <td>k10014577151000</td>\n",
       "      <td>&lt;ruby&gt;有吉&lt;rt&gt;ありよし&lt;/rt&gt;&lt;/ruby&gt;&lt;ruby&gt;佐和子&lt;rt&gt;さわこ&lt;/...</td>\n",
       "      <td>&lt;span class=\"colorN\"&gt;&lt;ruby&gt;有吉&lt;rt&gt;ありよし&lt;/rt&gt;&lt;/ru...</td>\n",
       "      <td>公明・山口代表“日中関係立て直しを”</td>\n",
       "      <td>公明党の山口代表は党の仕事始めの会合で、「日中関係が良好になることが世界の繁栄と安定につなが...</td>\n",
       "      <td>政治</td>\n",
       "      <td></td>\n",
       "      <td>2013-01-04T11:54</td>\n",
       "    </tr>\n",
       "    <tr>\n",
       "      <th>4</th>\n",
       "      <td>k10014638031000</td>\n",
       "      <td>&lt;ruby&gt;料理&lt;rt&gt;りょうり&lt;/rt&gt;&lt;/ruby&gt;を&lt;ruby&gt;手伝&lt;rt&gt;てつだ&lt;/...</td>\n",
       "      <td>&lt;span class=\"colorC\"&gt;&lt;ruby&gt;農林中央金庫&lt;rt&gt;のうりんちゅうおう...</td>\n",
       "      <td>経済団体 “日本再生元年に”</td>\n",
       "      <td>経団連など３つの経済団体による新年のパーティーが開かれ、経済同友会の長谷川代表幹事は、２０１...</td>\n",
       "      <td>ビジネス</td>\n",
       "      <td></td>\n",
       "      <td>2013-01-07T18:47</td>\n",
       "    </tr>\n",
       "  </tbody>\n",
       "</table>\n",
       "</div>"
      ],
      "text/plain": [
       "                id                                    title_easy_ruby  \\\n",
       "0  k10013902141000  <ruby>小笠原諸島<rt>おがさわらしょとう</rt></ruby>から<ruby>外<...   \n",
       "1  k10014002951000  オーストラリア　<ruby>店<rt>みせ</rt></ruby>で<ruby>男<rt>お...   \n",
       "2  k10014441691000  たくさんの<ruby>情報<rt>じょうほう</rt></ruby>を<ruby>集<rt>...   \n",
       "3  k10014577151000  <ruby>有吉<rt>ありよし</rt></ruby><ruby>佐和子<rt>さわこ</...   \n",
       "4  k10014638031000  <ruby>料理<rt>りょうり</rt></ruby>を<ruby>手伝<rt>てつだ</...   \n",
       "\n",
       "                                   article_easy_ruby               title  \\\n",
       "0  <ruby>世界遺産<rt>せかいいさん</rt></ruby>の<ruby>小笠原諸島<r...       “原発政策ころころ変わる”   \n",
       "1  <span class=\"colorL\">オーストラリア</span>の<span clas...     六本木襲撃事件 １５人に逮捕状   \n",
       "2  <span class=\"colorC\"><ruby>総務省<rt>そうむしょう</rt><...      鉄板直撃２人死亡 会社を捜索   \n",
       "3  <span class=\"colorN\"><ruby>有吉<rt>ありよし</rt></ru...  公明・山口代表“日中関係立て直しを”   \n",
       "4  <span class=\"colorC\"><ruby>農林中央金庫<rt>のうりんちゅうおう...      経済団体 “日本再生元年に”   \n",
       "\n",
       "                                             article genre           keywords  \\\n",
       "0  野田総理大臣は、千葉県四街道市で街頭演説し、日本未来の党や日本維新の会が掲げる原子力政策につ...    政治  総理大臣_閣議決定_エネルギー政策   \n",
       "1  ことし９月、東京・六本木のクラブで、客の男性が男らに金属バットのようなもので殴られて死亡した...    社会       関東連合_六本木_逮捕状   \n",
       "2  ２５日、広島県東広島市の国道を走っていた大型トレーラーの荷台から崩れ落ちた鉄板が乗用車を直撃...    社会                      \n",
       "3  公明党の山口代表は党の仕事始めの会合で、「日中関係が良好になることが世界の繁栄と安定につなが...    政治                      \n",
       "4  経団連など３つの経済団体による新年のパーティーが開かれ、経済同友会の長谷川代表幹事は、２０１...  ビジネス                      \n",
       "\n",
       "      datePublished  \n",
       "0  2012-12-02T18:09  \n",
       "1  2012-12-06T16:13  \n",
       "2  2012-12-26T13:49  \n",
       "3  2013-01-04T11:54  \n",
       "4  2013-01-07T18:47  "
      ]
     },
     "execution_count": 123,
     "metadata": {},
     "output_type": "execute_result"
    }
   ],
   "source": [
    "df = pd.read_json('joined_nhk.json')\n",
    "df.head()"
   ]
  },
  {
   "cell_type": "code",
   "execution_count": 127,
   "metadata": {},
   "outputs": [
    {
     "data": {
      "text/plain": [
       "k10010815341000    1\n",
       "k10010270861000    1\n",
       "k10010860241000    1\n",
       "k10010913181000    1\n",
       "k10015182271000    1\n",
       "k10011021111000    1\n",
       "k10012073121000    1\n",
       "k10014940341000    1\n",
       "k10010467781000    1\n",
       "k10010843331000    1\n",
       "Name: id, dtype: int64"
      ]
     },
     "execution_count": 127,
     "metadata": {},
     "output_type": "execute_result"
    }
   ],
   "source": [
    "# check duplicate\n",
    "df.id.value_counts().head(10)"
   ]
  },
  {
   "cell_type": "code",
   "execution_count": 128,
   "metadata": {},
   "outputs": [
    {
     "data": {
      "text/html": [
       "<div>\n",
       "<style scoped>\n",
       "    .dataframe tbody tr th:only-of-type {\n",
       "        vertical-align: middle;\n",
       "    }\n",
       "\n",
       "    .dataframe tbody tr th {\n",
       "        vertical-align: top;\n",
       "    }\n",
       "\n",
       "    .dataframe thead th {\n",
       "        text-align: right;\n",
       "    }\n",
       "</style>\n",
       "<table border=\"1\" class=\"dataframe\">\n",
       "  <thead>\n",
       "    <tr style=\"text-align: right;\">\n",
       "      <th></th>\n",
       "      <th>id</th>\n",
       "      <th>title_easy_ruby</th>\n",
       "      <th>article_easy_ruby</th>\n",
       "      <th>title</th>\n",
       "      <th>article</th>\n",
       "      <th>genre</th>\n",
       "      <th>keywords</th>\n",
       "      <th>datePublished</th>\n",
       "    </tr>\n",
       "  </thead>\n",
       "  <tbody>\n",
       "    <tr>\n",
       "      <th>674</th>\n",
       "      <td>k10014610131000</td>\n",
       "      <td>「テロに&lt;ruby&gt;負&lt;rt&gt;ま&lt;/rt&gt;&lt;/ruby&gt;けない」フランスで３７０&lt;ruby&gt;...</td>\n",
       "      <td>&lt;ruby&gt;７日&lt;rt&gt;なのか&lt;/rt&gt;&lt;/ruby&gt;、&lt;span class=\"color...</td>\n",
       "      <td>テロに抗議のデモ行進 １６０万人以上参加</td>\n",
       "      <td>フランスで１７人が死亡した一連のテロ事件を受けて、犠牲者を追悼し、テロに抗議する大規模なデモ...</td>\n",
       "      <td>国際</td>\n",
       "      <td>イスラム教徒_メルケル_デモ行進</td>\n",
       "      <td>2015-01-12T04:42</td>\n",
       "    </tr>\n",
       "  </tbody>\n",
       "</table>\n",
       "</div>"
      ],
      "text/plain": [
       "                  id                                    title_easy_ruby  \\\n",
       "674  k10014610131000  「テロに<ruby>負<rt>ま</rt></ruby>けない」フランスで３７０<ruby>...   \n",
       "\n",
       "                                     article_easy_ruby                 title  \\\n",
       "674  <ruby>７日<rt>なのか</rt></ruby>、<span class=\"color...  テロに抗議のデモ行進 １６０万人以上参加   \n",
       "\n",
       "                                               article genre  \\\n",
       "674  フランスで１７人が死亡した一連のテロ事件を受けて、犠牲者を追悼し、テロに抗議する大規模なデモ...    国際   \n",
       "\n",
       "             keywords     datePublished  \n",
       "674  イスラム教徒_メルケル_デモ行進  2015-01-12T04:42  "
      ]
     },
     "execution_count": 128,
     "metadata": {},
     "output_type": "execute_result"
    }
   ],
   "source": [
    "df[df.id=='k10014610131000']"
   ]
  },
  {
   "cell_type": "code",
   "execution_count": 134,
   "metadata": {},
   "outputs": [
    {
     "data": {
      "text/plain": [
       "2856      0\n",
       "2753      0\n",
       "2754      0\n",
       "4898      0\n",
       "2756      0\n",
       "       ... \n",
       "5487     85\n",
       "5469     89\n",
       "5489     94\n",
       "5418    100\n",
       "5471    121\n",
       "Name: keywords, Length: 5714, dtype: int64"
      ]
     },
     "execution_count": 134,
     "metadata": {},
     "output_type": "execute_result"
    }
   ],
   "source": [
    "df.keywords.apply(len).sort_values()"
   ]
  },
  {
   "cell_type": "markdown",
   "metadata": {},
   "source": [
    "# SQL"
   ]
  },
  {
   "cell_type": "code",
   "execution_count": 136,
   "metadata": {},
   "outputs": [],
   "source": [
    "db_settings = {\n",
    "    \"host\": '127.0.0.1',\n",
    "    \"database\": 'nhkweb',\n",
    "    \"user\": 'root',\n",
    "    \"password\":\"nozomi8931\",\n",
    "    \"port\":'3306'\n",
    "}\n",
    "con = mysql.connector.connect(**db_settings)\n",
    "cur = con.cursor()"
   ]
  },
  {
   "cell_type": "code",
   "execution_count": 130,
   "metadata": {},
   "outputs": [],
   "source": [
    "con.close()"
   ]
  },
  {
   "cell_type": "code",
   "execution_count": 92,
   "metadata": {},
   "outputs": [
    {
     "name": "stdout",
     "output_type": "stream",
     "text": [
      "('nhk_joined',)\n"
     ]
    }
   ],
   "source": [
    "for row in cur.fetchall():\n",
    "    print(row)"
   ]
  },
  {
   "cell_type": "code",
   "execution_count": 137,
   "metadata": {},
   "outputs": [],
   "source": [
    "for i, row in df.iterrows():\n",
    "    cur.execute(f\"INSERT INTO nhk_joined VALUES {tuple(row)}\")\n",
    "con.commit()"
   ]
  },
  {
   "cell_type": "code",
   "execution_count": 85,
   "metadata": {},
   "outputs": [
    {
     "data": {
      "text/plain": [
       "Index(['id', 'title_easy_ruby', 'article_easy_ruby', 'title', 'article',\n",
       "       'genre', 'keywords', 'datePublished'],\n",
       "      dtype='object')"
      ]
     },
     "execution_count": 85,
     "metadata": {},
     "output_type": "execute_result"
    }
   ],
   "source": [
    "df.columns"
   ]
  },
  {
   "cell_type": "code",
   "execution_count": null,
   "metadata": {},
   "outputs": [],
   "source": [
    "df"
   ]
  }
 ],
 "metadata": {
  "kernelspec": {
   "display_name": "Python 3",
   "language": "python",
   "name": "python3"
  },
  "language_info": {
   "codemirror_mode": {
    "name": "ipython",
    "version": 3
   },
   "file_extension": ".py",
   "mimetype": "text/x-python",
   "name": "python",
   "nbconvert_exporter": "python",
   "pygments_lexer": "ipython3",
   "version": "3.7.7"
  }
 },
 "nbformat": 4,
 "nbformat_minor": 4
}
