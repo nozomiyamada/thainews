{
 "nbformat": 4,
 "nbformat_minor": 2,
 "metadata": {
  "language_info": {
   "name": "python",
   "codemirror_mode": {
    "name": "ipython",
    "version": 3
   },
   "version": "3.7.5-final"
  },
  "orig_nbformat": 2,
  "file_extension": ".py",
  "mimetype": "text/x-python",
  "name": "python",
  "npconvert_exporter": "python",
  "pygments_lexer": "ipython3",
  "version": 3,
  "kernelspec": {
   "name": "python37564bit72de44cd76184052b9457c2863c13ac2",
   "display_name": "Python 3.7.5 64-bit"
  }
 },
 "cells": [
  {
   "cell_type": "code",
   "execution_count": 1,
   "metadata": {},
   "outputs": [],
   "source": [
    "import numpy as np\n",
    "import pandas as pd\n",
    "import re, json, csv, requests, time, glob, tqdm, datetime\n",
    "from bs4 import BeautifulSoup\n",
    "from selenium import webdriver\n",
    "from selenium.webdriver.chrome.options import Options\n",
    "from collections import Counter"
   ]
  },
  {
   "cell_type": "code",
   "execution_count": 2,
   "metadata": {},
   "outputs": [],
   "source": [
    "def scrape_one_new(html, url):\n",
    "    soup = BeautifulSoup(html, \"html.parser\")\n",
    "    json_data = json.loads(soup.find_all(\"script\", type=\"application/ld+json\")[-1].text)\n",
    "    title = json_data.get('headline', soup.find('span', class_='contentTitle').text)\n",
    "    date = json_data.get('datePublished', re.search(r'datetime:.*?(\\d{4}-\\d{2}-\\d{2}T\\d{2}:\\d{2})', str(html)).group(1))\n",
    "    date_m = json_data.get('dateModified', '')\n",
    "    genre = json_data.get('genre', [])\n",
    "    if genre == []:\n",
    "        genre = [k for k in soup.find('meta', attrs={'name':'keywords'}).get('content').split(',') if k not in ['NHK','ニュース', 'NHK NEWS WEB']]\n",
    "    keywords = json_data.get('keywords', [])\n",
    "    article = soup.find('div', id=\"news_textbody\").text\n",
    "    if soup.find_all('div', id=\"news_textmore\") != []:\n",
    "        for textmore in soup.find_all('div', id=\"news_textmore\"):\n",
    "            article += ('\\n' + textmore.text)\n",
    "    if soup.find_all('div', class_=\"news_add\") != []:\n",
    "        for newsadd in soup.find_all('div', class_=\"news_add\"):\n",
    "            if newsadd.h3 != None:\n",
    "                newsadd.h3.extract()\n",
    "            article += ('\\n' + newsadd.text)\n",
    "            \n",
    "    return {\n",
    "        'id':url.split('/')[-1].split('.html')[0],\n",
    "        'title':title,\n",
    "        'article':article.strip(),\n",
    "        'genre':genre,\n",
    "        'keywords':keywords,\n",
    "        'url':url,\n",
    "        'datePublished':date,\n",
    "        'dateModified':date_m\n",
    "    }\n",
    "\n",
    "# for old web normal\n",
    "def make_date_normal_old(hmd,time):\n",
    "    year, month, day = hmd[:4], hmd[4:6], hmd[6:]\n",
    "    hour, minute = time.split('時')\n",
    "    minute = minute.strip('分')\n",
    "    if len(hour) == 1:\n",
    "        hour = '0' + hour\n",
    "    if len(minute) == 1:\n",
    "        minute = '0' + minute\n",
    "    return f\"{year}-{month}-{day}T{hour}:{minute}\"\n",
    "\n",
    "def scrape_one_old(html, url):\n",
    "    soup = BeautifulSoup(html, \"html.parser\")\n",
    "    title = soup.find('span', class_=\"contentTitle\").text.strip()\n",
    "    hmd_ = url.split('/')[-2]\n",
    "    time_ = soup.find('span', id=\"news_time\").text\n",
    "    date = make_date_normal_old(hmd_, time_)\n",
    "    genre = [k for k in soup.find('meta', attrs={'name':'keywords'}).get('content').split(',') if k not in ['NHK','ニュース', 'NHK NEWS WEB','ＮＨＫ','ＮＨＫニュース','']]\n",
    "    article = soup.find(['div','p'], id=\"news_textbody\").text\n",
    "    if soup.find_all(['div','p'], id=\"news_textmore\") != []:\n",
    "        for textmore in soup.find_all(['div','p'], id=\"news_textmore\"):\n",
    "            article += ('\\n' + textmore.text)\n",
    "    if soup.find_all(['div','p'], class_=\"news_add\") != []:\n",
    "        for newsadd in soup.find_all(['div','p'], class_=\"news_add\"):\n",
    "            if newsadd.h3 != None:\n",
    "                newsadd.h3.extract()\n",
    "            article += ('\\n' + newsadd.text)\n",
    "            \n",
    "    return {\n",
    "        'id':url.split('/')[-1].split('.html')[0],\n",
    "        'title':title,\n",
    "        'article':article.strip(),\n",
    "        'genre':genre,\n",
    "        'keywords':[],\n",
    "        'url':url,\n",
    "        'datePublished':date,\n",
    "        'dateModified':\"\"\n",
    "    }\n",
    "\n",
    "def write_nolink(ID):\n",
    "    with open('nolinknormal.txt', 'a') as f:\n",
    "        f.write(str(ID))\n",
    "        f.write('\\n')\n",
    "\n",
    "def get_archiveurl_from_id(ID, date, http=True):\n",
    "    if http:\n",
    "        url = f'https://web.archive.org/web/*/http://www3.nhk.or.jp/news/html/{date}/k{ID}1000.html'\n",
    "    else:\n",
    "        url = f'https://web.archive.org/web/*/https://www3.nhk.or.jp/news/html/{date}/k{ID}1000.html'\n",
    "    \n",
    "    driver.get(url)\n",
    "    time.sleep(3)\n",
    "    html = str(driver.page_source.encode('utf-8'))\n",
    "    snap = re.search(r'(times between|1 time|times).*?<a href=\"(.+?)\">', html)\n",
    "    archiveurl = 'https://web.archive.org' + snap.group(2)\n",
    "    return None if 'nhk' not in archiveurl else archiveurl\n",
    "\n",
    "def get_article_from_archiveurl(archiveurl):\n",
    "    response = requests.get(archiveurl)\n",
    "    time.sleep(3)\n",
    "    html = response.text\n",
    "    url_true = 'http' + archiveurl.split('/http')[-1]\n",
    "    if 'This page is not available on the web' in html:\n",
    "        return None\n",
    "    try:\n",
    "        try:\n",
    "            dic = scrape_one_new(html, url_true)\n",
    "        except:\n",
    "            dic = scrape_one_old(html, url_true)\n",
    "        return dic\n",
    "    except:\n",
    "        return None\n",
    "\n",
    "def js(dic, year):\n",
    "    if dic == None:\n",
    "        return\n",
    "    with open(f'nhkweb{year}.json', 'r', encoding='utf-8') as f:\n",
    "        data = json.load(f)\n",
    "    with open(f'nhkweb{year}.json', 'w', encoding='utf-8') as f:\n",
    "        if dic['id'] not in [x['id'] for x in data]:\n",
    "            data.append(dic)\n",
    "        else:\n",
    "            for i, d in enumerate(data):\n",
    "                if dic['id'] == d['id']:\n",
    "                    data[i] = dic\n",
    "        data = sorted(data, key=lambda x:x['id'])\n",
    "        json.dump(data, f, indent=4, ensure_ascii=False)\n",
    "\n",
    "def datebefore(ymd:str):\n",
    "    year, month, day = int(ymd[:4]), int(ymd[4:6]), int(ymd[6:])\n",
    "    before = str(datetime.datetime(year, month, day) + datetime.timedelta(-1))\n",
    "    year, month, day = before[:4], before[5:7], before[8:10]\n",
    "    return f'{year}{month}{day}'\n",
    "\n",
    "def dateafter(ymd:str):\n",
    "    year, month, day = int(ymd[:4]), int(ymd[4:6]), int(ymd[6:])\n",
    "    before = str(datetime.datetime(year, month, day) + datetime.timedelta(1))\n",
    "    year, month, day = before[:4], before[5:7], before[8:10]\n",
    "    return f'{year}{month}{day}'"
   ]
  },
  {
   "cell_type": "markdown",
   "metadata": {},
   "source": [
    "# check data"
   ]
  },
  {
   "cell_type": "code",
   "execution_count": 3,
   "metadata": {},
   "outputs": [
    {
     "data": {
      "text/plain": "18615"
     },
     "execution_count": 3,
     "metadata": {},
     "output_type": "execute_result"
    }
   ],
   "source": [
    "data = pd.read_json('nhkweb2019.json')\n",
    "len(data)"
   ]
  },
  {
   "cell_type": "markdown",
   "metadata": {},
   "source": [
    "# get missing url & article"
   ]
  },
  {
   "cell_type": "code",
   "execution_count": 15,
   "metadata": {},
   "outputs": [
    {
     "name": "stdout",
     "output_type": "stream",
     "text": "18615\n"
    },
    {
     "data": {
      "text/html": "<div>\n<style scoped>\n    .dataframe tbody tr th:only-of-type {\n        vertical-align: middle;\n    }\n\n    .dataframe tbody tr th {\n        vertical-align: top;\n    }\n\n    .dataframe thead th {\n        text-align: right;\n    }\n</style>\n<table border=\"1\" class=\"dataframe\">\n  <thead>\n    <tr style=\"text-align: right;\">\n      <th></th>\n      <th>id</th>\n      <th>url</th>\n      <th>date</th>\n    </tr>\n  </thead>\n  <tbody>\n    <tr>\n      <th>9318</th>\n      <td>1001186603</td>\n      <td>http://www3.nhk.or.jp/news/html/20190329/k1001...</td>\n      <td>20190329</td>\n    </tr>\n  </tbody>\n</table>\n</div>",
      "text/plain": "              id                                                url      date\n9318  1001186603  http://www3.nhk.or.jp/news/html/20190329/k1001...  20190329"
     },
     "execution_count": 15,
     "metadata": {},
     "output_type": "execute_result"
    }
   ],
   "source": [
    "data = pd.read_json('nhkweb2019.json')\n",
    "data = data[['id', 'url']]\n",
    "data.id = data.id.apply(lambda x:x[1:-4])\n",
    "data['date'] = data.url.apply(lambda x:x.split('news/html/')[-1].split('/')[0])\n",
    "print(len(data))\n",
    "data.head()\n",
    "data[data.id == \"1001186603\"]"
   ]
  },
  {
   "cell_type": "code",
   "execution_count": 17,
   "metadata": {},
   "outputs": [],
   "source": [
    "options = Options()\n",
    "#options.headless = True\n",
    "driver = webdriver.Chrome(options=options)"
   ]
  },
  {
   "cell_type": "code",
   "execution_count": 18,
   "metadata": {},
   "outputs": [
    {
     "name": "stderr",
     "output_type": "stream",
     "text": "\n  0%|          | 0/2682 [00:00<?, ?it/s]\u001b[A\n  0%|          | 1/2682 [01:52<84:01:51, 112.84s/it]\u001b[A\n  0%|          | 4/2682 [02:37<62:05:57, 83.48s/it]\u001b[A\n  0%|          | 6/2682 [02:48<44:39:59, 60.09s/it]\u001b[A\n  0%|          | 9/2682 [02:59<32:02:23, 43.15s/it]\u001b[A\n  0%|          | 13/2682 [03:10<23:00:31, 31.03s/it]\u001b[A\n  1%|          | 28/2682 [03:21<16:10:47, 21.95s/it]\u001b[A\n  1%|          | 31/2682 [03:34<12:15:42, 16.65s/it]\u001b[A\n  3%|▎         | 74/2682 [03:47<8:30:27, 11.74s/it]\u001b[A\n  3%|▎         | 81/2682 [03:59<6:19:17,  8.75s/it]\u001b[A\n  8%|▊         | 203/2682 [04:10<4:14:06,  6.15s/it]\u001b[A\n  8%|▊         | 203/2682 [04:25<4:14:06,  6.15s/it]\u001b[A\n  8%|▊         | 208/2682 [04:30<3:47:38,  5.52s/it]\u001b[A\n  9%|▊         | 229/2682 [04:54<2:51:47,  4.20s/it]\u001b[A\n 14%|█▎        | 364/2682 [05:05<1:54:39,  2.97s/it]\u001b[A\n 16%|█▋        | 440/2682 [05:17<1:19:23,  2.12s/it]\u001b[A\n 16%|█▋        | 441/2682 [05:32<3:40:33,  5.90s/it]\u001b[A\n 21%|██        | 559/2682 [05:44<2:27:20,  4.16s/it]\u001b[A\n 22%|██▏       | 591/2682 [06:04<1:48:06,  3.10s/it]\u001b[A\n 22%|██▏       | 594/2682 [06:17<1:59:46,  3.44s/it]\u001b[A\n 23%|██▎       | 624/2682 [06:29<1:26:47,  2.53s/it]\u001b[A\n 25%|██▍       | 660/2682 [06:41<1:03:06,  1.87s/it]\u001b[A\n 26%|██▌       | 691/2682 [06:51<46:45,  1.41s/it]\u001b[A\n 26%|██▌       | 692/2682 [07:15<4:32:20,  8.21s/it]\u001b[A\n 26%|██▌       | 694/2682 [07:30<4:21:10,  7.88s/it]\u001b[A\n 30%|██▉       | 798/2682 [07:45<2:54:39,  5.56s/it]\u001b[A\n 30%|██▉       | 802/2682 [07:58<2:31:59,  4.85s/it]\u001b[A\n 30%|██▉       | 804/2682 [08:26<3:59:16,  7.64s/it]\u001b[A\n 31%|███       | 819/2682 [08:40<2:54:52,  5.63s/it]\u001b[A\n 34%|███▍      | 906/2682 [09:08<1:59:32,  4.04s/it]\u001b[A\n 34%|███▍      | 908/2682 [10:00<5:11:58, 10.55s/it]\u001b[A\n 36%|███▌      | 966/2682 [17:07<4:34:32,  9.60s/it]\u001b[A\n 36%|███▌      | 967/2682 [17:25<5:41:37, 11.95s/it]\u001b[A\n 36%|███▌      | 968/2682 [18:52<16:30:04, 34.66s/it]\u001b[A\n 38%|███▊      | 1015/2682 [19:05<11:16:13, 24.34s/it]\u001b[A\n 38%|███▊      | 1017/2682 [19:17<8:43:44, 18.87s/it]\u001b[A\n 38%|███▊      | 1023/2682 [19:32<6:25:48, 13.95s/it]\u001b[A\n 39%|███▊      | 1034/2682 [19:48<4:40:15, 10.20s/it]\u001b[A\n 40%|███▉      | 1067/2682 [22:13<3:47:47,  8.46s/it]\u001b[A\n 40%|███▉      | 1069/2682 [23:03<5:59:48, 13.38s/it]\u001b[A\n 40%|███▉      | 1070/2682 [23:27<7:27:55, 16.67s/it]\u001b[A\n 43%|████▎     | 1166/2682 [23:47<4:56:25, 11.73s/it]\u001b[A\n 44%|████▍     | 1176/2682 [24:02<3:37:22,  8.66s/it]\u001b[A\n 44%|████▍     | 1180/2682 [25:01<4:22:32, 10.49s/it]\u001b[A\n 45%|████▍     | 1206/2682 [25:16<3:04:48,  7.51s/it]\u001b[A\n 45%|████▌     | 1207/2682 [25:48<6:07:30, 14.95s/it]\u001b[A\n 45%|████▌     | 1217/2682 [26:03<4:26:16, 10.91s/it]\u001b[A\n 46%|████▌     | 1221/2682 [26:16<3:31:08,  8.67s/it]\u001b[A\n 46%|████▌     | 1239/2682 [26:30<2:31:20,  6.29s/it]\u001b[A\n 47%|████▋     | 1248/2682 [26:47<1:58:42,  4.97s/it]\u001b[A\n 47%|████▋     | 1256/2682 [27:00<1:34:02,  3.96s/it]\u001b[A\n 48%|████▊     | 1277/2682 [27:29<1:14:48,  3.20s/it]\u001b[A\n 48%|████▊     | 1278/2682 [27:45<2:45:28,  7.07s/it]\u001b[A\n 48%|████▊     | 1287/2682 [28:01<2:07:02,  5.46s/it]\u001b[A\n 48%|████▊     | 1291/2682 [28:15<1:53:37,  4.90s/it]\u001b[A\n 48%|████▊     | 1296/2682 [28:57<2:16:59,  5.93s/it]\u001b[A\n 48%|████▊     | 1298/2682 [29:16<2:41:16,  6.99s/it]\u001b[A\n 49%|████▊     | 1302/2682 [29:28<2:13:39,  5.81s/it]\u001b[A\n 50%|████▉     | 1334/2682 [29:40<1:33:58,  4.18s/it]\u001b[A\n 50%|████▉     | 1340/2682 [29:52<1:19:01,  3.53s/it]\u001b[A\n 51%|█████     | 1371/2682 [30:04<56:36,  2.59s/it]\u001b[A\n 52%|█████▏    | 1400/2682 [30:16<41:22,  1.94s/it]\u001b[A\n 53%|█████▎    | 1411/2682 [32:50<1:57:27,  5.54s/it]\u001b[A\n 54%|█████▎    | 1436/2682 [33:04<1:24:01,  4.05s/it]\u001b[A\n 54%|█████▍    | 1461/2682 [33:14<1:00:12,  2.96s/it]\u001b[A\n 55%|█████▍    | 1466/2682 [33:26<56:27,  2.79s/it]\u001b[A\n 55%|█████▍    | 1469/2682 [33:48<1:22:39,  4.09s/it]\u001b[A\n 56%|█████▋    | 1514/2682 [34:00<57:22,  2.95s/it]\u001b[A\n 57%|█████▋    | 1518/2682 [34:13<59:07,  3.05s/it]\u001b[A\n 57%|█████▋    | 1524/2682 [37:13<3:34:53, 11.13s/it]\u001b[A\n 57%|█████▋    | 1529/2682 [37:28<2:46:17,  8.65s/it]\u001b[A\n 57%|█████▋    | 1532/2682 [38:59<4:51:19, 15.20s/it]\u001b[A\n 57%|█████▋    | 1533/2682 [39:09<4:21:29, 13.65s/it]\u001b[A\n 57%|█████▋    | 1534/2682 [39:42<6:09:47, 19.33s/it]\u001b[A\n 57%|█████▋    | 1535/2682 [39:54<5:26:11, 17.06s/it]\u001b[A\n 57%|█████▋    | 1540/2682 [41:39<5:47:51, 18.28s/it]\u001b[A\n 57%|█████▋    | 1542/2682 [42:47<7:16:11, 22.96s/it]\u001b[A\n 58%|█████▊    | 1544/2682 [45:58<14:08:05, 44.72s/it]\u001b[A\n 58%|█████▊    | 1547/2682 [46:18<10:29:12, 33.26s/it]\u001b[A\n 58%|█████▊    | 1548/2682 [46:38<9:18:32, 29.55s/it]\u001b[A\n 58%|█████▊    | 1552/2682 [47:03<7:04:20, 22.53s/it]\u001b[A\n 58%|█████▊    | 1559/2682 [47:14<5:04:10, 16.25s/it]\u001b[A\n 58%|█████▊    | 1561/2682 [47:35<4:31:28, 14.53s/it]\u001b[A\n 58%|█████▊    | 1568/2682 [47:50<3:20:26, 10.80s/it]\u001b[A\n 59%|█████▊    | 1570/2682 [50:09<8:47:42, 28.47s/it]\u001b[A\n 59%|█████▊    | 1571/2682 [51:39<14:27:29, 46.85s/it]\u001b[A\n 59%|█████▊    | 1572/2682 [54:21<25:07:33, 81.49s/it]\u001b[A\n 59%|█████▊    | 1575/2682 [54:47<18:19:35, 59.60s/it]\u001b[A\n 59%|█████▉    | 1576/2682 [55:12<15:09:12, 49.32s/it]\u001b[A\n 59%|█████▉    | 1578/2682 [55:40<11:50:42, 38.63s/it]\u001b[A\n 59%|█████▉    | 1579/2682 [56:32<13:06:19, 42.77s/it]\u001b[A\n 59%|█████▉    | 1585/2682 [57:26<9:57:05, 32.66s/it]\u001b[A\n 59%|█████▉    | 1587/2682 [57:52<8:08:18, 26.76s/it]\u001b[A\n 59%|█████▉    | 1588/2682 [58:03<6:40:34, 21.97s/it]\u001b[A\n 59%|█████▉    | 1591/2682 [1:05:25<18:02:42, 59.54s/it]\u001b[A\n 59%|█████▉    | 1592/2682 [1:11:51<47:42:43, 157.58s/it]\u001b[A\n 59%|█████▉    | 1593/2682 [1:12:45<38:13:15, 126.35s/it]\u001b[A\n 59%|█████▉    | 1594/2682 [1:15:35<42:09:49, 139.51s/it]\u001b[A\n 60%|█████▉    | 1596/2682 [1:16:14<31:15:22, 103.61s/it]\u001b[A\n 60%|█████▉    | 1597/2682 [1:16:40<24:07:43, 80.06s/it]\u001b[A\n 60%|█████▉    | 1599/2682 [1:19:47<25:19:00, 84.16s/it]\u001b[A\n 60%|█████▉    | 1600/2682 [1:19:59<18:49:00, 62.61s/it]\u001b[A\n 60%|█████▉    | 1601/2682 [1:20:14<14:26:27, 48.09s/it]\u001b[A\n 60%|█████▉    | 1602/2682 [1:20:24<11:01:55, 36.77s/it]\u001b[A\n 60%|█████▉    | 1603/2682 [1:20:35<8:45:09, 29.20s/it]\u001b[A\n 60%|█████▉    | 1606/2682 [1:20:46<6:25:36, 21.50s/it]\u001b[A\n 60%|█████▉    | 1607/2682 [1:22:46<15:16:19, 51.14s/it]\u001b[A\n 60%|█████▉    | 1609/2682 [1:22:57<11:08:31, 37.38s/it]\u001b[A\n 60%|██████    | 1610/2682 [1:23:54<12:53:04, 43.27s/it]\u001b[A\n 60%|██████    | 1611/2682 [1:28:43<34:49:46, 117.07s/it]\u001b[A\n 60%|██████    | 1612/2682 [1:44:25<108:19:02, 364.43s/it]\u001b[A\n 60%|██████    | 1613/2682 [1:44:44<77:25:42, 260.75s/it]\u001b[A\n 60%|██████    | 1614/2682 [1:45:03<55:53:30, 188.40s/it]\u001b[A\n 60%|██████    | 1616/2682 [1:45:26<40:02:50, 135.24s/it]\u001b[A\n 60%|██████    | 1617/2682 [1:45:50<30:11:08, 102.04s/it]\u001b[A\n 60%|██████    | 1621/2682 [1:46:12<21:32:07, 73.07s/it]\u001b[A\n 61%|██████    | 1626/2682 [1:46:35<15:24:02, 52.50s/it]\u001b[A\n 61%|██████    | 1627/2682 [1:47:18<14:35:21, 49.78s/it]\u001b[A\n 61%|██████    | 1628/2682 [1:47:41<12:14:04, 41.79s/it]\u001b[A\n 61%|██████    | 1632/2682 [1:48:04<9:02:26, 31.00s/it]\u001b[A\n 61%|██████    | 1633/2682 [1:48:53<10:35:44, 36.36s/it]\u001b[A\n 61%|██████    | 1636/2682 [1:49:17<8:05:32, 27.85s/it]\u001b[A\n 61%|██████    | 1638/2682 [1:54:36<19:30:57, 67.30s/it]\u001b[A\n 61%|██████    | 1640/2682 [1:55:50<16:50:49, 58.21s/it]\u001b[A\n 61%|██████▏   | 1644/2682 [1:56:07<12:07:34, 42.06s/it]\u001b[A\n 61%|██████▏   | 1645/2682 [2:07:31<67:35:04, 234.62s/it]\u001b[A\n 61%|██████▏   | 1646/2682 [2:09:54<59:34:50, 207.04s/it]\u001b[A\n 61%|██████▏   | 1648/2682 [2:13:49<51:44:27, 180.14s/it]\u001b[A\n 61%|██████▏   | 1649/2682 [2:15:56<47:08:34, 164.29s/it]\u001b[A\n 62%|██████▏   | 1653/2682 [2:16:09<33:09:12, 115.99s/it]\u001b[A\n 62%|██████▏   | 1654/2682 [2:16:48<26:30:23, 92.82s/it]\u001b[A\n 62%|██████▏   | 1657/2682 [2:17:08<19:03:14, 66.92s/it]\u001b[A\n 62%|██████▏   | 1664/2682 [2:18:05<13:56:41, 49.31s/it]\u001b[A\n 62%|██████▏   | 1665/2682 [2:18:44<13:00:37, 46.05s/it]\u001b[A\n 62%|██████▏   | 1666/2682 [2:19:22<12:19:00, 43.64s/it]\u001b[A\n 62%|██████▏   | 1667/2682 [2:25:23<39:09:44, 138.90s/it]\u001b[A\n 62%|██████▏   | 1668/2682 [2:25:55<30:04:05, 106.75s/it]\u001b[A\n 62%|██████▏   | 1670/2682 [2:26:14<21:49:32, 77.64s/it]\u001b[A\n 62%|██████▏   | 1671/2682 [2:29:03<29:30:52, 105.10s/it]\u001b[A\n 62%|██████▏   | 1672/2682 [2:43:11<91:58:55, 327.86s/it]\u001b[A\n 62%|██████▏   | 1673/2682 [2:44:39<71:42:51, 255.87s/it]\u001b[A\n 62%|██████▏   | 1674/2682 [2:47:15<63:17:16, 226.03s/it]\u001b[A\n 62%|██████▏   | 1675/2682 [2:47:29<45:24:38, 162.34s/it]\u001b[A\n 63%|██████▎   | 1677/2682 [2:47:48<32:31:51, 116.53s/it]\u001b[A\n 63%|██████▎   | 1678/2682 [2:49:52<33:09:33, 118.90s/it]\u001b[A\n 63%|██████▎   | 1679/2682 [2:50:05<24:14:06, 86.99s/it]\u001b[A\n 63%|██████▎   | 1680/2682 [2:51:05<21:58:05, 78.93s/it]\u001b[A\n 63%|██████▎   | 1681/2682 [2:52:08<20:38:37, 74.24s/it]\u001b[A\n 63%|██████▎   | 1682/2682 [2:52:23<15:38:16, 56.30s/it]\u001b[A\n 63%|██████▎   | 1686/2682 [2:52:59<11:39:48, 42.16s/it]\u001b[A\n 63%|██████▎   | 1688/2682 [2:53:14<8:44:13, 31.64s/it]\u001b[A\n 63%|██████▎   | 1690/2682 [2:53:46<7:25:40, 26.96s/it]\u001b[A\n 63%|██████▎   | 1691/2682 [2:54:06<6:54:08, 25.07s/it]\u001b[A\n 63%|██████▎   | 1692/2682 [2:54:32<6:53:46, 25.08s/it]\u001b[A\n 63%|██████▎   | 1693/2682 [2:54:44<5:51:17, 21.31s/it]\u001b[A\n 63%|██████▎   | 1694/2682 [3:00:30<32:35:39, 118.76s/it]\u001b[A\n 63%|██████▎   | 1695/2682 [3:16:05<99:43:11, 363.72s/it]\u001b[A\n 63%|██████▎   | 1697/2682 [3:16:31<70:43:35, 258.49s/it]\u001b[A\n 63%|██████▎   | 1701/2682 [3:16:46<49:36:49, 182.07s/it]\u001b[A\n 63%|██████▎   | 1702/2682 [3:16:59<35:44:28, 131.29s/it]\u001b[A\n 64%|██████▎   | 1706/2682 [3:17:13<25:11:31, 92.92s/it]\u001b[A\n 64%|██████▎   | 1709/2682 [3:17:25<17:54:58, 66.29s/it]\u001b[A\n 64%|██████▍   | 1710/2682 [3:21:15<31:07:18, 115.27s/it]\u001b[A\n 64%|██████▍   | 1712/2682 [3:21:38<22:40:04, 84.13s/it]\u001b[A\n 64%|██████▍   | 1713/2682 [3:23:25<24:33:20, 91.23s/it]\u001b[A\n 64%|██████▍   | 1714/2682 [3:26:00<29:40:22, 110.35s/it]\u001b[A\n 64%|██████▍   | 1715/2682 [3:26:12<21:38:54, 80.59s/it]\u001b[A\n 64%|██████▍   | 1717/2682 [3:26:45<16:26:53, 61.36s/it]\u001b[A\n 64%|██████▍   | 1724/2682 [3:26:57<11:34:08, 43.47s/it]\u001b[A\n 65%|██████▍   | 1737/2682 [3:27:08<8:03:25, 30.69s/it]\u001b[A\n 65%|██████▍   | 1738/2682 [3:27:22<6:43:19, 25.64s/it]\u001b[A\n 65%|██████▍   | 1739/2682 [3:27:48<6:45:21, 25.79s/it]\u001b[A\n 65%|██████▍   | 1742/2682 [3:33:18<13:20:29, 51.10s/it]\u001b[A\n 65%|██████▍   | 1743/2682 [3:37:27<28:48:28, 110.45s/it]\u001b[A\n 65%|██████▌   | 1744/2682 [3:38:35<25:26:41, 97.66s/it]\u001b[A\n 65%|██████▌   | 1745/2682 [3:39:25<21:39:19, 83.20s/it]\u001b[A\n 66%|██████▌   | 1757/2682 [3:39:37<15:02:49, 58.56s/it]\u001b[A\n 66%|██████▌   | 1761/2682 [3:39:50<10:43:09, 41.90s/it]\u001b[A\n 66%|██████▌   | 1769/2682 [3:40:02<7:33:35, 29.81s/it]\u001b[A\n 66%|██████▌   | 1771/2682 [3:41:04<7:36:59, 30.10s/it]\u001b[A\n 66%|██████▌   | 1772/2682 [3:43:08<14:44:44, 58.34s/it]\u001b[A\n 66%|██████▌   | 1773/2682 [3:49:55<41:07:39, 162.88s/it]\u001b[A\n 66%|██████▌   | 1774/2682 [3:53:38<45:37:46, 180.91s/it]\u001b[A\n 66%|██████▌   | 1776/2682 [3:54:34<33:59:13, 135.05s/it]\u001b[A\n 66%|██████▋   | 1777/2682 [3:56:27<32:17:41, 128.47s/it]\u001b[A\n 66%|██████▋   | 1778/2682 [3:57:30<27:19:52, 108.84s/it]\u001b[A\n 67%|██████▋   | 1788/2682 [3:58:31<19:22:14, 78.00s/it]\u001b[A\n 67%|██████▋   | 1793/2682 [3:58:41<13:38:03, 55.21s/it]\u001b[A\n 67%|██████▋   | 1797/2682 [3:58:54<9:44:15, 39.61s/it]\u001b[A\n 67%|██████▋   | 1799/2682 [3:59:50<8:51:29, 36.11s/it]\u001b[A\n 67%|██████▋   | 1803/2682 [4:00:00<6:21:24, 26.03s/it]\u001b[A\n 67%|██████▋   | 1809/2682 [4:02:42<6:22:57, 26.32s/it]\u001b[A\n 67%|██████▋   | 1810/2682 [4:16:43<65:36:20, 270.85s/it]\u001b[A\n 68%|██████▊   | 1811/2682 [4:21:28<66:33:11, 275.08s/it]\u001b[A\n 68%|██████▊   | 1813/2682 [4:23:02<49:53:52, 206.71s/it]\u001b[A\n 68%|██████▊   | 1814/2682 [4:23:28<36:43:15, 152.30s/it]\u001b[A\n 68%|██████▊   | 1823/2682 [4:23:54<25:39:04, 107.50s/it]\u001b[A\n 68%|██████▊   | 1826/2682 [4:24:21<18:31:16, 77.89s/it]\u001b[A\n 68%|██████▊   | 1835/2682 [4:24:45<13:01:16, 55.34s/it]\u001b[A\n 68%|██████▊   | 1837/2682 [4:25:17<10:12:25, 43.49s/it]\u001b[A\n 69%|██████▊   | 1838/2682 [4:25:28<7:53:54, 33.69s/it]\u001b[A\n 69%|██████▉   | 1844/2682 [4:37:11<13:40:06, 58.72s/it]\u001b[A\n 69%|██████▉   | 1845/2682 [4:51:06<67:49:24, 291.71s/it]\u001b[A\n 69%|██████▉   | 1847/2682 [4:51:24<47:59:51, 206.94s/it]\u001b[A\n 69%|██████▉   | 1849/2682 [4:52:43<36:15:02, 156.67s/it]\u001b[A\n 69%|██████▉   | 1850/2682 [4:53:24<28:10:37, 121.92s/it]\u001b[A\n 69%|██████▉   | 1852/2682 [4:53:36<20:05:13, 87.12s/it]\u001b[A\n 70%|██████▉   | 1867/2682 [4:53:46<13:51:13, 61.19s/it]\u001b[A\n 70%|██████▉   | 1874/2682 [4:53:57<9:43:24, 43.32s/it]\u001b[A\n 70%|██████▉   | 1876/2682 [4:54:47<8:28:05, 37.82s/it]\u001b[A\n 70%|███████   | 1879/2682 [4:55:03<6:15:51, 28.08s/it]\u001b[A\n 70%|███████   | 1880/2682 [5:04:12<41:02:35, 184.23s/it]\u001b[A\n 70%|███████   | 1881/2682 [5:05:09<32:28:55, 145.99s/it]\u001b[A\n 70%|███████   | 1882/2682 [5:05:30<24:07:48, 108.59s/it]\u001b[A\n 70%|███████   | 1883/2682 [5:10:32<36:56:53, 166.47s/it]\u001b[A\n 70%|███████   | 1884/2682 [5:13:04<35:57:48, 162.24s/it]\u001b[A\n 70%|███████   | 1885/2682 [5:15:22<34:16:14, 154.80s/it]\u001b[A\n 70%|███████   | 1886/2682 [5:16:01<26:36:16, 120.32s/it]\u001b[A"
    },
    {
     "ename": "NoSuchWindowException",
     "evalue": "Message: no such window: window was already closed\n  (Session info: chrome=80.0.3987.132)\n",
     "output_type": "error",
     "traceback": [
      "\u001b[0;31m---------------------------------------------------------------------------\u001b[0m",
      "\u001b[0;31mNoSuchWindowException\u001b[0m                     Traceback (most recent call last)",
      "\u001b[0;32m<ipython-input-18-a511b01418d5>\u001b[0m in \u001b[0;36m<module>\u001b[0;34m\u001b[0m\n\u001b[1;32m     15\u001b[0m     \u001b[0;32melse\u001b[0m\u001b[0;34m:\u001b[0m\u001b[0;34m\u001b[0m\u001b[0;34m\u001b[0m\u001b[0m\n\u001b[1;32m     16\u001b[0m         \u001b[0;32mfor\u001b[0m \u001b[0mID\u001b[0m \u001b[0;32min\u001b[0m \u001b[0mrange\u001b[0m\u001b[0;34m(\u001b[0m\u001b[0mint\u001b[0m\u001b[0;34m(\u001b[0m\u001b[0mID1\u001b[0m\u001b[0;34m)\u001b[0m\u001b[0;34m+\u001b[0m\u001b[0;36m1\u001b[0m\u001b[0;34m,\u001b[0m \u001b[0mint\u001b[0m\u001b[0;34m(\u001b[0m\u001b[0mID2\u001b[0m\u001b[0;34m)\u001b[0m\u001b[0;34m)\u001b[0m\u001b[0;34m:\u001b[0m\u001b[0;34m\u001b[0m\u001b[0;34m\u001b[0m\u001b[0m\n\u001b[0;32m---> 17\u001b[0;31m             \u001b[0marchiveurl\u001b[0m \u001b[0;34m=\u001b[0m \u001b[0mget_archiveurl_from_id\u001b[0m\u001b[0;34m(\u001b[0m\u001b[0mID\u001b[0m\u001b[0;34m,\u001b[0m \u001b[0mdate\u001b[0m\u001b[0;34m)\u001b[0m \u001b[0;31m# try the same day\u001b[0m\u001b[0;34m\u001b[0m\u001b[0;34m\u001b[0m\u001b[0m\n\u001b[0m\u001b[1;32m     18\u001b[0m             \u001b[0;32mif\u001b[0m \u001b[0marchiveurl\u001b[0m \u001b[0;34m!=\u001b[0m \u001b[0;32mNone\u001b[0m\u001b[0;34m:\u001b[0m\u001b[0;34m\u001b[0m\u001b[0;34m\u001b[0m\u001b[0m\n\u001b[1;32m     19\u001b[0m                 \u001b[0mdic\u001b[0m \u001b[0;34m=\u001b[0m \u001b[0mget_article_from_archiveurl\u001b[0m\u001b[0;34m(\u001b[0m\u001b[0marchiveurl\u001b[0m\u001b[0;34m)\u001b[0m\u001b[0;34m\u001b[0m\u001b[0;34m\u001b[0m\u001b[0m\n",
      "\u001b[0;32m<ipython-input-2-2d8e325f5dd2>\u001b[0m in \u001b[0;36mget_archiveurl_from_id\u001b[0;34m(ID, date, http)\u001b[0m\n\u001b[1;32m     82\u001b[0m     \u001b[0mdriver\u001b[0m\u001b[0;34m.\u001b[0m\u001b[0mget\u001b[0m\u001b[0;34m(\u001b[0m\u001b[0murl\u001b[0m\u001b[0;34m)\u001b[0m\u001b[0;34m\u001b[0m\u001b[0;34m\u001b[0m\u001b[0m\n\u001b[1;32m     83\u001b[0m     \u001b[0mtime\u001b[0m\u001b[0;34m.\u001b[0m\u001b[0msleep\u001b[0m\u001b[0;34m(\u001b[0m\u001b[0;36m3\u001b[0m\u001b[0;34m)\u001b[0m\u001b[0;34m\u001b[0m\u001b[0;34m\u001b[0m\u001b[0m\n\u001b[0;32m---> 84\u001b[0;31m     \u001b[0mhtml\u001b[0m \u001b[0;34m=\u001b[0m \u001b[0mstr\u001b[0m\u001b[0;34m(\u001b[0m\u001b[0mdriver\u001b[0m\u001b[0;34m.\u001b[0m\u001b[0mpage_source\u001b[0m\u001b[0;34m.\u001b[0m\u001b[0mencode\u001b[0m\u001b[0;34m(\u001b[0m\u001b[0;34m'utf-8'\u001b[0m\u001b[0;34m)\u001b[0m\u001b[0;34m)\u001b[0m\u001b[0;34m\u001b[0m\u001b[0;34m\u001b[0m\u001b[0m\n\u001b[0m\u001b[1;32m     85\u001b[0m     \u001b[0msnap\u001b[0m \u001b[0;34m=\u001b[0m \u001b[0mre\u001b[0m\u001b[0;34m.\u001b[0m\u001b[0msearch\u001b[0m\u001b[0;34m(\u001b[0m\u001b[0;34mr'(times between|1 time|times).*?<a href=\"(.+?)\">'\u001b[0m\u001b[0;34m,\u001b[0m \u001b[0mhtml\u001b[0m\u001b[0;34m)\u001b[0m\u001b[0;34m\u001b[0m\u001b[0;34m\u001b[0m\u001b[0m\n\u001b[1;32m     86\u001b[0m     \u001b[0marchiveurl\u001b[0m \u001b[0;34m=\u001b[0m \u001b[0;34m'https://web.archive.org'\u001b[0m \u001b[0;34m+\u001b[0m \u001b[0msnap\u001b[0m\u001b[0;34m.\u001b[0m\u001b[0mgroup\u001b[0m\u001b[0;34m(\u001b[0m\u001b[0;36m2\u001b[0m\u001b[0;34m)\u001b[0m\u001b[0;34m\u001b[0m\u001b[0;34m\u001b[0m\u001b[0m\n",
      "\u001b[0;32m/Library/Frameworks/Python.framework/Versions/3.7/lib/python3.7/site-packages/selenium/webdriver/remote/webdriver.py\u001b[0m in \u001b[0;36mpage_source\u001b[0;34m(self)\u001b[0m\n\u001b[1;32m    677\u001b[0m             \u001b[0mdriver\u001b[0m\u001b[0;34m.\u001b[0m\u001b[0mpage_source\u001b[0m\u001b[0;34m\u001b[0m\u001b[0;34m\u001b[0m\u001b[0m\n\u001b[1;32m    678\u001b[0m         \"\"\"\n\u001b[0;32m--> 679\u001b[0;31m         \u001b[0;32mreturn\u001b[0m \u001b[0mself\u001b[0m\u001b[0;34m.\u001b[0m\u001b[0mexecute\u001b[0m\u001b[0;34m(\u001b[0m\u001b[0mCommand\u001b[0m\u001b[0;34m.\u001b[0m\u001b[0mGET_PAGE_SOURCE\u001b[0m\u001b[0;34m)\u001b[0m\u001b[0;34m[\u001b[0m\u001b[0;34m'value'\u001b[0m\u001b[0;34m]\u001b[0m\u001b[0;34m\u001b[0m\u001b[0;34m\u001b[0m\u001b[0m\n\u001b[0m\u001b[1;32m    680\u001b[0m \u001b[0;34m\u001b[0m\u001b[0m\n\u001b[1;32m    681\u001b[0m     \u001b[0;32mdef\u001b[0m \u001b[0mclose\u001b[0m\u001b[0;34m(\u001b[0m\u001b[0mself\u001b[0m\u001b[0;34m)\u001b[0m\u001b[0;34m:\u001b[0m\u001b[0;34m\u001b[0m\u001b[0;34m\u001b[0m\u001b[0m\n",
      "\u001b[0;32m/Library/Frameworks/Python.framework/Versions/3.7/lib/python3.7/site-packages/selenium/webdriver/remote/webdriver.py\u001b[0m in \u001b[0;36mexecute\u001b[0;34m(self, driver_command, params)\u001b[0m\n\u001b[1;32m    319\u001b[0m         \u001b[0mresponse\u001b[0m \u001b[0;34m=\u001b[0m \u001b[0mself\u001b[0m\u001b[0;34m.\u001b[0m\u001b[0mcommand_executor\u001b[0m\u001b[0;34m.\u001b[0m\u001b[0mexecute\u001b[0m\u001b[0;34m(\u001b[0m\u001b[0mdriver_command\u001b[0m\u001b[0;34m,\u001b[0m \u001b[0mparams\u001b[0m\u001b[0;34m)\u001b[0m\u001b[0;34m\u001b[0m\u001b[0;34m\u001b[0m\u001b[0m\n\u001b[1;32m    320\u001b[0m         \u001b[0;32mif\u001b[0m \u001b[0mresponse\u001b[0m\u001b[0;34m:\u001b[0m\u001b[0;34m\u001b[0m\u001b[0;34m\u001b[0m\u001b[0m\n\u001b[0;32m--> 321\u001b[0;31m             \u001b[0mself\u001b[0m\u001b[0;34m.\u001b[0m\u001b[0merror_handler\u001b[0m\u001b[0;34m.\u001b[0m\u001b[0mcheck_response\u001b[0m\u001b[0;34m(\u001b[0m\u001b[0mresponse\u001b[0m\u001b[0;34m)\u001b[0m\u001b[0;34m\u001b[0m\u001b[0;34m\u001b[0m\u001b[0m\n\u001b[0m\u001b[1;32m    322\u001b[0m             response['value'] = self._unwrap_value(\n\u001b[1;32m    323\u001b[0m                 response.get('value', None))\n",
      "\u001b[0;32m/Library/Frameworks/Python.framework/Versions/3.7/lib/python3.7/site-packages/selenium/webdriver/remote/errorhandler.py\u001b[0m in \u001b[0;36mcheck_response\u001b[0;34m(self, response)\u001b[0m\n\u001b[1;32m    240\u001b[0m                 \u001b[0malert_text\u001b[0m \u001b[0;34m=\u001b[0m \u001b[0mvalue\u001b[0m\u001b[0;34m[\u001b[0m\u001b[0;34m'alert'\u001b[0m\u001b[0;34m]\u001b[0m\u001b[0;34m.\u001b[0m\u001b[0mget\u001b[0m\u001b[0;34m(\u001b[0m\u001b[0;34m'text'\u001b[0m\u001b[0;34m)\u001b[0m\u001b[0;34m\u001b[0m\u001b[0;34m\u001b[0m\u001b[0m\n\u001b[1;32m    241\u001b[0m             \u001b[0;32mraise\u001b[0m \u001b[0mexception_class\u001b[0m\u001b[0;34m(\u001b[0m\u001b[0mmessage\u001b[0m\u001b[0;34m,\u001b[0m \u001b[0mscreen\u001b[0m\u001b[0;34m,\u001b[0m \u001b[0mstacktrace\u001b[0m\u001b[0;34m,\u001b[0m \u001b[0malert_text\u001b[0m\u001b[0;34m)\u001b[0m\u001b[0;34m\u001b[0m\u001b[0;34m\u001b[0m\u001b[0m\n\u001b[0;32m--> 242\u001b[0;31m         \u001b[0;32mraise\u001b[0m \u001b[0mexception_class\u001b[0m\u001b[0;34m(\u001b[0m\u001b[0mmessage\u001b[0m\u001b[0;34m,\u001b[0m \u001b[0mscreen\u001b[0m\u001b[0;34m,\u001b[0m \u001b[0mstacktrace\u001b[0m\u001b[0;34m)\u001b[0m\u001b[0;34m\u001b[0m\u001b[0;34m\u001b[0m\u001b[0m\n\u001b[0m\u001b[1;32m    243\u001b[0m \u001b[0;34m\u001b[0m\u001b[0m\n\u001b[1;32m    244\u001b[0m     \u001b[0;32mdef\u001b[0m \u001b[0m_value_or_default\u001b[0m\u001b[0;34m(\u001b[0m\u001b[0mself\u001b[0m\u001b[0;34m,\u001b[0m \u001b[0mobj\u001b[0m\u001b[0;34m,\u001b[0m \u001b[0mkey\u001b[0m\u001b[0;34m,\u001b[0m \u001b[0mdefault\u001b[0m\u001b[0;34m)\u001b[0m\u001b[0;34m:\u001b[0m\u001b[0;34m\u001b[0m\u001b[0;34m\u001b[0m\u001b[0m\n",
      "\u001b[0;31mNoSuchWindowException\u001b[0m: Message: no such window: window was already closed\n  (Session info: chrome=80.0.3987.132)\n"
     ]
    }
   ],
   "source": [
    "year = 2019\n",
    "\n",
    "for i in tqdm.tqdm(range(9318, 12000)):\n",
    "    # get the present row & next row\n",
    "    ID1, ID2 = data.iat[i,0], data.iat[i+1,0]\n",
    "    date = data.iat[i,2]\n",
    "    before = datebefore(date)\n",
    "    after = dateafter(date)\n",
    "\n",
    "    # ID is continuous = no missing\n",
    "    if int(ID1) + 1 == int(ID2):\n",
    "        continue\n",
    "\n",
    "    # not continuous\n",
    "    else:  \n",
    "        for ID in range(int(ID1)+1, int(ID2)):\n",
    "            archiveurl = get_archiveurl_from_id(ID, date) # try the same day\n",
    "            if archiveurl != None:\n",
    "                dic = get_article_from_archiveurl(archiveurl)\n",
    "                if dic:\n",
    "                    js(dic, year)\n",
    "                else:\n",
    "                    write_nolink(ID) # error in NHK\n",
    "            else:\n",
    "                archiveurl = get_archiveurl_from_id(ID, after) # try the next day\n",
    "                if archiveurl != None:\n",
    "                    dic = get_article_from_archiveurl(archiveurl)\n",
    "                    if dic:\n",
    "                        js(dic, year)\n",
    "                    else:\n",
    "                        write_nolink(ID) # error in NHK\n",
    "                else: \n",
    "                    archiveurl = get_archiveurl_from_id(ID, before) # try the previous day\n",
    "                    if archiveurl != None:\n",
    "                        dic = get_article_from_archiveurl(archiveurl)\n",
    "                        if dic:\n",
    "                            js(dic, year)\n",
    "                        else:\n",
    "                            write_nolink(ID) # error in NHK\n",
    "                    else:\n",
    "                        write_nolink(ID) # nolink\n"
   ]
  },
  {
   "cell_type": "code",
   "execution_count": 18,
   "metadata": {},
   "outputs": [
    {
     "data": {
      "text/plain": "1001185289"
     },
     "execution_count": 18,
     "metadata": {},
     "output_type": "execute_result"
    }
   ],
   "source": [
    "ID"
   ]
  },
  {
   "cell_type": "code",
   "execution_count": 10,
   "metadata": {},
   "outputs": [
    {
     "name": "stderr",
     "output_type": "stream",
     "text": "/Library/Frameworks/Python.framework/Versions/3.7/lib/python3.7/site-packages/ipykernel_launcher.py:2: FutureWarning: The signature of `Series.to_csv` was aligned to that of `DataFrame.to_csv`, and argument 'header' will change its default value from False to True: please pass an explicit value to suppress this warning.\n  \n"
    }
   ],
   "source": [
    "nolinklist = pd.read_csv('nolinknormal.txt', header=None)\n",
    "pd.DataFrame(sorted(set(map(str, nolinklist[0])) - set(data.id)))[0].to_csv('nolinknormal.txt', index=None)"
   ]
  },
  {
   "cell_type": "code",
   "execution_count": null,
   "metadata": {},
   "outputs": [],
   "source": []
  }
 ]
}