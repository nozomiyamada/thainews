{
 "nbformat": 4,
 "nbformat_minor": 2,
 "metadata": {
  "language_info": {
   "name": "python",
   "codemirror_mode": {
    "name": "ipython",
    "version": 3
   },
   "version": "3.7.6-final"
  },
  "orig_nbformat": 2,
  "file_extension": ".py",
  "mimetype": "text/x-python",
  "name": "python",
  "npconvert_exporter": "python",
  "pygments_lexer": "ipython3",
  "version": 3,
  "kernelspec": {
   "name": "python37664bit159cf5e9823545708744fa9c9ccfe5dc",
   "display_name": "Python 3.7.6 64-bit"
  }
 },
 "cells": [
  {
   "cell_type": "code",
   "execution_count": 1,
   "metadata": {},
   "outputs": [],
   "source": [
    "import numpy as np\n",
    "import pandas as pd\n",
    "import re, json, csv, requests, time, glob, tqdm\n",
    "from bs4 import BeautifulSoup\n",
    "from selenium import webdriver\n",
    "from collections import Counter"
   ]
  },
  {
   "cell_type": "code",
   "execution_count": 2,
   "metadata": {},
   "outputs": [],
   "source": [
    "def scrape_one_new(html, url):\n",
    "    soup = BeautifulSoup(html, \"html.parser\")\n",
    "    json_data = json.loads(soup.find_all(\"script\", type=\"application/ld+json\")[-1].text)\n",
    "    title = json_data.get('headline', soup.find('span', class_='contentTitle').text)\n",
    "    date = json_data.get('datePublished', re.search(r'datetime:.*?(\\d{4}-\\d{2}-\\d{2}T\\d{2}:\\d{2})', str(html)).group(1))\n",
    "    date_m = json_data.get('dateModified', '')\n",
    "    genre = json_data.get('genre', [])\n",
    "    if genre == []:\n",
    "        genre = [k for k in soup.find('meta', attrs={'name':'keywords'}).get('content').split(',') if k not in ['NHK','ニュース', 'NHK NEWS WEB']]\n",
    "    keywords = json_data.get('keywords', [])\n",
    "    article = soup.find('div', id=\"news_textbody\").text\n",
    "    if soup.find_all('div', id=\"news_textmore\") != []:\n",
    "        for textmore in soup.find_all('div', id=\"news_textmore\"):\n",
    "            article += ('\\n' + textmore.text)\n",
    "    if soup.find_all('div', class_=\"news_add\") != []:\n",
    "        for newsadd in soup.find_all('div', class_=\"news_add\"):\n",
    "            if newsadd.h3 != None:\n",
    "                newsadd.h3.extract()\n",
    "            article += ('\\n' + newsadd.text)\n",
    "            \n",
    "    return {\n",
    "        'id':url.split('/')[-1].split('.html')[0],\n",
    "        'title':title,\n",
    "        'article':article.strip(),\n",
    "        'genre':genre,\n",
    "        'keywords':keywords,\n",
    "        'url':url,\n",
    "        'datePublished':date,\n",
    "        'dateModified':date_m\n",
    "    }\n",
    "\n",
    "# for old web normal\n",
    "def make_date_normal_old(hmd,time):\n",
    "    year, month, day = hmd[:4], hmd[4:6], hmd[6:]\n",
    "    hour, minute = time.split('時')\n",
    "    minute = minute.strip('分')\n",
    "    if len(hour) == 1:\n",
    "        hour = '0' + hour\n",
    "    if len(minute) == 1:\n",
    "        minute = '0' + minute\n",
    "    return f\"{year}-{month}-{day}T{hour}:{minute}\"\n",
    "\n",
    "def scrape_one_old(html, url):\n",
    "    soup = BeautifulSoup(html, \"html.parser\")\n",
    "    title = soup.find('span', class_=\"contentTitle\").text.strip()\n",
    "    hmd_ = url.split('/')[-2]\n",
    "    time_ = soup.find('span', id=\"news_time\").text\n",
    "    date = make_date_normal_old(hmd_, time_)\n",
    "    genre = [k for k in soup.find('meta', attrs={'name':'keywords'}).get('content').split(',') if k not in ['NHK','ニュース', 'NHK NEWS WEB','ＮＨＫ','ＮＨＫニュース','']]\n",
    "    article = soup.find(['div','p'], id=\"news_textbody\").text\n",
    "    if soup.find_all(['div','p'], id=\"news_textmore\") != []:\n",
    "        for textmore in soup.find_all(['div','p'], id=\"news_textmore\"):\n",
    "            article += ('\\n' + textmore.text)\n",
    "    if soup.find_all(['div','p'], class_=\"news_add\") != []:\n",
    "        for newsadd in soup.find_all(['div','p'], class_=\"news_add\"):\n",
    "            if newsadd.h3 != None:\n",
    "                newsadd.h3.extract()\n",
    "            article += ('\\n' + newsadd.text)\n",
    "            \n",
    "    return {\n",
    "        'id':url.split('/')[-1].split('.html')[0],\n",
    "        'title':title,\n",
    "        'article':article.strip(),\n",
    "        'genre':genre,\n",
    "        'keywords':[],\n",
    "        'url':url,\n",
    "        'datePublished':date,\n",
    "        'dateModified':\"\"\n",
    "    }\n",
    "\n",
    "def get_archiveurl_from_id(ID, date):\n",
    "    url1 = f'https://web.archive.org/web/*/https://www3.nhk.or.jp/news/html/{date}/k{ID}1000.html'\n",
    "    url2 = f'https://web.archive.org/web/*/http://www3.nhk.or.jp/news/html/{date}/k{ID}1000.html'\n",
    "    \n",
    "    driver.get(url1)\n",
    "    time.sleep(3)\n",
    "    html = str(driver.page_source.encode('utf-8'))\n",
    "    snap = re.search(r'(times between|1 time|times).*?<a href=\"(.+?)\">', html)\n",
    "    archiveurl = 'https://web.archive.org' + snap.group(2)\n",
    "    \n",
    "    if 'nhk' not in archiveurl:\n",
    "        driver.get(url2)\n",
    "        time.sleep(3)\n",
    "        html = str(driver.page_source.encode('utf-8'))\n",
    "        snap = re.search(r'(times between|1 time|times).*?<a href=\"(.+?)\">', html)\n",
    "        archiveurl = 'https://web.archive.org' + snap.group(2)\n",
    "    return None if 'nhk' not in archiveurl else archiveurl\n",
    "\n",
    "def get_article_from_archiveurl(archiveurl):\n",
    "    response = requests.get(archiveurl)\n",
    "    time.sleep(2)\n",
    "    html = response.text\n",
    "    url_true = 'http' + archiveurl.split('/http')[-1]\n",
    "    if 'This page is not available on the web' in html:\n",
    "        return None\n",
    "    try:\n",
    "        try:\n",
    "            dic = scrape_one_new(html, url_true)\n",
    "        except:\n",
    "            dic = scrape_one_old(html, url_true)\n",
    "        return dic\n",
    "    except:\n",
    "        return None\n",
    "\n",
    "def js(dic, year):\n",
    "    if dic == None:\n",
    "        return\n",
    "    with open(f'nhkweb{year}.json', 'r', encoding='utf-8') as f:\n",
    "        data = json.load(f)\n",
    "    with open(f'nhkweb{year}.json', 'w', encoding='utf-8') as f:\n",
    "        if dic['id'] not in [x['id'] for x in data]:\n",
    "            data.append(dic)\n",
    "        else:\n",
    "            for i, d in enumerate(data):\n",
    "                if dic['id'] == d['id']:\n",
    "                    data[i] = dic\n",
    "        data = sorted(data, key=lambda x:x['id'])\n",
    "        json.dump(data, f, indent=4, ensure_ascii=False)"
   ]
  },
  {
   "cell_type": "markdown",
   "metadata": {},
   "source": [
    "# check ID"
   ]
  },
  {
   "cell_type": "code",
   "execution_count": 10,
   "metadata": {},
   "outputs": [
    {
     "data": {
      "text/html": "<div>\n<style scoped>\n    .dataframe tbody tr th:only-of-type {\n        vertical-align: middle;\n    }\n\n    .dataframe tbody tr th {\n        vertical-align: top;\n    }\n\n    .dataframe thead th {\n        text-align: right;\n    }\n</style>\n<table border=\"1\" class=\"dataframe\">\n  <thead>\n    <tr style=\"text-align: right;\">\n      <th></th>\n      <th>id</th>\n      <th>title</th>\n      <th>article</th>\n      <th>genre</th>\n      <th>keywords</th>\n      <th>url</th>\n      <th>datePublished</th>\n      <th>dateModified</th>\n    </tr>\n  </thead>\n  <tbody>\n    <tr>\n      <th>0</th>\n      <td>k10011760881000</td>\n      <td>僕、迷惑ですか？</td>\n      <td>東日本大震災のあと、「僕」は売れっ子になりました。売り上げは何倍にも跳ね上がり、カジュアルだ...</td>\n      <td>[暮らし]</td>\n      <td>[]</td>\n      <td>https://www3.nhk.or.jp/news/html/20190104/k100...</td>\n      <td>2019-01-04T12:32:01+09:00</td>\n      <td>2019-01-04T12:32:02+09:00</td>\n    </tr>\n    <tr>\n      <th>1</th>\n      <td>k10011764791000</td>\n      <td>日米欧もアジアも 2018年 株価下落 景気先行きに不安根強く</td>\n      <td>ニューヨーク株式市場は31日、2018年最後の取り引きが行われ、ダウ平均株価は値上がりして取...</td>\n      <td>[ビジネス]</td>\n      <td>[株価・為替]</td>\n      <td>http://www3.nhk.or.jp/news/html/20190101/k1001...</td>\n      <td>2019-01-01T08:55</td>\n      <td></td>\n    </tr>\n    <tr>\n      <th>2</th>\n      <td>k10011764801000</td>\n      <td>ロシア スパイ容疑で米国人の男拘束 米ロ関係一層悪化へ</td>\n      <td>ロシアの治安当局は、スパイ活動をしていた疑いでアメリカ人の男をモスクワ市内で拘束しました。米...</td>\n      <td>[国際]</td>\n      <td>[]</td>\n      <td>https://www3.nhk.or.jp/news/html/20190101/k100...</td>\n      <td>2019-01-01T08:39</td>\n      <td></td>\n    </tr>\n    <tr>\n      <th>3</th>\n      <td>k10011764811000</td>\n      <td>独 メルケル首相 米欧の自国第一主義に懸念 新年前に演説</td>\n      <td>ドイツのメルケル首相は新年を前にした恒例のテレビ演説で「国際協調という確かなものが圧力にさら...</td>\n      <td>[国際]</td>\n      <td>[]</td>\n      <td>http://www3.nhk.or.jp/news/html/20190101/k1001...</td>\n      <td>2019-01-01T09:02</td>\n      <td></td>\n    </tr>\n    <tr>\n      <th>4</th>\n      <td>k10011764821000</td>\n      <td>マーライオンも摩天楼も 新年祝う花火が照らす</td>\n      <td>日本より１時間遅れで新年を迎えたシンガポールでは、観光名所として知られるマーライオンの像の前...</td>\n      <td>[国際]</td>\n      <td>[国際５]</td>\n      <td>http://www3.nhk.or.jp/news/html/20190101/k1001...</td>\n      <td>2019-01-01T09:13</td>\n      <td></td>\n    </tr>\n  </tbody>\n</table>\n</div>",
      "text/plain": "                id                            title  \\\n0  k10011760881000                         僕、迷惑ですか？   \n1  k10011764791000  日米欧もアジアも 2018年 株価下落 景気先行きに不安根強く   \n2  k10011764801000      ロシア スパイ容疑で米国人の男拘束 米ロ関係一層悪化へ   \n3  k10011764811000     独 メルケル首相 米欧の自国第一主義に懸念 新年前に演説   \n4  k10011764821000           マーライオンも摩天楼も 新年祝う花火が照らす   \n\n                                             article   genre keywords  \\\n0  東日本大震災のあと、「僕」は売れっ子になりました。売り上げは何倍にも跳ね上がり、カジュアルだ...   [暮らし]       []   \n1  ニューヨーク株式市場は31日、2018年最後の取り引きが行われ、ダウ平均株価は値上がりして取...  [ビジネス]  [株価・為替]   \n2  ロシアの治安当局は、スパイ活動をしていた疑いでアメリカ人の男をモスクワ市内で拘束しました。米...    [国際]       []   \n3  ドイツのメルケル首相は新年を前にした恒例のテレビ演説で「国際協調という確かなものが圧力にさら...    [国際]       []   \n4  日本より１時間遅れで新年を迎えたシンガポールでは、観光名所として知られるマーライオンの像の前...    [国際]    [国際５]   \n\n                                                 url  \\\n0  https://www3.nhk.or.jp/news/html/20190104/k100...   \n1  http://www3.nhk.or.jp/news/html/20190101/k1001...   \n2  https://www3.nhk.or.jp/news/html/20190101/k100...   \n3  http://www3.nhk.or.jp/news/html/20190101/k1001...   \n4  http://www3.nhk.or.jp/news/html/20190101/k1001...   \n\n               datePublished               dateModified  \n0  2019-01-04T12:32:01+09:00  2019-01-04T12:32:02+09:00  \n1           2019-01-01T08:55                             \n2           2019-01-01T08:39                             \n3           2019-01-01T09:02                             \n4           2019-01-01T09:13                             "
     },
     "execution_count": 10,
     "metadata": {},
     "output_type": "execute_result"
    }
   ],
   "source": [
    "data = pd.read_json('nhkweb2019.json')\n",
    "data.head()"
   ]
  },
  {
   "cell_type": "markdown",
   "metadata": {},
   "source": [
    "# get missing url"
   ]
  },
  {
   "cell_type": "code",
   "execution_count": 4,
   "metadata": {},
   "outputs": [
    {
     "data": {
      "text/html": "<div>\n<style scoped>\n    .dataframe tbody tr th:only-of-type {\n        vertical-align: middle;\n    }\n\n    .dataframe tbody tr th {\n        vertical-align: top;\n    }\n\n    .dataframe thead th {\n        text-align: right;\n    }\n</style>\n<table border=\"1\" class=\"dataframe\">\n  <thead>\n    <tr style=\"text-align: right;\">\n      <th></th>\n      <th>id</th>\n      <th>url</th>\n      <th>date</th>\n    </tr>\n  </thead>\n  <tbody>\n    <tr>\n      <th>297</th>\n      <td>1001176803</td>\n      <td>https://www3.nhk.or.jp/news/html/20190105/k100...</td>\n      <td>20190105</td>\n    </tr>\n  </tbody>\n</table>\n</div>",
      "text/plain": "             id                                                url      date\n297  1001176803  https://www3.nhk.or.jp/news/html/20190105/k100...  20190105"
     },
     "execution_count": 4,
     "metadata": {},
     "output_type": "execute_result"
    }
   ],
   "source": [
    "data = pd.read_json('nhkweb2019.json')\n",
    "data = data[['id', 'url']]\n",
    "data.id = data.id.apply(lambda x:x[1:-4])\n",
    "data['date'] = data.url.apply(lambda x:x.split('news/html/')[-1].split('/')[0])\n",
    "data[data.id == \"1001176803\"]"
   ]
  },
  {
   "cell_type": "code",
   "execution_count": 5,
   "metadata": {},
   "outputs": [],
   "source": [
    "driver = webdriver.Chrome()"
   ]
  },
  {
   "cell_type": "code",
   "execution_count": 6,
   "metadata": {},
   "outputs": [
    {
     "name": "stdout",
     "output_type": "stream",
     "text": "1001176803\n1001176842\n1001176854\n1001176865\n1001176869\n1001176871\n1001176895\n1001176919\n1001176940\n1001176946\n1001176949\n1001176952\n1001176954\n1001176960\n1001176963\n1001176969\n1001176973\n1001176997\n1001177003\n1001177024\n1001177033\n1001177039\n1001177041\n1001177043\n1001177045\n1001177049\n1001177057\n1001177076\n"
    }
   ],
   "source": [
    "year = 2019\n",
    "\n",
    "for i in range(297, 500):\n",
    "    ID1, ID2 = data.iat[i,0], data.iat[i+1,0]\n",
    "    date1, date2 = data.iat[i,2], data.iat[i+1,2]\n",
    "\n",
    "    if int(ID1) + 1 == int(ID2): # continuous = no missing\n",
    "        continue\n",
    "    elif date1 == date2:  # not continuous, but in the same day\n",
    "        print(ID1)\n",
    "        for ID in range(int(ID1)+1, int(ID2)):\n",
    "            archiveurl = get_archiveurl_from_id(ID, date1)\n",
    "            if archiveurl != None:\n",
    "                dic = get_article_from_archiveurl(archiveurl)\n",
    "                js(dic, year)\n",
    "    else:  # not continuous, not in the same day\n",
    "        print(ID1)\n",
    "        is_date1 = True\n",
    "        for ID in range(int(ID1)+1, int(ID2)):\n",
    "            if is_date1:\n",
    "                archiveurl = get_archiveurl_from_id(ID, date1)\n",
    "                if archiveurl:\n",
    "                    dic = get_article_from_archiveurl(archiveurl)\n",
    "                    js(dic, year)\n",
    "                else:\n",
    "                    archiveurl = get_archiveurl_from_id(ID, date2)\n",
    "                    if archiveurl:\n",
    "                        dic = get_article_from_archiveurl(archiveurl)\n",
    "                        js(dic, year)\n",
    "                        is_date1 = False\n",
    "            else:\n",
    "                archiveurl = get_archiveurl_from_id(ID, date2)\n",
    "                if archiveurl:\n",
    "                        js(dic, year)"
   ]
  },
  {
   "cell_type": "code",
   "execution_count": null,
   "metadata": {},
   "outputs": [],
   "source": [
    "driver.page_source.encode(\"utf8\")"
   ]
  },
  {
   "cell_type": "code",
   "execution_count": null,
   "metadata": {},
   "outputs": [],
   "source": []
  }
 ]
}