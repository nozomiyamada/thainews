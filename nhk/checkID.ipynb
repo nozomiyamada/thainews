{
 "nbformat": 4,
 "nbformat_minor": 2,
 "metadata": {
  "language_info": {
   "name": "python",
   "codemirror_mode": {
    "name": "ipython",
    "version": 3
   },
   "version": "3.7.5-final"
  },
  "orig_nbformat": 2,
  "file_extension": ".py",
  "mimetype": "text/x-python",
  "name": "python",
  "npconvert_exporter": "python",
  "pygments_lexer": "ipython3",
  "version": 3,
  "kernelspec": {
   "name": "python37564bit72de44cd76184052b9457c2863c13ac2",
   "display_name": "Python 3.7.5 64-bit"
  }
 },
 "cells": [
  {
   "cell_type": "code",
   "execution_count": 1,
   "metadata": {},
   "outputs": [],
   "source": [
    "import numpy as np\n",
    "import pandas as pd\n",
    "import re, json, csv, requests, time, glob, tqdm, datetime\n",
    "from bs4 import BeautifulSoup\n",
    "from selenium import webdriver\n",
    "from selenium.webdriver.chrome.options import Options\n",
    "from collections import Counter"
   ]
  },
  {
   "cell_type": "code",
   "execution_count": 2,
   "metadata": {},
   "outputs": [],
   "source": [
    "def scrape_one_new(html, url):\n",
    "    soup = BeautifulSoup(html, \"html.parser\")\n",
    "    json_data = json.loads(soup.find_all(\"script\", type=\"application/ld+json\")[-1].text)\n",
    "    title = json_data.get('headline', soup.find('span', class_='contentTitle').text)\n",
    "    date = json_data.get('datePublished', re.search(r'datetime:.*?(\\d{4}-\\d{2}-\\d{2}T\\d{2}:\\d{2})', str(html)).group(1))\n",
    "    date_m = json_data.get('dateModified', '')\n",
    "    genre = json_data.get('genre', [])\n",
    "    if genre == []:\n",
    "        genre = [k for k in soup.find('meta', attrs={'name':'keywords'}).get('content').split(',') if k not in ['NHK','ニュース', 'NHK NEWS WEB']]\n",
    "    keywords = json_data.get('keywords', [])\n",
    "    article = soup.find('div', id=\"news_textbody\").text\n",
    "    if soup.find_all('div', id=\"news_textmore\") != []:\n",
    "        for textmore in soup.find_all('div', id=\"news_textmore\"):\n",
    "            article += ('\\n' + textmore.text)\n",
    "    if soup.find_all('div', class_=\"news_add\") != []:\n",
    "        for newsadd in soup.find_all('div', class_=\"news_add\"):\n",
    "            if newsadd.h3 != None:\n",
    "                newsadd.h3.extract()\n",
    "            article += ('\\n' + newsadd.text)\n",
    "            \n",
    "    return {\n",
    "        'id':url.split('/')[-1].split('.html')[0],\n",
    "        'title':title,\n",
    "        'article':article.strip(),\n",
    "        'genre':genre,\n",
    "        'keywords':keywords,\n",
    "        'url':url,\n",
    "        'datePublished':date,\n",
    "        'dateModified':date_m\n",
    "    }\n",
    "\n",
    "# for old web normal\n",
    "def make_date_normal_old(hmd,time):\n",
    "    year, month, day = hmd[:4], hmd[4:6], hmd[6:]\n",
    "    hour, minute = time.split('時')\n",
    "    minute = minute.strip('分')\n",
    "    if len(hour) == 1:\n",
    "        hour = '0' + hour\n",
    "    if len(minute) == 1:\n",
    "        minute = '0' + minute\n",
    "    return f\"{year}-{month}-{day}T{hour}:{minute}\"\n",
    "\n",
    "def scrape_one_old(html, url):\n",
    "    soup = BeautifulSoup(html, \"html.parser\")\n",
    "    title = soup.find('span', class_=\"contentTitle\").text.strip()\n",
    "    hmd_ = url.split('/')[-2]\n",
    "    time_ = soup.find('span', id=\"news_time\").text\n",
    "    date = make_date_normal_old(hmd_, time_)\n",
    "    genre = [k for k in soup.find('meta', attrs={'name':'keywords'}).get('content').split(',') if k not in ['NHK','ニュース', 'NHK NEWS WEB','ＮＨＫ','ＮＨＫニュース','']]\n",
    "    article = soup.find(['div','p'], id=\"news_textbody\").text\n",
    "    if soup.find_all(['div','p'], id=\"news_textmore\") != []:\n",
    "        for textmore in soup.find_all(['div','p'], id=\"news_textmore\"):\n",
    "            article += ('\\n' + textmore.text)\n",
    "    if soup.find_all(['div','p'], class_=\"news_add\") != []:\n",
    "        for newsadd in soup.find_all(['div','p'], class_=\"news_add\"):\n",
    "            if newsadd.h3 != None:\n",
    "                newsadd.h3.extract()\n",
    "            article += ('\\n' + newsadd.text)\n",
    "            \n",
    "    return {\n",
    "        'id':url.split('/')[-1].split('.html')[0],\n",
    "        'title':title,\n",
    "        'article':article.strip(),\n",
    "        'genre':genre,\n",
    "        'keywords':[],\n",
    "        'url':url,\n",
    "        'datePublished':date,\n",
    "        'dateModified':\"\"\n",
    "    }\n",
    "\n",
    "def write_nolink(ID):\n",
    "    with open('nolinknormal.txt', 'a') as f:\n",
    "        f.write(str(ID))\n",
    "        f.write('\\n')\n",
    "\n",
    "def get_archiveurl_from_id(ID, date, http=True):\n",
    "    if http:\n",
    "        url = f'https://web.archive.org/web/*/http://www3.nhk.or.jp/news/html/{date}/k{ID}1000.html'\n",
    "    else:\n",
    "        url = f'https://web.archive.org/web/*/https://www3.nhk.or.jp/news/html/{date}/k{ID}1000.html'\n",
    "    \n",
    "    driver.get(url)\n",
    "    time.sleep(3)\n",
    "    html = str(driver.page_source.encode('utf-8'))\n",
    "    snap = re.search(r'(times between|1 time|times).*?<a href=\"(.+?)\">', html)\n",
    "    archiveurl = 'https://web.archive.org' + snap.group(2)\n",
    "    return None if 'nhk' not in archiveurl else archiveurl\n",
    "\n",
    "def get_article_from_archiveurl(archiveurl):\n",
    "    response = requests.get(archiveurl)\n",
    "    time.sleep(3)\n",
    "    html = response.text\n",
    "    url_true = 'http' + archiveurl.split('/http')[-1]\n",
    "    if 'This page is not available on the web' in html:\n",
    "        return None\n",
    "    try:\n",
    "        try:\n",
    "            dic = scrape_one_new(html, url_true)\n",
    "        except:\n",
    "            dic = scrape_one_old(html, url_true)\n",
    "        return dic\n",
    "    except:\n",
    "        return None\n",
    "\n",
    "def js(dic, year):\n",
    "    if dic == None:\n",
    "        return\n",
    "    with open(f'nhkweb{year}.json', 'r', encoding='utf-8') as f:\n",
    "        data = json.load(f)\n",
    "    with open(f'nhkweb{year}.json', 'w', encoding='utf-8') as f:\n",
    "        if dic['id'] not in [x['id'] for x in data]:\n",
    "            data.append(dic)\n",
    "        else:\n",
    "            for i, d in enumerate(data):\n",
    "                if dic['id'] == d['id']:\n",
    "                    data[i] = dic\n",
    "        data = sorted(data, key=lambda x:x['id'])\n",
    "        json.dump(data, f, indent=4, ensure_ascii=False)\n",
    "\n",
    "def datebefore(ymd:str):\n",
    "    year, month, day = int(ymd[:4]), int(ymd[4:6]), int(ymd[6:])\n",
    "    before = str(datetime.datetime(year, month, day) + datetime.timedelta(-1))\n",
    "    year, month, day = before[:4], before[5:7], before[8:10]\n",
    "    return f'{year}{month}{day}'\n",
    "\n",
    "def dateafter(ymd:str):\n",
    "    year, month, day = int(ymd[:4]), int(ymd[4:6]), int(ymd[6:])\n",
    "    before = str(datetime.datetime(year, month, day) + datetime.timedelta(1))\n",
    "    year, month, day = before[:4], before[5:7], before[8:10]\n",
    "    return f'{year}{month}{day}'"
   ]
  },
  {
   "cell_type": "markdown",
   "metadata": {},
   "source": [
    "# check data"
   ]
  },
  {
   "cell_type": "code",
   "execution_count": 17,
   "metadata": {},
   "outputs": [
    {
     "data": {
      "text/plain": "22963"
     },
     "execution_count": 17,
     "metadata": {},
     "output_type": "execute_result"
    }
   ],
   "source": [
    "len(pd.read_json('nhkweb2019.json'))"
   ]
  },
  {
   "cell_type": "markdown",
   "metadata": {},
   "source": [
    "# get missing url & article"
   ]
  },
  {
   "cell_type": "code",
   "execution_count": 35,
   "metadata": {},
   "outputs": [
    {
     "name": "stdout",
     "output_type": "stream",
     "text": "25024\n"
    },
    {
     "data": {
      "text/html": "<div>\n<style scoped>\n    .dataframe tbody tr th:only-of-type {\n        vertical-align: middle;\n    }\n\n    .dataframe tbody tr th {\n        vertical-align: top;\n    }\n\n    .dataframe thead th {\n        text-align: right;\n    }\n</style>\n<table border=\"1\" class=\"dataframe\">\n  <thead>\n    <tr style=\"text-align: right;\">\n      <th></th>\n      <th>id</th>\n      <th>url</th>\n      <th>date</th>\n    </tr>\n  </thead>\n  <tbody>\n    <tr>\n      <th>19565</th>\n      <td>1001197741</td>\n      <td>https://www3.nhk.or.jp/news/html/20190701/k100...</td>\n      <td>20190701</td>\n    </tr>\n  </tbody>\n</table>\n</div>",
      "text/plain": "               id                                                url      date\n19565  1001197741  https://www3.nhk.or.jp/news/html/20190701/k100...  20190701"
     },
     "execution_count": 35,
     "metadata": {},
     "output_type": "execute_result"
    }
   ],
   "source": [
    "data = pd.read_json('nhkweb2019.json')\n",
    "data = data[['id', 'url']]\n",
    "data.id = data.id.apply(lambda x:x[1:-4])\n",
    "data['date'] = data.url.apply(lambda x:x.split('news/html/')[-1].split('/')[0])\n",
    "print(len(data))\n",
    "data.head()\n",
    "data[data.id == \"1001197741\"]"
   ]
  },
  {
   "cell_type": "code",
   "execution_count": 32,
   "metadata": {},
   "outputs": [],
   "source": [
    "options = Options()\n",
    "#options.headless = True\n",
    "driver = webdriver.Chrome(options=options)"
   ]
  },
  {
   "cell_type": "code",
   "execution_count": 36,
   "metadata": {},
   "outputs": [
    {
     "name": "stderr",
     "output_type": "stream",
     "text": "\n\n\n\n\n  0%|          | 0/1435 [00:00<?, ?it/s]\u001b[A\u001b[A\u001b[A\u001b[A\u001b[A\n\n\n\n\n  1%|          | 17/1435 [00:12<17:09,  1.38it/s]\u001b[A\u001b[A\u001b[A\u001b[A\u001b[A\n\n\n\n\n  2%|▏         | 30/1435 [00:33<23:12,  1.01it/s]\u001b[A\u001b[A\u001b[A\u001b[A\u001b[A\n\n\n\n\n  2%|▏         | 31/1435 [11:06<74:18:05, 190.52s/it]\u001b[A\u001b[A\u001b[A\u001b[A\u001b[A\n\n\n\n\n  2%|▏         | 34/1435 [11:49<53:36:23, 137.75s/it]\u001b[A\u001b[A\u001b[A\u001b[A\u001b[A\n\n\n\n\n  2%|▏         | 35/1435 [12:31<42:18:37, 108.80s/it]\u001b[A\u001b[A\u001b[A\u001b[A\u001b[A\n\n\n\n\n  3%|▎         | 36/1435 [12:42<30:58:31, 79.71s/it]\u001b[A\u001b[A\u001b[A\u001b[A\u001b[A\n\n\n\n\n  4%|▍         | 58/1435 [12:53<21:23:55, 55.94s/it]\u001b[A\u001b[A\u001b[A\u001b[A\u001b[A\n\n\n\n\n  4%|▍         | 62/1435 [13:07<15:19:41, 40.19s/it]\u001b[A\u001b[A\u001b[A\u001b[A\u001b[A\n\n\n\n\n  4%|▍         | 64/1435 [13:42<12:43:19, 33.41s/it]\u001b[A\u001b[A\u001b[A\u001b[A\u001b[A\n\n\n\n\n  5%|▍         | 65/1435 [13:56<10:27:31, 27.48s/it]\u001b[A\u001b[A\u001b[A\u001b[A\u001b[A\n\n\n\n\n  5%|▍         | 66/1435 [15:28<17:46:02, 46.72s/it]\u001b[A\u001b[A\u001b[A\u001b[A\u001b[A\n\n\n\n\n  5%|▍         | 67/1435 [19:24<39:24:50, 103.72s/it]\u001b[A\u001b[A\u001b[A\u001b[A\u001b[A\n\n\n\n\n  5%|▍         | 68/1435 [25:27<68:51:29, 181.34s/it]\u001b[A\u001b[A\u001b[A\u001b[A\u001b[A\n\n\n\n\n  5%|▍         | 69/1435 [34:36<110:40:46, 291.69s/it]\u001b[A\u001b[A\u001b[A\u001b[A\u001b[A\n\n\n\n\n  5%|▌         | 72/1435 [35:28<79:15:57, 209.36s/it]\u001b[A\u001b[A\u001b[A\u001b[A\u001b[A\n\n\n\n\n  5%|▌         | 73/1435 [35:51<58:05:40, 153.55s/it]\u001b[A\u001b[A\u001b[A\u001b[A\u001b[A\n\n\n\n\n  6%|▌         | 79/1435 [36:04<40:43:39, 108.13s/it]\u001b[A\u001b[A\u001b[A\u001b[A\u001b[A\n\n\n\n\n  6%|▌         | 86/1435 [36:14<28:31:46, 76.14s/it]\u001b[A\u001b[A\u001b[A\u001b[A\u001b[A\n\n\n\n\n  6%|▌         | 89/1435 [37:12<22:05:39, 59.09s/it]\u001b[A\u001b[A\u001b[A\u001b[A\u001b[A\n\n\n\n\n  6%|▋         | 92/1435 [37:24<15:52:09, 42.54s/it]\u001b[A\u001b[A\u001b[A\u001b[A\u001b[A\n\n\n\n\n  7%|▋         | 95/1435 [37:53<12:09:05, 32.65s/it]\u001b[A\u001b[A\u001b[A\u001b[A\u001b[A\n\n\n\n\n  7%|▋         | 98/1435 [45:47<26:05:28, 70.25s/it]\u001b[A\u001b[A\u001b[A\u001b[A\u001b[A\n\n\n\n\n  7%|▋         | 99/1435 [46:14<21:18:22, 57.41s/it]\u001b[A\u001b[A\u001b[A\u001b[A\u001b[A\n\n\n\n\n  7%|▋         | 100/1435 [56:10<81:13:33, 219.04s/it]\u001b[A\u001b[A\u001b[A\u001b[A\u001b[A\n\n\n\n\n  7%|▋         | 101/1435 [1:05:13<117:11:31, 316.26s/it]\u001b[A\u001b[A\u001b[A\u001b[A\u001b[A\n\n\n\n\n  7%|▋         | 102/1435 [1:08:10<101:37:15, 274.45s/it]\u001b[A\u001b[A\u001b[A\u001b[A\u001b[A\n\n\n\n\n  7%|▋         | 103/1435 [1:08:36<73:59:19, 199.97s/it]\u001b[A\u001b[A\u001b[A\u001b[A\u001b[A\n\n\n\n\n  7%|▋         | 104/1435 [1:09:21<56:40:35, 153.29s/it]\u001b[A\u001b[A\u001b[A\u001b[A\u001b[A\n\n\n\n\n  8%|▊         | 108/1435 [1:09:34<39:55:58, 108.33s/it]\u001b[A\u001b[A\u001b[A\u001b[A\u001b[A\n\n\n\n\n  8%|▊         | 109/1435 [1:09:47<29:16:42, 79.49s/it]\u001b[A\u001b[A\u001b[A\u001b[A\u001b[A\n\n\n\n\n  8%|▊         | 111/1435 [1:10:07<21:35:10, 58.69s/it]\u001b[A\u001b[A\u001b[A\u001b[A\u001b[A\n\n\n\n\n  8%|▊         | 113/1435 [1:10:22<15:56:03, 43.39s/it]\u001b[A\u001b[A\u001b[A\u001b[A\u001b[A\n\n\n\n\n  8%|▊         | 114/1435 [1:10:54<14:38:19, 39.89s/it]\u001b[A\u001b[A\u001b[A\u001b[A\u001b[A\n\n\n\n\n  9%|▊         | 124/1435 [1:11:05<10:17:01, 28.24s/it]\u001b[A\u001b[A\u001b[A\u001b[A\u001b[A\n\n\n\n\n  9%|▉         | 128/1435 [1:11:19<7:33:57, 20.84s/it]\u001b[A\u001b[A\u001b[A\u001b[A\u001b[A\n\n\n\n\n  9%|▉         | 129/1435 [1:25:30<97:56:08, 269.96s/it]\u001b[A\u001b[A\u001b[A\u001b[A\u001b[A\n\n\n\n\n  9%|▉         | 130/1435 [1:31:42<108:54:50, 300.45s/it]\u001b[A\u001b[A\u001b[A\u001b[A\u001b[A\n\n\n\n\n  9%|▉         | 131/1435 [1:35:13<99:10:03, 273.78s/it]\u001b[A\u001b[A\u001b[A\u001b[A\u001b[A\n\n\n\n\n  9%|▉         | 132/1435 [1:35:28<70:55:24, 195.95s/it]\u001b[A\u001b[A\u001b[A\u001b[A\u001b[A\n\n\n\n\n  9%|▉         | 133/1435 [1:35:39<50:51:47, 140.64s/it]\u001b[A\u001b[A\u001b[A\u001b[A\u001b[A\n\n\n\n\n  9%|▉         | 135/1435 [1:38:26<44:34:38, 123.44s/it]\u001b[A\u001b[A\u001b[A\u001b[A\u001b[A\n\n\n\n\n 10%|▉         | 137/1435 [1:38:37<31:46:44, 88.14s/it]\u001b[A\u001b[A\u001b[A\u001b[A\u001b[A\n\n\n\n\n 10%|▉         | 140/1435 [1:43:29<32:40:15, 90.82s/it]\u001b[A\u001b[A\u001b[A\u001b[A\u001b[A\n\n\n\n\n 10%|▉         | 141/1435 [1:59:57<129:24:26, 360.02s/it]\u001b[A\u001b[A\u001b[A\u001b[A\u001b[A\n\n\n\n\n 10%|▉         | 143/1435 [2:04:35<105:24:38, 293.71s/it]\u001b[A\u001b[A\u001b[A\u001b[A\u001b[A\n\n\n\n\n 10%|█         | 145/1435 [2:06:13<78:56:05, 220.28s/it]\u001b[A\u001b[A\u001b[A\u001b[A\u001b[A\n\n\n\n\n 10%|█         | 150/1435 [2:06:27<55:20:24, 155.04s/it]\u001b[A\u001b[A\u001b[A\u001b[A\u001b[A\n\n\n\n\n 11%|█         | 151/1435 [2:06:47<40:55:01, 114.72s/it]\u001b[A\u001b[A\u001b[A\u001b[A\u001b[A\n\n\n\n\n 11%|█         | 152/1435 [2:07:09<30:57:23, 86.86s/it]\u001b[A\u001b[A\u001b[A\u001b[A\u001b[A\n\n\n\n\n 11%|█         | 160/1435 [2:08:06<22:17:20, 62.93s/it]\u001b[A\u001b[A\u001b[A\u001b[A\u001b[A\n\n\n\n\n 11%|█         | 161/1435 [2:13:23<49:15:55, 139.21s/it]\u001b[A\u001b[A\u001b[A\u001b[A\u001b[A\n\n\n\n\n 11%|█▏        | 162/1435 [2:17:05<58:02:28, 164.14s/it]\u001b[A\u001b[A\u001b[A\u001b[A\u001b[A\n\n\n\n\n 11%|█▏        | 163/1435 [2:24:57<90:34:07, 256.33s/it]\u001b[A\u001b[A\u001b[A\u001b[A\u001b[A\n\n\n\n\n 11%|█▏        | 164/1435 [2:25:08<64:34:44, 182.91s/it]\u001b[A\u001b[A\u001b[A\u001b[A\u001b[A\n\n\n\n\n 12%|█▏        | 168/1435 [2:25:22<45:24:34, 129.02s/it]\u001b[A\u001b[A\u001b[A\u001b[A\u001b[A\n\n\n\n\n 12%|█▏        | 177/1435 [2:25:38<31:45:16, 90.87s/it]\u001b[A\u001b[A\u001b[A\u001b[A\u001b[A\n\n\n\n\n 12%|█▏        | 178/1435 [2:25:55<23:55:08, 68.50s/it]\u001b[A\u001b[A\u001b[A\u001b[A\u001b[A\n\n\n\n\n 13%|█▎        | 185/1435 [2:27:53<18:24:59, 53.04s/it]\u001b[A\u001b[A\u001b[A\u001b[A\u001b[A\n\n\n\n\n 13%|█▎        | 186/1435 [2:32:26<41:15:33, 118.92s/it]\u001b[A\u001b[A\u001b[A\u001b[A\u001b[A\n\n\n\n\n 13%|█▎        | 188/1435 [2:32:39<29:32:09, 85.27s/it]\u001b[A\u001b[A\u001b[A\u001b[A\u001b[A\n\n\n\n\n 13%|█▎        | 189/1435 [2:33:53<28:17:42, 81.75s/it]\u001b[A\u001b[A\u001b[A\u001b[A\u001b[A\n\n\n\n\n 13%|█▎        | 190/1435 [2:39:05<52:10:54, 150.89s/it]\u001b[A\u001b[A\u001b[A\u001b[A\u001b[A\n\n\n\n\n 13%|█▎        | 192/1435 [2:39:32<37:52:27, 109.69s/it]\u001b[A\u001b[A\u001b[A\u001b[A\u001b[A\n\n\n\n\n 13%|█▎        | 193/1435 [2:47:30<75:56:55, 220.14s/it]\u001b[A\u001b[A\u001b[A\u001b[A\u001b[A\n\n\n\n\n 14%|█▎        | 194/1435 [2:49:02<62:34:41, 181.53s/it]\u001b[A\u001b[A\u001b[A\u001b[A\u001b[A\n\n\n\n\n 14%|█▎        | 195/1435 [2:49:29<46:33:41, 135.18s/it]\u001b[A\u001b[A\u001b[A\u001b[A\u001b[A\n\n\n\n\n 14%|█▎        | 197/1435 [2:50:12<34:47:28, 101.17s/it]\u001b[A\u001b[A\u001b[A\u001b[A\u001b[A\n\n\n\n\n 14%|█▍        | 198/1435 [2:50:29<26:04:15, 75.87s/it]\u001b[A\u001b[A\u001b[A\u001b[A\u001b[A\n\n\n\n\n 14%|█▍        | 199/1435 [2:51:36<25:05:45, 73.09s/it]\u001b[A\u001b[A\u001b[A\u001b[A\u001b[A\n\n\n\n\n 14%|█▍        | 201/1435 [2:55:49<30:34:24, 89.19s/it]\u001b[A\u001b[A\u001b[A\u001b[A\u001b[A\n\n\n\n\n 14%|█▍        | 202/1435 [2:58:14<36:16:01, 105.89s/it]\u001b[A\u001b[A\u001b[A\u001b[A\u001b[A\n\n\n\n\n 14%|█▍        | 203/1435 [2:59:25<32:40:27, 95.48s/it]\u001b[A\u001b[A\u001b[A\u001b[A\u001b[A\n\n\n\n\n 14%|█▍        | 204/1435 [3:03:11<45:58:01, 134.43s/it]\u001b[A\u001b[A\u001b[A\u001b[A\u001b[A\n\n\n\n\n 14%|█▍        | 205/1435 [3:03:57<36:52:49, 107.94s/it]\u001b[A\u001b[A\u001b[A\u001b[A\u001b[A\n\n\n\n\n 14%|█▍        | 206/1435 [3:04:37<29:55:15, 87.64s/it]\u001b[A\u001b[A\u001b[A\u001b[A\u001b[A\n\n\n\n\n 14%|█▍        | 207/1435 [3:04:50<22:15:42, 65.26s/it]\u001b[A\u001b[A\u001b[A\u001b[A\u001b[A\n\n\n\n\n 15%|█▌        | 220/1435 [3:05:52<15:53:50, 47.10s/it]\u001b[A\u001b[A\u001b[A\u001b[A\u001b[A\n\n\n\n\n 16%|█▌        | 225/1435 [3:06:08<11:25:26, 33.99s/it]\u001b[A\u001b[A\u001b[A\u001b[A\u001b[A\n\n\n\n\n 16%|█▌        | 227/1435 [3:06:26<8:51:09, 26.38s/it]\u001b[A\u001b[A\u001b[A\u001b[A\u001b[A\n\n\n\n\n 16%|█▌        | 229/1435 [3:07:09<8:21:44, 24.96s/it]\u001b[A\u001b[A\u001b[A\u001b[A\u001b[A\n\n\n\n\n 16%|█▌        | 230/1435 [3:07:22<7:06:06, 21.22s/it]\u001b[A\u001b[A\u001b[A\u001b[A\u001b[A\n\n\n\n\n 16%|█▌        | 232/1435 [3:10:10<13:24:17, 40.11s/it]\u001b[A\u001b[A\u001b[A\u001b[A\u001b[A\n\n\n\n\n 16%|█▌        | 233/1435 [3:10:57<14:03:46, 42.12s/it]\u001b[A\u001b[A\u001b[A\u001b[A\u001b[A\n\n\n\n\n 16%|█▋        | 234/1435 [3:15:10<35:09:31, 105.39s/it]\u001b[A\u001b[A\u001b[A\u001b[A\u001b[A"
    },
    {
     "ename": "NoSuchWindowException",
     "evalue": "Message: no such window: window was already closed\n  (Session info: chrome=80.0.3987.132)\n",
     "output_type": "error",
     "traceback": [
      "\u001b[0;31m---------------------------------------------------------------------------\u001b[0m",
      "\u001b[0;31mNoSuchWindowException\u001b[0m                     Traceback (most recent call last)",
      "\u001b[0;32m<ipython-input-36-42b05f45a8e5>\u001b[0m in \u001b[0;36m<module>\u001b[0;34m\u001b[0m\n\u001b[1;32m     15\u001b[0m     \u001b[0;32melse\u001b[0m\u001b[0;34m:\u001b[0m\u001b[0;34m\u001b[0m\u001b[0;34m\u001b[0m\u001b[0m\n\u001b[1;32m     16\u001b[0m         \u001b[0;32mfor\u001b[0m \u001b[0mID\u001b[0m \u001b[0;32min\u001b[0m \u001b[0mrange\u001b[0m\u001b[0;34m(\u001b[0m\u001b[0mint\u001b[0m\u001b[0;34m(\u001b[0m\u001b[0mID1\u001b[0m\u001b[0;34m)\u001b[0m\u001b[0;34m+\u001b[0m\u001b[0;36m1\u001b[0m\u001b[0;34m,\u001b[0m \u001b[0mint\u001b[0m\u001b[0;34m(\u001b[0m\u001b[0mID2\u001b[0m\u001b[0;34m)\u001b[0m\u001b[0;34m)\u001b[0m\u001b[0;34m:\u001b[0m\u001b[0;34m\u001b[0m\u001b[0;34m\u001b[0m\u001b[0m\n\u001b[0;32m---> 17\u001b[0;31m             \u001b[0marchiveurl\u001b[0m \u001b[0;34m=\u001b[0m \u001b[0mget_archiveurl_from_id\u001b[0m\u001b[0;34m(\u001b[0m\u001b[0mID\u001b[0m\u001b[0;34m,\u001b[0m \u001b[0mdate\u001b[0m\u001b[0;34m)\u001b[0m \u001b[0;31m# try the same day\u001b[0m\u001b[0;34m\u001b[0m\u001b[0;34m\u001b[0m\u001b[0m\n\u001b[0m\u001b[1;32m     18\u001b[0m             \u001b[0;32mif\u001b[0m \u001b[0marchiveurl\u001b[0m \u001b[0;34m!=\u001b[0m \u001b[0;32mNone\u001b[0m\u001b[0;34m:\u001b[0m\u001b[0;34m\u001b[0m\u001b[0;34m\u001b[0m\u001b[0m\n\u001b[1;32m     19\u001b[0m                 \u001b[0mdic\u001b[0m \u001b[0;34m=\u001b[0m \u001b[0mget_article_from_archiveurl\u001b[0m\u001b[0;34m(\u001b[0m\u001b[0marchiveurl\u001b[0m\u001b[0;34m)\u001b[0m\u001b[0;34m\u001b[0m\u001b[0;34m\u001b[0m\u001b[0m\n",
      "\u001b[0;32m<ipython-input-2-2d8e325f5dd2>\u001b[0m in \u001b[0;36mget_archiveurl_from_id\u001b[0;34m(ID, date, http)\u001b[0m\n\u001b[1;32m     82\u001b[0m     \u001b[0mdriver\u001b[0m\u001b[0;34m.\u001b[0m\u001b[0mget\u001b[0m\u001b[0;34m(\u001b[0m\u001b[0murl\u001b[0m\u001b[0;34m)\u001b[0m\u001b[0;34m\u001b[0m\u001b[0;34m\u001b[0m\u001b[0m\n\u001b[1;32m     83\u001b[0m     \u001b[0mtime\u001b[0m\u001b[0;34m.\u001b[0m\u001b[0msleep\u001b[0m\u001b[0;34m(\u001b[0m\u001b[0;36m3\u001b[0m\u001b[0;34m)\u001b[0m\u001b[0;34m\u001b[0m\u001b[0;34m\u001b[0m\u001b[0m\n\u001b[0;32m---> 84\u001b[0;31m     \u001b[0mhtml\u001b[0m \u001b[0;34m=\u001b[0m \u001b[0mstr\u001b[0m\u001b[0;34m(\u001b[0m\u001b[0mdriver\u001b[0m\u001b[0;34m.\u001b[0m\u001b[0mpage_source\u001b[0m\u001b[0;34m.\u001b[0m\u001b[0mencode\u001b[0m\u001b[0;34m(\u001b[0m\u001b[0;34m'utf-8'\u001b[0m\u001b[0;34m)\u001b[0m\u001b[0;34m)\u001b[0m\u001b[0;34m\u001b[0m\u001b[0;34m\u001b[0m\u001b[0m\n\u001b[0m\u001b[1;32m     85\u001b[0m     \u001b[0msnap\u001b[0m \u001b[0;34m=\u001b[0m \u001b[0mre\u001b[0m\u001b[0;34m.\u001b[0m\u001b[0msearch\u001b[0m\u001b[0;34m(\u001b[0m\u001b[0;34mr'(times between|1 time|times).*?<a href=\"(.+?)\">'\u001b[0m\u001b[0;34m,\u001b[0m \u001b[0mhtml\u001b[0m\u001b[0;34m)\u001b[0m\u001b[0;34m\u001b[0m\u001b[0;34m\u001b[0m\u001b[0m\n\u001b[1;32m     86\u001b[0m     \u001b[0marchiveurl\u001b[0m \u001b[0;34m=\u001b[0m \u001b[0;34m'https://web.archive.org'\u001b[0m \u001b[0;34m+\u001b[0m \u001b[0msnap\u001b[0m\u001b[0;34m.\u001b[0m\u001b[0mgroup\u001b[0m\u001b[0;34m(\u001b[0m\u001b[0;36m2\u001b[0m\u001b[0;34m)\u001b[0m\u001b[0;34m\u001b[0m\u001b[0;34m\u001b[0m\u001b[0m\n",
      "\u001b[0;32m/Library/Frameworks/Python.framework/Versions/3.7/lib/python3.7/site-packages/selenium/webdriver/remote/webdriver.py\u001b[0m in \u001b[0;36mpage_source\u001b[0;34m(self)\u001b[0m\n\u001b[1;32m    677\u001b[0m             \u001b[0mdriver\u001b[0m\u001b[0;34m.\u001b[0m\u001b[0mpage_source\u001b[0m\u001b[0;34m\u001b[0m\u001b[0;34m\u001b[0m\u001b[0m\n\u001b[1;32m    678\u001b[0m         \"\"\"\n\u001b[0;32m--> 679\u001b[0;31m         \u001b[0;32mreturn\u001b[0m \u001b[0mself\u001b[0m\u001b[0;34m.\u001b[0m\u001b[0mexecute\u001b[0m\u001b[0;34m(\u001b[0m\u001b[0mCommand\u001b[0m\u001b[0;34m.\u001b[0m\u001b[0mGET_PAGE_SOURCE\u001b[0m\u001b[0;34m)\u001b[0m\u001b[0;34m[\u001b[0m\u001b[0;34m'value'\u001b[0m\u001b[0;34m]\u001b[0m\u001b[0;34m\u001b[0m\u001b[0;34m\u001b[0m\u001b[0m\n\u001b[0m\u001b[1;32m    680\u001b[0m \u001b[0;34m\u001b[0m\u001b[0m\n\u001b[1;32m    681\u001b[0m     \u001b[0;32mdef\u001b[0m \u001b[0mclose\u001b[0m\u001b[0;34m(\u001b[0m\u001b[0mself\u001b[0m\u001b[0;34m)\u001b[0m\u001b[0;34m:\u001b[0m\u001b[0;34m\u001b[0m\u001b[0;34m\u001b[0m\u001b[0m\n",
      "\u001b[0;32m/Library/Frameworks/Python.framework/Versions/3.7/lib/python3.7/site-packages/selenium/webdriver/remote/webdriver.py\u001b[0m in \u001b[0;36mexecute\u001b[0;34m(self, driver_command, params)\u001b[0m\n\u001b[1;32m    319\u001b[0m         \u001b[0mresponse\u001b[0m \u001b[0;34m=\u001b[0m \u001b[0mself\u001b[0m\u001b[0;34m.\u001b[0m\u001b[0mcommand_executor\u001b[0m\u001b[0;34m.\u001b[0m\u001b[0mexecute\u001b[0m\u001b[0;34m(\u001b[0m\u001b[0mdriver_command\u001b[0m\u001b[0;34m,\u001b[0m \u001b[0mparams\u001b[0m\u001b[0;34m)\u001b[0m\u001b[0;34m\u001b[0m\u001b[0;34m\u001b[0m\u001b[0m\n\u001b[1;32m    320\u001b[0m         \u001b[0;32mif\u001b[0m \u001b[0mresponse\u001b[0m\u001b[0;34m:\u001b[0m\u001b[0;34m\u001b[0m\u001b[0;34m\u001b[0m\u001b[0m\n\u001b[0;32m--> 321\u001b[0;31m             \u001b[0mself\u001b[0m\u001b[0;34m.\u001b[0m\u001b[0merror_handler\u001b[0m\u001b[0;34m.\u001b[0m\u001b[0mcheck_response\u001b[0m\u001b[0;34m(\u001b[0m\u001b[0mresponse\u001b[0m\u001b[0;34m)\u001b[0m\u001b[0;34m\u001b[0m\u001b[0;34m\u001b[0m\u001b[0m\n\u001b[0m\u001b[1;32m    322\u001b[0m             response['value'] = self._unwrap_value(\n\u001b[1;32m    323\u001b[0m                 response.get('value', None))\n",
      "\u001b[0;32m/Library/Frameworks/Python.framework/Versions/3.7/lib/python3.7/site-packages/selenium/webdriver/remote/errorhandler.py\u001b[0m in \u001b[0;36mcheck_response\u001b[0;34m(self, response)\u001b[0m\n\u001b[1;32m    240\u001b[0m                 \u001b[0malert_text\u001b[0m \u001b[0;34m=\u001b[0m \u001b[0mvalue\u001b[0m\u001b[0;34m[\u001b[0m\u001b[0;34m'alert'\u001b[0m\u001b[0;34m]\u001b[0m\u001b[0;34m.\u001b[0m\u001b[0mget\u001b[0m\u001b[0;34m(\u001b[0m\u001b[0;34m'text'\u001b[0m\u001b[0;34m)\u001b[0m\u001b[0;34m\u001b[0m\u001b[0;34m\u001b[0m\u001b[0m\n\u001b[1;32m    241\u001b[0m             \u001b[0;32mraise\u001b[0m \u001b[0mexception_class\u001b[0m\u001b[0;34m(\u001b[0m\u001b[0mmessage\u001b[0m\u001b[0;34m,\u001b[0m \u001b[0mscreen\u001b[0m\u001b[0;34m,\u001b[0m \u001b[0mstacktrace\u001b[0m\u001b[0;34m,\u001b[0m \u001b[0malert_text\u001b[0m\u001b[0;34m)\u001b[0m\u001b[0;34m\u001b[0m\u001b[0;34m\u001b[0m\u001b[0m\n\u001b[0;32m--> 242\u001b[0;31m         \u001b[0;32mraise\u001b[0m \u001b[0mexception_class\u001b[0m\u001b[0;34m(\u001b[0m\u001b[0mmessage\u001b[0m\u001b[0;34m,\u001b[0m \u001b[0mscreen\u001b[0m\u001b[0;34m,\u001b[0m \u001b[0mstacktrace\u001b[0m\u001b[0;34m)\u001b[0m\u001b[0;34m\u001b[0m\u001b[0;34m\u001b[0m\u001b[0m\n\u001b[0m\u001b[1;32m    243\u001b[0m \u001b[0;34m\u001b[0m\u001b[0m\n\u001b[1;32m    244\u001b[0m     \u001b[0;32mdef\u001b[0m \u001b[0m_value_or_default\u001b[0m\u001b[0;34m(\u001b[0m\u001b[0mself\u001b[0m\u001b[0;34m,\u001b[0m \u001b[0mobj\u001b[0m\u001b[0;34m,\u001b[0m \u001b[0mkey\u001b[0m\u001b[0;34m,\u001b[0m \u001b[0mdefault\u001b[0m\u001b[0;34m)\u001b[0m\u001b[0;34m:\u001b[0m\u001b[0;34m\u001b[0m\u001b[0;34m\u001b[0m\u001b[0m\n",
      "\u001b[0;31mNoSuchWindowException\u001b[0m: Message: no such window: window was already closed\n  (Session info: chrome=80.0.3987.132)\n"
     ]
    }
   ],
   "source": [
    "year = 2019\n",
    "\n",
    "for i in tqdm.tqdm(range(19565, 21000)):\n",
    "    # get the present row & next row\n",
    "    ID1, ID2 = data.iat[i,0], data.iat[i+1,0]\n",
    "    date = data.iat[i,2]\n",
    "    before = datebefore(date)\n",
    "    after = dateafter(date)\n",
    "\n",
    "    # ID is continuous = no missing\n",
    "    if int(ID1) + 1 == int(ID2):\n",
    "        continue\n",
    "\n",
    "    # not continuous\n",
    "    else:  \n",
    "        for ID in range(int(ID1)+1, int(ID2)):\n",
    "            archiveurl = get_archiveurl_from_id(ID, date) # try the same day\n",
    "            if archiveurl != None:\n",
    "                dic = get_article_from_archiveurl(archiveurl)\n",
    "                if dic:\n",
    "                    js(dic, year)\n",
    "                else:\n",
    "                    write_nolink(ID) # error in NHK\n",
    "            else:\n",
    "                archiveurl = get_archiveurl_from_id(ID, after) # try the next day\n",
    "                if archiveurl != None:\n",
    "                    dic = get_article_from_archiveurl(archiveurl)\n",
    "                    if dic:\n",
    "                        js(dic, year)\n",
    "                    else:\n",
    "                        write_nolink(ID) # error in NHK\n",
    "                else: \n",
    "                    archiveurl = get_archiveurl_from_id(ID, before) # try the previous day\n",
    "                    if archiveurl != None:\n",
    "                        dic = get_article_from_archiveurl(archiveurl)\n",
    "                        if dic:\n",
    "                            js(dic, year)\n",
    "                        else:\n",
    "                            write_nolink(ID) # error in NHK\n",
    "                    else:\n",
    "                        write_nolink(ID) # nolink\n"
   ]
  },
  {
   "cell_type": "code",
   "execution_count": 34,
   "metadata": {},
   "outputs": [
    {
     "data": {
      "text/plain": "'1001197741'"
     },
     "execution_count": 34,
     "metadata": {},
     "output_type": "execute_result"
    }
   ],
   "source": [
    "ID1"
   ]
  },
  {
   "cell_type": "code",
   "execution_count": 5,
   "metadata": {},
   "outputs": [
    {
     "name": "stderr",
     "output_type": "stream",
     "text": "/Library/Frameworks/Python.framework/Versions/3.7/lib/python3.7/site-packages/ipykernel_launcher.py:2: FutureWarning: The signature of `Series.to_csv` was aligned to that of `DataFrame.to_csv`, and argument 'header' will change its default value from False to True: please pass an explicit value to suppress this warning.\n  \n"
    }
   ],
   "source": [
    "nolinklist = pd.read_csv('nolinknormal.txt', header=None)\n",
    "pd.DataFrame(sorted(set(map(str, nolinklist[0])) - set(data.id)))[0].to_csv('nolinknormal.txt', index=None)"
   ]
  },
  {
   "cell_type": "code",
   "execution_count": null,
   "metadata": {},
   "outputs": [],
   "source": []
  }
 ]
}