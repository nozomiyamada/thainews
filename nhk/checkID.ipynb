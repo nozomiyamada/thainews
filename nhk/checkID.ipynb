{
 "nbformat": 4,
 "nbformat_minor": 2,
 "metadata": {
  "language_info": {
   "name": "python",
   "codemirror_mode": {
    "name": "ipython",
    "version": 3
   },
   "version": "3.7.6-final"
  },
  "orig_nbformat": 2,
  "file_extension": ".py",
  "mimetype": "text/x-python",
  "name": "python",
  "npconvert_exporter": "python",
  "pygments_lexer": "ipython3",
  "version": 3,
  "kernelspec": {
   "name": "python37664bit159cf5e9823545708744fa9c9ccfe5dc",
   "display_name": "Python 3.7.6 64-bit"
  }
 },
 "cells": [
  {
   "cell_type": "code",
   "execution_count": 1,
   "metadata": {},
   "outputs": [],
   "source": [
    "import numpy as np\n",
    "import pandas as pd\n",
    "import re, json, csv, requests, time, glob, tqdm\n",
    "from bs4 import BeautifulSoup\n",
    "from selenium import webdriver\n",
    "from collections import Counter"
   ]
  },
  {
   "cell_type": "code",
   "execution_count": 2,
   "metadata": {},
   "outputs": [],
   "source": [
    "def scrape_one_new(html, url):\n",
    "    soup = BeautifulSoup(html, \"html.parser\")\n",
    "    json_data = json.loads(soup.find_all(\"script\", type=\"application/ld+json\")[-1].text)\n",
    "    title = json_data.get('headline', soup.find('span', class_='contentTitle').text)\n",
    "    date = json_data.get('datePublished', re.search(r'datetime:.*?(\\d{4}-\\d{2}-\\d{2}T\\d{2}:\\d{2})', str(html)).group(1))\n",
    "    date_m = json_data.get('dateModified', '')\n",
    "    genre = json_data.get('genre', [])\n",
    "    if genre == []:\n",
    "        genre = [k for k in soup.find('meta', attrs={'name':'keywords'}).get('content').split(',') if k not in ['NHK','ニュース', 'NHK NEWS WEB']]\n",
    "    keywords = json_data.get('keywords', [])\n",
    "    article = soup.find('div', id=\"news_textbody\").text\n",
    "    if soup.find_all('div', id=\"news_textmore\") != []:\n",
    "        for textmore in soup.find_all('div', id=\"news_textmore\"):\n",
    "            article += ('\\n' + textmore.text)\n",
    "    if soup.find_all('div', class_=\"news_add\") != []:\n",
    "        for newsadd in soup.find_all('div', class_=\"news_add\"):\n",
    "            if newsadd.h3 != None:\n",
    "                newsadd.h3.extract()\n",
    "            article += ('\\n' + newsadd.text)\n",
    "            \n",
    "    return {\n",
    "        'id':url.split('/')[-1].split('.html')[0],\n",
    "        'title':title,\n",
    "        'article':article.strip(),\n",
    "        'genre':genre,\n",
    "        'keywords':keywords,\n",
    "        'url':url,\n",
    "        'datePublished':date,\n",
    "        'dateModified':date_m\n",
    "    }\n",
    "\n",
    "# for old web normal\n",
    "def make_date_normal_old(hmd,time):\n",
    "    year, month, day = hmd[:4], hmd[4:6], hmd[6:]\n",
    "    hour, minute = time.split('時')\n",
    "    minute = minute.strip('分')\n",
    "    if len(hour) == 1:\n",
    "        hour = '0' + hour\n",
    "    if len(minute) == 1:\n",
    "        minute = '0' + minute\n",
    "    return f\"{year}-{month}-{day}T{hour}:{minute}\"\n",
    "\n",
    "def scrape_one_old(html, url):\n",
    "    soup = BeautifulSoup(html, \"html.parser\")\n",
    "    title = soup.find('span', class_=\"contentTitle\").text.strip()\n",
    "    hmd_ = url.split('/')[-2]\n",
    "    time_ = soup.find('span', id=\"news_time\").text\n",
    "    date = make_date_normal_old(hmd_, time_)\n",
    "    genre = [k for k in soup.find('meta', attrs={'name':'keywords'}).get('content').split(',') if k not in ['NHK','ニュース', 'NHK NEWS WEB','ＮＨＫ','ＮＨＫニュース','']]\n",
    "    article = soup.find(['div','p'], id=\"news_textbody\").text\n",
    "    if soup.find_all(['div','p'], id=\"news_textmore\") != []:\n",
    "        for textmore in soup.find_all(['div','p'], id=\"news_textmore\"):\n",
    "            article += ('\\n' + textmore.text)\n",
    "    if soup.find_all(['div','p'], class_=\"news_add\") != []:\n",
    "        for newsadd in soup.find_all(['div','p'], class_=\"news_add\"):\n",
    "            if newsadd.h3 != None:\n",
    "                newsadd.h3.extract()\n",
    "            article += ('\\n' + newsadd.text)\n",
    "            \n",
    "    return {\n",
    "        'id':url.split('/')[-1].split('.html')[0],\n",
    "        'title':title,\n",
    "        'article':article.strip(),\n",
    "        'genre':genre,\n",
    "        'keywords':[],\n",
    "        'url':url,\n",
    "        'datePublished':date,\n",
    "        'dateModified':\"\"\n",
    "    }\n",
    "\n",
    "def get_archiveurl_from_id(ID, date):\n",
    "    url1 = f'https://web.archive.org/web/*/https://www3.nhk.or.jp/news/html/{date}/k{ID}1000.html'\n",
    "    url2 = f'https://web.archive.org/web/*/http://www3.nhk.or.jp/news/html/{date}/k{ID}1000.html'\n",
    "    \n",
    "    driver.get(url1)\n",
    "    time.sleep(3)\n",
    "    html = str(driver.page_source.encode('utf-8'))\n",
    "    snap = re.search(r'(times between|1 time|times).*?<a href=\"(.+?)\">', html)\n",
    "    archiveurl = 'https://web.archive.org' + snap.group(2)\n",
    "    \n",
    "    if 'nhk' not in archiveurl:\n",
    "        driver.get(url2)\n",
    "        time.sleep(3)\n",
    "        html = str(driver.page_source.encode('utf-8'))\n",
    "        snap = re.search(r'(times between|1 time|times).*?<a href=\"(.+?)\">', html)\n",
    "        archiveurl = 'https://web.archive.org' + snap.group(2)\n",
    "    return None if 'nhk' not in archiveurl else archiveurl\n",
    "\n",
    "def get_article_from_archiveurl(archiveurl):\n",
    "    response = requests.get(archiveurl)\n",
    "    time.sleep(2)\n",
    "    html = response.text\n",
    "    url_true = 'http' + archiveurl.split('/http')[-1]\n",
    "    if 'This page is not available on the web' in html:\n",
    "        return None\n",
    "    try:\n",
    "        try:\n",
    "            dic = scrape_one_new(html, url_true)\n",
    "        except:\n",
    "            dic = scrape_one_old(html, url_true)\n",
    "        return dic\n",
    "    except:\n",
    "        return None\n",
    "\n",
    "def js(dic, year):\n",
    "    if dic == None:\n",
    "        return\n",
    "    with open(f'nhkweb{year}.json', 'r', encoding='utf-8') as f:\n",
    "        data = json.load(f)\n",
    "    with open(f'nhkweb{year}.json', 'w', encoding='utf-8') as f:\n",
    "        if dic['id'] not in [x['id'] for x in data]:\n",
    "            data.append(dic)\n",
    "        else:\n",
    "            for i, d in enumerate(data):\n",
    "                if dic['id'] == d['id']:\n",
    "                    data[i] = dic\n",
    "        data = sorted(data, key=lambda x:x['id'])\n",
    "        json.dump(data, f, indent=4, ensure_ascii=False)"
   ]
  },
  {
   "cell_type": "markdown",
   "metadata": {},
   "source": [
    "# check data"
   ]
  },
  {
   "cell_type": "code",
   "execution_count": 20,
   "metadata": {},
   "outputs": [
    {
     "data": {
      "text/plain": "10679"
     },
     "execution_count": 20,
     "metadata": {},
     "output_type": "execute_result"
    }
   ],
   "source": [
    "data = pd.read_json('nhkweb2019.json')\n",
    "len(data)"
   ]
  },
  {
   "cell_type": "markdown",
   "metadata": {},
   "source": [
    "# get missing url"
   ]
  },
  {
   "cell_type": "code",
   "execution_count": 21,
   "metadata": {},
   "outputs": [
    {
     "data": {
      "text/html": "<div>\n<style scoped>\n    .dataframe tbody tr th:only-of-type {\n        vertical-align: middle;\n    }\n\n    .dataframe tbody tr th {\n        vertical-align: top;\n    }\n\n    .dataframe thead th {\n        text-align: right;\n    }\n</style>\n<table border=\"1\" class=\"dataframe\">\n  <thead>\n    <tr style=\"text-align: right;\">\n      <th></th>\n      <th>id</th>\n      <th>url</th>\n      <th>date</th>\n    </tr>\n  </thead>\n  <tbody>\n    <tr>\n      <th>483</th>\n      <td>1001177001</td>\n      <td>https://www3.nhk.or.jp/news/html/20190107/k100...</td>\n      <td>20190107</td>\n    </tr>\n  </tbody>\n</table>\n</div>",
      "text/plain": "             id                                                url      date\n483  1001177001  https://www3.nhk.or.jp/news/html/20190107/k100...  20190107"
     },
     "execution_count": 21,
     "metadata": {},
     "output_type": "execute_result"
    }
   ],
   "source": [
    "data = pd.read_json('nhkweb2019.json')\n",
    "data = data[['id', 'url']]\n",
    "data.id = data.id.apply(lambda x:x[1:-4])\n",
    "data['date'] = data.url.apply(lambda x:x.split('news/html/')[-1].split('/')[0])\n",
    "data[data.id == \"1001177001\"]"
   ]
  },
  {
   "cell_type": "code",
   "execution_count": 18,
   "metadata": {},
   "outputs": [
    {
     "data": {
      "text/html": "<div>\n<style scoped>\n    .dataframe tbody tr th:only-of-type {\n        vertical-align: middle;\n    }\n\n    .dataframe tbody tr th {\n        vertical-align: top;\n    }\n\n    .dataframe thead th {\n        text-align: right;\n    }\n</style>\n<table border=\"1\" class=\"dataframe\">\n  <thead>\n    <tr style=\"text-align: right;\">\n      <th></th>\n      <th>id</th>\n      <th>url</th>\n      <th>date</th>\n    </tr>\n  </thead>\n  <tbody>\n    <tr>\n      <th>520</th>\n      <td>1001177040</td>\n      <td>https://www3.nhk.or.jp/news/html/20190108/k100...</td>\n      <td>20190108</td>\n    </tr>\n    <tr>\n      <th>521</th>\n      <td>1001177041</td>\n      <td>http://www3.nhk.or.jp/news/html/20190108/k1001...</td>\n      <td>20190108</td>\n    </tr>\n    <tr>\n      <th>522</th>\n      <td>1001177042</td>\n      <td>https://www3.nhk.or.jp/news/html/20190108/k100...</td>\n      <td>20190108</td>\n    </tr>\n    <tr>\n      <th>523</th>\n      <td>1001177043</td>\n      <td>http://www3.nhk.or.jp/news/html/20190108/k1001...</td>\n      <td>20190108</td>\n    </tr>\n    <tr>\n      <th>524</th>\n      <td>1001177044</td>\n      <td>https://www3.nhk.or.jp/news/html/20190108/k100...</td>\n      <td>20190108</td>\n    </tr>\n    <tr>\n      <th>525</th>\n      <td>1001177045</td>\n      <td>http://www3.nhk.or.jp/news/html/20190108/k1001...</td>\n      <td>20190108</td>\n    </tr>\n    <tr>\n      <th>526</th>\n      <td>1001177046</td>\n      <td>https://www3.nhk.or.jp/news/html/20190108/k100...</td>\n      <td>20190108</td>\n    </tr>\n    <tr>\n      <th>527</th>\n      <td>1001177047</td>\n      <td>http://www3.nhk.or.jp/news/html/20190108/k1001...</td>\n      <td>20190108</td>\n    </tr>\n    <tr>\n      <th>528</th>\n      <td>1001177048</td>\n      <td>http://www3.nhk.or.jp/news/html/20190108/k1001...</td>\n      <td>20190108</td>\n    </tr>\n    <tr>\n      <th>529</th>\n      <td>1001177049</td>\n      <td>http://www3.nhk.or.jp/news/html/20190108/k1001...</td>\n      <td>20190108</td>\n    </tr>\n    <tr>\n      <th>530</th>\n      <td>1001177050</td>\n      <td>https://www3.nhk.or.jp/news/html/20190108/k100...</td>\n      <td>20190108</td>\n    </tr>\n    <tr>\n      <th>531</th>\n      <td>1001177051</td>\n      <td>https://www3.nhk.or.jp/news/html/20190108/k100...</td>\n      <td>20190108</td>\n    </tr>\n    <tr>\n      <th>532</th>\n      <td>1001177052</td>\n      <td>https://www3.nhk.or.jp/news/html/20190108/k100...</td>\n      <td>20190108</td>\n    </tr>\n    <tr>\n      <th>533</th>\n      <td>1001177053</td>\n      <td>https://www3.nhk.or.jp/news/html/20190108/k100...</td>\n      <td>20190108</td>\n    </tr>\n    <tr>\n      <th>534</th>\n      <td>1001177054</td>\n      <td>http://www3.nhk.or.jp/news/html/20190108/k1001...</td>\n      <td>20190108</td>\n    </tr>\n    <tr>\n      <th>535</th>\n      <td>1001177055</td>\n      <td>http://www3.nhk.or.jp/news/html/20190108/k1001...</td>\n      <td>20190108</td>\n    </tr>\n    <tr>\n      <th>536</th>\n      <td>1001177056</td>\n      <td>http://www3.nhk.or.jp/news/html/20190108/k1001...</td>\n      <td>20190108</td>\n    </tr>\n    <tr>\n      <th>537</th>\n      <td>1001177057</td>\n      <td>https://www3.nhk.or.jp/news/html/20190108/k100...</td>\n      <td>20190108</td>\n    </tr>\n    <tr>\n      <th>538</th>\n      <td>1001177058</td>\n      <td>https://www3.nhk.or.jp/news/html/20190108/k100...</td>\n      <td>20190108</td>\n    </tr>\n    <tr>\n      <th>539</th>\n      <td>1001177059</td>\n      <td>https://www3.nhk.or.jp/news/html/20190108/k100...</td>\n      <td>20190108</td>\n    </tr>\n    <tr>\n      <th>540</th>\n      <td>1001177060</td>\n      <td>https://www3.nhk.or.jp/news/html/20190108/k100...</td>\n      <td>20190108</td>\n    </tr>\n    <tr>\n      <th>541</th>\n      <td>1001177061</td>\n      <td>http://www3.nhk.or.jp/news/html/20190108/k1001...</td>\n      <td>20190108</td>\n    </tr>\n    <tr>\n      <th>542</th>\n      <td>1001177062</td>\n      <td>https://www3.nhk.or.jp/news/html/20190108/k100...</td>\n      <td>20190108</td>\n    </tr>\n    <tr>\n      <th>543</th>\n      <td>1001177063</td>\n      <td>https://www3.nhk.or.jp/news/html/20190108/k100...</td>\n      <td>20190108</td>\n    </tr>\n    <tr>\n      <th>544</th>\n      <td>1001177065</td>\n      <td>http://www3.nhk.or.jp/news/html/20190108/k1001...</td>\n      <td>20190108</td>\n    </tr>\n    <tr>\n      <th>545</th>\n      <td>1001177066</td>\n      <td>http://www3.nhk.or.jp/news/html/20190108/k1001...</td>\n      <td>20190108</td>\n    </tr>\n    <tr>\n      <th>546</th>\n      <td>1001177067</td>\n      <td>http://www3.nhk.or.jp/news/html/20190108/k1001...</td>\n      <td>20190108</td>\n    </tr>\n    <tr>\n      <th>547</th>\n      <td>1001177071</td>\n      <td>https://www3.nhk.or.jp/news/html/20190108/k100...</td>\n      <td>20190108</td>\n    </tr>\n    <tr>\n      <th>548</th>\n      <td>1001177072</td>\n      <td>http://www3.nhk.or.jp/news/html/20190108/k1001...</td>\n      <td>20190108</td>\n    </tr>\n    <tr>\n      <th>549</th>\n      <td>1001177073</td>\n      <td>http://www3.nhk.or.jp/news/html/20190108/k1001...</td>\n      <td>20190108</td>\n    </tr>\n  </tbody>\n</table>\n</div>",
      "text/plain": "             id                                                url      date\n520  1001177040  https://www3.nhk.or.jp/news/html/20190108/k100...  20190108\n521  1001177041  http://www3.nhk.or.jp/news/html/20190108/k1001...  20190108\n522  1001177042  https://www3.nhk.or.jp/news/html/20190108/k100...  20190108\n523  1001177043  http://www3.nhk.or.jp/news/html/20190108/k1001...  20190108\n524  1001177044  https://www3.nhk.or.jp/news/html/20190108/k100...  20190108\n525  1001177045  http://www3.nhk.or.jp/news/html/20190108/k1001...  20190108\n526  1001177046  https://www3.nhk.or.jp/news/html/20190108/k100...  20190108\n527  1001177047  http://www3.nhk.or.jp/news/html/20190108/k1001...  20190108\n528  1001177048  http://www3.nhk.or.jp/news/html/20190108/k1001...  20190108\n529  1001177049  http://www3.nhk.or.jp/news/html/20190108/k1001...  20190108\n530  1001177050  https://www3.nhk.or.jp/news/html/20190108/k100...  20190108\n531  1001177051  https://www3.nhk.or.jp/news/html/20190108/k100...  20190108\n532  1001177052  https://www3.nhk.or.jp/news/html/20190108/k100...  20190108\n533  1001177053  https://www3.nhk.or.jp/news/html/20190108/k100...  20190108\n534  1001177054  http://www3.nhk.or.jp/news/html/20190108/k1001...  20190108\n535  1001177055  http://www3.nhk.or.jp/news/html/20190108/k1001...  20190108\n536  1001177056  http://www3.nhk.or.jp/news/html/20190108/k1001...  20190108\n537  1001177057  https://www3.nhk.or.jp/news/html/20190108/k100...  20190108\n538  1001177058  https://www3.nhk.or.jp/news/html/20190108/k100...  20190108\n539  1001177059  https://www3.nhk.or.jp/news/html/20190108/k100...  20190108\n540  1001177060  https://www3.nhk.or.jp/news/html/20190108/k100...  20190108\n541  1001177061  http://www3.nhk.or.jp/news/html/20190108/k1001...  20190108\n542  1001177062  https://www3.nhk.or.jp/news/html/20190108/k100...  20190108\n543  1001177063  https://www3.nhk.or.jp/news/html/20190108/k100...  20190108\n544  1001177065  http://www3.nhk.or.jp/news/html/20190108/k1001...  20190108\n545  1001177066  http://www3.nhk.or.jp/news/html/20190108/k1001...  20190108\n546  1001177067  http://www3.nhk.or.jp/news/html/20190108/k1001...  20190108\n547  1001177071  https://www3.nhk.or.jp/news/html/20190108/k100...  20190108\n548  1001177072  http://www3.nhk.or.jp/news/html/20190108/k1001...  20190108\n549  1001177073  http://www3.nhk.or.jp/news/html/20190108/k1001...  20190108"
     },
     "execution_count": 18,
     "metadata": {},
     "output_type": "execute_result"
    }
   ],
   "source": [
    "data.iloc[520:550,:]"
   ]
  },
  {
   "cell_type": "code",
   "execution_count": 19,
   "metadata": {},
   "outputs": [],
   "source": [
    "driver = webdriver.Chrome()"
   ]
  },
  {
   "cell_type": "code",
   "execution_count": 22,
   "metadata": {},
   "outputs": [
    {
     "name": "stdout",
     "output_type": "stream",
     "text": "1001177030\n1001177063\n1001177067\n1001177073\n1001177078\n1001177088\n1001177103\n1001177112\n1001177114\n1001177121\n1001177134\n1001177145\n1001177150\n1001177168\n1001177172\n1001177180\n1001177182\n1001177186\n1001177193\n"
    },
    {
     "ename": "NoSuchWindowException",
     "evalue": "Message: no such window: window was already closed\n  (Session info: chrome=80.0.3987.132)\n",
     "output_type": "error",
     "traceback": [
      "\u001b[0;31m---------------------------------------------------------------------------\u001b[0m",
      "\u001b[0;31mNoSuchWindowException\u001b[0m                     Traceback (most recent call last)",
      "\u001b[0;32m<ipython-input-22-2a843e2f4d44>\u001b[0m in \u001b[0;36m<module>\u001b[0;34m\u001b[0m\n\u001b[1;32m     10\u001b[0m         \u001b[0mprint\u001b[0m\u001b[0;34m(\u001b[0m\u001b[0mID1\u001b[0m\u001b[0;34m)\u001b[0m\u001b[0;34m\u001b[0m\u001b[0;34m\u001b[0m\u001b[0m\n\u001b[1;32m     11\u001b[0m         \u001b[0;32mfor\u001b[0m \u001b[0mID\u001b[0m \u001b[0;32min\u001b[0m \u001b[0mrange\u001b[0m\u001b[0;34m(\u001b[0m\u001b[0mint\u001b[0m\u001b[0;34m(\u001b[0m\u001b[0mID1\u001b[0m\u001b[0;34m)\u001b[0m\u001b[0;34m+\u001b[0m\u001b[0;36m1\u001b[0m\u001b[0;34m,\u001b[0m \u001b[0mint\u001b[0m\u001b[0;34m(\u001b[0m\u001b[0mID2\u001b[0m\u001b[0;34m)\u001b[0m\u001b[0;34m)\u001b[0m\u001b[0;34m:\u001b[0m\u001b[0;34m\u001b[0m\u001b[0;34m\u001b[0m\u001b[0m\n\u001b[0;32m---> 12\u001b[0;31m             \u001b[0marchiveurl\u001b[0m \u001b[0;34m=\u001b[0m \u001b[0mget_archiveurl_from_id\u001b[0m\u001b[0;34m(\u001b[0m\u001b[0mID\u001b[0m\u001b[0;34m,\u001b[0m \u001b[0mdate1\u001b[0m\u001b[0;34m)\u001b[0m\u001b[0;34m\u001b[0m\u001b[0;34m\u001b[0m\u001b[0m\n\u001b[0m\u001b[1;32m     13\u001b[0m             \u001b[0;32mif\u001b[0m \u001b[0marchiveurl\u001b[0m \u001b[0;34m!=\u001b[0m \u001b[0;32mNone\u001b[0m\u001b[0;34m:\u001b[0m\u001b[0;34m\u001b[0m\u001b[0;34m\u001b[0m\u001b[0m\n\u001b[1;32m     14\u001b[0m                 \u001b[0mdic\u001b[0m \u001b[0;34m=\u001b[0m \u001b[0mget_article_from_archiveurl\u001b[0m\u001b[0;34m(\u001b[0m\u001b[0marchiveurl\u001b[0m\u001b[0;34m)\u001b[0m\u001b[0;34m\u001b[0m\u001b[0;34m\u001b[0m\u001b[0m\n",
      "\u001b[0;32m<ipython-input-2-8569dc5b0b43>\u001b[0m in \u001b[0;36mget_archiveurl_from_id\u001b[0;34m(ID, date)\u001b[0m\n\u001b[1;32m     75\u001b[0m     \u001b[0mdriver\u001b[0m\u001b[0;34m.\u001b[0m\u001b[0mget\u001b[0m\u001b[0;34m(\u001b[0m\u001b[0murl1\u001b[0m\u001b[0;34m)\u001b[0m\u001b[0;34m\u001b[0m\u001b[0;34m\u001b[0m\u001b[0m\n\u001b[1;32m     76\u001b[0m     \u001b[0mtime\u001b[0m\u001b[0;34m.\u001b[0m\u001b[0msleep\u001b[0m\u001b[0;34m(\u001b[0m\u001b[0;36m3\u001b[0m\u001b[0;34m)\u001b[0m\u001b[0;34m\u001b[0m\u001b[0;34m\u001b[0m\u001b[0m\n\u001b[0;32m---> 77\u001b[0;31m     \u001b[0mhtml\u001b[0m \u001b[0;34m=\u001b[0m \u001b[0mstr\u001b[0m\u001b[0;34m(\u001b[0m\u001b[0mdriver\u001b[0m\u001b[0;34m.\u001b[0m\u001b[0mpage_source\u001b[0m\u001b[0;34m.\u001b[0m\u001b[0mencode\u001b[0m\u001b[0;34m(\u001b[0m\u001b[0;34m'utf-8'\u001b[0m\u001b[0;34m)\u001b[0m\u001b[0;34m)\u001b[0m\u001b[0;34m\u001b[0m\u001b[0;34m\u001b[0m\u001b[0m\n\u001b[0m\u001b[1;32m     78\u001b[0m     \u001b[0msnap\u001b[0m \u001b[0;34m=\u001b[0m \u001b[0mre\u001b[0m\u001b[0;34m.\u001b[0m\u001b[0msearch\u001b[0m\u001b[0;34m(\u001b[0m\u001b[0;34mr'(times between|1 time|times).*?<a href=\"(.+?)\">'\u001b[0m\u001b[0;34m,\u001b[0m \u001b[0mhtml\u001b[0m\u001b[0;34m)\u001b[0m\u001b[0;34m\u001b[0m\u001b[0;34m\u001b[0m\u001b[0m\n\u001b[1;32m     79\u001b[0m     \u001b[0marchiveurl\u001b[0m \u001b[0;34m=\u001b[0m \u001b[0;34m'https://web.archive.org'\u001b[0m \u001b[0;34m+\u001b[0m \u001b[0msnap\u001b[0m\u001b[0;34m.\u001b[0m\u001b[0mgroup\u001b[0m\u001b[0;34m(\u001b[0m\u001b[0;36m2\u001b[0m\u001b[0;34m)\u001b[0m\u001b[0;34m\u001b[0m\u001b[0;34m\u001b[0m\u001b[0m\n",
      "\u001b[0;32m/Library/Frameworks/Python.framework/Versions/3.7/lib/python3.7/site-packages/selenium/webdriver/remote/webdriver.py\u001b[0m in \u001b[0;36mpage_source\u001b[0;34m(self)\u001b[0m\n\u001b[1;32m    677\u001b[0m             \u001b[0mdriver\u001b[0m\u001b[0;34m.\u001b[0m\u001b[0mpage_source\u001b[0m\u001b[0;34m\u001b[0m\u001b[0;34m\u001b[0m\u001b[0m\n\u001b[1;32m    678\u001b[0m         \"\"\"\n\u001b[0;32m--> 679\u001b[0;31m         \u001b[0;32mreturn\u001b[0m \u001b[0mself\u001b[0m\u001b[0;34m.\u001b[0m\u001b[0mexecute\u001b[0m\u001b[0;34m(\u001b[0m\u001b[0mCommand\u001b[0m\u001b[0;34m.\u001b[0m\u001b[0mGET_PAGE_SOURCE\u001b[0m\u001b[0;34m)\u001b[0m\u001b[0;34m[\u001b[0m\u001b[0;34m'value'\u001b[0m\u001b[0;34m]\u001b[0m\u001b[0;34m\u001b[0m\u001b[0;34m\u001b[0m\u001b[0m\n\u001b[0m\u001b[1;32m    680\u001b[0m \u001b[0;34m\u001b[0m\u001b[0m\n\u001b[1;32m    681\u001b[0m     \u001b[0;32mdef\u001b[0m \u001b[0mclose\u001b[0m\u001b[0;34m(\u001b[0m\u001b[0mself\u001b[0m\u001b[0;34m)\u001b[0m\u001b[0;34m:\u001b[0m\u001b[0;34m\u001b[0m\u001b[0;34m\u001b[0m\u001b[0m\n",
      "\u001b[0;32m/Library/Frameworks/Python.framework/Versions/3.7/lib/python3.7/site-packages/selenium/webdriver/remote/webdriver.py\u001b[0m in \u001b[0;36mexecute\u001b[0;34m(self, driver_command, params)\u001b[0m\n\u001b[1;32m    319\u001b[0m         \u001b[0mresponse\u001b[0m \u001b[0;34m=\u001b[0m \u001b[0mself\u001b[0m\u001b[0;34m.\u001b[0m\u001b[0mcommand_executor\u001b[0m\u001b[0;34m.\u001b[0m\u001b[0mexecute\u001b[0m\u001b[0;34m(\u001b[0m\u001b[0mdriver_command\u001b[0m\u001b[0;34m,\u001b[0m \u001b[0mparams\u001b[0m\u001b[0;34m)\u001b[0m\u001b[0;34m\u001b[0m\u001b[0;34m\u001b[0m\u001b[0m\n\u001b[1;32m    320\u001b[0m         \u001b[0;32mif\u001b[0m \u001b[0mresponse\u001b[0m\u001b[0;34m:\u001b[0m\u001b[0;34m\u001b[0m\u001b[0;34m\u001b[0m\u001b[0m\n\u001b[0;32m--> 321\u001b[0;31m             \u001b[0mself\u001b[0m\u001b[0;34m.\u001b[0m\u001b[0merror_handler\u001b[0m\u001b[0;34m.\u001b[0m\u001b[0mcheck_response\u001b[0m\u001b[0;34m(\u001b[0m\u001b[0mresponse\u001b[0m\u001b[0;34m)\u001b[0m\u001b[0;34m\u001b[0m\u001b[0;34m\u001b[0m\u001b[0m\n\u001b[0m\u001b[1;32m    322\u001b[0m             response['value'] = self._unwrap_value(\n\u001b[1;32m    323\u001b[0m                 response.get('value', None))\n",
      "\u001b[0;32m/Library/Frameworks/Python.framework/Versions/3.7/lib/python3.7/site-packages/selenium/webdriver/remote/errorhandler.py\u001b[0m in \u001b[0;36mcheck_response\u001b[0;34m(self, response)\u001b[0m\n\u001b[1;32m    240\u001b[0m                 \u001b[0malert_text\u001b[0m \u001b[0;34m=\u001b[0m \u001b[0mvalue\u001b[0m\u001b[0;34m[\u001b[0m\u001b[0;34m'alert'\u001b[0m\u001b[0;34m]\u001b[0m\u001b[0;34m.\u001b[0m\u001b[0mget\u001b[0m\u001b[0;34m(\u001b[0m\u001b[0;34m'text'\u001b[0m\u001b[0;34m)\u001b[0m\u001b[0;34m\u001b[0m\u001b[0;34m\u001b[0m\u001b[0m\n\u001b[1;32m    241\u001b[0m             \u001b[0;32mraise\u001b[0m \u001b[0mexception_class\u001b[0m\u001b[0;34m(\u001b[0m\u001b[0mmessage\u001b[0m\u001b[0;34m,\u001b[0m \u001b[0mscreen\u001b[0m\u001b[0;34m,\u001b[0m \u001b[0mstacktrace\u001b[0m\u001b[0;34m,\u001b[0m \u001b[0malert_text\u001b[0m\u001b[0;34m)\u001b[0m\u001b[0;34m\u001b[0m\u001b[0;34m\u001b[0m\u001b[0m\n\u001b[0;32m--> 242\u001b[0;31m         \u001b[0;32mraise\u001b[0m \u001b[0mexception_class\u001b[0m\u001b[0;34m(\u001b[0m\u001b[0mmessage\u001b[0m\u001b[0;34m,\u001b[0m \u001b[0mscreen\u001b[0m\u001b[0;34m,\u001b[0m \u001b[0mstacktrace\u001b[0m\u001b[0;34m)\u001b[0m\u001b[0;34m\u001b[0m\u001b[0;34m\u001b[0m\u001b[0m\n\u001b[0m\u001b[1;32m    243\u001b[0m \u001b[0;34m\u001b[0m\u001b[0m\n\u001b[1;32m    244\u001b[0m     \u001b[0;32mdef\u001b[0m \u001b[0m_value_or_default\u001b[0m\u001b[0;34m(\u001b[0m\u001b[0mself\u001b[0m\u001b[0;34m,\u001b[0m \u001b[0mobj\u001b[0m\u001b[0;34m,\u001b[0m \u001b[0mkey\u001b[0m\u001b[0;34m,\u001b[0m \u001b[0mdefault\u001b[0m\u001b[0;34m)\u001b[0m\u001b[0;34m:\u001b[0m\u001b[0;34m\u001b[0m\u001b[0;34m\u001b[0m\u001b[0m\n",
      "\u001b[0;31mNoSuchWindowException\u001b[0m: Message: no such window: window was already closed\n  (Session info: chrome=80.0.3987.132)\n"
     ]
    }
   ],
   "source": [
    "year = 2019\n",
    "\n",
    "for i in range(500, 600):\n",
    "    ID1, ID2 = data.iat[i,0], data.iat[i+1,0]\n",
    "    date1, date2 = data.iat[i,2], data.iat[i+1,2]\n",
    "\n",
    "    if int(ID1) + 1 == int(ID2): # continuous = no missing\n",
    "        continue\n",
    "    elif date1 == date2:  # not continuous, but in the same day\n",
    "        print(ID1)\n",
    "        for ID in range(int(ID1)+1, int(ID2)):\n",
    "            archiveurl = get_archiveurl_from_id(ID, date1)\n",
    "            if archiveurl != None:\n",
    "                dic = get_article_from_archiveurl(archiveurl)\n",
    "                js(dic, year)\n",
    "    else:  # not continuous, not in the same day\n",
    "        print(ID1)\n",
    "        is_date1 = True\n",
    "        for ID in range(int(ID1)+1, int(ID2)):\n",
    "            if is_date1:\n",
    "                archiveurl = get_archiveurl_from_id(ID, date1)\n",
    "                if archiveurl:\n",
    "                    dic = get_article_from_archiveurl(archiveurl)\n",
    "                    js(dic, year)\n",
    "                else:\n",
    "                    archiveurl = get_archiveurl_from_id(ID, date2)\n",
    "                    if archiveurl:\n",
    "                        dic = get_article_from_archiveurl(archiveurl)\n",
    "                        js(dic, year)\n",
    "                        is_date1 = False\n",
    "            else:\n",
    "                archiveurl = get_archiveurl_from_id(ID, date2)\n",
    "                if archiveurl:\n",
    "                        js(dic, year)"
   ]
  },
  {
   "cell_type": "code",
   "execution_count": null,
   "metadata": {},
   "outputs": [],
   "source": [
    "driver.page_source.encode(\"utf8\")"
   ]
  },
  {
   "cell_type": "code",
   "execution_count": null,
   "metadata": {},
   "outputs": [],
   "source": []
  }
 ]
}