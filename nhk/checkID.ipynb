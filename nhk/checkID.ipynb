{
 "nbformat": 4,
 "nbformat_minor": 2,
 "metadata": {
  "language_info": {
   "name": "python",
   "codemirror_mode": {
    "name": "ipython",
    "version": 3
   },
   "version": "3.7.5-final"
  },
  "orig_nbformat": 2,
  "file_extension": ".py",
  "mimetype": "text/x-python",
  "name": "python",
  "npconvert_exporter": "python",
  "pygments_lexer": "ipython3",
  "version": 3,
  "kernelspec": {
   "name": "python37564bit72de44cd76184052b9457c2863c13ac2",
   "display_name": "Python 3.7.5 64-bit"
  }
 },
 "cells": [
  {
   "cell_type": "code",
   "execution_count": 1,
   "metadata": {},
   "outputs": [],
   "source": [
    "import json\n",
    "import pandas as pd"
   ]
  },
  {
   "cell_type": "markdown",
   "metadata": {},
   "source": [
    "# check ID"
   ]
  },
  {
   "cell_type": "code",
   "execution_count": 2,
   "metadata": {},
   "outputs": [],
   "source": [
    "normal = pd.read_json('nhkweb.json')"
   ]
  },
  {
   "cell_type": "code",
   "execution_count": 10,
   "metadata": {},
   "outputs": [
    {
     "data": {
      "text/html": "<div>\n<style scoped>\n    .dataframe tbody tr th:only-of-type {\n        vertical-align: middle;\n    }\n\n    .dataframe tbody tr th {\n        vertical-align: top;\n    }\n\n    .dataframe thead th {\n        text-align: right;\n    }\n</style>\n<table border=\"1\" class=\"dataframe\">\n  <thead>\n    <tr style=\"text-align: right;\">\n      <th></th>\n      <th>id</th>\n      <th>title</th>\n      <th>article</th>\n      <th>genre</th>\n      <th>keywords</th>\n      <th>url</th>\n      <th>datePublished</th>\n      <th>dateModified</th>\n    </tr>\n  </thead>\n  <tbody>\n    <tr>\n      <th>0</th>\n      <td>k10010000621000</td>\n      <td>ウィリアム王子 震災の犠牲者に花束</td>\n      <td>イギリス王室のウィリアム王子は東日本大震災の被災地の宮城県石巻市と女川町を訪れ、震災の犠牲者...</td>\n      <td>[社会]</td>\n      <td>[]</td>\n      <td>http://www3.nhk.or.jp/news/html/20150301/k1001...</td>\n      <td>2015-03-01T17:37</td>\n      <td></td>\n    </tr>\n    <tr>\n      <th>1</th>\n      <td>k10010000861000</td>\n      <td>健やかな成長願う「流しびな」</td>\n      <td>桃の節句を前に、人形作りが盛んなさいたま市岩槻区で子どもの健やかな成長を願って紙のひな人形を...</td>\n      <td>[科学・文化]</td>\n      <td>[]</td>\n      <td>http://www3.nhk.or.jp/news/html/20150301/k1001...</td>\n      <td>2015-03-01T23:32</td>\n      <td></td>\n    </tr>\n    <tr>\n      <th>2</th>\n      <td>k10010000991000</td>\n      <td>企業の約４０％ 「正社員不足感じる」</td>\n      <td>雇用情勢の改善傾向が続くなか、企業の４０％近くが正社員の不足を感じているという調査結果がまと...</td>\n      <td>[ビジネス]</td>\n      <td>[]</td>\n      <td>http://www3.nhk.or.jp/news/html/20150302/k1001...</td>\n      <td>2015-03-02T04:16</td>\n      <td></td>\n    </tr>\n    <tr>\n      <th>3</th>\n      <td>k10010001851000</td>\n      <td>ラグビーＷ杯 会場の１２都市が決定</td>\n      <td>２０１９年に日本で開かれるラグビーワールドカップで試合会場となる１２の都市が発表され、東日本...</td>\n      <td>[スポーツ]</td>\n      <td>[]</td>\n      <td>http://www3.nhk.or.jp/news/html/20150302/k1001...</td>\n      <td>2015-03-02T21:52</td>\n      <td></td>\n    </tr>\n    <tr>\n      <th>4</th>\n      <td>k10010001911000</td>\n      <td>国産顕微鏡１００年を記念する展示会</td>\n      <td>日本で初めて、顕微鏡が量産化されてから１００年がすぎたのを記念する展示会が、３日から東京・上...</td>\n      <td>[科学・文化]</td>\n      <td>[]</td>\n      <td>http://www3.nhk.or.jp/news/html/20150303/k1001...</td>\n      <td>2015-03-03T04:10</td>\n      <td></td>\n    </tr>\n  </tbody>\n</table>\n</div>",
      "text/plain": "                id               title  \\\n0  k10010000621000   ウィリアム王子 震災の犠牲者に花束   \n1  k10010000861000      健やかな成長願う「流しびな」   \n2  k10010000991000  企業の約４０％ 「正社員不足感じる」   \n3  k10010001851000   ラグビーＷ杯 会場の１２都市が決定   \n4  k10010001911000   国産顕微鏡１００年を記念する展示会   \n\n                                             article    genre keywords  \\\n0  イギリス王室のウィリアム王子は東日本大震災の被災地の宮城県石巻市と女川町を訪れ、震災の犠牲者...     [社会]       []   \n1  桃の節句を前に、人形作りが盛んなさいたま市岩槻区で子どもの健やかな成長を願って紙のひな人形を...  [科学・文化]       []   \n2  雇用情勢の改善傾向が続くなか、企業の４０％近くが正社員の不足を感じているという調査結果がまと...   [ビジネス]       []   \n3  ２０１９年に日本で開かれるラグビーワールドカップで試合会場となる１２の都市が発表され、東日本...   [スポーツ]       []   \n4  日本で初めて、顕微鏡が量産化されてから１００年がすぎたのを記念する展示会が、３日から東京・上...  [科学・文化]       []   \n\n                                                 url     datePublished  \\\n0  http://www3.nhk.or.jp/news/html/20150301/k1001...  2015-03-01T17:37   \n1  http://www3.nhk.or.jp/news/html/20150301/k1001...  2015-03-01T23:32   \n2  http://www3.nhk.or.jp/news/html/20150302/k1001...  2015-03-02T04:16   \n3  http://www3.nhk.or.jp/news/html/20150302/k1001...  2015-03-02T21:52   \n4  http://www3.nhk.or.jp/news/html/20150303/k1001...  2015-03-03T04:10   \n\n  dateModified  \n0               \n1               \n2               \n3               \n4               "
     },
     "execution_count": 10,
     "metadata": {},
     "output_type": "execute_result"
    }
   ],
   "source": [
    "normal.head()"
   ]
  },
  {
   "cell_type": "code",
   "execution_count": 14,
   "metadata": {},
   "outputs": [],
   "source": [
    "# 2019\n",
    "d19 = normal[normal['datePublished'].str.startswith('2019')]"
   ]
  },
  {
   "cell_type": "code",
   "execution_count": 30,
   "metadata": {},
   "outputs": [
    {
     "data": {
      "text/html": "<div>\n<style scoped>\n    .dataframe tbody tr th:only-of-type {\n        vertical-align: middle;\n    }\n\n    .dataframe tbody tr th {\n        vertical-align: top;\n    }\n\n    .dataframe thead th {\n        text-align: right;\n    }\n</style>\n<table border=\"1\" class=\"dataframe\">\n  <thead>\n    <tr style=\"text-align: right;\">\n      <th></th>\n      <th>id</th>\n      <th>title</th>\n      <th>article</th>\n      <th>genre</th>\n      <th>keywords</th>\n      <th>url</th>\n      <th>datePublished</th>\n      <th>dateModified</th>\n    </tr>\n  </thead>\n  <tbody>\n    <tr>\n      <th>10910</th>\n      <td>k10011760881000</td>\n      <td>僕、迷惑ですか？</td>\n      <td>東日本大震災のあと、「僕」は売れっ子になりました。売り上げは何倍にも跳ね上がり、カジュアルだ...</td>\n      <td>[暮らし]</td>\n      <td>[]</td>\n      <td>https://www3.nhk.or.jp/news/html/20190104/k100...</td>\n      <td>2019-01-04T12:32:01+09:00</td>\n      <td>2019-01-04T12:32:02+09:00</td>\n    </tr>\n    <tr>\n      <th>10914</th>\n      <td>k10011764791000</td>\n      <td>日米欧もアジアも 2018年 株価下落 景気先行きに不安根強く</td>\n      <td>ニューヨーク株式市場は31日、2018年最後の取り引きが行われ、ダウ平均株価は値上がりして取...</td>\n      <td>[ビジネス]</td>\n      <td>[株価・為替]</td>\n      <td>http://www3.nhk.or.jp/news/html/20190101/k1001...</td>\n      <td>2019-01-01T08:55</td>\n      <td></td>\n    </tr>\n    <tr>\n      <th>10915</th>\n      <td>k10011764811000</td>\n      <td>独 メルケル首相 米欧の自国第一主義に懸念 新年前に演説</td>\n      <td>ドイツのメルケル首相は新年を前にした恒例のテレビ演説で「国際協調という確かなものが圧力にさら...</td>\n      <td>[国際]</td>\n      <td>[]</td>\n      <td>http://www3.nhk.or.jp/news/html/20190101/k1001...</td>\n      <td>2019-01-01T09:02</td>\n      <td></td>\n    </tr>\n    <tr>\n      <th>10916</th>\n      <td>k10011764821000</td>\n      <td>マーライオンも摩天楼も 新年祝う花火が照らす</td>\n      <td>日本より１時間遅れで新年を迎えたシンガポールでは、観光名所として知られるマーライオンの像の前...</td>\n      <td>[国際]</td>\n      <td>[国際５]</td>\n      <td>http://www3.nhk.or.jp/news/html/20190101/k1001...</td>\n      <td>2019-01-01T09:13</td>\n      <td></td>\n    </tr>\n    <tr>\n      <th>10917</th>\n      <td>k10011764841000</td>\n      <td>仏 大みそかもデモ マクロン大統領 協力求める</td>\n      <td>フランスのマクロン大統領は政権が進める改革に不満を持つ国民のデモが続く中、新年に向けた恒例の...</td>\n      <td>[国際]</td>\n      <td>[国際４]</td>\n      <td>http://www3.nhk.or.jp/news/html/20190101/k1001...</td>\n      <td>2019-01-01T09:06</td>\n      <td></td>\n    </tr>\n    <tr>\n      <th>...</th>\n      <td>...</td>\n      <td>...</td>\n      <td>...</td>\n      <td>...</td>\n      <td>...</td>\n      <td>...</td>\n      <td>...</td>\n      <td>...</td>\n    </tr>\n    <tr>\n      <th>21165</th>\n      <td>k10012232931000</td>\n      <td>日本ハム 斎藤佑樹投手が結婚 相手は同い年の一般女性</td>\n      <td>プロ野球・日本ハムは８年前のドラフト１位、31歳の斎藤佑樹投手が同い年の一般女性と結婚したこ...</td>\n      <td>[スポーツ]</td>\n      <td>[プロ野球]</td>\n      <td>https://www3.nhk.or.jp/news/html/20191231/k100...</td>\n      <td>2019-12-31T17:27:02+09:00</td>\n      <td>2019-12-31T19:50:38+09:00</td>\n    </tr>\n    <tr>\n      <th>21166</th>\n      <td>k10012232941000</td>\n      <td>ＩＲ汚職 贈賄側は海外から1000万円超の現金 政界工作目的か</td>\n      <td>ＩＲ=統合型リゾート施設の事業をめぐって秋元司衆議院議員が逮捕された汚職事件で、贈賄側の中国...</td>\n      <td>[社会]</td>\n      <td>[]</td>\n      <td>https://www3.nhk.or.jp/news/html/20191231/k100...</td>\n      <td>2019-12-31T17:53:01+09:00</td>\n      <td>2019-12-31T19:50:38+09:00</td>\n    </tr>\n    <tr>\n      <th>21167</th>\n      <td>k10012232951000</td>\n      <td>西日本豪雨で被災 仮設住宅に年越しそば届ける 広島 呉</td>\n      <td>去年７月の西日本豪雨で大きな被害を受けた広島県呉市では大みそかの31日、ボランティア団体が仮...</td>\n      <td>[社会]</td>\n      <td>[気象・災害・気象・災害, 西日本豪雨]</td>\n      <td>https://www3.nhk.or.jp/news/html/20191231/k100...</td>\n      <td>2019-12-31T19:05:20+09:00</td>\n      <td>2019-12-31T19:50:38+09:00</td>\n    </tr>\n    <tr>\n      <th>21168</th>\n      <td>k10012232961000</td>\n      <td>ＷＢＯフライ級タイトルマッチ 田中が３回目の防衛</td>\n      <td>ボクシング、ＷＢＯ＝世界ボクシング機構のフライ級タイトルマッチが東京で行われ、チャンピオンの...</td>\n      <td>[スポーツ]</td>\n      <td>[]</td>\n      <td>https://www3.nhk.or.jp/news/html/20191231/k100...</td>\n      <td>2019-12-31T19:09:07+09:00</td>\n      <td>2019-12-31T19:50:38+09:00</td>\n    </tr>\n    <tr>\n      <th>21169</th>\n      <td>k10012232971000</td>\n      <td>東京 渋谷 年越しカウントダウンで機動隊員らが警戒</td>\n      <td>令和最初の大みそかの31日、東京の渋谷駅周辺は年越しのカウントダウンで大勢の人で混雑する見込...</td>\n      <td>[社会]</td>\n      <td>[]</td>\n      <td>https://www3.nhk.or.jp/news/html/20191231/k100...</td>\n      <td>2019-12-31T19:26:54+09:00</td>\n      <td>2019-12-31T19:50:38+09:00</td>\n    </tr>\n  </tbody>\n</table>\n<p>10257 rows × 8 columns</p>\n</div>",
      "text/plain": "                    id                            title  \\\n10910  k10011760881000                         僕、迷惑ですか？   \n10914  k10011764791000  日米欧もアジアも 2018年 株価下落 景気先行きに不安根強く   \n10915  k10011764811000     独 メルケル首相 米欧の自国第一主義に懸念 新年前に演説   \n10916  k10011764821000           マーライオンも摩天楼も 新年祝う花火が照らす   \n10917  k10011764841000          仏 大みそかもデモ マクロン大統領 協力求める   \n...                ...                              ...   \n21165  k10012232931000       日本ハム 斎藤佑樹投手が結婚 相手は同い年の一般女性   \n21166  k10012232941000  ＩＲ汚職 贈賄側は海外から1000万円超の現金 政界工作目的か   \n21167  k10012232951000      西日本豪雨で被災 仮設住宅に年越しそば届ける 広島 呉   \n21168  k10012232961000         ＷＢＯフライ級タイトルマッチ 田中が３回目の防衛   \n21169  k10012232971000        東京 渋谷 年越しカウントダウンで機動隊員らが警戒   \n\n                                                 article   genre  \\\n10910  東日本大震災のあと、「僕」は売れっ子になりました。売り上げは何倍にも跳ね上がり、カジュアルだ...   [暮らし]   \n10914  ニューヨーク株式市場は31日、2018年最後の取り引きが行われ、ダウ平均株価は値上がりして取...  [ビジネス]   \n10915  ドイツのメルケル首相は新年を前にした恒例のテレビ演説で「国際協調という確かなものが圧力にさら...    [国際]   \n10916  日本より１時間遅れで新年を迎えたシンガポールでは、観光名所として知られるマーライオンの像の前...    [国際]   \n10917  フランスのマクロン大統領は政権が進める改革に不満を持つ国民のデモが続く中、新年に向けた恒例の...    [国際]   \n...                                                  ...     ...   \n21165  プロ野球・日本ハムは８年前のドラフト１位、31歳の斎藤佑樹投手が同い年の一般女性と結婚したこ...  [スポーツ]   \n21166  ＩＲ=統合型リゾート施設の事業をめぐって秋元司衆議院議員が逮捕された汚職事件で、贈賄側の中国...    [社会]   \n21167  去年７月の西日本豪雨で大きな被害を受けた広島県呉市では大みそかの31日、ボランティア団体が仮...    [社会]   \n21168  ボクシング、ＷＢＯ＝世界ボクシング機構のフライ級タイトルマッチが東京で行われ、チャンピオンの...  [スポーツ]   \n21169  令和最初の大みそかの31日、東京の渋谷駅周辺は年越しのカウントダウンで大勢の人で混雑する見込...    [社会]   \n\n                   keywords  \\\n10910                    []   \n10914               [株価・為替]   \n10915                    []   \n10916                 [国際５]   \n10917                 [国際４]   \n...                     ...   \n21165                [プロ野球]   \n21166                    []   \n21167  [気象・災害・気象・災害, 西日本豪雨]   \n21168                    []   \n21169                    []   \n\n                                                     url  \\\n10910  https://www3.nhk.or.jp/news/html/20190104/k100...   \n10914  http://www3.nhk.or.jp/news/html/20190101/k1001...   \n10915  http://www3.nhk.or.jp/news/html/20190101/k1001...   \n10916  http://www3.nhk.or.jp/news/html/20190101/k1001...   \n10917  http://www3.nhk.or.jp/news/html/20190101/k1001...   \n...                                                  ...   \n21165  https://www3.nhk.or.jp/news/html/20191231/k100...   \n21166  https://www3.nhk.or.jp/news/html/20191231/k100...   \n21167  https://www3.nhk.or.jp/news/html/20191231/k100...   \n21168  https://www3.nhk.or.jp/news/html/20191231/k100...   \n21169  https://www3.nhk.or.jp/news/html/20191231/k100...   \n\n                   datePublished               dateModified  \n10910  2019-01-04T12:32:01+09:00  2019-01-04T12:32:02+09:00  \n10914           2019-01-01T08:55                             \n10915           2019-01-01T09:02                             \n10916           2019-01-01T09:13                             \n10917           2019-01-01T09:06                             \n...                          ...                        ...  \n21165  2019-12-31T17:27:02+09:00  2019-12-31T19:50:38+09:00  \n21166  2019-12-31T17:53:01+09:00  2019-12-31T19:50:38+09:00  \n21167  2019-12-31T19:05:20+09:00  2019-12-31T19:50:38+09:00  \n21168  2019-12-31T19:09:07+09:00  2019-12-31T19:50:38+09:00  \n21169  2019-12-31T19:26:54+09:00  2019-12-31T19:50:38+09:00  \n\n[10257 rows x 8 columns]"
     },
     "execution_count": 30,
     "metadata": {},
     "output_type": "execute_result"
    }
   ],
   "source": [
    "d19"
   ]
  },
  {
   "cell_type": "code",
   "execution_count": 28,
   "metadata": {},
   "outputs": [],
   "source": [
    "ids = [x[:-4] for x in sorted(d19.id)]"
   ]
  },
  {
   "cell_type": "code",
   "execution_count": 41,
   "metadata": {},
   "outputs": [],
   "source": [
    "existurl = pd.read_csv('linknormal.txt', encoding='utf-8', header=None)\n",
    "existurl = existurl[existurl[0].str.contains('html/201901')]"
   ]
  },
  {
   "cell_type": "code",
   "execution_count": 44,
   "metadata": {},
   "outputs": [
    {
     "data": {
      "text/plain": "641"
     },
     "execution_count": 44,
     "metadata": {},
     "output_type": "execute_result"
    }
   ],
   "source": [
    "lst = existurl[0].tolist()\n",
    "len(lst)"
   ]
  },
  {
   "cell_type": "code",
   "execution_count": 43,
   "metadata": {},
   "outputs": [
    {
     "data": {
      "text/plain": "['https://web.archive.org/web/*/http://www3.nhk.or.jp/news/html/20190101/k10011764791000.html',\n 'https://web.archive.org/web/*/http://www3.nhk.or.jp/news/html/20190101/k10011764811000.html',\n 'https://web.archive.org/web/*/http://www3.nhk.or.jp/news/html/20190101/k10011764821000.html',\n 'https://web.archive.org/web/*/http://www3.nhk.or.jp/news/html/20190101/k10011764841000.html',\n 'https://web.archive.org/web/*/http://www3.nhk.or.jp/news/html/20190101/k10011764861000.html',\n 'https://web.archive.org/web/*/http://www3.nhk.or.jp/news/html/20190101/k10011764871000.html',\n 'https://web.archive.org/web/*/http://www3.nhk.or.jp/news/html/20190101/k10011764881000.html',\n 'https://web.archive.org/web/*/http://www3.nhk.or.jp/news/html/20190101/k10011764941000.html',\n 'https://web.archive.org/web/*/http://www3.nhk.or.jp/news/html/20190101/k10011764951000.html',\n 'https://web.archive.org/web/*/http://www3.nhk.or.jp/news/html/20190101/k10011764981000.html',\n 'https://web.archive.org/web/*/http://www3.nhk.or.jp/news/html/20190101/k10011764991000.html',\n 'https://web.archive.org/web/*/http://www3.nhk.or.jp/news/html/20190101/k10011765001000.html',\n 'https://web.archive.org/web/*/http://www3.nhk.or.jp/news/html/20190101/k10011765021000.html',\n 'https://web.archive.org/web/*/http://www3.nhk.or.jp/news/html/20190102/k10011765291000.html',\n 'https://web.archive.org/web/*/http://www3.nhk.or.jp/news/html/20190102/k10011765321000.html',\n 'https://web.archive.org/web/*/http://www3.nhk.or.jp/news/html/20190102/k10011765331000.html',\n 'https://web.archive.org/web/*/http://www3.nhk.or.jp/news/html/20190102/k10011765371000.html',\n 'https://web.archive.org/web/*/http://www3.nhk.or.jp/news/html/20190102/k10011765381000.html',\n 'https://web.archive.org/web/*/http://www3.nhk.or.jp/news/html/20190102/k10011765391000.html',\n 'https://web.archive.org/web/*/http://www3.nhk.or.jp/news/html/20190102/k10011765411000.html',\n 'https://web.archive.org/web/*/http://www3.nhk.or.jp/news/html/20190102/k10011765421000.html',\n 'https://web.archive.org/web/*/http://www3.nhk.or.jp/news/html/20190102/k10011765431000.html',\n 'https://web.archive.org/web/*/http://www3.nhk.or.jp/news/html/20190102/k10011765441000.html',\n 'https://web.archive.org/web/*/http://www3.nhk.or.jp/news/html/20190102/k10011765461000.html',\n 'https://web.archive.org/web/*/http://www3.nhk.or.jp/news/html/20190102/k10011765471000.html',\n 'https://web.archive.org/web/*/http://www3.nhk.or.jp/news/html/20190102/k10011765501000.html',\n 'https://web.archive.org/web/*/http://www3.nhk.or.jp/news/html/20190102/k10011765591000.html',\n 'https://web.archive.org/web/*/http://www3.nhk.or.jp/news/html/20190102/k10011765931000.html?utm_int=nsearch_contents_search-items_005',\n 'https://web.archive.org/web/*/http://www3.nhk.or.jp/news/html/20190103/k10011766081000.html',\n 'https://web.archive.org/web/*/http://www3.nhk.or.jp/news/html/20190103/k10011766091000.html']"
     },
     "execution_count": 43,
     "metadata": {},
     "output_type": "execute_result"
    }
   ],
   "source": [
    "lst[:30]"
   ]
  },
  {
   "cell_type": "code",
   "execution_count": null,
   "metadata": {},
   "outputs": [],
   "source": [
    "candidate = []\n",
    "for i, link in enumerate(lst):\n",
    "    ID = link.split('1000.html')[0]\n",
    "    nID = lst[i+1].split('1000.html')[0]\n",
    "    \n"
   ]
  }
 ]
}