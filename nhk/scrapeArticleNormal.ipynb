{
 "nbformat": 4,
 "nbformat_minor": 2,
 "metadata": {
  "language_info": {
   "name": "python",
   "codemirror_mode": {
    "name": "ipython",
    "version": 3
   },
   "version": "3.7.5-final"
  },
  "orig_nbformat": 2,
  "file_extension": ".py",
  "mimetype": "text/x-python",
  "name": "python",
  "npconvert_exporter": "python",
  "pygments_lexer": "ipython3",
  "version": 3,
  "kernelspec": {
   "name": "python37564bit72de44cd76184052b9457c2863c13ac2",
   "display_name": "Python 3.7.5 64-bit"
  }
 },
 "cells": [
  {
   "cell_type": "code",
   "execution_count": 1,
   "metadata": {},
   "outputs": [],
   "source": [
    "import numpy as np\n",
    "import pandas as pd\n",
    "import re, json, csv, requests, time, glob, tqdm\n",
    "from bs4 import BeautifulSoup\n",
    "from selenium import webdriver\n",
    "from selenium.webdriver.chrome.options import Options\n",
    "from collections import Counter"
   ]
  },
  {
   "cell_type": "code",
   "execution_count": 2,
   "metadata": {},
   "outputs": [],
   "source": [
    "def scrape_one_new(html, url):\n",
    "    soup = BeautifulSoup(html, \"html.parser\")\n",
    "    json_data = json.loads(soup.find_all(\"script\", type=\"application/ld+json\")[-1].text)\n",
    "\n",
    "    # title, date, genre, keyword\n",
    "    title = json_data.get('headline', soup.find('span', class_='contentTitle').text)\n",
    "    date = json_data.get('datePublished', re.search(r'datetime:.*?(\\d{4}-\\d{2}-\\d{2}T\\d{2}:\\d{2})', str(html)).group(1))\n",
    "    date_m = json_data.get('dateModified', '')\n",
    "    genre = json_data.get('genre', [])\n",
    "    if genre == []:\n",
    "        genre = [k for k in soup.find('meta', attrs={'name':'keywords'}).get('content').split(',') if k not in ['NHK','ニュース', 'NHK NEWS WEB']]\n",
    "    keywords = json_data.get('keywords', [])\n",
    "    \n",
    "    # article: news_textbody > news_textmore > news_add (paragraph titles are h3)\n",
    "    article = soup.find('div', id=\"news_textbody\").text\n",
    "    if soup.find_all('div', id=\"news_textmore\") != []:\n",
    "        for textmore in soup.find_all('div', id=\"news_textmore\"):\n",
    "            article += ('\\n' + textmore.text)\n",
    "    if soup.find_all('div', class_=\"news_add\") != []:\n",
    "        for newsadd in soup.find_all('div', class_=\"news_add\"):\n",
    "            if newsadd.h3 != None:\n",
    "                newsadd.h3.extract()\n",
    "            article += ('\\n' + newsadd.text)\n",
    "            \n",
    "    return {\n",
    "        'id':url.split('/')[-1].split('.html')[0],\n",
    "        'title':title.strip(),\n",
    "        'article':article.strip(),\n",
    "        'genre':genre,\n",
    "        'keywords':keywords,\n",
    "        'url':url,\n",
    "        'datePublished':date,\n",
    "        'dateModified':date_m\n",
    "    }\n",
    "\n",
    "# for old web normal\n",
    "def make_datetime_normal_old(hmd, time):\n",
    "    year, month, day = hmd[:4], hmd[4:6], hmd[6:]\n",
    "    hour, minute = time.split('時')\n",
    "    minute = minute.strip('分')\n",
    "    if len(hour) == 1:\n",
    "        hour = '0' + hour\n",
    "    if len(minute) == 1:\n",
    "        minute = '0' + minute\n",
    "    return f\"{year}-{month}-{day}T{hour}:{minute}\"\n",
    "\n",
    "def scrape_one_old(html, url):\n",
    "    soup = BeautifulSoup(html, \"html.parser\")\n",
    "\n",
    "    # title, date, genre, keyword\n",
    "    title = soup.find('span', class_=\"contentTitle\").text.strip()\n",
    "    hmd_ = url.split('/')[-2]\n",
    "    time_ = soup.find('span', id=\"news_time\").text\n",
    "    date = make_datetime_normal_old(hmd_, time_)\n",
    "    genre = [k for k in soup.find('meta', attrs={'name':'keywords'}).get('content').split(',') if k not in ['NHK','ニュース', 'NHK NEWS WEB','ＮＨＫ','ＮＨＫニュース','']]\n",
    "    \n",
    "    # article: news_textbody > news_textmore > news_add (paragraph titles are h3)\n",
    "    article = soup.find(['div','p'], id=\"news_textbody\").text\n",
    "    if soup.find_all(['div','p'], id=\"news_textmore\") != []:\n",
    "        for textmore in soup.find_all(['div','p'], id=\"news_textmore\"):\n",
    "            article += ('\\n' + textmore.text)\n",
    "    if soup.find_all(['div','p'], class_=\"news_add\") != []:\n",
    "        for newsadd in soup.find_all(['div','p'], class_=\"news_add\"):\n",
    "            if newsadd.h3 != None:\n",
    "                newsadd.h3.extract()\n",
    "            article += ('\\n' + newsadd.text)\n",
    "            \n",
    "    return {\n",
    "        'id':url.split('/')[-1].split('.html')[0],\n",
    "        'title':title.strip(),\n",
    "        'article':article.strip(),\n",
    "        'genre':genre,\n",
    "        'keywords':[],\n",
    "        'url':url,\n",
    "        'datePublished':date,\n",
    "        'dateModified':\"\"\n",
    "    }\n",
    "\n",
    "def get_archiveurl(url):\n",
    "    driver.get(url)\n",
    "    time.sleep(5)\n",
    "    html = str(driver.page_source.encode('utf-8'))\n",
    "    snap = re.search(r'(times between|1 time|times).*?<a href=\"(.+?)\">', html)\n",
    "    #if snap == None:\n",
    "        #return None\n",
    "    archiveurl = 'https://web.archive.org' + snap.group(2)\n",
    "    return archiveurl\n",
    "\n",
    "def js(dic, year):\n",
    "    with open(f'nhkweb{year}.json', 'r', encoding='utf-8') as f:\n",
    "        data = json.load(f)\n",
    "    with open(f'nhkweb{year}.json', 'w', encoding='utf-8') as f:\n",
    "        if dic['id'] not in [x['id'] for x in data]:\n",
    "            data.append(dic)\n",
    "        else:\n",
    "            for i, d in enumerate(data):\n",
    "                if dic['id'] == d['id']:\n",
    "                    data[i] = dic\n",
    "        data = sorted(data, key=lambda x:x['id'])\n",
    "        json.dump(data, f, indent=4, ensure_ascii=False)\n",
    "\n",
    "def geturl(year=2019):\n",
    "    idnormal = pd.read_json(f'nhkweb{year}.json', encoding='utf-8')['id'].tolist()\n",
    "    existurl = pd.read_csv('linknormal.txt', encoding='utf-8', header=None)[0].tolist()\n",
    "    nolink = pd.read_csv('nolinknormal.txt', encoding='utf-8', header=None)[0].tolist()\n",
    "    urls = set(existurl) - set(nolink)\n",
    "    return sorted([url for url in urls if (url.split('.html')[0].split('/')[-1] not in idnormal) and f'html/{year}' in url])\n",
    "\n",
    "def checkwrongid(): # check wrong ID in newswebeasy\n",
    "    df = pd.read_json('nhkwebeasy.json', encoding='utf-8')\n",
    "    print(len(df))\n",
    "    df['normalID'] = df['url_normal'].apply(lambda x:x.split('/')[-1].strip('.html'))\n",
    "    return df[df['id'] != df['normalID']]['id'].tolist()\n",
    "\n",
    "def wrongscrape():\n",
    "    wrongids = wrongid()\n",
    "    existurl = pd.read_csv('linknormal.txt', encoding='utf-8', header=None)[0].tolist()[::-1]\n",
    "    for ID in wrongids:\n",
    "        for url in existurl:\n",
    "            if ID in url:\n",
    "                print(url.split('/*/')[-1])\n",
    "                break"
   ]
  },
  {
   "cell_type": "markdown",
   "execution_count": null,
   "metadata": {},
   "outputs": [],
   "source": [
    "# scrape"
   ]
  },
  {
   "cell_type": "code",
   "execution_count": 3,
   "metadata": {},
   "outputs": [
    {
     "data": {
      "text/html": "<div>\n<style scoped>\n    .dataframe tbody tr th:only-of-type {\n        vertical-align: middle;\n    }\n\n    .dataframe tbody tr th {\n        vertical-align: top;\n    }\n\n    .dataframe thead th {\n        text-align: right;\n    }\n</style>\n<table border=\"1\" class=\"dataframe\">\n  <thead>\n    <tr style=\"text-align: right;\">\n      <th></th>\n      <th>id</th>\n      <th>title</th>\n      <th>article</th>\n      <th>genre</th>\n      <th>keywords</th>\n      <th>url</th>\n      <th>datePublished</th>\n      <th>dateModified</th>\n    </tr>\n  </thead>\n  <tbody>\n    <tr>\n      <th>0</th>\n      <td>k10010357931000</td>\n      <td>北海道新幹線３月開業 安全運行の真価問われる年に</td>\n      <td>ことし３月、地元の悲願と言われた北海道新幹線が開業します。開業効果を高めるための官民一体の取...</td>\n      <td>[社会]</td>\n      <td>[]</td>\n      <td>http://www3.nhk.or.jp/news/html/20160101/k1001...</td>\n      <td>2016-01-01T00:17</td>\n      <td></td>\n    </tr>\n    <tr>\n      <th>1</th>\n      <td>k10010357961000</td>\n      <td>日本被団協 結成６０年 若い世代に働きかけ強化へ</td>\n      <td>被爆者の立場から世界に核兵器廃絶を訴え続けている日本被団協＝日本原水爆被害者団体協議会は、こ...</td>\n      <td>[社会]</td>\n      <td>[]</td>\n      <td>http://www3.nhk.or.jp/news/html/20160101/k1001...</td>\n      <td>2016-01-01T00:17</td>\n      <td></td>\n    </tr>\n    <tr>\n      <th>2</th>\n      <td>k10010357971000</td>\n      <td>安倍首相 年頭所感 “挑戦する１年 世界へ指導力”</td>\n      <td>安倍総理大臣は、平成２８年の年頭にあたって「所感」を発表し、少子高齢化に立ち向かい、一億総活...</td>\n      <td>[政治]</td>\n      <td>[]</td>\n      <td>http://www3.nhk.or.jp/news/html/20160101/k1001...</td>\n      <td>2016-01-01T00:17</td>\n      <td></td>\n    </tr>\n    <tr>\n      <th>3</th>\n      <td>k10010357981000</td>\n      <td>選挙制度見直し 大島衆院議長が“答申踏まえ結論”</td>\n      <td>大島衆議院議長は「年頭の辞」で、１票の格差是正に向けた衆議院の選挙制度の見直しについて、今月...</td>\n      <td>[政治]</td>\n      <td>[]</td>\n      <td>http://www3.nhk.or.jp/news/html/20160101/k1001...</td>\n      <td>2016-01-01T05:02</td>\n      <td></td>\n    </tr>\n    <tr>\n      <th>4</th>\n      <td>k10010357991000</td>\n      <td>日本の人口９年連続で減少 減少幅は過去最大に</td>\n      <td>日本の人口は、去年１年間に亡くなった人が１３０万人を超え戦後、最も多くなったことから、９年連...</td>\n      <td>[社会]</td>\n      <td>[]</td>\n      <td>http://www3.nhk.or.jp/news/html/20160101/k1001...</td>\n      <td>2016-01-01T05:00</td>\n      <td></td>\n    </tr>\n    <tr>\n      <th>...</th>\n      <td>...</td>\n      <td>...</td>\n      <td>...</td>\n      <td>...</td>\n      <td>...</td>\n      <td>...</td>\n      <td>...</td>\n      <td>...</td>\n    </tr>\n    <tr>\n      <th>9903</th>\n      <td>k10010820771000</td>\n      <td>ロシアバレエ団訪日１００年で展示会</td>\n      <td>ロシアのプーチン大統領の訪日をきっかけに、両国の関係が深まることが期待される中、文化面での交...</td>\n      <td>[国際]</td>\n      <td>[]</td>\n      <td>http://www3.nhk.or.jp/news/html/20161226/k1001...</td>\n      <td>2016-12-26T20:50</td>\n      <td></td>\n    </tr>\n    <tr>\n      <th>9904</th>\n      <td>k10010821101000</td>\n      <td>サッカーチーム搭乗の旅客機墜落 人為的ミスとの見方</td>\n      <td>南米コロンビアでブラジルのプロサッカーチームの選手などを乗せた旅客機が墜落した事故について、...</td>\n      <td>[国際, スポーツ]</td>\n      <td>[サッカー]</td>\n      <td>http://www3.nhk.or.jp/news/html/20161227/k1001...</td>\n      <td>2016-12-27T09:01</td>\n      <td></td>\n    </tr>\n    <tr>\n      <th>9905</th>\n      <td>k10010822041000</td>\n      <td>野鳥から鳥インフル検出 過去最高の年の２倍近くに</td>\n      <td>今シーズン、死んだ野鳥や野鳥のフンなどから高病原性の鳥インフルエンザウイルスが検出されたケー...</td>\n      <td>[科学・文化]</td>\n      <td>[]</td>\n      <td>http://www3.nhk.or.jp/news/html/20161227/k1001...</td>\n      <td>2016-12-27T21:12</td>\n      <td></td>\n    </tr>\n    <tr>\n      <th>9906</th>\n      <td>k10010822341000</td>\n      <td>「スターウォーズ」レイア姫役 フィッシャーさん死去</td>\n      <td>映画「スターウォーズ」シリーズでヒロインのレイア姫役を演じたアメリカ人俳優、キャリー・フィッ...</td>\n      <td>[国際, 科学・文化]</td>\n      <td>[おくやみ]</td>\n      <td>http://www3.nhk.or.jp/news/html/20161228/k1001...</td>\n      <td>2016-12-28T05:21</td>\n      <td></td>\n    </tr>\n    <tr>\n      <th>9907</th>\n      <td>k10010822391000</td>\n      <td>安倍首相 所感発表 不戦の誓いと和解の意義強調</td>\n      <td>ハワイを訪れている安倍総理大臣は、オバマ大統領とともに、旧日本軍による真珠湾攻撃の犠牲者を追...</td>\n      <td>[国際, 政治]</td>\n      <td>[首相 真珠湾訪問]</td>\n      <td>http://www3.nhk.or.jp/news/html/20161228/k1001...</td>\n      <td>2016-12-28T07:35</td>\n      <td></td>\n    </tr>\n  </tbody>\n</table>\n<p>9908 rows × 8 columns</p>\n</div>",
      "text/plain": "                   id                      title  \\\n0     k10010357931000   北海道新幹線３月開業 安全運行の真価問われる年に   \n1     k10010357961000   日本被団協 結成６０年 若い世代に働きかけ強化へ   \n2     k10010357971000  安倍首相 年頭所感 “挑戦する１年 世界へ指導力”   \n3     k10010357981000   選挙制度見直し 大島衆院議長が“答申踏まえ結論”   \n4     k10010357991000     日本の人口９年連続で減少 減少幅は過去最大に   \n...               ...                        ...   \n9903  k10010820771000          ロシアバレエ団訪日１００年で展示会   \n9904  k10010821101000  サッカーチーム搭乗の旅客機墜落 人為的ミスとの見方   \n9905  k10010822041000   野鳥から鳥インフル検出 過去最高の年の２倍近くに   \n9906  k10010822341000  「スターウォーズ」レイア姫役 フィッシャーさん死去   \n9907  k10010822391000    安倍首相 所感発表 不戦の誓いと和解の意義強調   \n\n                                                article        genre  \\\n0     ことし３月、地元の悲願と言われた北海道新幹線が開業します。開業効果を高めるための官民一体の取...         [社会]   \n1     被爆者の立場から世界に核兵器廃絶を訴え続けている日本被団協＝日本原水爆被害者団体協議会は、こ...         [社会]   \n2     安倍総理大臣は、平成２８年の年頭にあたって「所感」を発表し、少子高齢化に立ち向かい、一億総活...         [政治]   \n3     大島衆議院議長は「年頭の辞」で、１票の格差是正に向けた衆議院の選挙制度の見直しについて、今月...         [政治]   \n4     日本の人口は、去年１年間に亡くなった人が１３０万人を超え戦後、最も多くなったことから、９年連...         [社会]   \n...                                                 ...          ...   \n9903  ロシアのプーチン大統領の訪日をきっかけに、両国の関係が深まることが期待される中、文化面での交...         [国際]   \n9904  南米コロンビアでブラジルのプロサッカーチームの選手などを乗せた旅客機が墜落した事故について、...   [国際, スポーツ]   \n9905  今シーズン、死んだ野鳥や野鳥のフンなどから高病原性の鳥インフルエンザウイルスが検出されたケー...      [科学・文化]   \n9906  映画「スターウォーズ」シリーズでヒロインのレイア姫役を演じたアメリカ人俳優、キャリー・フィッ...  [国際, 科学・文化]   \n9907  ハワイを訪れている安倍総理大臣は、オバマ大統領とともに、旧日本軍による真珠湾攻撃の犠牲者を追...     [国際, 政治]   \n\n        keywords                                                url  \\\n0             []  http://www3.nhk.or.jp/news/html/20160101/k1001...   \n1             []  http://www3.nhk.or.jp/news/html/20160101/k1001...   \n2             []  http://www3.nhk.or.jp/news/html/20160101/k1001...   \n3             []  http://www3.nhk.or.jp/news/html/20160101/k1001...   \n4             []  http://www3.nhk.or.jp/news/html/20160101/k1001...   \n...          ...                                                ...   \n9903          []  http://www3.nhk.or.jp/news/html/20161226/k1001...   \n9904      [サッカー]  http://www3.nhk.or.jp/news/html/20161227/k1001...   \n9905          []  http://www3.nhk.or.jp/news/html/20161227/k1001...   \n9906      [おくやみ]  http://www3.nhk.or.jp/news/html/20161228/k1001...   \n9907  [首相 真珠湾訪問]  http://www3.nhk.or.jp/news/html/20161228/k1001...   \n\n         datePublished dateModified  \n0     2016-01-01T00:17               \n1     2016-01-01T00:17               \n2     2016-01-01T00:17               \n3     2016-01-01T05:02               \n4     2016-01-01T05:00               \n...                ...          ...  \n9903  2016-12-26T20:50               \n9904  2016-12-27T09:01               \n9905  2016-12-27T21:12               \n9906  2016-12-28T05:21               \n9907  2016-12-28T07:35               \n\n[9908 rows x 8 columns]"
     },
     "execution_count": 3,
     "metadata": {},
     "output_type": "execute_result"
    }
   ],
   "source": [
    "df = pd.read_json('nhkweb2016.json')\n",
    "df"
   ]
  },
  {
   "cell_type": "code",
   "execution_count": 7,
   "metadata": {},
   "outputs": [
    {
     "data": {
      "text/html": "<div>\n<style scoped>\n    .dataframe tbody tr th:only-of-type {\n        vertical-align: middle;\n    }\n\n    .dataframe tbody tr th {\n        vertical-align: top;\n    }\n\n    .dataframe thead th {\n        text-align: right;\n    }\n</style>\n<table border=\"1\" class=\"dataframe\">\n  <thead>\n    <tr style=\"text-align: right;\">\n      <th></th>\n      <th>id</th>\n      <th>title</th>\n      <th>article</th>\n      <th>genre</th>\n      <th>keywords</th>\n      <th>url</th>\n      <th>datePublished</th>\n      <th>dateModified</th>\n    </tr>\n  </thead>\n  <tbody>\n    <tr>\n      <th>3432</th>\n      <td>k10010505261000</td>\n      <td>北アルプス 蓮華岳 男性が滑落し救助要請</td>\n      <td>長野県と富山県にまたがる北アルプスの蓮華岳で、スキー場ではない斜面を滑るバックカントリースキ...</td>\n      <td>[社会]</td>\n      <td>[]</td>\n      <td>http://www3.nhk.or.jp/news/html/20160501/k1001...</td>\n      <td>2016-05-01T06:44</td>\n      <td></td>\n    </tr>\n    <tr>\n      <th>3433</th>\n      <td>k10010505271000</td>\n      <td>北アルプスの奥穂高岳 滑落事故相次ぎ１人意識不明</td>\n      <td>先月３０日夜、岐阜県の北アルプスの奥穂高岳の岩場近くで、登山者の１人が滑落したという通報があ...</td>\n      <td>[社会]</td>\n      <td>[]</td>\n      <td>http://www3.nhk.or.jp/news/html/20160501/k1001...</td>\n      <td>2016-05-01T07:05</td>\n      <td></td>\n    </tr>\n    <tr>\n      <th>3434</th>\n      <td>k10010505281000</td>\n      <td>Ｇ７エネルギー相会合 きょう北九州で開幕</td>\n      <td>Ｇ７＝主要７か国のエネルギー相会合が１日、北九州市で開幕します。エネルギーの安定調達に向けて...</td>\n      <td>[国際, ビジネス]</td>\n      <td>[サミット]</td>\n      <td>http://www3.nhk.or.jp/news/html/20160501/k1001...</td>\n      <td>2016-05-01T05:51</td>\n      <td></td>\n    </tr>\n    <tr>\n      <th>3435</th>\n      <td>k10010505291000</td>\n      <td>水俣病の公式確認から６０年 全面的な解決は見通せず</td>\n      <td>公害の原点と言われる水俣病が公式に確認されてから、１日でちょうど６０年となります。今も新たに...</td>\n      <td>[社会]</td>\n      <td>[]</td>\n      <td>http://www3.nhk.or.jp/news/html/20160501/k1001...</td>\n      <td>2016-05-01T08:35</td>\n      <td></td>\n    </tr>\n    <tr>\n      <th>3436</th>\n      <td>k10010505301000</td>\n      <td>首相 きょうから欧州５か国などを歴訪</td>\n      <td>安倍総理大臣は１日からヨーロッパ５か国などを歴訪し、各国の首脳らと会談することにしています。...</td>\n      <td>[国際, 政治]</td>\n      <td>[サミット]</td>\n      <td>http://www3.nhk.or.jp/news/html/20160501/k1001...</td>\n      <td>2016-05-01T04:33</td>\n      <td></td>\n    </tr>\n    <tr>\n      <th>...</th>\n      <td>...</td>\n      <td>...</td>\n      <td>...</td>\n      <td>...</td>\n      <td>...</td>\n      <td>...</td>\n      <td>...</td>\n      <td>...</td>\n    </tr>\n    <tr>\n      <th>4583</th>\n      <td>k10010541101000</td>\n      <td>「ペッタンコ祭」赤ちゃんの成長願いおでこにはんこ</td>\n      <td>赤ちゃんの健やかな成長を願っておでこにはんこを押す「初山大祭」が群馬県館林市の神社で行われて...</td>\n      <td>[地域, 暮らし]</td>\n      <td>[]</td>\n      <td>http://www3.nhk.or.jp/news/html/20160531/k1001...</td>\n      <td>2016-05-31T12:14</td>\n      <td></td>\n    </tr>\n    <tr>\n      <th>4584</th>\n      <td>k10010541441000</td>\n      <td>バター不足解消へ 新たに６０００トンの輸入決定</td>\n      <td>ここ数年、店頭での品薄が続いているバターについて、農林水産省はこの夏は気温が高く原料の生乳の...</td>\n      <td>[ビジネス, 暮らし]</td>\n      <td>[]</td>\n      <td>http://www3.nhk.or.jp/news/html/20160531/k1001...</td>\n      <td>2016-05-31T16:55</td>\n      <td></td>\n    </tr>\n    <tr>\n      <th>4585</th>\n      <td>k10010541451000</td>\n      <td>クルーズ船から失踪の中国人相次ぐ 不法入国の新手口か</td>\n      <td>中国の富裕層などが観光に使うクルーズ船の日本への寄港が急増するなか、入国したあと船に戻らずに...</td>\n      <td>[社会]</td>\n      <td>[]</td>\n      <td>http://www3.nhk.or.jp/news/html/20160531/k1001...</td>\n      <td>2016-05-31T17:06</td>\n      <td></td>\n    </tr>\n    <tr>\n      <th>4586</th>\n      <td>k10010541521000</td>\n      <td>受動喫煙で死亡 年間１万５０００人と推計</td>\n      <td>他人のたばこの煙を吸い込む「受動喫煙」によって肺がんや脳卒中などで死亡する人は、国内で年間お...</td>\n      <td>[社会]</td>\n      <td>[]</td>\n      <td>http://www3.nhk.or.jp/news/html/20160531/k1001...</td>\n      <td>2016-05-31T17:56</td>\n      <td></td>\n    </tr>\n    <tr>\n      <th>4587</th>\n      <td>k10010541581000</td>\n      <td>北朝鮮ミサイル失敗「ムスダン」か 韓国「一層強力な制裁」</td>\n      <td>北朝鮮が３１日早く、東部から新型の中距離弾道ミサイル「ムスダン」１発の発射を試みたものの失敗...</td>\n      <td>[国際]</td>\n      <td>[北朝鮮情勢]</td>\n      <td>http://www3.nhk.or.jp/news/html/20160531/k1001...</td>\n      <td>2016-05-31T18:29</td>\n      <td></td>\n    </tr>\n  </tbody>\n</table>\n<p>1156 rows × 8 columns</p>\n</div>",
      "text/plain": "                   id                         title  \\\n3432  k10010505261000          北アルプス 蓮華岳 男性が滑落し救助要請   \n3433  k10010505271000      北アルプスの奥穂高岳 滑落事故相次ぎ１人意識不明   \n3434  k10010505281000          Ｇ７エネルギー相会合 きょう北九州で開幕   \n3435  k10010505291000     水俣病の公式確認から６０年 全面的な解決は見通せず   \n3436  k10010505301000            首相 きょうから欧州５か国などを歴訪   \n...               ...                           ...   \n4583  k10010541101000      「ペッタンコ祭」赤ちゃんの成長願いおでこにはんこ   \n4584  k10010541441000       バター不足解消へ 新たに６０００トンの輸入決定   \n4585  k10010541451000    クルーズ船から失踪の中国人相次ぐ 不法入国の新手口か   \n4586  k10010541521000          受動喫煙で死亡 年間１万５０００人と推計   \n4587  k10010541581000  北朝鮮ミサイル失敗「ムスダン」か 韓国「一層強力な制裁」   \n\n                                                article        genre keywords  \\\n3432  長野県と富山県にまたがる北アルプスの蓮華岳で、スキー場ではない斜面を滑るバックカントリースキ...         [社会]       []   \n3433  先月３０日夜、岐阜県の北アルプスの奥穂高岳の岩場近くで、登山者の１人が滑落したという通報があ...         [社会]       []   \n3434  Ｇ７＝主要７か国のエネルギー相会合が１日、北九州市で開幕します。エネルギーの安定調達に向けて...   [国際, ビジネス]   [サミット]   \n3435  公害の原点と言われる水俣病が公式に確認されてから、１日でちょうど６０年となります。今も新たに...         [社会]       []   \n3436  安倍総理大臣は１日からヨーロッパ５か国などを歴訪し、各国の首脳らと会談することにしています。...     [国際, 政治]   [サミット]   \n...                                                 ...          ...      ...   \n4583  赤ちゃんの健やかな成長を願っておでこにはんこを押す「初山大祭」が群馬県館林市の神社で行われて...    [地域, 暮らし]       []   \n4584  ここ数年、店頭での品薄が続いているバターについて、農林水産省はこの夏は気温が高く原料の生乳の...  [ビジネス, 暮らし]       []   \n4585  中国の富裕層などが観光に使うクルーズ船の日本への寄港が急増するなか、入国したあと船に戻らずに...         [社会]       []   \n4586  他人のたばこの煙を吸い込む「受動喫煙」によって肺がんや脳卒中などで死亡する人は、国内で年間お...         [社会]       []   \n4587  北朝鮮が３１日早く、東部から新型の中距離弾道ミサイル「ムスダン」１発の発射を試みたものの失敗...         [国際]  [北朝鮮情勢]   \n\n                                                    url     datePublished  \\\n3432  http://www3.nhk.or.jp/news/html/20160501/k1001...  2016-05-01T06:44   \n3433  http://www3.nhk.or.jp/news/html/20160501/k1001...  2016-05-01T07:05   \n3434  http://www3.nhk.or.jp/news/html/20160501/k1001...  2016-05-01T05:51   \n3435  http://www3.nhk.or.jp/news/html/20160501/k1001...  2016-05-01T08:35   \n3436  http://www3.nhk.or.jp/news/html/20160501/k1001...  2016-05-01T04:33   \n...                                                 ...               ...   \n4583  http://www3.nhk.or.jp/news/html/20160531/k1001...  2016-05-31T12:14   \n4584  http://www3.nhk.or.jp/news/html/20160531/k1001...  2016-05-31T16:55   \n4585  http://www3.nhk.or.jp/news/html/20160531/k1001...  2016-05-31T17:06   \n4586  http://www3.nhk.or.jp/news/html/20160531/k1001...  2016-05-31T17:56   \n4587  http://www3.nhk.or.jp/news/html/20160531/k1001...  2016-05-31T18:29   \n\n     dateModified  \n3432               \n3433               \n3434               \n3435               \n3436               \n...           ...  \n4583               \n4584               \n4585               \n4586               \n4587               \n\n[1156 rows x 8 columns]"
     },
     "execution_count": 7,
     "metadata": {},
     "output_type": "execute_result"
    }
   ],
   "source": [
    "df[df['datePublished'].str.startswith('2016-05')]"
   ]
  },
  {
   "cell_type": "code",
   "execution_count": 3,
   "metadata": {},
   "outputs": [],
   "source": [
    "options = Options()\n",
    "#options.headless = True\n",
    "driver = webdriver.Chrome(options=options)"
   ]
  },
  {
   "cell_type": "code",
   "execution_count": 4,
   "metadata": {},
   "outputs": [],
   "source": [
    "year = 2016\n",
    "urls = pd.read_csv(f'linknormal.txt', header=None)\n",
    "urls = sorted(urls[urls[0].str.contains(f'html/{year}')][0].tolist())\n",
    "id_exist = set(pd.read_json(f'nhkweb{year}.json')['id'].tolist())\n",
    "\n",
    "for url in urls:\n",
    "    # check URL\n",
    "    ID = url.split('.html')[0].split('/')[-1]\n",
    "    if ID in id_exist:\n",
    "        continue\n",
    "\n",
    "    # get archive URL\n",
    "    archiveurl = get_archiveurl(url)\n",
    "\n",
    "    # request\n",
    "    response = requests.get(archiveurl)\n",
    "    if response.status_code == 200:\n",
    "        html = response.text\n",
    "    elif response.status_code == 504:\n",
    "        response = requests.get(archiveurl)\n",
    "        if response.status_code == 504:\n",
    "            continue\n",
    "        html = response.text\n",
    "    time.sleep(4)\n",
    "\n",
    "    # scrape\n",
    "    url_true = 'htt' + url.split('/htt')[-1]\n",
    "\n",
    "    try:\n",
    "        dic = scrape_one_new(html, url_true)\n",
    "    except:\n",
    "        dic = scrape_one_old(html, url_true)\n",
    "    js(dic, year)\n",
    "    id_exist.add(ID)"
   ]
  },
  {
   "cell_type": "code",
   "execution_count": 9,
   "metadata": {},
   "outputs": [
    {
     "data": {
      "text/plain": "{'id': 'k10010627901000',\n 'title': '台風５号 北日本～東北の太平洋側 暴風・高波に警戒',\n 'article': '台風５号は日本の東の海上を北上していて、気象庁は北日本から東北にかけての太平洋側を中心に暴風や高波に警戒するよう呼びかけています。\\n気象庁の観測によりますと、台風５号は９日午前６時には、仙台市の東２７０キロの海上を１時間に２５キロの速さで北へ進んでいます。中心の気圧は９８０ヘクトパスカル、最大風速は３０メートル、最大瞬間風速は４０メートルで中心の東側２８０キロ以内と西側１７０キロ以内では風速２５メートル以上の暴風が吹いています。台風はこのあとも北上を続け、９日夜には北海道の東の海上に進み、１０日の朝には千島の近海で温帯低気圧に変わる見込みです。東北の太平洋側では、海はうねりを伴って大しけとなっていて、１０日は北海道の太平洋側でも大しけとなる見込みです。また、北海道の太平洋側では９日夜にかけて非常に強い風が吹き、最大風速は２０メートル、最大瞬間風速は３０メートルに達すると予想されています。気象庁は北日本から東北にかけての太平洋側を中心に、暴風や高波に警戒するよう呼びかけています。',\n 'genre': ['気象', '災害'],\n 'keywords': [],\n 'url': 'http://www3.nhk.or.jp/news/html/20160809/k10010627901000.html',\n 'datePublished': '2016-08-09T06:29',\n 'dateModified': ''}"
     },
     "execution_count": 9,
     "metadata": {},
     "output_type": "execute_result"
    }
   ],
   "source": [
    "url_true = 'htt' + driver.current_url.split('/htt')[-1]\n",
    "html = driver.page_source.encode('utf-8')\n",
    "try:\n",
    "    dic = scrape_one_new(html, url_true)\n",
    "except:\n",
    "    dic = scrape_one_old(html, url_true)\n",
    "dic"
   ]
  },
  {
   "cell_type": "code",
   "execution_count": 10,
   "metadata": {},
   "outputs": [],
   "source": [
    "js(dic, year)"
   ]
  },
  {
   "cell_type": "markdown",
   "metadata": {},
   "source": [
    "# clean"
   ]
  },
  {
   "cell_type": "code",
   "execution_count": 6,
   "metadata": {},
   "outputs": [
    {
     "name": "stdout",
     "output_type": "stream",
     "text": "articles:  12166\n"
    },
    {
     "data": {
      "text/plain": "[('国際', 3430),\n ('社会', 2933),\n ('スポーツ', 2321),\n ('気象・災害', 1624),\n ('ビジネス', 1445),\n ('政治', 1275),\n ('科学・文化', 688),\n ('地域', 526),\n ('暮らし', 427)]"
     },
     "execution_count": 6,
     "metadata": {},
     "output_type": "execute_result"
    }
   ],
   "source": [
    "# check category\n",
    "\n",
    "year = 2018\n",
    "\n",
    "with open(f'nhkweb{year}.json','r', encoding='utf-8') as f:\n",
    "    data = json.load(f)\n",
    "print('articles: ', len(data))\n",
    "genre = Counter()\n",
    "for dic in data:\n",
    "    for g in dic['genre']:\n",
    "        genre[g] += 1\n",
    "genre.most_common()"
   ]
  },
  {
   "cell_type": "code",
   "execution_count": 7,
   "metadata": {},
   "outputs": [],
   "source": [
    "# genre <> keywords\n",
    "with open(f'nhkweb{year}.json','r', encoding='utf-8') as f:\n",
    "    data = json.load(f)\n",
    "\n",
    "category = ['社会', '国際', 'ビジネス', 'スポーツ', '政治', '科学・文化', '暮らし', '地域', '気象・災害']\n",
    "for i, dic in enumerate(data):\n",
    "    newgenre = []\n",
    "    newkey = []\n",
    "    for j in dic['genre']:\n",
    "        if j in category:\n",
    "            newgenre.append(j)\n",
    "        elif j == \"災害\" or j == \"気象\":\n",
    "            newgenre.append('気象・災害')\n",
    "        elif j == \"科学・医療\" or j == \"文化・エンタメ\" or j == \"科学\":\n",
    "            newgenre.append('科学・文化')\n",
    "        elif j == \"暮らし文化\":\n",
    "            newgenre.append('暮らし')\n",
    "            newgenre.append('科学・文化')\n",
    "        elif j == \"経済\":\n",
    "            newgenre.append('ビジネス')\n",
    "        else:\n",
    "            newkey.append(j)\n",
    "    for j in dic['keywords']:\n",
    "        if j in category:\n",
    "            newgenre.append(j)\n",
    "        elif j == \"科学・医療\" or j == \"文化・エンタメ\" or j == \"科学\":\n",
    "            newgenre.append('科学・文化')\n",
    "        elif j == \"暮らし文化\":\n",
    "            newgenre.append('暮らし')\n",
    "            newgenre.append('科学・文化')\n",
    "        elif j == \"災害\" or j == \"気象\":\n",
    "            newgenre.append('気象・災害')\n",
    "        else:\n",
    "            newkey.append(j)\n",
    "    data[i]['genre'] = list(set(newgenre))\n",
    "    data[i]['keywords'] = list(set(newkey))\n",
    "\n",
    "with open(f'nhkweb{year}.json','w', encoding='utf-8') as f:\n",
    "    json.dump(data, f, indent=4, ensure_ascii=False)\n",
    "    "
   ]
  },
  {
   "cell_type": "code",
   "execution_count": 15,
   "metadata": {},
   "outputs": [
    {
     "data": {
      "text/plain": "k10010967691000    1\nk10010912981000    1\nk10011097851000    1\nk10010989411000    1\nk10011029051000    1\n                  ..\nk10011105661000    1\nk10011010431000    1\nk10010890631000    1\nk10011074431000    1\nk10011002731000    1\nName: id, Length: 7140, dtype: int64"
     },
     "execution_count": 15,
     "metadata": {},
     "output_type": "execute_result"
    }
   ],
   "source": [
    "pd.read_json(f'nhkweb{year}.json').id.value_counts()"
   ]
  },
  {
   "cell_type": "code",
   "execution_count": null,
   "metadata": {},
   "outputs": [],
   "source": []
  }
 ]
}