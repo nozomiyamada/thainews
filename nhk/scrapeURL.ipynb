{
 "nbformat": 4,
 "nbformat_minor": 2,
 "metadata": {
  "language_info": {
   "name": "python",
   "codemirror_mode": {
    "name": "ipython",
    "version": 3
   }
  },
  "orig_nbformat": 2,
  "file_extension": ".py",
  "mimetype": "text/x-python",
  "name": "python",
  "npconvert_exporter": "python",
  "pygments_lexer": "ipython3",
  "version": 3
 },
 "cells": [
  {
   "cell_type": "code",
   "execution_count": null,
   "metadata": {},
   "outputs": [],
   "source": [
    "import numpy as np\n",
    "import pandas as pd\n",
    "import re, json, csv, requests, time, glob, tqdm\n",
    "from bs4 import BeautifulSoup\n",
    "from selenium import webdriver"
   ]
  },
  {
   "cell_type": "markdown",
   "execution_count": null,
   "metadata": {},
   "outputs": [],
   "source": [
    "# scrape normal URL"
   ]
  },
  {
   "cell_type": "code",
   "execution_count": null,
   "metadata": {},
   "outputs": [],
   "source": [
    "driver = webdriver.Firefox()"
   ]
  },
  {
   "cell_type": "code",
   "execution_count": null,
   "metadata": {},
   "outputs": [],
   "source": [
    "with open('linknormal.txt', 'a') as f:\n",
    "    for i in range(801, 832):\n",
    "        driver.get(f'https://web.archive.org/web/*/https://www3.nhk.or.jp/news/html/20170{i}/k10011/*')\n",
    "        time.sleep(3)\n",
    "        html = driver.page_source.encode('utf-8')\n",
    "        soup = BeautifulSoup(html, 'html.parser')\n",
    "        try:\n",
    "            link_num = int(soup.find('h2', id='query-summary').text.split()[0])\n",
    "        except:\n",
    "            continue\n",
    "        links = [x.a.get('href') for x in soup.tbody.find_all('td', class_=\"url sorting_1\")]\n",
    "        links = [link.split('.html?utm')[0] + '.html' if '.html?utm' in link else link for link in links]\n",
    "        links = [link for link in links if link.endswith('html')]  \n",
    "        if links != []:\n",
    "            f.write('\\n'.join(links)+'\\n')\n",
    "        for i in range ((link_num-1) // 50):\n",
    "            driver.find_element_by_id('resultsUrl_next').click()\n",
    "            time.sleep(2)\n",
    "            links += [x.a.get('href') for x in soup.tbody.find_all('td', class_=\"url sorting_1\")]\n",
    "            links = [link.split('.html?utm')[0] + '.html' if '.html?utm' in link else link for link in links]\n",
    "            links = [link for link in links if link.endswith('html')]\n",
    "            \n",
    "with open('linknormal.txt', 'r') as f:\n",
    "    links = f.read().strip().split('\\n')\n",
    "    links = [link for link in links if link.endswith('.html')]\n",
    "    links = sorted(set(links), reverse=True)\n",
    "with open('linknormal.txt', 'w') as f:\n",
    "    f.write('\\n'.join(links) + '\\n')"
   ]
  },
  {
   "cell_type": "markdown",
   "execution_count": null,
   "metadata": {},
   "outputs": [],
   "source": [
    "# scrape easy URL"
   ]
  },
  {
   "cell_type": "code",
   "execution_count": null,
   "metadata": {},
   "outputs": [],
   "source": [
    "driver = webdriver.Firefox()"
   ]
  },
  {
   "cell_type": "code",
   "execution_count": null,
   "metadata": {},
   "outputs": [],
   "source": [
    "with open('linkeasy.txt', 'a') as f:\n",
    "    for i in range(1000, 1050):\n",
    "        driver.get(f'https://web.archive.org/web/*/https://www3.nhk.or.jp/news/easy/k100{i}/*')\n",
    "        time.sleep(3)\n",
    "        html = driver.page_source.encode('utf-8')\n",
    "        soup = BeautifulSoup(html, 'html.parser')\n",
    "        try:\n",
    "            link_num = int(soup.find('h2', id='query-summary').text.split()[0])\n",
    "        except:\n",
    "            continue\n",
    "        links = [x.a.get('href') for x in soup.tbody.find_all('td', class_=\"url sorting_1\")]\n",
    "        links = [link.split('.html?utm')[0] + '.html' if '.html?utm' in link else link for link in links]\n",
    "        links = [link for link in links if link.endswith('html')]  \n",
    "        if links != []:\n",
    "            f.write('\\n'.join(links)+'\\n')\n",
    "        for i in range ((link_num-1) // 50):\n",
    "            driver.find_element_by_id('resultsUrl_next').click()\n",
    "            time.sleep(2)\n",
    "            links += [x.a.get('href') for x in soup.tbody.find_all('td', class_=\"url sorting_1\")]\n",
    "            links = [link.split('.html?utm')[0] + '.html' if '.html?utm' in link else link for link in links]\n",
    "            links = [link for link in links if link.endswith('html')]\n",
    "            \n",
    "with open('linkeasy.txt', 'r') as f:\n",
    "    links = f.read().strip().split('\\n')\n",
    "    links = [link for link in links if link.endswith('.html')]\n",
    "    links = sorted(set(links), reverse=True)\n",
    "with open('linkeasy.txt', 'w') as f:\n",
    "    f.write('\\n'.join(links) + '\\n')"
   ]
  }
 ]
}