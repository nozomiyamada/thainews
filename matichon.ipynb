{
 "nbformat": 4,
 "nbformat_minor": 2,
 "metadata": {
  "language_info": {
   "name": "python",
   "codemirror_mode": {
    "name": "ipython",
    "version": 3
   }
  },
  "orig_nbformat": 2,
  "file_extension": ".py",
  "mimetype": "text/x-python",
  "name": "python",
  "npconvert_exporter": "python",
  "pygments_lexer": "ipython3",
  "version": 3
 },
 "cells": [
  {
   "cell_type": "code",
   "execution_count": 5,
   "metadata": {},
   "outputs": [],
   "source": [
    "import requests, json\n",
    "from bs4 import BeautifulSoup"
   ]
  },
  {
   "cell_type": "markdown",
   "execution_count": null,
   "metadata": {},
   "outputs": [],
   "source": [
    "# scrape"
   ]
  },
  {
   "cell_type": "code",
   "execution_count": 4,
   "metadata": {},
   "outputs": [],
   "source": [
    "all_list = []"
   ]
  },
  {
   "cell_type": "code",
   "execution_count": 6,
   "metadata": {},
   "outputs": [
    {
     "name": "stdout",
     "output_type": "stream",
     "text": "1031002\n1031013\n1031023\n1031025\n1031032\n1031034\n1031037\n1031050\n1031051\n1031052\n1031063\n1031068\n1031074\n1031075\n1031082\n1031089\n1031094\n1031097\n1031098\n1031102\n1031107\n1031120\n1031123\n1031128\n1031134\n1031147\n1031158\n1031166\n1031168\n1031182\n1031184\n1031195\n1031201\n1031208\n1031210\n1031216\n1031226\n1031232\n1031235\n1031238\n1031242\n1031256\n1031257\n1031261\n1031264\n1031271\n1031275\n1031288\n1031289\n1031295\n1031298\n1031309\n1031313\n1031317\n1031318\n1031331\n1031338\n1031349\n1031355\n1031358\n1031359\n"
    }
   ],
   "source": [
    "# 7 digits\n",
    "start_id = 1031001\n",
    "end_id   = 1040001\n",
    "\n",
    "# scraping\n",
    "for article_id in range(int(start_id), int(end_id)):\n",
    "    try:\n",
    "        response = requests.get('https://www.matichon.co.th/news/' + str(article_id))\n",
    "        if response.status_code != 200:\n",
    "            continue\n",
    "        else:\n",
    "            soup = BeautifulSoup(response.text, \"html.parser\")  # get html\n",
    "            if soup.find('article') == None:\n",
    "                continue\n",
    "            else:\n",
    "                headline = soup.find('h1', class_=\"entry-title\").text\n",
    "                article = '\\n'.join([i.text for i in soup.find('article').find_all('p') if i.text not in ['', '\\xa0']])\n",
    "                date = soup.find('article').find('time').get('datetime')\n",
    "                article_url = response.url\n",
    "                category = article_url.split('/')[-2]\n",
    "\n",
    "                dic = {\n",
    "                    \"headline\":headline,\n",
    "                    \"article\":article,\n",
    "                    \"date\":date,\n",
    "                    \"category\":category,\n",
    "                    \"url\":article_url,\n",
    "                    \"id\":article_id\n",
    "                    }\n",
    "                all_list.append(dic)\n",
    "                print(article_id)\n",
    "    except:\n",
    "        continue"
   ]
  },
  {
   "cell_type": "code",
   "execution_count": 0,
   "metadata": {},
   "outputs": [],
   "source": [
    "with open(f'/Users/Nozomi/news/matichon/matichon{start_id}-{end_id}.json', 'w') as f:\n",
    "    json.dump(all_list, f, ensure_ascii=False, indent=4)"
   ]
  },
  {
   "cell_type": "code",
   "execution_count": 3,
   "metadata": {},
   "outputs": [
    {
     "data": {
      "text/plain": "[]"
     },
     "execution_count": 3,
     "metadata": {},
     "output_type": "execute_result"
    }
   ],
   "source": []
  }
 ]
}